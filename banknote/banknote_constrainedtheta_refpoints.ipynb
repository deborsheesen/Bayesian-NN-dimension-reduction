{
 "cells": [
  {
   "cell_type": "code",
   "execution_count": 1,
   "metadata": {
    "collapsed": true
   },
   "outputs": [],
   "source": [
    "import matplotlib.pyplot as plt, numpy as np, numpy.random as npr, csv, matplotlib.pyplot as plt, pandas as pd\n",
    "import torch.nn as nn, timeit, torch, pystan as ps, scipy, seaborn as sns\n",
    "from mpl_toolkits.mplot3d import Axes3D\n",
    "from sklearn.manifold import LocallyLinearEmbedding\n",
    "from tqdm import trange\n",
    "%matplotlib inline\n",
    "from time import time\n",
    "from pylab import plot, show, legend"
   ]
  },
  {
   "cell_type": "code",
   "execution_count": 2,
   "metadata": {},
   "outputs": [
    {
     "name": "stderr",
     "output_type": "stream",
     "text": [
      "INFO:pystan:COMPILING THE C++ CODE FOR MODEL anon_model_cf61588642e0539b092dedc55e934141 NOW.\n"
     ]
    }
   ],
   "source": [
    "sm = ps.StanModel(file=\"/home/postdoc/dsen/Desktop/codes/BNN_dimension_reduction/stan_files/nn_refpoints_constrainedtheta.stan\")"
   ]
  },
  {
   "cell_type": "code",
   "execution_count": 3,
   "metadata": {},
   "outputs": [
    {
     "name": "stdout",
     "output_type": "stream",
     "text": [
      "Nobs = 1371 , dim = 4\n"
     ]
    }
   ],
   "source": [
    "inp_data = pd.read_csv(\"data_banknote_authentication.txt\", header=0).values\n",
    "X = inp_data[:,:4].transpose()\n",
    "Nobs = np.shape(X)[1]\n",
    "print(\"Nobs =\", Nobs, \", dim =\", np.shape(X)[0])"
   ]
  },
  {
   "cell_type": "code",
   "execution_count": 4,
   "metadata": {},
   "outputs": [
    {
     "data": {
      "text/plain": [
       "82.25999999999999"
      ]
     },
     "execution_count": 4,
     "metadata": {},
     "output_type": "execute_result"
    }
   ],
   "source": [
    "0.06*Nobs"
   ]
  },
  {
   "cell_type": "code",
   "execution_count": 5,
   "metadata": {
    "collapsed": true
   },
   "outputs": [],
   "source": [
    "n_ref = 80\n",
    "lat_dim = 2\n",
    "obs_dim = np.shape(X)[0] \n",
    "ref_points = npr.choice(Nobs,n_ref,replace=False)\n",
    "embedding = LocallyLinearEmbedding(n_components=lat_dim, n_neighbors=10)\n",
    "X_embedded = embedding.fit_transform(X.transpose()).transpose()"
   ]
  },
  {
   "cell_type": "code",
   "execution_count": 6,
   "metadata": {
    "collapsed": true
   },
   "outputs": [],
   "source": [
    "train = np.setdiff1d(np.arange(Nobs), ref_points)\n",
    "X_ref = X[:,ref_points]\n",
    "Z_ref = X_embedded[:,ref_points]\n",
    "X_train = X[:,train]"
   ]
  },
  {
   "cell_type": "code",
   "execution_count": 7,
   "metadata": {
    "collapsed": true
   },
   "outputs": [],
   "source": [
    "n_in = np.shape(X_embedded)[0]\n",
    "n_h = 40\n",
    "n_out = np.shape(X)[0]\n",
    "\n",
    "model = nn.Sequential(nn.Linear(n_in, n_h), nn.Tanh(), nn.Linear(n_h, n_out))"
   ]
  },
  {
   "cell_type": "code",
   "execution_count": 8,
   "metadata": {
    "collapsed": true
   },
   "outputs": [],
   "source": [
    "def init_normal(m):\n",
    "    if type(m) == nn.Linear: nn.init.normal_(m.weight)\n",
    "model.apply(init_normal)\n",
    "criterion = nn.MSELoss()\n",
    "optimizer = torch.optim.SGD(model.parameters(), lr=1e-3, momentum=0.9, nesterov=True)"
   ]
  },
  {
   "cell_type": "code",
   "execution_count": 9,
   "metadata": {},
   "outputs": [
    {
     "name": "stdout",
     "output_type": "stream",
     "text": [
      "Epoch: 50000; loss: 14.257; time: 0.27 mins\n",
      "Epoch: 100000; loss: 11.214; time: 0.53 mins\n",
      "Epoch: 150000; loss: 8.221; time: 0.79 mins\n",
      "Epoch: 200000; loss: 7.964; time: 1.06 mins\n",
      "Epoch: 250000; loss: 7.890; time: 1.33 mins\n",
      "Epoch: 300000; loss: 7.839; time: 1.59 mins\n",
      "Epoch: 350000; loss: 7.795; time: 1.86 mins\n",
      "Epoch: 400000; loss: 7.759; time: 2.14 mins\n",
      "Epoch: 450000; loss: 7.732; time: 2.41 mins\n",
      "Epoch: 500000; loss: 7.711; time: 2.68 mins\n"
     ]
    }
   ],
   "source": [
    "n_iter = 500_000\n",
    "Lss = np.zeros(n_iter)\n",
    "start = time()\n",
    "for epoch in range(n_iter):\n",
    "    X_pred = model(torch.from_numpy(Z_ref.transpose().astype(np.float32)))\n",
    "    loss = criterion(X_pred, torch.from_numpy(X_ref.transpose().astype(np.float32)))\n",
    "    Lss[epoch] = loss.data\n",
    "    if (epoch+1)%(n_iter/10) == 0 :\n",
    "        print(\"Epoch: %d; loss: %.3f; time: %.2f mins\" % (epoch+1, loss.item(), (time()-start)/60))\n",
    "    optimizer.zero_grad()\n",
    "    loss.backward()\n",
    "    optimizer.step()"
   ]
  },
  {
   "cell_type": "code",
   "execution_count": 10,
   "metadata": {},
   "outputs": [
    {
     "name": "stdout",
     "output_type": "stream",
     "text": [
      "torch.Size([40, 2])\n",
      "torch.Size([40])\n",
      "torch.Size([4, 40])\n",
      "torch.Size([4])\n"
     ]
    }
   ],
   "source": [
    "for (i,p) in enumerate(model.parameters()):\n",
    "    if i == 0 : W_1_optim = p.data;\n",
    "    print(np.shape(p))"
   ]
  },
  {
   "cell_type": "code",
   "execution_count": null,
   "metadata": {
    "collapsed": true
   },
   "outputs": [],
   "source": [
    "c = [np.linalg.norm(W_1_optim[i,:]) for i in range(n_in)]\n",
    "for i in range(n_ref) : Z_ref[:,i] *= c"
   ]
  },
  {
   "cell_type": "markdown",
   "metadata": {},
   "source": [
    "### Run Stan:"
   ]
  },
  {
   "cell_type": "code",
   "execution_count": null,
   "metadata": {
    "collapsed": true
   },
   "outputs": [],
   "source": [
    "data = dict(Nobs=Nobs, in_dim=lat_dim, out_dim=n_out, hidden_dim=n_h, n_ref=n_ref, X=X_train, X_ref=X_ref, Z_ref=Z_ref)\n",
    "start = time()\n",
    "fit = sm.sampling(data=data, thin=1, n_jobs=10, chains=10, init=\"random\", iter=1_000)\n",
    "print(round((time()-start)/60,2), \"minutes to run\")\n",
    "print(fit);"
   ]
  },
  {
   "cell_type": "code",
   "execution_count": 25,
   "metadata": {
    "collapsed": true
   },
   "outputs": [],
   "source": [
    "trace = fit.extract()\n",
    "np.save('/xtmp/BNN_dim_red_data/stan_fit_banknote.npy', trace) \n",
    "n_samples, n_latent = np.shape(trace['Z'])[0], np.shape(trace['Z'])[1]"
   ]
  },
  {
   "cell_type": "markdown",
   "metadata": {},
   "source": [
    "#### Traceplots of latent variables:"
   ]
  },
  {
   "cell_type": "code",
   "execution_count": null,
   "metadata": {
    "collapsed": true
   },
   "outputs": [],
   "source": [
    "plt.figure(figsize=(10,8))\n",
    "idx = npr.choice(n_latent,25).reshape(5,5)\n",
    "\n",
    "for i in range(5):\n",
    "    for j in range(5):\n",
    "        k = 5*i+j\n",
    "        plt.subplot(5,5,k+1)\n",
    "        plt.plot(trace['Z'][:,idx[i,j],0])\n",
    "        if i < 4 : plt.xticks(alpha=0)\n",
    "        if i == 4 : plt.xlabel(\"MCMC sample\", fontsize=12)\n",
    "        plt.grid(True)\n",
    "plt.suptitle(\"Traceplots of some latent variables\", fontsize=15, x=0.5,y=0.95)\n",
    "plt.savefig('/home/postdoc/dsen/Desktop/codes/BNN_dimension_reduction/plots/banknote_traceplot_constrainedW1_refpoints.pdf', \n",
    "                dpi=2000, bbox_inches='tight');"
   ]
  },
  {
   "cell_type": "markdown",
   "metadata": {},
   "source": [
    "### Loss:"
   ]
  },
  {
   "cell_type": "code",
   "execution_count": null,
   "metadata": {
    "collapsed": true
   },
   "outputs": [],
   "source": [
    "def L2_loss(X, Z, weights_1, bias_1, weights_2, bias_2) :\n",
    "    X_pred = np.matmul(np.tanh(np.matmul(Z,weights_1)+bias_1), weights_2) + bias_2\n",
    "    return np.mean(np.sum((X-X_pred)**2,axis=1))"
   ]
  },
  {
   "cell_type": "code",
   "execution_count": null,
   "metadata": {
    "collapsed": true
   },
   "outputs": [],
   "source": [
    "loss = np.zeros(n_samples)\n",
    "for i in trange(n_samples) :\n",
    "    loss[i] = L2_loss(X_train.transpose(), trace['Z'][i], trace['weights_1'][i], \n",
    "                      trace['bias_1'][i], trace['weights_2'][i], trace['bias_2'][i])\n",
    "plt.figure(figsize=(7,4))\n",
    "plt.plot(loss)\n",
    "plt.title(\"Loss\", fontsize=15)\n",
    "plt.xlabel(\"MCMC sample\", fontsize=13)\n",
    "plt.grid(True)"
   ]
  },
  {
   "cell_type": "markdown",
   "metadata": {},
   "source": [
    "### Pairwise distances:"
   ]
  },
  {
   "cell_type": "code",
   "execution_count": null,
   "metadata": {
    "collapsed": true
   },
   "outputs": [],
   "source": [
    "n_samples, n_latent = np.shape(trace['Z'])[0], np.shape(trace['Z'])[1]\n",
    "k_max = 50\n",
    "\n",
    "pw_dist_matrix = np.zeros((k_max,k_max,n_samples))\n",
    "for k in trange(n_samples) :\n",
    "    for i in range(k_max) :\n",
    "        for j in range(k_max) :\n",
    "            pw_dist_matrix[i,j,k] = np.linalg.norm(trace['Z'][k,i]-trace['Z'][k,j])"
   ]
  },
  {
   "cell_type": "code",
   "execution_count": null,
   "metadata": {
    "collapsed": true
   },
   "outputs": [],
   "source": [
    "k_max = 50\n",
    "idx = npr.choice(k_max,10,replace=False)\n",
    "plt.figure(figsize=(20,15))\n",
    "for i in range(6):\n",
    "    for j in range(6):\n",
    "        if i > j :\n",
    "            k = 10*i+j+1\n",
    "            plt.subplot(10,10,k)\n",
    "            plt.plot(pw_dist_matrix[idx[i],idx[j]])\n",
    "            if i < 5 : plt.xticks(alpha=0)\n",
    "            plt.grid(True)\n",
    "            if i == 5 : plt.xlabel(\"MCMC sample\", fontsize=12)\n",
    "            if j > 0 : plt.yticks(alpha=0)\n",
    "plt.suptitle(\"Traceplots of some pairwise distances for banknote data\", fontsize=15, x=0.31,y=0.83)\n",
    "# plt.savefig('/home/postdoc/dsen/Desktop/codes/BNN_dimension_reduction/plots/banknote_pwdist_constrainedW1_refpoints.pdf', \n",
    "#                 dpi=2000, bbox_inches='tight');"
   ]
  },
  {
   "cell_type": "markdown",
   "metadata": {},
   "source": [
    "### Summaries of pairwise distances:"
   ]
  },
  {
   "cell_type": "code",
   "execution_count": null,
   "metadata": {
    "collapsed": true
   },
   "outputs": [],
   "source": [
    "latent_samples = np.zeros((Nobs,n_samples,lat_dim))\n",
    "k = 0\n",
    "ref_points_sorted = np.sort(ref_points)\n",
    "Z_ref_sorted = Z_ref[:,np.argsort(ref_points)]\n",
    "for i in trange(Nobs) :\n",
    "    if k < len(ref_points_sorted) :\n",
    "        if i == ref_points_sorted[k] :\n",
    "            latent_samples[i] = Z_ref[:,k]\n",
    "            k += 1 \n",
    "        else :\n",
    "            latent_samples[i] = trace['Z'][:,i-k]"
   ]
  },
  {
   "cell_type": "code",
   "execution_count": null,
   "metadata": {
    "collapsed": true
   },
   "outputs": [],
   "source": [
    "pw_dist_summary = np.zeros((4,Nobs,Nobs))\n",
    "for i in trange(Nobs) :\n",
    "    for j in range(Nobs) :\n",
    "        pwdist = scipy.linalg.norm(latent_samples[i]-latent_samples[j], axis=1)\n",
    "        pw_dist_summary[0,i,j] = np.mean(pwdist)\n",
    "        pw_dist_summary[1,i,j] = np.median(pwdist)\n",
    "        pw_dist_summary[2,i,j] = np.percentile(pwdist,q=2.5)\n",
    "        pw_dist_summary[3,i,j] = np.percentile(pwdist,q=97.5)"
   ]
  },
  {
   "cell_type": "code",
   "execution_count": null,
   "metadata": {
    "collapsed": true
   },
   "outputs": [],
   "source": [
    "titles = [\"Mean\", \"Median\", \"Credible interval lower limit\", \"Credible interval upper limit\"]\n",
    "fig = plt.figure(figsize=(15,12))\n",
    "for i in range(4) :\n",
    "    plt.subplot(2,2,i+1)\n",
    "    ax = sns.heatmap(pw_dist_summary[i])\n",
    "    plt.title(titles[i])\n",
    "plt.subplots_adjust(wspace=1e-2)\n",
    "# plt.savefig('/xtmp/BNN_dim_red_data/banknote_pwdist_heatmap.pdf', dpi=1000, box_inches='tight')\n",
    "# plt.savefig('/xtmp/BNN_dim_red_data/banknote_pwdist_heatmap.jpeg', dpi=700, box_inches='tight')\n",
    "plt.show()"
   ]
  },
  {
   "cell_type": "code",
   "execution_count": 24,
   "metadata": {
    "collapsed": true
   },
   "outputs": [],
   "source": [
    "np.save('/xtmp/BNN_dim_red_data/banknote_pw_dist_summary.npy', pw_dist_summary)\n",
    "np.save('/xtmp/BNN_dim_red_data/banknote_latent_samples.npy', latent_samples)"
   ]
  },
  {
   "cell_type": "code",
   "execution_count": null,
   "metadata": {
    "collapsed": true
   },
   "outputs": [],
   "source": []
  },
  {
   "cell_type": "code",
   "execution_count": null,
   "metadata": {
    "collapsed": true
   },
   "outputs": [],
   "source": []
  }
 ],
 "metadata": {
  "kernelspec": {
   "display_name": "Python 3",
   "language": "python",
   "name": "python3"
  },
  "language_info": {
   "codemirror_mode": {
    "name": "ipython",
    "version": 3
   },
   "file_extension": ".py",
   "mimetype": "text/x-python",
   "name": "python",
   "nbconvert_exporter": "python",
   "pygments_lexer": "ipython3",
   "version": "3.6.2"
  }
 },
 "nbformat": 4,
 "nbformat_minor": 2
}

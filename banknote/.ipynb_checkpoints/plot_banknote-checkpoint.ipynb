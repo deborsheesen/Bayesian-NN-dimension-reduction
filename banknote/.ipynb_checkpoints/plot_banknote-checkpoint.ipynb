{
 "cells": [
  {
   "cell_type": "code",
   "execution_count": 1,
   "metadata": {
    "collapsed": true
   },
   "outputs": [],
   "source": [
    "import matplotlib.pyplot as plt, numpy as np, numpy.random as npr, matplotlib.pyplot as plt\n",
    "import timeit, scipy, seaborn as sns, gc\n",
    "from sklearn.cluster import SpectralClustering\n",
    "from tqdm import trange\n",
    "%matplotlib inline\n",
    "from pylab import plot, show, legend\n",
    "gc.enable()"
   ]
  },
  {
   "cell_type": "code",
   "execution_count": 2,
   "metadata": {
    "collapsed": true
   },
   "outputs": [],
   "source": [
    "latent_samples_sorted = np.load('/xtmp/BNN_dim_red_data/banknote_latent_samples.npy')\n",
    "N, n_samples = np.shape(latent_samples_sorted)[0:2]"
   ]
  },
  {
   "cell_type": "code",
   "execution_count": null,
   "metadata": {},
   "outputs": [
    {
     "name": "stderr",
     "output_type": "stream",
     "text": [
      "  5%|▌         | 258/5000 [01:01<23:22,  3.38it/s]"
     ]
    }
   ],
   "source": [
    "for k in trange(n_samples) :\n",
    "    try:\n",
    "        clustering = SpectralClustering(n_clusters=2,assign_labels=\"discretize\",\n",
    "                                        random_state=0).fit(latent_samples_sorted[:,k])\n",
    "        pw = np.zeros((N,N))\n",
    "        for i in range(N) :\n",
    "            pw[i] = (clustering.labels_[i] == clustering.labels_)/n_samples\n",
    "        filename = '/xtmp/BNN_dim_red_data/banknote_clustering/clustering'+str(k)+'.npy'\n",
    "        np.save(filename, pw)\n",
    "        del clustering, pw\n",
    "    except:\n",
    "        pass"
   ]
  },
  {
   "cell_type": "code",
   "execution_count": null,
   "metadata": {},
   "outputs": [],
   "source": [
    "pw_prob = np.zeros((N,N))\n",
    "for k in range(n_samples) :\n",
    "    filename = '/xtmp/BNN_dim_red_data/banknote_clustering/clustering'+str(k)+'.npy'\n",
    "    pw_prob = pw_prob + np.load(filename)\n",
    "    \n",
    "error = np.zeros(n_samples)\n",
    "for k in trange(n_samples) :\n",
    "    filename = '/xtmp/BNN_dim_red_data/banknote_clustering/clustering'+str(k)+'.npy'\n",
    "    error[k] = np.linalg.norm(pw_prob-np.load(filename))"
   ]
  },
  {
   "cell_type": "code",
   "execution_count": null,
   "metadata": {
    "collapsed": true
   },
   "outputs": [],
   "source": [
    "plt.plot(error)"
   ]
  },
  {
   "cell_type": "code",
   "execution_count": null,
   "metadata": {
    "collapsed": true
   },
   "outputs": [],
   "source": [
    "mask = np.zeros_like(pw_same)\n",
    "mask[np.triu_indices_from(mask)] = True\n",
    "fig = plt.figure(figsize=(8,7))\n",
    "ax = sns.heatmap(pw_same, mask=mask, square=True)\n",
    "# plt.savefig('/xtmp/BNN_dim_red_data/banknote_clustering_prob.jpeg', dpi=1000, box_inches='tight')"
   ]
  },
  {
   "cell_type": "code",
   "execution_count": null,
   "metadata": {
    "collapsed": true
   },
   "outputs": [],
   "source": []
  }
 ],
 "metadata": {
  "kernelspec": {
   "display_name": "Python 3",
   "language": "python",
   "name": "python3"
  },
  "language_info": {
   "codemirror_mode": {
    "name": "ipython",
    "version": 3
   },
   "file_extension": ".py",
   "mimetype": "text/x-python",
   "name": "python",
   "nbconvert_exporter": "python",
   "pygments_lexer": "ipython3",
   "version": "3.6.2"
  }
 },
 "nbformat": 4,
 "nbformat_minor": 2
}

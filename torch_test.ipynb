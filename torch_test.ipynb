{
 "cells": [
  {
   "cell_type": "markdown",
   "metadata": {},
   "source": [
    "References:\n",
    "\n",
    "https://github.com/yunjey/pytorch-tutorial \n",
    "\n",
    "https://medium.com/coinmonks/create-a-neural-network-in-pytorch-and-make-your-life-simpler-ec5367895199"
   ]
  },
  {
   "cell_type": "code",
   "execution_count": 1,
   "metadata": {
    "collapsed": true
   },
   "outputs": [],
   "source": [
    "import torch, torch.nn as nn, copy, timeit, numpy.random as npr, numpy as np\n",
    "from torch.distributions.bernoulli import Bernoulli \n",
    "from time import time\n",
    "import matplotlib.pyplot as plt\n",
    "%matplotlib inline\n",
    "from pylab import plot, show, legend\n",
    "from scipy.stats import uniform"
   ]
  },
  {
   "cell_type": "markdown",
   "metadata": {},
   "source": [
    "#### Define number of layers and number of nodes per layer:"
   ]
  },
  {
   "cell_type": "code",
   "execution_count": 59,
   "metadata": {
    "collapsed": true
   },
   "outputs": [],
   "source": [
    "n_in = 1\n",
    "n_h1 = 10\n",
    "n_h2 = 5\n",
    "n_out = 2"
   ]
  },
  {
   "cell_type": "markdown",
   "metadata": {},
   "source": [
    "#### Define model:"
   ]
  },
  {
   "cell_type": "code",
   "execution_count": 60,
   "metadata": {
    "collapsed": true
   },
   "outputs": [],
   "source": [
    "model = nn.Sequential(nn.Linear(n_in, n_h1),\n",
    "                      nn.Tanh(),\n",
    "                      nn.Linear(n_h1, n_h2),\n",
    "                      nn.Tanh(),\n",
    "                      nn.Linear(n_h2, n_out))"
   ]
  },
  {
   "cell_type": "code",
   "execution_count": 61,
   "metadata": {},
   "outputs": [
    {
     "name": "stdout",
     "output_type": "stream",
     "text": [
      "Sequential(\n",
      "  (0): Linear(in_features=1, out_features=10, bias=True)\n",
      "  (1): Tanh()\n",
      "  (2): Linear(in_features=10, out_features=5, bias=True)\n",
      "  (3): Tanh()\n",
      "  (4): Linear(in_features=5, out_features=2, bias=True)\n",
      ")\n"
     ]
    }
   ],
   "source": [
    "print(model)"
   ]
  },
  {
   "cell_type": "markdown",
   "metadata": {},
   "source": [
    "#### Simulate some data:"
   ]
  },
  {
   "cell_type": "code",
   "execution_count": 71,
   "metadata": {},
   "outputs": [
    {
     "data": {
      "image/png": "[encoded data removed]",
      "text/plain": [
       "<Figure size 576x252 with 2 Axes>"
      ]
     },
     "metadata": {},
     "output_type": "display_data"
    }
   ],
   "source": [
    "nobs = 1_00\n",
    "x = torch.randn(nobs, n_in)\n",
    "x_ = torch.randn(nobs, n_in)\n",
    "y = np.zeros((nobs, n_out))\n",
    "for i in range(nobs) :\n",
    "    #y[i] = y[i]/10 + y[i]/np.linalg.norm(y[i])\n",
    "    y[:,0] = list(np.cos(np.pi*x))*uniform.rvs(1,0.1,size=nobs)\n",
    "    y[:,1] = list(np.sin(np.pi*x))*uniform.rvs(1,0.1,size=nobs)\n",
    "y = torch.from_numpy(y).float()\n",
    "    \n",
    "plt.figure(figsize=(8,3.5))\n",
    "plt.subplot(121)\n",
    "# plt.plot(list(x[:,0]),list(x[:,1]), 'o')   \n",
    "plt.title(\"input\")\n",
    "plt.subplot(122)\n",
    "plt.plot(list(y[:,0]),list(y[:,1]), 'o', markersize=3)   \n",
    "plt.title(\"output\")\n",
    "plt.suptitle(\"Training data\");"
   ]
  },
  {
   "cell_type": "markdown",
   "metadata": {},
   "source": [
    "#### Randomly initialise model weights:"
   ]
  },
  {
   "cell_type": "code",
   "execution_count": 72,
   "metadata": {},
   "outputs": [
    {
     "data": {
      "text/plain": [
       "Sequential(\n",
       "  (0): Linear(in_features=1, out_features=10, bias=True)\n",
       "  (1): Tanh()\n",
       "  (2): Linear(in_features=10, out_features=5, bias=True)\n",
       "  (3): Tanh()\n",
       "  (4): Linear(in_features=5, out_features=2, bias=True)\n",
       ")"
      ]
     },
     "execution_count": 72,
     "metadata": {},
     "output_type": "execute_result"
    }
   ],
   "source": [
    "def init_normal(m):\n",
    "    if type(m) == nn.Linear:\n",
    "        nn.init.uniform_(m.weight)\n",
    "#         nn.init.normal_(m.weight)\n",
    "\n",
    "# use the modules apply function to recursively apply the initialization\n",
    "model.apply(init_normal)"
   ]
  },
  {
   "cell_type": "code",
   "execution_count": 73,
   "metadata": {
    "collapsed": true
   },
   "outputs": [],
   "source": [
    "criterion = nn.MSELoss()\n",
    "optimizer = torch.optim.SGD(model.parameters(), lr=0.01)"
   ]
  },
  {
   "cell_type": "markdown",
   "metadata": {},
   "source": [
    "#### Optimize:"
   ]
  },
  {
   "cell_type": "code",
   "execution_count": 74,
   "metadata": {
    "scrolled": false
   },
   "outputs": [
    {
     "name": "stdout",
     "output_type": "stream",
     "text": [
      "epoch:  20000  loss:  0.1033405214548111\n",
      "epoch:  40000  loss:  0.06076861917972565\n",
      "epoch:  60000  loss:  0.05455746501684189\n",
      "epoch:  80000  loss:  0.05106329917907715\n",
      "epoch:  100000  loss:  0.04818248748779297\n"
     ]
    }
   ],
   "source": [
    "for epoch in range(100_000):\n",
    "    # Forward Propagation\n",
    "    y_pred = model(x)\n",
    "    # Compute and print loss\n",
    "    loss = criterion(y_pred, y)\n",
    "    if (epoch+1)%20_000 == 0 :\n",
    "        print('epoch: ', epoch+1,' loss: ', loss.item())\n",
    "    # Zero the gradients\n",
    "    optimizer.zero_grad()\n",
    "    \n",
    "    # perform a backward pass (backpropagation)\n",
    "    loss.backward()\n",
    "    \n",
    "    # Update the parameters\n",
    "    optimizer.step()"
   ]
  },
  {
   "cell_type": "code",
   "execution_count": 75,
   "metadata": {},
   "outputs": [
    {
     "data": {
      "image/png": "[encoded data removed]",
      "text/plain": [
       "<Figure size 360x360 with 1 Axes>"
      ]
     },
     "metadata": {},
     "output_type": "display_data"
    }
   ],
   "source": [
    "plt.figure(figsize=(5,5))\n",
    "plt.plot(list(model(x)[:,0]),list(model(x)[:,1]), 'bo', label=\"predicted\", markersize=3)\n",
    "plt.plot(list(y[:,0]),list(y[:,1]), 'ro', label=\"observed\", markersize=3)\n",
    "plt.plot(list(model(x_)[:,0]),list(model(x_)[:,1]), 'go', label=\"new input\", markersize=3)\n",
    "plt.legend()\n",
    "plt.grid(True)"
   ]
  },
  {
   "cell_type": "code",
   "execution_count": null,
   "metadata": {
    "collapsed": true
   },
   "outputs": [],
   "source": []
  },
  {
   "cell_type": "code",
   "execution_count": null,
   "metadata": {
    "collapsed": true
   },
   "outputs": [],
   "source": []
  },
  {
   "cell_type": "code",
   "execution_count": null,
   "metadata": {
    "collapsed": true
   },
   "outputs": [],
   "source": []
  },
  {
   "cell_type": "code",
   "execution_count": null,
   "metadata": {
    "collapsed": true
   },
   "outputs": [],
   "source": []
  }
 ],
 "metadata": {
  "kernelspec": {
   "display_name": "Python 3",
   "language": "python",
   "name": "python3"
  },
  "language_info": {
   "codemirror_mode": {
    "name": "ipython",
    "version": 3
   },
   "file_extension": ".py",
   "mimetype": "text/x-python",
   "name": "python",
   "nbconvert_exporter": "python",
   "pygments_lexer": "ipython3",
   "version": "3.6.2"
  }
 },
 "nbformat": 4,
 "nbformat_minor": 2
}

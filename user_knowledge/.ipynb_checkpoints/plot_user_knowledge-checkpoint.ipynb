{
 "cells": [
  {
   "cell_type": "code",
   "execution_count": 1,
   "metadata": {
    "collapsed": true
   },
   "outputs": [],
   "source": [
    "import matplotlib.pyplot as plt, numpy as np, numpy.random as npr, csv, matplotlib.pyplot as plt, pandas as pd\n",
    "import torch.nn as nn, timeit, torch, pystan as ps, scipy, seaborn as sns\n",
    "from sklearn.cluster import SpectralClustering\n",
    "from tqdm import trange\n",
    "%matplotlib inline\n",
    "from pylab import plot, show, legend"
   ]
  },
  {
   "cell_type": "code",
   "execution_count": null,
   "metadata": {
    "collapsed": true
   },
   "outputs": [],
   "source": [
    "latent_samples_sorted = np.load('/xtmp/BNN_dim_red_data/user_knowledge_latent_samples_sorted.npy')\n",
    "N, n_samples = np.shape(latent_samples_sorted)[0:2]"
   ]
  },
  {
   "cell_type": "code",
   "execution_count": null,
   "metadata": {},
   "outputs": [
    {
     "name": "stderr",
     "output_type": "stream",
     "text": [
      "  5%|▍         | 249/5000 [00:36<11:21,  6.97it/s]"
     ]
    }
   ],
   "source": [
    "pw_same = np.zeros((N,N))\n",
    "for k in trange(n_samples) :\n",
    "    try:\n",
    "        clustering = SpectralClustering(n_clusters=4,assign_labels=\"discretize\",\n",
    "                                        random_state=0).fit(latent_samples_sorted[:,k])\n",
    "        for i in range(N) :\n",
    "            for j in range(N) :\n",
    "                pw_same[i,j] = pw_same[i,j] + (clustering.labels_[i] == clustering.labels_[j])/n_samples\n",
    "    except:\n",
    "        pass"
   ]
  },
  {
   "cell_type": "code",
   "execution_count": null,
   "metadata": {},
   "outputs": [],
   "source": [
    "mask = np.zeros_like(pw_same)\n",
    "mask[np.triu_indices_from(mask)] = True\n",
    "fig = plt.figure(figsize=(8,7))\n",
    "ax = sns.heatmap(pw_same, mask=mask, square=True)\n",
    "# plt.savefig('/xtmp/BNN_dim_red_data/user_knowledge_clustering_prob.jpeg', dpi=1200, box_inches='tight')"
   ]
  },
  {
   "cell_type": "code",
   "execution_count": null,
   "metadata": {
    "collapsed": true
   },
   "outputs": [],
   "source": [
    "error = np.zeros(n_samples)\n",
    "cc = np.zeros((N,N))\n",
    "for k in trange(n_samples) :\n",
    "    try:\n",
    "        clustering = SpectralClustering(n_clusters=4,assign_labels=\"discretize\",\n",
    "                                        random_state=0).fit(latent_samples_sorted[:,k])\n",
    "        for i in range(N) :\n",
    "            for j in range(N) :\n",
    "                cc[i] = (clustering.labels_[i] == clustering.labels_)\n",
    "        error[k] = np.linalg.norm(cc-pw_same)\n",
    "    except:\n",
    "        pass"
   ]
  },
  {
   "cell_type": "code",
   "execution_count": null,
   "metadata": {
    "collapsed": true
   },
   "outputs": [],
   "source": []
  },
  {
   "cell_type": "code",
   "execution_count": 10,
   "metadata": {},
   "outputs": [
    {
     "data": {
      "text/plain": [
       "4.295590449029526"
      ]
     },
     "execution_count": 10,
     "metadata": {},
     "output_type": "execute_result"
    }
   ],
   "source": [
    "np.linalg.norm(npr.rand(10,10)-npr.rand(10,10))"
   ]
  },
  {
   "cell_type": "code",
   "execution_count": null,
   "metadata": {
    "collapsed": true
   },
   "outputs": [],
   "source": []
  }
 ],
 "metadata": {
  "kernelspec": {
   "display_name": "Python 3",
   "language": "python",
   "name": "python3"
  },
  "language_info": {
   "codemirror_mode": {
    "name": "ipython",
    "version": 3
   },
   "file_extension": ".py",
   "mimetype": "text/x-python",
   "name": "python",
   "nbconvert_exporter": "python",
   "pygments_lexer": "ipython3",
   "version": "3.6.2"
  }
 },
 "nbformat": 4,
 "nbformat_minor": 2
}

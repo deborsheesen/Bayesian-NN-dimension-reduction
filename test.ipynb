{
 "cells": [
  {
   "cell_type": "raw",
   "metadata": {},
   "source": [
    "Reference for HMC: Figure 2 of https://arxiv.org/pdf/1206.1901.pdf"
   ]
  },
  {
   "cell_type": "code",
   "execution_count": 1,
   "metadata": {},
   "outputs": [],
   "source": [
    "import numpy as np, numpy.random as npr, torch.nn as nn, copy, timeit, torch, seaborn as sns\n",
    "from torch.distributions.bernoulli import Bernoulli \n",
    "from tqdm import trange\n",
    "from HMCfunctions_old import *\n",
    "from time import time\n",
    "import matplotlib.pyplot as plt\n",
    "%matplotlib inline\n",
    "from pylab import plot, show, legend"
   ]
  },
  {
   "cell_type": "markdown",
   "metadata": {},
   "source": [
    "Gradient w.r.t. $\\theta$:\n",
    "\n",
    "$$\n",
    "\\nabla_\\theta \\log p(\\theta \\mid \\sigma, x_{1:n}, y_{1:n}) \n",
    "= \n",
    "- \\sum_{i=1}^n \\frac{\\left ( \\mu_\\theta(x_i) - y_i \\right ) \\, \\nabla_\\theta \\mu_\\theta(x_i) }{\\sigma^{2k}} + \\nabla_\\theta \\log p_0(\\theta) \n",
    "$$"
   ]
  },
  {
   "cell_type": "markdown",
   "metadata": {},
   "source": [
    "#### Set up neural network:"
   ]
  },
  {
   "cell_type": "code",
   "execution_count": 2,
   "metadata": {
    "collapsed": true
   },
   "outputs": [],
   "source": [
    "n_in = 1\n",
    "n_h1 = 5\n",
    "n_out = 2\n",
    "\n",
    "nn_model = nn.Sequential(nn.Linear(n_in, n_h1),\n",
    "                         nn.Tanh(),\n",
    "                         nn.Linear(n_h1, n_out))"
   ]
  },
  {
   "cell_type": "markdown",
   "metadata": {},
   "source": [
    "* Total number of parameters:"
   ]
  },
  {
   "cell_type": "code",
   "execution_count": 3,
   "metadata": {},
   "outputs": [
    {
     "name": "stdout",
     "output_type": "stream",
     "text": [
      "22\n"
     ]
    }
   ],
   "source": [
    "print(sum(p.numel() for p in nn_model.parameters()))"
   ]
  },
  {
   "cell_type": "markdown",
   "metadata": {},
   "source": [
    "#### Generate some random data:"
   ]
  },
  {
   "cell_type": "code",
   "execution_count": 4,
   "metadata": {
    "collapsed": true
   },
   "outputs": [],
   "source": [
    "error_sigma = 2e-1\n",
    "nobs = 1_000\n",
    "xtrue = torch.randn(nobs, n_in, requires_grad=True)\n",
    "xvals = xtrue.data\n",
    "ytrue = np.zeros((nobs, n_out))\n",
    "ytrue[:,0] = list(abs(xvals)*np.cos(xvals))\n",
    "ytrue[:,1] = list(abs(xvals)*np.sin(xvals))\n",
    "ytrue = 3*torch.from_numpy(ytrue).float() + torch.randn(nobs,2)*error_sigma\n",
    "criterion = nn.MSELoss()"
   ]
  },
  {
   "cell_type": "code",
   "execution_count": 5,
   "metadata": {},
   "outputs": [
    {
     "data": {
      "image/png": "[encoded data removed]",
      "text/plain": [
       "<Figure size 432x288 with 1 Axes>"
      ]
     },
     "metadata": {},
     "output_type": "display_data"
    }
   ],
   "source": [
    "plt.plot(list(ytrue[:,0]), list(ytrue[:,1]), 'o', markersize=2)\n",
    "plt.grid(True)\n",
    "plt.title(\"True y\");"
   ]
  },
  {
   "cell_type": "markdown",
   "metadata": {},
   "source": [
    "### HMC: "
   ]
  },
  {
   "cell_type": "code",
   "execution_count": 6,
   "metadata": {},
   "outputs": [
    {
     "data": {
      "image/png": "[encoded data removed]",
      "text/plain": [
       "<Figure size 432x288 with 1 Axes>"
      ]
     },
     "metadata": {},
     "output_type": "display_data"
    }
   ],
   "source": [
    "prior_sigma = 1e0\n",
    "my_model = model(xtrue, ytrue, prior_sigma, 1e0, nn_model)\n",
    "my_model.init_normal()\n",
    "my_model.update_grad()\n",
    "y_initial = my_model.nn_model(my_model.x)\n",
    "plt.plot(list(y_initial[:,0]), list(y_initial[:,1]), 'o', markersize=2)\n",
    "plt.grid(True)\n",
    "plt.title(\"start\");"
   ]
  },
  {
   "cell_type": "code",
   "execution_count": 7,
   "metadata": {},
   "outputs": [
    {
     "data": {
      "text/plain": [
       "(tensor(-3.0984), tensor(3.2457))"
      ]
     },
     "execution_count": 7,
     "metadata": {},
     "output_type": "execute_result"
    }
   ],
   "source": [
    "torch.min(my_model.get_params()), torch.max(my_model.get_params())"
   ]
  },
  {
   "cell_type": "code",
   "execution_count": 8,
   "metadata": {},
   "outputs": [],
   "source": [
    "stepsize = 1e-3\n",
    "my_sampler = sampler(my_model, stepsize)"
   ]
  },
  {
   "cell_type": "code",
   "execution_count": 9,
   "metadata": {},
   "outputs": [
    {
     "name": "stdout",
     "output_type": "stream",
     "text": [
      "iter     10/100 after 0.02 min | accept_rate 1.000 | MSE loss 4.502 | stepsize 0.001 | nleapfrog 100\n",
      "iter     20/100 after 0.04 min | accept_rate 1.000 | MSE loss 4.484 | stepsize 0.001 | nleapfrog 100\n",
      "iter     30/100 after 0.06 min | accept_rate 1.000 | MSE loss 4.459 | stepsize 0.001 | nleapfrog 100\n",
      "iter     40/100 after 0.08 min | accept_rate 1.000 | MSE loss 4.393 | stepsize 0.001 | nleapfrog 100\n",
      "iter     50/100 after 0.10 min | accept_rate 1.000 | MSE loss 4.224 | stepsize 0.001 | nleapfrog 100\n",
      "iter     60/100 after 0.12 min | accept_rate 1.000 | MSE loss 3.953 | stepsize 0.001 | nleapfrog 100\n",
      "iter     70/100 after 0.14 min | accept_rate 1.000 | MSE loss 3.539 | stepsize 0.001 | nleapfrog 100\n",
      "iter     80/100 after 0.16 min | accept_rate 1.000 | MSE loss 3.119 | stepsize 0.001 | nleapfrog 100\n",
      "iter     90/100 after 0.18 min | accept_rate 1.000 | MSE loss 2.976 | stepsize 0.001 | nleapfrog 100\n",
      "iter    100/100 after 0.20 min | accept_rate 1.000 | MSE loss 2.747 | stepsize 0.001 | nleapfrog 100\n"
     ]
    },
    {
     "data": {
      "image/png": "[encoded data removed]",
      "text/plain": [
       "<Figure size 432x288 with 1 Axes>"
      ]
     },
     "metadata": {},
     "output_type": "display_data"
    }
   ],
   "source": [
    "Nsteps, n_leapfrog = 100, 100\n",
    "hmc = HMC(my_sampler, n_leapfrog, Nsteps)\n",
    "hmc.sample()\n",
    "yhmc_final = hmc.sampler.model.nn_model(hmc.sampler.model.x)\n",
    "plt.plot(list(yhmc_final[:,0]), list(yhmc_final[:,1]), 'o', markersize=2)\n",
    "plt.grid(True)\n",
    "hmc.plot()"
   ]
  },
  {
   "cell_type": "code",
   "execution_count": 10,
   "metadata": {},
   "outputs": [
    {
     "data": {
      "text/plain": [
       "torch.Size([101, 1022])"
      ]
     },
     "execution_count": 10,
     "metadata": {},
     "output_type": "execute_result"
    }
   ],
   "source": [
    "np.shape(hmc.chain)"
   ]
  },
  {
   "cell_type": "code",
   "execution_count": 11,
   "metadata": {},
   "outputs": [
    {
     "data": {
      "text/plain": [
       "(2.8737754454934303, 40.849744247122004)"
      ]
     },
     "execution_count": 11,
     "metadata": {},
     "output_type": "execute_result"
    }
   ],
   "source": [
    "min(hmc.ESS()), max(hmc.ESS())"
   ]
  },
  {
   "cell_type": "markdown",
   "metadata": {},
   "source": [
    "### BAOAB:"
   ]
  },
  {
   "cell_type": "code",
   "execution_count": 12,
   "metadata": {
    "collapsed": true
   },
   "outputs": [],
   "source": [
    "beta = 1\n",
    "gamma = 1e0"
   ]
  },
  {
   "cell_type": "code",
   "execution_count": 13,
   "metadata": {
    "collapsed": true
   },
   "outputs": [],
   "source": [
    "my_model.init_normal()\n",
    "my_model.update_grad()\n",
    "stepsize = 1e-2\n",
    "my_sampler = sampler(my_model, stepsize)"
   ]
  },
  {
   "cell_type": "code",
   "execution_count": 14,
   "metadata": {
    "scrolled": true
   },
   "outputs": [
    {
     "name": "stdout",
     "output_type": "stream",
     "text": [
      "iter   1000/10000 after 0.07 min | accept_rate 0.164 | MSE loss 4.766\n",
      "iter   2000/10000 after 0.15 min | accept_rate 0.090 | MSE loss 4.735\n",
      "iter   3000/10000 after 0.23 min | accept_rate 0.065 | MSE loss 4.684\n",
      "iter   4000/10000 after 0.30 min | accept_rate 0.050 | MSE loss 4.683\n",
      "iter   5000/10000 after 0.37 min | accept_rate 0.041 | MSE loss 4.671\n",
      "iter   6000/10000 after 0.44 min | accept_rate 0.035 | MSE loss 4.661\n",
      "iter   7000/10000 after 0.51 min | accept_rate 0.030 | MSE loss 4.671\n",
      "iter   8000/10000 after 0.57 min | accept_rate 0.027 | MSE loss 4.626\n",
      "iter   9000/10000 after 0.64 min | accept_rate 0.024 | MSE loss 4.596\n",
      "iter  10000/10000 after 0.72 min | accept_rate 0.022 | MSE loss 4.615\n"
     ]
    }
   ],
   "source": [
    "baoab = BAOAB(my_sampler, 10**4, beta, gamma)\n",
    "baoab.sample()"
   ]
  },
  {
   "cell_type": "code",
   "execution_count": 18,
   "metadata": {},
   "outputs": [
    {
     "data": {
      "image/png": "[encoded data removed]",
      "text/plain": [
       "<Figure size 432x288 with 1 Axes>"
      ]
     },
     "metadata": {},
     "output_type": "display_data"
    }
   ],
   "source": [
    "baoab.plot()"
   ]
  },
  {
   "cell_type": "code",
   "execution_count": 19,
   "metadata": {},
   "outputs": [
    {
     "data": {
      "text/plain": [
       "array([5318.66460867, 1583.60213647, 4058.74236837, ...,  462.00512337,\n",
       "        248.77526599, 2606.13577039])"
      ]
     },
     "execution_count": 19,
     "metadata": {},
     "output_type": "execute_result"
    }
   ],
   "source": [
    "baoab.ESS()"
   ]
  },
  {
   "cell_type": "code",
   "execution_count": null,
   "metadata": {
    "collapsed": true
   },
   "outputs": [],
   "source": []
  },
  {
   "cell_type": "code",
   "execution_count": null,
   "metadata": {
    "collapsed": true
   },
   "outputs": [],
   "source": []
  },
  {
   "cell_type": "code",
   "execution_count": null,
   "metadata": {
    "collapsed": true
   },
   "outputs": [],
   "source": []
  }
 ],
 "metadata": {
  "kernelspec": {
   "display_name": "Python 3",
   "language": "python",
   "name": "python3"
  },
  "language_info": {
   "codemirror_mode": {
    "name": "ipython",
    "version": 3
   },
   "file_extension": ".py",
   "mimetype": "text/x-python",
   "name": "python",
   "nbconvert_exporter": "python",
   "pygments_lexer": "ipython3",
   "version": "3.6.2"
  }
 },
 "nbformat": 4,
 "nbformat_minor": 2
}

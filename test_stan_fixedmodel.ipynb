{
 "cells": [
  {
   "cell_type": "code",
   "execution_count": 1,
   "metadata": {
    "collapsed": true
   },
   "outputs": [],
   "source": [
    "import numpy as np, numpy.random as npr, torch.nn as nn, timeit, torch, pystan as ps, arviz\n",
    "from time import time\n",
    "import matplotlib.pyplot as plt\n",
    "%matplotlib inline\n",
    "from pylab import plot, show, legend\n",
    "from samplers import *"
   ]
  },
  {
   "cell_type": "markdown",
   "metadata": {},
   "source": [
    "#### Generate data:"
   ]
  },
  {
   "cell_type": "code",
   "execution_count": 2,
   "metadata": {
    "collapsed": true
   },
   "outputs": [],
   "source": [
    "n_in = 1\n",
    "n_out = 2"
   ]
  },
  {
   "cell_type": "code",
   "execution_count": 3,
   "metadata": {},
   "outputs": [
    {
     "data": {
      "image/png": "[encoded data removed]",
      "text/plain": [
       "<Figure size 432x288 with 1 Axes>"
      ]
     },
     "metadata": {},
     "output_type": "display_data"
    }
   ],
   "source": [
    "error_sigma2 = 0.05\n",
    "dd = np.load(\"model1.npy\")\n",
    "X, Y = dd.item()['X'], dd.item()['Y']\n",
    "X.requires_grad = True\n",
    "plt.plot(list(Y[:,0]), list(Y[:,1]), 'o', markersize=2)\n",
    "plt.grid(True)\n",
    "plt.title(\"True y\")\n",
    "criterion = nn.MSELoss()\n",
    "Nobs = np.shape(X)[0]"
   ]
  },
  {
   "cell_type": "markdown",
   "metadata": {
    "collapsed": true
   },
   "source": [
    "#### Compile Stan function:"
   ]
  },
  {
   "cell_type": "code",
   "execution_count": 4,
   "metadata": {},
   "outputs": [
    {
     "name": "stderr",
     "output_type": "stream",
     "text": [
      "CRITICAL:pystan:Unable to read file specified by `file`.\n"
     ]
    },
    {
     "ename": "FileNotFoundError",
     "evalue": "[Errno 2] No such file or directory: 'nn_fixedmodel.stan'",
     "output_type": "error",
     "traceback": [
      "\u001b[0;31m---------------------------------------------------------------------------\u001b[0m",
      "\u001b[0;31mFileNotFoundError\u001b[0m                         Traceback (most recent call last)",
      "\u001b[0;32m<ipython-input-4-b56346e4381f>\u001b[0m in \u001b[0;36m<module>\u001b[0;34m()\u001b[0m\n\u001b[0;32m----> 1\u001b[0;31m \u001b[0msm\u001b[0m \u001b[0;34m=\u001b[0m \u001b[0mps\u001b[0m\u001b[0;34m.\u001b[0m\u001b[0mStanModel\u001b[0m\u001b[0;34m(\u001b[0m\u001b[0mfile\u001b[0m\u001b[0;34m=\u001b[0m\u001b[0;34m\"nn_fixedmodel.stan\"\u001b[0m\u001b[0;34m)\u001b[0m\u001b[0;34m\u001b[0m\u001b[0m\n\u001b[0m",
      "\u001b[0;32m~/.local/lib/python3.6/site-packages/pystan/model.py\u001b[0m in \u001b[0;36m__init__\u001b[0;34m(self, file, charset, model_name, model_code, stanc_ret, include_paths, boost_lib, eigen_lib, verbose, obfuscate_model_name, extra_compile_args)\u001b[0m\n\u001b[1;32m    221\u001b[0m                                          \u001b[0mverbose\u001b[0m\u001b[0;34m=\u001b[0m\u001b[0mverbose\u001b[0m\u001b[0;34m,\u001b[0m\u001b[0;34m\u001b[0m\u001b[0m\n\u001b[1;32m    222\u001b[0m                                          \u001b[0minclude_paths\u001b[0m\u001b[0;34m=\u001b[0m\u001b[0minclude_paths\u001b[0m\u001b[0;34m,\u001b[0m\u001b[0;34m\u001b[0m\u001b[0m\n\u001b[0;32m--> 223\u001b[0;31m                                          obfuscate_model_name=obfuscate_model_name)\n\u001b[0m\u001b[1;32m    224\u001b[0m \u001b[0;34m\u001b[0m\u001b[0m\n\u001b[1;32m    225\u001b[0m         \u001b[0;32mif\u001b[0m \u001b[0;32mnot\u001b[0m \u001b[0misinstance\u001b[0m\u001b[0;34m(\u001b[0m\u001b[0mstanc_ret\u001b[0m\u001b[0;34m,\u001b[0m \u001b[0mdict\u001b[0m\u001b[0;34m)\u001b[0m\u001b[0;34m:\u001b[0m\u001b[0;34m\u001b[0m\u001b[0m\n",
      "\u001b[0;32m~/.local/lib/python3.6/site-packages/pystan/api.py\u001b[0m in \u001b[0;36mstanc\u001b[0;34m(file, charset, model_code, model_name, include_paths, verbose, obfuscate_model_name)\u001b[0m\n\u001b[1;32m    118\u001b[0m         \u001b[0;32mif\u001b[0m \u001b[0misinstance\u001b[0m\u001b[0;34m(\u001b[0m\u001b[0mfile\u001b[0m\u001b[0;34m,\u001b[0m \u001b[0mstring_types\u001b[0m\u001b[0;34m)\u001b[0m\u001b[0;34m:\u001b[0m\u001b[0;34m\u001b[0m\u001b[0m\n\u001b[1;32m    119\u001b[0m             \u001b[0;32mtry\u001b[0m\u001b[0;34m:\u001b[0m\u001b[0;34m\u001b[0m\u001b[0m\n\u001b[0;32m--> 120\u001b[0;31m                 \u001b[0;32mwith\u001b[0m \u001b[0mio\u001b[0m\u001b[0;34m.\u001b[0m\u001b[0mopen\u001b[0m\u001b[0;34m(\u001b[0m\u001b[0mfile\u001b[0m\u001b[0;34m,\u001b[0m \u001b[0;34m'rt'\u001b[0m\u001b[0;34m,\u001b[0m \u001b[0mencoding\u001b[0m\u001b[0;34m=\u001b[0m\u001b[0mcharset\u001b[0m\u001b[0;34m)\u001b[0m \u001b[0;32mas\u001b[0m \u001b[0mf\u001b[0m\u001b[0;34m:\u001b[0m\u001b[0;34m\u001b[0m\u001b[0m\n\u001b[0m\u001b[1;32m    121\u001b[0m                     \u001b[0mmodel_code\u001b[0m \u001b[0;34m=\u001b[0m \u001b[0mf\u001b[0m\u001b[0;34m.\u001b[0m\u001b[0mread\u001b[0m\u001b[0;34m(\u001b[0m\u001b[0;34m)\u001b[0m\u001b[0;34m\u001b[0m\u001b[0m\n\u001b[1;32m    122\u001b[0m             \u001b[0;32mexcept\u001b[0m\u001b[0;34m:\u001b[0m\u001b[0;34m\u001b[0m\u001b[0m\n",
      "\u001b[0;31mFileNotFoundError\u001b[0m: [Errno 2] No such file or directory: 'nn_fixedmodel.stan'"
     ]
    }
   ],
   "source": [
    "sm = ps.StanModel(file=\"nn_fixedmodel.stan\")"
   ]
  },
  {
   "cell_type": "markdown",
   "metadata": {},
   "source": [
    "#### Run optimisation for NN:"
   ]
  },
  {
   "cell_type": "code",
   "execution_count": 5,
   "metadata": {
    "collapsed": true
   },
   "outputs": [],
   "source": [
    "n_h1 = 50\n",
    "model = nn.Sequential(nn.Linear(n_in, n_h1), nn.Tanh(), nn.Linear(n_h1, n_out))\n",
    "def init_normal(m) :\n",
    "    if type(m) == nn.Linear :\n",
    "        nn.init.normal_(m.weight)"
   ]
  },
  {
   "cell_type": "code",
   "execution_count": 6,
   "metadata": {},
   "outputs": [
    {
     "name": "stdout",
     "output_type": "stream",
     "text": [
      "Epoch: 5000; loss: 0.471; time: 0.1 mins\n",
      "Epoch: 10000; loss: 0.217; time: 0.1 mins\n",
      "Epoch: 15000; loss: 0.131; time: 0.2 mins\n",
      "Epoch: 20000; loss: 0.095; time: 0.2 mins\n",
      "Epoch: 25000; loss: 0.076; time: 0.3 mins\n",
      "Epoch: 30000; loss: 0.067; time: 0.3 mins\n",
      "Epoch: 35000; loss: 0.061; time: 0.4 mins\n",
      "Epoch: 40000; loss: 0.058; time: 0.4 mins\n",
      "Epoch: 45000; loss: 0.055; time: 0.5 mins\n",
      "Epoch: 50000; loss: 0.054; time: 0.5 mins\n"
     ]
    }
   ],
   "source": [
    "model.apply(init_normal)\n",
    "criterion = nn.MSELoss()\n",
    "optimizer = torch.optim.SGD(model.parameters(), lr=1e-3, momentum=0.9, nesterov=True)\n",
    "n_iter = 50_000\n",
    "start = time()\n",
    "for epoch in range(n_iter):\n",
    "    y_pred = model(X)\n",
    "    loss = criterion(y_pred, Y)\n",
    "    if (epoch+1)%(n_iter/10) == 0 :\n",
    "        print(\"Epoch: %d; loss: %.3f; time: %.1f mins\" % (epoch+1, loss.item(), (time()-start)/60))\n",
    "    optimizer.zero_grad()\n",
    "    loss.backward()\n",
    "    optimizer.step()"
   ]
  },
  {
   "cell_type": "code",
   "execution_count": 7,
   "metadata": {
    "collapsed": true
   },
   "outputs": [],
   "source": [
    "pm = []\n",
    "for name, param in model.named_parameters():\n",
    "    if param.requires_grad:\n",
    "        pm.append(param.data.numpy())\n",
    "weights_1, bias_1, weights_2, bias_2 = pm"
   ]
  },
  {
   "cell_type": "markdown",
   "metadata": {},
   "source": [
    "#### Run sampling algorithm:"
   ]
  },
  {
   "cell_type": "code",
   "execution_count": 8,
   "metadata": {
    "collapsed": true
   },
   "outputs": [],
   "source": [
    "data = dict(Nobs=Nobs, \n",
    "            in_dim=n_in, \n",
    "            out_dim=n_out, \n",
    "            hidden_dim_1=n_h1,\n",
    "            weights_1=weights_1.transpose(),\n",
    "            bias_1=bias_1,\n",
    "            weights_2=weights_2.transpose(),\n",
    "            bias_2=bias_2,\n",
    "            y=Y.detach().numpy())"
   ]
  },
  {
   "cell_type": "code",
   "execution_count": 9,
   "metadata": {
    "scrolled": true
   },
   "outputs": [
    {
     "name": "stdout",
     "output_type": "stream",
     "text": [
      "Inference for Stan model: anon_model_d7880e1c6ffaf15cd85d158ad294814b.\n",
      "1 chains, each with iter=10000; warmup=5000; thin=5; \n",
      "post-warmup draws per chain=1000, total post-warmup draws=1000.\n",
      "\n",
      "               mean se_mean     sd   2.5%    25%    50%    75%  97.5%  n_eff   Rhat\n",
      "X[1,1]         -1.4  3.1e-3    0.1  -1.59  -1.47  -1.39  -1.32  -1.18   1081    1.0\n",
      "X[2,1]         0.04    0.01   0.33   -0.6  -0.19   0.05   0.29   0.65    913    1.0\n",
      "X[3,1]         0.81  7.2e-3   0.23   0.12   0.71   0.84   0.96   1.13    991    1.0\n",
      "X[4,1]        -1.37  3.6e-3   0.12  -1.58  -1.45  -1.37  -1.29  -1.13   1035    1.0\n",
      "X[5,1]         0.21  9.9e-3   0.33   -0.4  -0.05   0.24   0.47    0.8   1091    1.0\n",
      "X[6,1]         -0.5  9.4e-3   0.28  -0.95  -0.69  -0.56  -0.36   0.21    926    1.0\n",
      "X[7,1]        -0.79  8.0e-3   0.25  -1.16  -0.96  -0.82  -0.67  -0.08    981    1.0\n",
      "X[8,1]         0.64  8.3e-3   0.27  -0.06   0.52    0.7   0.81   1.05   1024    1.0\n",
      "X[9,1]        -1.23  3.3e-3   0.11  -1.44   -1.3  -1.24  -1.17  -1.01   1039    1.0\n",
      "X[10,1]      6.9e-3  9.8e-3   0.33  -0.57  -0.24  -0.02   0.24   0.63   1117    1.0\n",
      "X[11,1]        0.69  9.0e-3   0.29  -0.02   0.56   0.76   0.89   1.12   1020    1.0\n",
      "X[12,1]        0.19    0.01   0.33  -0.44  -0.04   0.23   0.44   0.77    937    1.0\n",
      "X[13,1]       -0.59  9.4e-3   0.29  -1.01  -0.79  -0.64  -0.45   0.17    951    1.0\n",
      "X[14,1]       -0.11  9.9e-3   0.32   -0.7  -0.34  -0.11   0.13   0.49   1031    1.0\n",
      "X[15,1]        0.74  8.9e-3   0.28  -0.04   0.64   0.79   0.92   1.14    969    1.0\n",
      "X[16,1]       -1.86  3.7e-3   0.12  -2.09  -1.93  -1.86  -1.78  -1.61    992    1.0\n",
      "X[17,1]        -1.4  3.4e-3   0.11  -1.61  -1.48  -1.41  -1.33  -1.18   1071    1.0\n",
      "X[18,1]       -0.31    0.01   0.33  -0.82  -0.56  -0.36  -0.08   0.38    931    1.0\n",
      "X[19,1]        1.38  3.7e-3   0.12   1.14   1.31   1.38   1.46   1.59   1006    1.0\n",
      "X[20,1]        0.68  7.6e-3   0.25 3.7e-3   0.57   0.72   0.85   1.07   1081    1.0\n",
      "X[21,1]       -0.68  8.5e-3   0.28   -1.1  -0.87  -0.73  -0.56   0.04   1045    1.0\n",
      "X[22,1]       -0.13    0.01   0.33  -0.76  -0.39  -0.14   0.14   0.49    974    1.0\n",
      "X[23,1]        0.12    0.01   0.32   -0.5  -0.12   0.14   0.35   0.72    904    1.0\n",
      "X[24,1]       -0.37    0.01   0.31  -0.87   -0.6  -0.41  -0.18   0.33    879    1.0\n",
      "X[25,1]       -1.02  3.6e-3   0.11  -1.23   -1.1  -1.02  -0.95  -0.81    913    1.0\n",
      "X[26,1]        0.81  8.3e-3   0.26   0.09   0.71   0.86   0.98   1.19    989    1.0\n",
      "X[27,1]       -0.18  9.9e-3   0.33  -0.76  -0.43  -0.21   0.06   0.45   1089    1.0\n",
      "X[28,1]        0.93  7.2e-3   0.21   0.35   0.85   0.96   1.07   1.24    875    1.0\n",
      "X[29,1]        0.64  9.2e-3   0.29  -0.11   0.51    0.7   0.84   1.07   1013    1.0\n",
      "X[30,1]        -1.8  3.7e-3   0.11  -1.98  -1.87   -1.8  -1.74  -1.51    951    1.0\n",
      "X[31,1]        -0.2    0.01   0.33   -0.7  -0.45  -0.27   0.04   0.47    761    1.0\n",
      "X[32,1]       -1.95  2.7e-3   0.08  -2.12  -2.01  -1.95   -1.9   -1.8    942    1.0\n",
      "X[33,1]       -0.62  9.6e-3    0.3  -1.06  -0.83  -0.68  -0.47    0.1    982    1.0\n",
      "X[34,1]       -1.64  3.9e-3   0.12  -1.86  -1.72  -1.66  -1.57  -1.38    981   1.01\n",
      "X[35,1]        0.06    0.01   0.32  -0.55  -0.18   0.07   0.28   0.68    839    1.0\n",
      "X[36,1]        0.11  9.4e-3   0.31  -0.49  -0.11   0.12   0.31   0.68   1068    1.0\n",
      "X[37,1]         0.3  9.5e-3   0.32  -0.38   0.09   0.35   0.54   0.79   1133    1.0\n",
      "X[38,1]        1.38  3.7e-3   0.12   1.13   1.31   1.39   1.46   1.61   1021    1.0\n",
      "X[39,1]       -0.15    0.01   0.33  -0.67  -0.41   -0.2    0.1   0.48    985    1.0\n",
      "X[40,1]        0.63  9.5e-3   0.28  -0.11    0.5   0.69   0.82   1.04    898    1.0\n",
      "X[41,1]        0.54  9.3e-3   0.29  -0.17   0.39    0.6   0.75   0.97    998    1.0\n",
      "X[42,1]        0.06    0.01   0.33  -0.55   -0.2   0.06   0.31   0.67    895    1.0\n",
      "X[43,1]       -0.77  8.5e-3   0.25  -1.14  -0.94  -0.81  -0.68  -0.02    886    1.0\n",
      "X[44,1]       -0.16    0.01   0.33  -0.74   -0.4   -0.2   0.09   0.49    927    1.0\n",
      "X[45,1]     10.0e-3  9.9e-3   0.31  -0.61  -0.22   0.02   0.24   0.56    980    1.0\n",
      "X[46,1]        0.17    0.01   0.32  -0.44  -0.08   0.21   0.41    0.7    953    1.0\n",
      "X[47,1]       -0.47    0.01   0.31  -0.93  -0.69  -0.54  -0.31   0.28    916    1.0\n",
      "X[48,1]        0.93  6.4e-3    0.2   0.47   0.84   0.95   1.06   1.23    956    1.0\n",
      "X[49,1]       -0.55  8.9e-3   0.28  -0.98  -0.73   -0.6  -0.39   0.18   1027    1.0\n",
      "X[50,1]        0.18    0.01   0.33  -0.48  -0.07   0.21   0.43   0.76    869    1.0\n",
      "X[51,1]       -0.44  8.9e-3   0.28  -0.87  -0.63  -0.49  -0.28   0.29   1007    1.0\n",
      "X[52,1]       -0.74  7.9e-3   0.25  -1.12   -0.9  -0.78  -0.62  -0.11    979    1.0\n",
      "X[53,1]     -8.4e-3    0.01   0.33  -0.65  -0.22  -0.01   0.22   0.63    902    1.0\n",
      "X[54,1]        -1.1  5.1e-3   0.15  -1.37  -1.21  -1.11  -1.01   -0.8    898    1.0\n",
      "X[55,1]       -0.07  9.9e-3   0.33  -0.66  -0.31  -0.08   0.18   0.54   1077    1.0\n",
      "X[56,1]        1.64  3.3e-3    0.1   1.44   1.58   1.65   1.71   1.83    981    1.0\n",
      "X[57,1]        0.31    0.01   0.32  -0.33   0.09   0.35   0.55   0.85    965    1.0\n",
      "X[58,1]       -0.51  9.0e-3   0.28  -0.93   -0.7  -0.57  -0.37   0.19   1005    1.0\n",
      "X[59,1]       -0.02    0.01   0.32   -0.6  -0.25  -0.02    0.2    0.6    854    1.0\n",
      "X[60,1]       -1.36  4.1e-3   0.12  -1.58  -1.44  -1.37  -1.28   -1.1    912    1.0\n",
      "X[61,1]        0.62  8.9e-3   0.29   -0.1   0.48   0.68   0.82   1.03   1029    1.0\n",
      "X[62,1]        0.44  7.5e-3   0.13   0.22   0.39   0.45   0.51   0.62    295    1.0\n",
      "X[63,1]       -0.06    0.01   0.33  -0.65  -0.31  -0.08   0.19   0.53    926    1.0\n",
      "X[64,1]       -1.36  4.2e-3   0.13   -1.6  -1.45  -1.37  -1.28  -1.09    973    1.0\n",
      "X[65,1]        0.07    0.01   0.32  -0.52  -0.17   0.06   0.31   0.66   1004    1.0\n",
      "X[66,1]        1.68  3.3e-3    0.1   1.48   1.62   1.69   1.75   1.87    994    1.0\n",
      "X[67,1]        0.02  9.8e-3   0.32  -0.59   -0.2   0.03   0.24   0.64   1040    1.0\n",
      "X[68,1]        -0.8  7.7e-3   0.24  -1.15  -0.96  -0.84   -0.7  -0.19    949    1.0\n",
      "X[69,1]       -0.02    0.01   0.32  -0.61  -0.26  -0.02   0.21    0.6   1013    1.0\n",
      "X[70,1]        0.63  9.8e-3    0.3  -0.12   0.48   0.69   0.84   1.09    925    1.0\n",
      "X[71,1]       -0.23    0.01   0.32  -0.77  -0.47  -0.27-3.0e-3    0.4    941    1.0\n",
      "X[72,1]       -0.81  6.8e-3   0.23  -1.14  -0.95  -0.84   -0.7  -0.16   1100    1.0\n",
      "X[73,1]        0.23    0.01   0.33  -0.42  -0.02   0.27   0.48   0.79    882    1.0\n",
      "X[74,1]       -0.04  9.7e-3   0.32  -0.68  -0.26  -0.02   0.17   0.56   1070    1.0\n",
      "X[75,1]        1.63  3.5e-3   0.11   1.39   1.56   1.64    1.7   1.84    991    1.0\n",
      "X[76,1]        0.45    0.01    0.3  -0.26   0.31   0.52   0.65    0.9    846    1.0\n",
      "X[77,1]        1.04  8.3e-3    0.2   0.54   0.95   1.07   1.17   1.33    617    1.0\n",
      "X[78,1]         1.2  6.5e-3   0.16   0.87   1.12   1.22    1.3   1.44    627    1.0\n",
      "X[79,1]        0.07  9.6e-3   0.32  -0.55  -0.15   0.08    0.3   0.69   1080    1.0\n",
      "X[80,1]        0.47  9.0e-3   0.13   0.29   0.42   0.48   0.54   0.65    204    1.0\n",
      "X[81,1]        -0.3    0.01   0.32  -0.83  -0.53  -0.35  -0.09    0.4    927    1.0\n",
      "X[82,1]        1.69  3.3e-3   0.11   1.47   1.62   1.69   1.76   1.89   1053    1.0\n",
      "X[83,1]         0.1  9.9e-3   0.32  -0.52  -0.16   0.13   0.34   0.65   1076    1.0\n",
      "X[84,1]       -0.15    0.01   0.32  -0.72   -0.4  -0.18   0.08   0.47    899    1.0\n",
      "X[85,1]       -0.32    0.01   0.32  -0.82  -0.55  -0.38  -0.12   0.38    914    1.0\n",
      "X[86,1]       -0.41    0.01   0.31  -0.92  -0.63  -0.45  -0.21   0.26    766    1.0\n",
      "X[87,1]        1.88  4.0e-3   0.12    1.6   1.81   1.89   1.95   2.08    849    1.0\n",
      "X[88,1]        -0.1    0.01   0.32  -0.66  -0.35  -0.12   0.14   0.52    940    1.0\n",
      "X[89,1]       -0.71  8.5e-3   0.27  -1.14  -0.88  -0.76  -0.58  -0.01   1011    1.0\n",
      "X[90,1]        0.04    0.01   0.33  -0.56  -0.21   0.04   0.29   0.62   1057    1.0\n",
      "X[91,1]        1.13  5.2e-3   0.16   0.78   1.05   1.14   1.23   1.39    940    1.0\n",
      "X[92,1]        0.16    0.01   0.32  -0.47  -0.08   0.18   0.42   0.71   1016    1.0\n",
      "X[93,1]        2.11  2.8e-3   0.09   1.94   2.05   2.11   2.17   2.31   1043    1.0\n",
      "X[94,1]       -0.85  6.6e-3   0.21  -1.17  -0.99  -0.87  -0.75  -0.21   1041    1.0\n",
      "X[95,1]        0.32    0.01   0.31  -0.35    0.1   0.37   0.55   0.85    885    1.0\n",
      "X[96,1]        0.41  9.6e-3   0.31  -0.26   0.21   0.47   0.64   0.92   1035    1.0\n",
      "X[97,1]       -0.04    0.01   0.32  -0.62  -0.27  -0.04    0.2   0.57    672    1.0\n",
      "X[98,1]        0.06    0.01   0.32  -0.57  -0.17   0.06    0.3   0.63    870    1.0\n",
      "X[99,1]       -0.16    0.01   0.32  -0.74   -0.4  -0.19   0.09   0.47    870    1.0\n",
      "X[100,1]      -0.42    0.01   0.31  -0.92  -0.64  -0.47  -0.24   0.29    888    1.0\n",
      "X[101,1]      -0.04    0.01   0.31   -0.6  -0.28  -0.05    0.2   0.57    860   1.01\n",
      "X[102,1]      -0.76  7.3e-3   0.24  -1.12  -0.91   -0.8  -0.66   -0.1   1078    1.0\n",
      "X[103,1]      -1.51  3.9e-3   0.11   -1.7  -1.59  -1.52  -1.44  -1.29    770    1.0\n",
      "X[104,1]     2.0e-3  9.3e-3   0.31  -0.64  -0.22 8.4e-3   0.21   0.62   1112    1.0\n",
      "X[105,1]       0.78  8.8e-3   0.25   0.04   0.68   0.82   0.94   1.13    834    1.0\n",
      "X[106,1]      -0.07  9.9e-3   0.32  -0.65  -0.31  -0.08   0.18   0.52   1065    1.0\n",
      "X[107,1]      -0.22    0.01   0.31  -0.74  -0.45  -0.25 9.2e-3    0.4    918    1.0\n",
      "X[108,1]      -0.08    0.01   0.33  -0.66  -0.34   -0.1   0.18   0.54   1048    1.0\n",
      "X[109,1]      -0.64  8.8e-3   0.28  -1.07  -0.84  -0.69   -0.5   0.08    982    1.0\n",
      "X[110,1]      -0.05    0.01   0.34  -0.67  -0.29  -0.06    0.2   0.59   1053    1.0\n",
      "X[111,1]    -1.7e-3    0.01   0.33   -0.6  -0.24   0.01   0.24   0.62    972    1.0\n",
      "X[112,1]        0.1  9.5e-3   0.32  -0.49  -0.14   0.09   0.32   0.72   1149    1.0\n",
      "X[113,1]       0.23  9.9e-3   0.33  -0.38  -0.03   0.25   0.49   0.79   1106    1.0\n",
      "X[114,1]      -0.37  9.9e-3   0.31  -0.91   -0.6  -0.42  -0.17   0.29   1002    1.0\n",
      "X[115,1]      -0.73  8.0e-3   0.24  -1.07  -0.89  -0.77  -0.62  -0.04    911    1.0\n",
      "X[116,1]       0.95  6.4e-3   0.19    0.5   0.86   0.97   1.07   1.23    911    1.0\n",
      "X[117,1]      -1.15  5.4e-3   0.16   -1.4  -1.25  -1.17  -1.06   -0.8    905    1.0\n",
      "X[118,1]       0.01  9.8e-3   0.32  -0.56  -0.24   0.01   0.26   0.62   1076    1.0\n",
      "X[119,1]       1.14  3.3e-3    0.1   0.93   1.07   1.14   1.21   1.33    999    1.0\n",
      "X[120,1]      -0.62  8.7e-3   0.28  -1.03  -0.83  -0.67  -0.46   0.07   1061    1.0\n",
      "X[121,1]       -1.0  6.4e-3    0.2  -1.31  -1.12  -1.03   -0.9  -0.56    990    1.0\n",
      "X[122,1]      -1.33  3.4e-3   0.11  -1.54   -1.4  -1.33  -1.26   -1.1   1043    1.0\n",
      "X[123,1]       0.63  9.1e-3   0.27  -0.03   0.49   0.68   0.82   1.04    896    1.0\n",
      "X[124,1]        0.2    0.01   0.33  -0.44  -0.04   0.23   0.45   0.73    936    1.0\n",
      "X[125,1]       1.51  3.7e-3   0.12   1.28   1.43   1.51   1.59   1.72    964    1.0\n",
      "X[126,1]      -0.39  9.8e-3   0.31  -0.88  -0.61  -0.44  -0.21   0.31   1030    1.0\n",
      "X[127,1]       0.72  8.9e-3   0.27  -0.01    0.6   0.77    0.9   1.14    937    1.0\n",
      "X[128,1]       0.21    0.01   0.32  -0.42  -0.03   0.25   0.46   0.77   1025    1.0\n",
      "X[129,1]      -0.55  9.7e-3    0.3  -1.02  -0.76  -0.61  -0.39   0.19    960    1.0\n",
      "X[130,1]      -0.88  8.2e-3   0.25  -1.25  -1.03  -0.92  -0.78  -0.12    925    1.0\n",
      "X[131,1]       0.18    0.01   0.33  -0.47  -0.06    0.2   0.43   0.76    964    1.0\n",
      "X[132,1]      -0.07    0.01   0.32   -0.7  -0.27  -0.06   0.14   0.55    745    1.0\n",
      "X[133,1]       0.98  7.1e-3   0.22   0.38   0.88    1.0   1.11   1.29    926    1.0\n",
      "X[134,1]       0.34    0.01   0.32  -0.31   0.11   0.37   0.59   0.87    994    1.0\n",
      "X[135,1]        0.6    0.01   0.32  -0.13   0.44   0.65   0.82   1.08    885    1.0\n",
      "X[136,1]      -1.02  7.3e-3   0.22  -1.35  -1.15  -1.05  -0.93  -0.46    883    1.0\n",
      "X[137,1]       0.86  6.7e-3   0.21   0.32   0.76   0.89    1.0   1.18    993    1.0\n",
      "X[138,1]      -0.14    0.01   0.32  -0.68   -0.4  -0.17   0.12   0.48    910    1.0\n",
      "X[139,1]      -0.66  8.0e-3   0.26  -1.04  -0.83   -0.7  -0.53   0.01   1052    1.0\n",
      "X[140,1]      -0.06    0.01   0.32  -0.69  -0.29  -0.05   0.17   0.56   1014    1.0\n",
      "X[141,1]      -1.81  3.3e-3    0.1   -2.0  -1.87  -1.81  -1.74  -1.59    961    1.0\n",
      "X[142,1]      -0.87  9.0e-3   0.27  -1.22  -1.05  -0.93  -0.78  -0.07    915    1.0\n",
      "X[143,1]       0.82  8.4e-3   0.26   0.09   0.71   0.86   0.99   1.18    944    1.0\n",
      "X[144,1]       0.59    0.01    0.3  -0.12   0.43   0.64   0.81   1.05    852    1.0\n",
      "X[145,1]      -0.04    0.01   0.33  -0.62   -0.3  -0.06   0.21   0.58   1019    1.0\n",
      "X[146,1]     3.9e-4  9.9e-3   0.31  -0.57  -0.21 4.8e-3   0.21    0.6    976    1.0\n",
      "X[147,1]      -0.14    0.01   0.34  -0.72   -0.4  -0.18   0.14   0.52   1125    1.0\n",
      "X[148,1]      -0.48  8.5e-3   0.29  -0.93  -0.68  -0.54  -0.34   0.24   1196    1.0\n",
      "X[149,1]     4.5e-3  9.9e-3   0.31  -0.57  -0.24   0.01   0.23   0.62   1004    1.0\n",
      "X[150,1]       -0.3    0.01   0.32   -0.8  -0.53  -0.36  -0.08   0.38    956    1.0\n",
      "X[151,1]       1.61  3.5e-3   0.11   1.38   1.53   1.61   1.68   1.82   1009    1.0\n",
      "X[152,1]      -0.96  5.6e-3   0.17  -1.24  -1.08  -0.97  -0.87  -0.57    951    1.0\n",
      "X[153,1]       0.08    0.01   0.33  -0.52  -0.18   0.11   0.34   0.65    887    1.0\n",
      "X[154,1]    -6.4e-3  9.7e-3   0.31   -0.6  -0.23 6.8e-3   0.22   0.58   1010    1.0\n",
      "X[155,1]      -0.23  9.7e-3   0.32  -0.74  -0.46  -0.29 7.4e-3   0.42   1062    1.0\n",
      "X[156,1]       0.03  9.5e-3   0.32  -0.59   -0.2   0.03   0.26   0.65   1125    1.0\n",
      "X[157,1]       0.02    0.01   0.31  -0.57  -0.21 9.9e-3   0.25   0.64    951    1.0\n",
      "X[158,1]       0.86  7.6e-3   0.24   0.16   0.77    0.9   1.02   1.19   1001    1.0\n",
      "X[159,1]      -0.11    0.01   0.33  -0.68  -0.36  -0.14   0.14   0.52    916    1.0\n",
      "X[160,1]       0.24 10.0e-3   0.32  -0.38 7.4e-3   0.28   0.47   0.76   1001    1.0\n",
      "X[161,1]     1.2e-3    0.01   0.33  -0.63  -0.24 9.4e-3   0.24   0.62   1021    1.0\n",
      "X[162,1]      -1.62  3.5e-3   0.11  -1.81  -1.69  -1.62  -1.55  -1.39   1017    1.0\n",
      "X[163,1]       0.87  7.5e-3   0.24   0.18   0.77    0.9   1.02   1.21    998    1.0\n",
      "X[164,1]       1.13  7.0e-3   0.19    0.7   1.05   1.16   1.25    1.4    743    1.0\n",
      "X[165,1]       0.02  9.9e-3   0.31  -0.55  -0.23   0.02   0.25   0.59   1006    1.0\n",
      "X[166,1]       0.51  9.9e-3   0.31  -0.21   0.33   0.57   0.73   0.97    965    1.0\n",
      "X[167,1]       0.03    0.01   0.33  -0.56  -0.21   0.02   0.28   0.68   1052    1.0\n",
      "X[168,1]       0.11    0.01   0.33  -0.53  -0.14   0.13   0.36   0.69    988    1.0\n",
      "X[169,1]       0.02    0.01   0.32  -0.61   -0.2   0.02   0.24   0.63   1012    1.0\n",
      "X[170,1]      -0.43    0.01   0.32  -0.92  -0.66  -0.49  -0.23   0.26    867    1.0\n",
      "X[171,1]       0.33  9.8e-3   0.32  -0.37   0.11   0.37   0.56   0.85   1089    1.0\n",
      "X[172,1]    -4.3e-3  9.9e-3   0.32  -0.59  -0.25 8.3e-3   0.25   0.55   1028    1.0\n",
      "X[173,1]      -0.99  6.4e-3   0.19   -1.3  -1.12  -1.01   -0.9  -0.58    885    1.0\n",
      "X[174,1]      -1.12  5.4e-3   0.17  -1.39  -1.23  -1.14  -1.04  -0.77    964    1.0\n",
      "X[175,1]        0.3    0.01   0.32  -0.38   0.07   0.32   0.54   0.84    894    1.0\n",
      "X[176,1]     2.8e-3    0.01   0.31   -0.6  -0.22 9.7e-3   0.24   0.59    841    1.0\n",
      "X[177,1]     1.5e-3    0.01   0.32  -0.59  -0.24   0.01   0.24   0.56    864    1.0\n",
      "X[178,1]       0.07    0.01   0.33  -0.54  -0.19   0.09   0.33   0.64   1059    1.0\n",
      "X[179,1]       -1.1  4.4e-3   0.15  -1.35   -1.2  -1.11  -1.01  -0.77   1087    1.0\n",
      "X[180,1]       0.06    0.01   0.32  -0.55  -0.17   0.07   0.28   0.65    986    1.0\n",
      "X[181,1]      -2.26  2.5e-3   0.08  -2.42  -2.32  -2.26  -2.21   -2.1   1075    1.0\n",
      "X[182,1]       0.82  7.5e-3   0.25   0.08   0.72   0.85   0.97   1.19   1085    1.0\n",
      "X[183,1]      -0.96  6.1e-3   0.18  -1.25  -1.08  -0.98  -0.87  -0.56    898    1.0\n",
      "X[184,1]       0.27    0.01   0.31  -0.33   0.03    0.3    0.5   0.78    947    1.0\n",
      "X[185,1]       0.87  7.6e-3   0.22   0.18   0.78    0.9   1.01   1.18    854    1.0\n",
      "X[186,1]       0.88  8.4e-3   0.25   0.17   0.78   0.91   1.03   1.25    855    1.0\n",
      "X[187,1]       0.66  8.9e-3   0.28  -0.06   0.54    0.7   0.86   1.08    982    1.0\n",
      "X[188,1]       0.28    0.05   0.32  -0.48   0.29    0.4   0.47   0.59     51   1.02\n",
      "X[189,1]      -0.31  9.7e-3   0.32  -0.83  -0.55  -0.36  -0.12   0.37   1084    1.0\n",
      "X[190,1]      -1.46  3.6e-3   0.12  -1.67  -1.54  -1.46  -1.38   -1.2   1041    1.0\n",
      "X[191,1]       0.46 10.0e-3   0.33  -0.28   0.28   0.52   0.69    1.0   1070    1.0\n",
      "X[192,1]      -0.34  9.8e-3   0.31  -0.86  -0.57   -0.4  -0.15   0.32   1019    1.0\n",
      "X[193,1]       1.36  3.9e-3   0.12   1.12   1.29   1.37   1.44    1.6    994    1.0\n",
      "X[194,1]       0.03  9.5e-3   0.31  -0.53  -0.19   0.03   0.25   0.63   1067    1.0\n",
      "X[195,1]       1.55  3.8e-3   0.11   1.33   1.47   1.54   1.63   1.77    910    1.0\n",
      "X[196,1]        0.3    0.01   0.32  -0.34   0.08   0.33   0.53   0.83    918    1.0\n",
      "X[197,1]      -0.07  9.8e-3   0.32  -0.68   -0.3  -0.07   0.16   0.55   1062    1.0\n",
      "X[198,1]       1.48  3.2e-3    0.1   1.27   1.41   1.49   1.55   1.67   1088    1.0\n",
      "X[199,1]       0.09    0.01   0.33  -0.53  -0.13   0.08   0.32   0.72   1018    1.0\n",
      "X[200,1]       0.31  9.9e-3   0.31  -0.34    0.1   0.38   0.54   0.79    991    1.0\n",
      "X[201,1]      -0.31  9.4e-3   0.31  -0.78  -0.53  -0.37  -0.13   0.38   1104    1.0\n",
      "X[202,1]       0.31    0.01   0.34  -0.37   0.07   0.35   0.56   0.87   1012    1.0\n",
      "X[203,1]      -0.03    0.01   0.32   -0.6  -0.27  -0.03   0.22   0.58   1005    1.0\n",
      "X[204,1]       0.14    0.01   0.33  -0.47   -0.1   0.15   0.39   0.73    992    1.0\n",
      "X[205,1]      -1.16  5.4e-3   0.16  -1.43  -1.26  -1.17  -1.08  -0.85    888    1.0\n",
      "X[206,1]      -0.07  9.9e-3   0.32  -0.67  -0.31  -0.08   0.16   0.57   1046    1.0\n",
      "X[207,1]       1.84  2.9e-3   0.09   1.63   1.78   1.84    1.9   2.02   1019    1.0\n",
      "X[208,1]       0.47    0.01   0.31  -0.25   0.28   0.53   0.69   0.94    913    1.0\n",
      "X[209,1]       0.16    0.01   0.33  -0.45   -0.1   0.18   0.42   0.75    857    1.0\n",
      "X[210,1]       0.04    0.01   0.32   -0.6  -0.18   0.04   0.26   0.65    922    1.0\n",
      "X[211,1]       0.46    0.01   0.32  -0.24   0.25   0.52   0.69   0.95    989    1.0\n",
      "X[212,1]      -1.12  6.4e-3   0.18  -1.41  -1.23  -1.14  -1.03  -0.73    812    1.0\n",
      "X[213,1]      -0.91  7.3e-3   0.23  -1.24  -1.06  -0.94   -0.8  -0.24    983    1.0\n",
      "X[214,1]        1.7  3.6e-3    0.1   1.47   1.63    1.7   1.77   1.89    837    1.0\n",
      "X[215,1]       0.09  9.9e-3   0.32  -0.48  -0.14    0.1   0.33   0.66   1012    1.0\n",
      "X[216,1]       0.12    0.01   0.33  -0.53  -0.11   0.14   0.37   0.71    952    1.0\n",
      "X[217,1]       1.54  3.9e-3   0.11   1.33   1.47   1.54   1.62   1.76    802    1.0\n",
      "X[218,1]      -0.27    0.01   0.33  -0.81  -0.51  -0.31  -0.05    0.4    929    1.0\n",
      "X[219,1]      -0.07    0.01   0.31  -0.67  -0.28  -0.07   0.15    0.5    924   1.01\n",
      "X[220,1]      -1.12  6.1e-3   0.17   -1.4  -1.22  -1.13  -1.03  -0.78    744    1.0\n",
      "X[221,1]       0.03    0.01   0.31  -0.56  -0.19   0.04   0.25   0.59    929    1.0\n",
      "X[222,1]      -0.91  7.4e-3   0.22  -1.23  -1.05  -0.94  -0.82  -0.22    900    1.0\n",
      "X[223,1]      -1.09  3.4e-3    0.1  -1.29  -1.17  -1.09  -1.03  -0.87    968    1.0\n",
      "X[224,1]      -0.72  8.2e-3   0.24   -1.1  -0.88  -0.75  -0.62  -0.05    837    1.0\n",
      "X[225,1]      -0.71  9.5e-3    0.3  -1.15  -0.92  -0.77  -0.57   0.06   1014    1.0\n",
      "X[226,1]       0.55  8.9e-3    0.3  -0.15   0.38   0.61   0.76   1.01   1133    1.0\n",
      "X[227,1]       0.97  6.1e-3   0.21   0.47   0.88   0.99   1.09   1.27   1160    1.0\n",
      "X[228,1]       0.04    0.01   0.32  -0.56  -0.18   0.02   0.24   0.67    985    1.0\n",
      "X[229,1]      -0.37  9.7e-3   0.31  -0.86   -0.6  -0.42  -0.18   0.32   1048    1.0\n",
      "X[230,1]      -1.24  9.6e-3   0.17  -1.51  -1.34  -1.25  -1.16  -0.94    320    1.0\n",
      "X[231,1]      -0.04  9.8e-3   0.33  -0.62  -0.28  -0.05    0.2   0.57   1122    1.0\n",
      "X[232,1]       0.26    0.01   0.33  -0.41   0.02   0.28    0.5   0.83    778    1.0\n",
      "X[233,1]       0.72  7.9e-3   0.25   0.03   0.61   0.77   0.88   1.09   1040    1.0\n",
      "X[234,1]       0.06  9.8e-3   0.32  -0.58  -0.18   0.08   0.31   0.62   1070    1.0\n",
      "X[235,1]      -0.37    0.01   0.31  -0.86   -0.6   -0.4  -0.21   0.32    916    1.0\n",
      "X[236,1]      -0.89  7.9e-3   0.25  -1.24  -1.05  -0.94   -0.8  -0.11   1038    1.0\n",
      "X[237,1]      -1.81  3.8e-3   0.11   -2.0  -1.88  -1.82  -1.75  -1.57    811    1.0\n",
      "X[238,1]      -0.11    0.01   0.32  -0.68  -0.35  -0.13   0.12   0.53    967    1.0\n",
      "X[239,1]      -0.04    0.01   0.32  -0.69  -0.24  -0.04   0.18   0.58    954    1.0\n",
      "X[240,1]       1.19  7.0e-3   0.17   0.83   1.11   1.21    1.3   1.44    560    1.0\n",
      "X[241,1]       0.72  8.7e-3   0.26  -0.01   0.61   0.76   0.88   1.06    872    1.0\n",
      "X[242,1]       0.89  7.5e-3   0.22   0.29   0.79   0.93   1.04   1.21    880    1.0\n",
      "X[243,1]      -0.11    0.01   0.32  -0.71  -0.34  -0.11   0.12   0.49    944    1.0\n",
      "X[244,1]       1.35  3.6e-3    0.1   1.13   1.28   1.35   1.41   1.55    841    1.0\n",
      "X[245,1]       0.14    0.01   0.33  -0.47  -0.11   0.15   0.38   0.71    946    1.0\n",
      "X[246,1]      -1.53  3.6e-3   0.11  -1.72  -1.61  -1.53  -1.46   -1.3    919    1.0\n",
      "X[247,1]       -0.3    0.01   0.32  -0.85  -0.54  -0.33  -0.08   0.36    885    1.0\n",
      "X[248,1]        0.2  9.7e-3   0.32  -0.41  -0.04   0.23   0.45   0.71   1070    1.0\n",
      "X[249,1]    -7.8e-3    0.01   0.33  -0.58  -0.27  -0.02   0.23   0.61    865    1.0\n",
      "X[250,1]      -0.73  8.8e-3   0.25  -1.09  -0.89  -0.78  -0.62   0.01    814    1.0\n",
      "X[251,1]      -1.74  3.9e-3   0.12  -1.93  -1.82  -1.75  -1.67  -1.44    934    1.0\n",
      "X[252,1]      -0.04    0.01    0.3  -0.64  -0.24  -0.04   0.17   0.54    842    1.0\n",
      "X[253,1]      -0.74  8.1e-3   0.25  -1.11   -0.9  -0.77  -0.63  -0.07    911    1.0\n",
      "X[254,1]      -1.76  3.4e-3    0.1  -1.94  -1.83  -1.77   -1.7  -1.53    964    1.0\n",
      "X[255,1]      -1.23  4.3e-3   0.14  -1.48  -1.32  -1.24  -1.16  -0.92   1046    1.0\n",
      "X[256,1]       0.36    0.01   0.31  -0.29   0.16   0.42   0.58   0.84    734    1.0\n",
      "X[257,1]       0.14    0.01   0.32  -0.48  -0.11   0.17   0.39   0.71   1042    1.0\n",
      "X[258,1]    -9.4e-3    0.01   0.32  -0.66  -0.22 9.8e-4   0.21   0.62   1033   1.01\n",
      "X[259,1]       1.48  3.6e-3   0.12   1.24    1.4   1.48   1.56   1.69   1016    1.0\n",
      "X[260,1]       0.32 10.0e-3   0.31  -0.36   0.12   0.37   0.55   0.83    993    1.0\n",
      "X[261,1]       -0.7  8.0e-3   0.23  -1.06  -0.85  -0.72   -0.6  -0.08    863    1.0\n",
      "X[262,1]       0.73  9.0e-3   0.27  -0.03   0.62   0.78   0.92   1.14    932    1.0\n",
      "X[263,1]      -1.07  5.6e-3   0.16  -1.33  -1.17  -1.09  -0.99  -0.72    870    1.0\n",
      "X[264,1]      -0.35  9.6e-3   0.32  -0.88  -0.58  -0.41  -0.17    0.3   1069    1.0\n",
      "X[265,1]       0.99  6.9e-3    0.2   0.59    0.9   1.02   1.12    1.3    876    1.0\n",
      "X[266,1]       0.89  3.3e-3    0.1   0.68   0.83    0.9   0.96   1.07    864   1.01\n",
      "X[267,1]      -0.07    0.01   0.32  -0.65  -0.33  -0.09   0.17   0.52    866    1.0\n",
      "X[268,1]       1.56  3.6e-3   0.11   1.34   1.48   1.56   1.63   1.77    952    1.0\n",
      "X[269,1]      -0.02    0.01   0.32   -0.6  -0.27  -0.03   0.22   0.57    919    1.0\n",
      "X[270,1]      -1.72  3.0e-3   0.09  -1.89  -1.79  -1.73  -1.67  -1.53    985    1.0\n",
      "X[271,1]       1.37  4.1e-3   0.13   1.12   1.29   1.37   1.45   1.61    925    1.0\n",
      "X[272,1]        0.2    0.01   0.33  -0.41  -0.04   0.22   0.46   0.78   1033    1.0\n",
      "X[273,1]       1.17  3.9e-3   0.13   0.89   1.09   1.18   1.27   1.41   1131    1.0\n",
      "X[274,1]       0.05    0.01   0.32   -0.5  -0.19   0.04   0.29   0.64    926    1.0\n",
      "X[275,1]      -0.07  9.9e-3   0.31  -0.67  -0.29  -0.07   0.15   0.55   1001    1.0\n",
      "X[276,1]       0.89  6.6e-3   0.21   0.34    0.8   0.92   1.03   1.21   1019    1.0\n",
      "X[277,1]      -0.02  9.5e-3   0.31  -0.59  -0.24  -0.02   0.21   0.56   1045    1.0\n",
      "X[278,1]       -0.1    0.01   0.32  -0.65  -0.35  -0.13   0.18   0.51   1034    1.0\n",
      "X[279,1]       0.72  8.5e-3   0.25   0.05   0.62   0.75   0.88   1.07    858    1.0\n",
      "X[280,1]       0.54  9.5e-3   0.29  -0.14   0.37    0.6   0.75   0.97    934    1.0\n",
      "X[281,1]      -1.38  4.1e-3   0.13  -1.61  -1.47  -1.38   -1.3   -1.1   1016    1.0\n",
      "X[282,1]      -0.22  9.6e-3   0.32  -0.73  -0.46  -0.27-1.5e-3   0.46   1101    1.0\n",
      "X[283,1]       0.13    0.01   0.33  -0.49  -0.11   0.15   0.37   0.73   1001    1.0\n",
      "X[284,1]      -0.61  8.9e-3   0.28  -1.03   -0.8  -0.66  -0.48   0.08    970    1.0\n",
      "X[285,1]      -1.59  3.5e-3   0.11  -1.78  -1.66  -1.59  -1.52  -1.36    951    1.0\n",
      "X[286,1]       0.05  9.9e-3   0.32  -0.56  -0.19   0.06   0.29   0.64   1066    1.0\n",
      "X[287,1]       -0.1  9.5e-3   0.32  -0.71  -0.33   -0.1   0.12   0.51   1115    1.0\n",
      "X[288,1]       0.33  9.4e-3   0.32  -0.37   0.13   0.38   0.56   0.83   1117    1.0\n",
      "X[289,1]       0.44    0.01   0.31  -0.26   0.26    0.5   0.67   0.93    942    1.0\n",
      "X[290,1]       0.35  9.7e-3   0.31  -0.29   0.15    0.4   0.59   0.86   1027    1.0\n",
      "X[291,1]       0.35    0.01   0.31  -0.31   0.14   0.41   0.58   0.85    943    1.0\n",
      "X[292,1]    -6.1e-3    0.01   0.32   -0.6  -0.24  -0.01   0.22    0.6    805    1.0\n",
      "X[293,1]       -0.8  6.6e-3   0.21  -1.12  -0.93  -0.83  -0.71  -0.24   1019    1.0\n",
      "X[294,1]      -1.56  3.6e-3   0.12  -1.78  -1.64  -1.56  -1.48  -1.32   1085    1.0\n",
      "X[295,1]       0.08    0.01   0.32  -0.52  -0.16   0.07   0.31   0.64    893    1.0\n",
      "X[296,1]      -0.55  9.4e-3   0.28  -0.99  -0.75   -0.6  -0.41   0.13    915    1.0\n",
      "X[297,1]       1.45  4.0e-3   0.12   1.21   1.38   1.46   1.53   1.68    864    1.0\n",
      "X[298,1]       2.31  3.8e-3   0.12   2.11   2.23    2.3   2.37   2.61   1026    1.0\n",
      "X[299,1]      -1.07  7.1e-3   0.19  -1.33  -1.19   -1.1   -1.0  -0.64    745    1.0\n",
      "X[300,1]      -0.79  7.7e-3   0.25  -1.16  -0.95  -0.83  -0.69  -0.07   1010    1.0\n",
      "error_sigma2   1.37  2.2e-3   0.06   1.25   1.33   1.36   1.41   1.49    764    1.0\n",
      "prior_sigma2   0.86  1.2e-3   0.04   0.79   0.84   0.86   0.89   0.94    993    1.0\n",
      "lp__         -596.5    0.73  19.09 -633.6 -608.9 -596.7 -583.8 -559.9    682    1.0\n",
      "\n",
      "Samples were drawn using NUTS at Wed Jul 24 15:22:03 2019.\n",
      "For each parameter, n_eff is a crude measure of effective sample size,\n",
      "and Rhat is the potential scale reduction factor on split chains (at \n",
      "convergence, Rhat=1).\n"
     ]
    }
   ],
   "source": [
    "control = dict(adapt_delta=0.9, max_treedepth=12)\n",
    "fit = sm.sampling(data=data, thin=5, n_jobs=1, init=\"random\", iter=10_000, control=control, chains=1)\n",
    "print(fit);"
   ]
  },
  {
   "cell_type": "code",
   "execution_count": 10,
   "metadata": {},
   "outputs": [
    {
     "data": {
      "text/plain": [
       "[OrderedDict([('accept_stat__',\n",
       "               array([1.        , 1.        , 0.86411742, ..., 0.84440332, 0.91651767,\n",
       "                      0.95093368])),\n",
       "              ('stepsize__',\n",
       "               array([0.015625  , 0.0057934 , 0.01777241, ..., 0.17979536, 0.17979536,\n",
       "                      0.17979536])),\n",
       "              ('treedepth__', array([3., 9., 7., ..., 5., 4., 4.])),\n",
       "              ('n_leapfrog__',\n",
       "               array([  7., 511., 127., ...,  31.,  15.,  31.])),\n",
       "              ('divergent__', array([0., 0., 0., ..., 0., 0., 0.])),\n",
       "              ('energy__',\n",
       "               array([3587.84882198, 1551.92673822,  982.35799606, ...,  775.35163883,\n",
       "                       715.13134518,  735.81734793]))])]"
      ]
     },
     "execution_count": 10,
     "metadata": {},
     "output_type": "execute_result"
    }
   ],
   "source": [
    "(fit.get_sampler_params())"
   ]
  },
  {
   "cell_type": "markdown",
   "metadata": {},
   "source": [
    "#### Plot final:"
   ]
  },
  {
   "cell_type": "code",
   "execution_count": 11,
   "metadata": {},
   "outputs": [
    {
     "data": {
      "text/plain": [
       "<matplotlib.legend.Legend at 0x7ff03c8b6518>"
      ]
     },
     "execution_count": 11,
     "metadata": {},
     "output_type": "execute_result"
    },
    {
     "data": {
      "image/png": "[encoded data removed]",
      "text/plain": [
       "<Figure size 432x288 with 1 Axes>"
      ]
     },
     "metadata": {},
     "output_type": "display_data"
    }
   ],
   "source": [
    "trace = fit.extract()\n",
    "y_pred = np.matmul(np.tanh(trace['X'][-1]*weights_1.transpose() + bias_1), weights_2.transpose()) + bias_2\n",
    "plt.plot(list(Y[:,0]), list(Y[:,1]), 'o', markersize=2, label=\"true values\")\n",
    "plt.plot(y_pred[:,0],y_pred[:,1], 'o', markersize=2, label=\"final predicted\")\n",
    "plt.grid(True)\n",
    "plt.legend(ncol=2)"
   ]
  },
  {
   "cell_type": "code",
   "execution_count": 12,
   "metadata": {},
   "outputs": [
    {
     "data": {
      "image/png": "[encoded data removed]",
      "text/plain": [
       "<Figure size 1080x216 with 1 Axes>"
      ]
     },
     "metadata": {},
     "output_type": "display_data"
    }
   ],
   "source": [
    "iact_x = [gewer_estimate_IAT(trace['X'][:,i,0]) for i in range(np.shape(trace['X'])[-2])]\n",
    "plt.figure(figsize=(15,3))\n",
    "plt.plot(iact_x, 'o', markersize=4)\n",
    "plt.grid(True)\n",
    "plt.title(\"IACTs of latent X\");"
   ]
  },
  {
   "cell_type": "markdown",
   "metadata": {},
   "source": [
    "### Predictive distribution:"
   ]
  },
  {
   "cell_type": "code",
   "execution_count": 32,
   "metadata": {},
   "outputs": [
    {
     "data": {
      "text/plain": [
       "<matplotlib.legend.Legend at 0x7ff03c9a8cf8>"
      ]
     },
     "execution_count": 32,
     "metadata": {},
     "output_type": "execute_result"
    },
    {
     "data": {
      "image/png": "[encoded data removed]",
      "text/plain": [
       "<Figure size 432x288 with 1 Axes>"
      ]
     },
     "metadata": {},
     "output_type": "display_data"
    }
   ],
   "source": [
    "Ntest = 1_000\n",
    "X_test = npr.randn(Ntest, n_in)\n",
    "y_test = np.matmul(np.tanh(X_test*(weights_1.transpose())+bias_1),weights_2.transpose()) + bias_2\n",
    "plt.plot(list(Y[:,0]), list(Y[:,1]), 'o', markersize=2, label=\"true values\")\n",
    "plt.plot(y_test[:,0],y_test[:,1], 'ro', markersize=2, label=\"test\")\n",
    "plt.grid(True)\n",
    "plt.legend(ncol=2)"
   ]
  },
  {
   "cell_type": "code",
   "execution_count": null,
   "metadata": {
    "collapsed": true
   },
   "outputs": [],
   "source": []
  }
 ],
 "metadata": {
  "kernelspec": {
   "display_name": "Python 3",
   "language": "python",
   "name": "python3"
  },
  "language_info": {
   "codemirror_mode": {
    "name": "ipython",
    "version": 3
   },
   "file_extension": ".py",
   "mimetype": "text/x-python",
   "name": "python",
   "nbconvert_exporter": "python",
   "pygments_lexer": "ipython3",
   "version": "3.6.2"
  }
 },
 "nbformat": 4,
 "nbformat_minor": 2
}

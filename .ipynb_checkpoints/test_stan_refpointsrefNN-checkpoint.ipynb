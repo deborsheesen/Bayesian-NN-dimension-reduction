{
 "cells": [
  {
   "cell_type": "code",
   "execution_count": 1,
   "metadata": {
    "collapsed": true
   },
   "outputs": [],
   "source": [
    "import numpy as np, numpy.random as npr, torch.nn as nn, timeit, torch, pystan as ps, arviz\n",
    "from time import time\n",
    "import matplotlib.pyplot as plt\n",
    "%matplotlib inline\n",
    "from pylab import plot, show, legend\n",
    "from tqdm import trange\n",
    "from scipy.stats import gaussian_kde\n",
    "from samplers import *"
   ]
  },
  {
   "cell_type": "markdown",
   "metadata": {},
   "source": [
    "#### Generate data:"
   ]
  },
  {
   "cell_type": "code",
   "execution_count": 2,
   "metadata": {
    "collapsed": true
   },
   "outputs": [],
   "source": [
    "n_in = 1\n",
    "n_out = 2"
   ]
  },
  {
   "cell_type": "code",
   "execution_count": 4,
   "metadata": {},
   "outputs": [
    {
     "data": {
      "image/png": "[encoded data removed]",
      "text/plain": [
       "<Figure size 432x288 with 1 Axes>"
      ]
     },
     "metadata": {},
     "output_type": "display_data"
    }
   ],
   "source": [
    "error_sigma2 = 0.05\n",
    "dd = np.load(\"model1.npy\")\n",
    "X, Y = dd.item()['X'], dd.item()['Y']\n",
    "X.requires_grad = True\n",
    "plt.plot(list(Y[:,0]), list(Y[:,1]), 'o', markersize=2)\n",
    "plt.grid(True)\n",
    "plt.title(\"True y\")\n",
    "criterion = nn.MSELoss()\n",
    "Nobs = np.shape(X)[0]"
   ]
  },
  {
   "cell_type": "markdown",
   "metadata": {
    "collapsed": true
   },
   "source": [
    "### Testing GP prior for latent $X$:\n",
    "\n",
    "#### Compile Stan function:"
   ]
  },
  {
   "cell_type": "code",
   "execution_count": 27,
   "metadata": {},
   "outputs": [
    {
     "name": "stderr",
     "output_type": "stream",
     "text": [
      "INFO:pystan:COMPILING THE C++ CODE FOR MODEL anon_model_32c4881df1a454afbdf5d861395de0e0 NOW.\n"
     ]
    }
   ],
   "source": [
    "sm = ps.StanModel(file=\"nn_refpointsrefNN.stan\")"
   ]
  },
  {
   "cell_type": "markdown",
   "metadata": {},
   "source": [
    "#### Run optimisation for NN:"
   ]
  },
  {
   "cell_type": "code",
   "execution_count": 7,
   "metadata": {
    "collapsed": true
   },
   "outputs": [],
   "source": [
    "n_h1 = 50\n",
    "model = nn.Sequential(nn.Linear(n_in, n_h1), nn.Tanh(), nn.Linear(n_h1, n_out))\n",
    "def init_normal(m) :\n",
    "    if type(m) == nn.Linear :\n",
    "        nn.init.normal_(m.weight)"
   ]
  },
  {
   "cell_type": "code",
   "execution_count": 8,
   "metadata": {},
   "outputs": [
    {
     "name": "stdout",
     "output_type": "stream",
     "text": [
      "Epoch: 5000; loss: 0.394; time: 0.1 mins\n",
      "Epoch: 10000; loss: 0.196; time: 0.1 mins\n",
      "Epoch: 15000; loss: 0.125; time: 0.2 mins\n",
      "Epoch: 20000; loss: 0.091; time: 0.2 mins\n",
      "Epoch: 25000; loss: 0.074; time: 0.3 mins\n",
      "Epoch: 30000; loss: 0.064; time: 0.4 mins\n",
      "Epoch: 35000; loss: 0.059; time: 0.4 mins\n",
      "Epoch: 40000; loss: 0.056; time: 0.5 mins\n",
      "Epoch: 45000; loss: 0.054; time: 0.5 mins\n",
      "Epoch: 50000; loss: 0.052; time: 0.6 mins\n"
     ]
    }
   ],
   "source": [
    "model.apply(init_normal)\n",
    "criterion = nn.MSELoss()\n",
    "optimizer = torch.optim.SGD(model.parameters(), lr=1e-3, momentum=0.9, nesterov=True)\n",
    "n_iter = 50_000\n",
    "start = time()\n",
    "for epoch in range(n_iter):\n",
    "    y_pred = model(X)\n",
    "    loss = criterion(y_pred, Y)\n",
    "    if (epoch+1)%(n_iter/10) == 0 :\n",
    "        print(\"Epoch: %d; loss: %.3f; time: %.1f mins\" % (epoch+1, loss.item(), (time()-start)/60))\n",
    "    optimizer.zero_grad()\n",
    "    loss.backward()\n",
    "    optimizer.step()"
   ]
  },
  {
   "cell_type": "code",
   "execution_count": 9,
   "metadata": {
    "collapsed": true
   },
   "outputs": [],
   "source": [
    "pm = []\n",
    "for name, param in model.named_parameters():\n",
    "    if param.requires_grad:\n",
    "        pm.append(param.data.numpy())\n",
    "weights_1, bias_1, weights_2, bias_2 = pm"
   ]
  },
  {
   "cell_type": "code",
   "execution_count": 10,
   "metadata": {
    "collapsed": true
   },
   "outputs": [],
   "source": [
    "n_ref_w1, n_ref_b1, n_ref_w2 = 10, 10, 10;"
   ]
  },
  {
   "cell_type": "code",
   "execution_count": 16,
   "metadata": {},
   "outputs": [
    {
     "data": {
      "text/plain": [
       "<matplotlib.legend.Legend at 0x7fbce674e630>"
      ]
     },
     "execution_count": 16,
     "metadata": {},
     "output_type": "execute_result"
    },
    {
     "data": {
      "image/png": "[encoded data removed]",
      "text/plain": [
       "<Figure size 432x288 with 1 Axes>"
      ]
     },
     "metadata": {},
     "output_type": "display_data"
    }
   ],
   "source": [
    "n_ref = 100\n",
    "ref = npr.choice(Nobs,n_ref,replace=False)\n",
    "train = np.setdiff1d(np.arange(Nobs), ref)\n",
    "y_ref = Y[ref]\n",
    "X_ref = X[ref].detach().numpy()\n",
    "plt.plot(list(Y[train,0]), list(Y[train,1]), 'bo', markersize=2, label=\"training points\")\n",
    "plt.plot(list(Y[ref,0]), list(Y[ref,1]), 'ro', markersize=3, label=\"reference points\")\n",
    "plt.grid(True)\n",
    "plt.title(\"True y\")\n",
    "plt.legend(ncol=2)"
   ]
  },
  {
   "cell_type": "code",
   "execution_count": 21,
   "metadata": {},
   "outputs": [],
   "source": [
    "data = dict(Nobs=Nobs, in_dim=n_in, out_dim=n_out, hidden_dim_1=n_h1,\n",
    "            n_ref=n_ref, n_ref_w1=n_ref_w1, n_ref_b1=n_ref_b1, n_ref_w2=n_ref_w2,\n",
    "            weights_1_ref=weights_1[:n_ref_w1].transpose(),\n",
    "            bias_1_ref=bias_1[:n_ref_b1],\n",
    "            weights_2_ref=weights_2[:,:n_ref_w2].transpose(),\n",
    "            y=Y[train].detach().numpy(), y_ref=y_ref, X_ref=X_ref)"
   ]
  },
  {
   "cell_type": "code",
   "execution_count": null,
   "metadata": {
    "collapsed": true
   },
   "outputs": [],
   "source": []
  },
  {
   "cell_type": "code",
   "execution_count": null,
   "metadata": {
    "collapsed": true
   },
   "outputs": [],
   "source": []
  },
  {
   "cell_type": "markdown",
   "metadata": {},
   "source": [
    "#### Run sampling algorithm:"
   ]
  },
  {
   "cell_type": "code",
   "execution_count": 28,
   "metadata": {},
   "outputs": [
    {
     "name": "stderr",
     "output_type": "stream",
     "text": [
      "WARNING:pystan:n_eff / iter below 0.001 indicates that the effective sample size has likely been overestimated\n",
      "WARNING:pystan:Rhat above 1.1 or below 0.9 indicates that the chains very likely have not mixed\n",
      "WARNING:pystan:16 of 1000 iterations ended with a divergence (1.6 %).\n",
      "WARNING:pystan:Try running with adapt_delta larger than 0.9 to remove the divergences.\n",
      "WARNING:pystan:984 of 1000 iterations saturated the maximum tree depth of 12 (98.4 %)\n",
      "WARNING:pystan:Run again with max_treedepth larger than 12 to avoid saturation\n"
     ]
    },
    {
     "name": "stdout",
     "output_type": "stream",
     "text": [
      "Inference for Stan model: anon_model_32c4881df1a454afbdf5d861395de0e0.\n",
      "1 chains, each with iter=2000; warmup=1000; thin=1; \n",
      "post-warmup draws per chain=1000, total post-warmup draws=1000.\n",
      "\n",
      "                  mean se_mean     sd   2.5%    25%    50%    75%  97.5%  n_eff   Rhat\n",
      "X[1,1]           -1.36  3.1e-3   0.01  -1.38  -1.37  -1.36  -1.36  -1.34     11   1.36\n",
      "X[2,1]            0.13    0.03   0.12  -0.19   0.11   0.16   0.21   0.28     19    1.0\n",
      "X[3,1]            1.76  4.2e-3   0.02   1.73   1.75   1.76   1.77    1.8     20    1.0\n",
      "X[4,1]             0.4    0.01   0.05   0.29   0.37    0.4   0.43   0.48     15   1.02\n",
      "X[5,1]           -0.91  8.1e-3   0.03  -0.97  -0.93   -0.9  -0.88  -0.84     16    1.0\n",
      "X[6,1]           -2.67    0.01   0.03  -2.74   -2.7  -2.67  -2.65  -2.61      7   1.14\n",
      "X[7,1]           -1.28  3.1e-3   0.01   -1.3  -1.29  -1.28  -1.27  -1.25     23   1.08\n",
      "X[8,1]            0.82    0.01   0.03   0.75   0.81   0.83   0.84   0.85      6    1.3\n",
      "X[9,1]             0.4  5.4e-3   0.04   0.32   0.37    0.4   0.43   0.46     49   1.01\n",
      "X[10,1]           -0.3    0.01   0.06  -0.42  -0.35  -0.31  -0.27  -0.17     23    1.0\n",
      "X[11,1]           0.94  2.9e-3   0.01   0.92   0.93   0.94   0.95   0.97     23    1.0\n",
      "X[12,1]           -2.5  7.8e-3   0.03  -2.56  -2.52   -2.5  -2.48  -2.45     14   1.07\n",
      "X[13,1]           1.75  8.3e-3   0.02   1.71   1.73   1.74   1.76   1.78      5   1.11\n",
      "X[14,1]          -0.52    0.01   0.04  -0.59  -0.55  -0.52  -0.49  -0.43     16   1.21\n",
      "X[15,1]           -1.7  3.7e-3   0.02  -1.74  -1.72   -1.7  -1.69  -1.67     28   1.12\n",
      "X[16,1]           0.78  3.9e-3   0.02   0.75   0.77   0.78   0.79   0.82     25    1.0\n",
      "X[17,1]           3.02    0.05   0.11   2.82   2.94    3.0   3.09   3.24      5   1.71\n",
      "X[18,1]          -0.32    0.01   0.05  -0.42  -0.36  -0.32  -0.29  -0.21     12   1.02\n",
      "X[19,1]           0.28    0.01   0.06   0.17   0.25   0.29   0.33   0.38     30   1.02\n",
      "X[20,1]           -0.6  7.3e-3   0.04  -0.67  -0.62  -0.59  -0.57  -0.51     31    1.0\n",
      "X[21,1]          -0.38    0.01   0.05   -0.5  -0.41  -0.38  -0.35  -0.28     21   1.02\n",
      "X[22,1]          -2.53    0.01   0.04   -2.6  -2.56  -2.53   -2.5  -2.45     14   1.09\n",
      "X[23,1]           0.77  5.0e-3   0.02   0.74   0.76   0.77   0.79   0.82     19   1.03\n",
      "X[24,1]           -0.8  6.3e-3   0.03  -0.86  -0.83   -0.8  -0.78  -0.72     30   1.01\n",
      "X[25,1]            1.4  4.6e-3   0.02   1.36   1.38   1.39   1.41   1.44     21   1.02\n",
      "X[26,1]           0.16    0.02   0.08 7.7e-3   0.11   0.16    0.2   0.31     16   1.07\n",
      "X[27,1]           0.47  8.7e-3   0.04   0.39   0.44   0.47    0.5   0.53     19    1.0\n",
      "X[28,1]            1.4  6.3e-3   0.03   1.35   1.38    1.4   1.42   1.46     18    1.0\n",
      "X[29,1]           0.77    0.02   0.03   0.72   0.73   0.78    0.8   0.82      3   2.35\n",
      "X[30,1]            0.1    0.02   0.09  -0.12   0.04   0.11   0.17   0.26     29   1.01\n",
      "X[31,1]          -0.88  6.3e-3   0.03  -0.95   -0.9  -0.88  -0.86  -0.83     23   1.01\n",
      "X[32,1]          -0.38    0.01   0.06  -0.49  -0.42  -0.37  -0.34  -0.26     17   1.06\n",
      "X[33,1]          -0.66  7.9e-3   0.03  -0.73  -0.68  -0.66  -0.63   -0.6     18   1.02\n",
      "X[34,1]          -2.53    0.01   0.04  -2.61  -2.56  -2.53  -2.51  -2.45      9    1.1\n",
      "X[35,1]           -0.7  7.7e-3   0.03  -0.76  -0.72   -0.7  -0.68  -0.65     14   1.05\n",
      "X[36,1]            3.2    0.03   0.15   2.97   3.09   3.18   3.29   3.58     24   1.13\n",
      "X[37,1]          -0.85  7.9e-3   0.03  -0.93  -0.88  -0.85  -0.83   -0.8     16    1.0\n",
      "X[38,1]          -0.03    0.02   0.07  -0.15  -0.09  -0.04   0.02   0.13     18   1.01\n",
      "X[39,1]          -1.17  4.4e-3   0.02  -1.22  -1.19  -1.17  -1.15  -1.13     27   1.01\n",
      "X[40,1]          -0.22    0.01   0.05  -0.31  -0.26  -0.23  -0.18   -0.1     18    1.1\n",
      "X[41,1]          -1.43  8.3e-3   0.03  -1.49  -1.45  -1.43  -1.41  -1.38     11   1.11\n",
      "X[42,1]          -0.07    0.02   0.09  -0.22  -0.13  -0.08-7.4e-3   0.13     37   1.02\n",
      "X[43,1]           -1.4  3.9e-3   0.02  -1.43  -1.41   -1.4  -1.39  -1.37     15   1.01\n",
      "X[44,1]           0.65  3.4e-3   0.01   0.63   0.64   0.65   0.66   0.68     12   1.05\n",
      "X[45,1]          -0.29    0.01   0.05  -0.37  -0.32  -0.29  -0.25  -0.18     11   1.24\n",
      "X[46,1]           1.72  4.9e-3   0.02   1.68   1.71   1.72   1.74   1.76     17   1.02\n",
      "X[47,1]           2.54    0.04   0.08   2.37   2.48   2.56   2.61   2.66      3   2.13\n",
      "X[48,1]          -0.07    0.03   0.09  -0.23  -0.13  -0.08-6.9e-3   0.13      9   1.16\n",
      "X[49,1]           0.79  7.5e-3   0.03   0.74   0.76   0.79   0.81   0.83     14   1.04\n",
      "X[50,1]           0.42  9.1e-3   0.04   0.33   0.38   0.42   0.45   0.49     22   1.02\n",
      "X[51,1]          -0.08    0.02    0.1  -0.23  -0.16  -0.11  -0.02   0.16     28   1.12\n",
      "X[52,1]           0.72  3.1e-3 7.1e-3    0.7   0.71   0.72   0.72   0.73      5   1.44\n",
      "X[53,1]           1.14  4.9e-3   0.03   1.08   1.12   1.14   1.15   1.19     30    1.0\n",
      "X[54,1]           0.12    0.04   0.13  -0.15   0.04   0.13    0.2   0.32     11   1.03\n",
      "X[55,1]          -3.57    0.08   0.27  -4.06  -3.77  -3.55  -3.38  -3.13     12   1.05\n",
      "X[56,1]           -0.5    0.02   0.06  -0.63  -0.54  -0.51  -0.46   -0.4     14   1.27\n",
      "X[57,1]          -2.84  9.3e-3   0.04  -2.92  -2.87  -2.84  -2.81  -2.75     21   1.04\n",
      "X[58,1]          -0.36    0.01   0.06  -0.49  -0.39  -0.35  -0.32  -0.26     24   1.02\n",
      "X[59,1]          -0.31  8.7e-3   0.05   -0.4  -0.34   -0.3  -0.28  -0.21     30    1.0\n",
      "X[60,1]           0.27    0.02   0.06   0.14   0.23   0.28   0.31   0.36     12   1.21\n",
      "X[61,1]            1.2  4.0e-3   0.02   1.16   1.18    1.2   1.21   1.24     29   1.01\n",
      "X[62,1]           0.36    0.01   0.04   0.25   0.33   0.36   0.39   0.43     16    1.0\n",
      "X[63,1]           2.12  3.2e-3   0.02   2.09   2.11   2.12   2.13   2.16     31    1.0\n",
      "X[64,1]          -0.94  7.4e-3   0.03   -1.0  -0.96  -0.94  -0.92   -0.9     15    1.0\n",
      "X[65,1]            0.5  5.5e-3   0.03   0.45   0.48    0.5   0.52   0.56     24   1.01\n",
      "X[66,1]          -0.07    0.11   0.19  -0.28  -0.23  -0.17   0.15   0.27      3   1.78\n",
      "X[67,1]          -0.36  8.2e-3   0.05  -0.45  -0.39  -0.36  -0.33  -0.25     37    1.0\n",
      "X[68,1]          -0.62    0.01   0.04  -0.69  -0.65  -0.62  -0.59  -0.53     15   1.02\n",
      "X[69,1]          -0.87    0.01   0.04  -0.95  -0.89  -0.86  -0.84   -0.8     11   1.03\n",
      "X[70,1]           0.05    0.02    0.1  -0.16  -0.01   0.07   0.13   0.25     27   1.04\n",
      "X[71,1]           -2.6    0.01   0.04  -2.67  -2.63   -2.6  -2.58  -2.54      8   1.18\n",
      "X[72,1]          -0.42  7.8e-3   0.04   -0.5  -0.44  -0.42  -0.39  -0.33     28   1.01\n",
      "X[73,1]          -0.28  4.4e-3   0.06  -0.38  -0.32  -0.29  -0.25  -0.17    160   1.01\n",
      "X[74,1]          -0.79  7.9e-3   0.03  -0.87  -0.81  -0.79  -0.77  -0.73     19   1.03\n",
      "X[75,1]           -0.2    0.01   0.07  -0.32  -0.25   -0.2  -0.16  -0.04     28    1.2\n",
      "X[76,1]           0.08    0.04   0.15  -0.24 5.6e-3   0.13   0.18   0.27     12    1.0\n",
      "X[77,1]           0.43  9.0e-3   0.04   0.35    0.4   0.43   0.46    0.5     20   1.02\n",
      "X[78,1]          -0.58  9.5e-3   0.04  -0.65  -0.61  -0.58  -0.55  -0.48     21   1.04\n",
      "X[79,1]           2.53    0.04   0.08   2.36   2.47   2.55   2.59   2.64      3    2.2\n",
      "X[80,1]           1.05  3.5e-3   0.02    1.0   1.03   1.05   1.06   1.09     48   1.04\n",
      "X[81,1]          -1.19  5.6e-3   0.02  -1.23  -1.21   -1.2  -1.18  -1.15     14   1.02\n",
      "X[82,1]           0.23  4.1e-3   0.05   0.11   0.19   0.23   0.27   0.33    182   1.03\n",
      "X[83,1]          -0.79  7.2e-3   0.03  -0.85  -0.82  -0.79  -0.76  -0.73     22    1.0\n",
      "X[84,1]          -1.08    0.01   0.03  -1.14   -1.1  -1.08  -1.06  -1.01      9   1.25\n",
      "X[85,1]           0.41  8.4e-3   0.04   0.31   0.38   0.42   0.44   0.48     25    1.0\n",
      "X[86,1]          -0.55    0.01   0.04  -0.63  -0.57  -0.55  -0.53  -0.48     13   1.27\n",
      "X[87,1]           2.91    0.04   0.09   2.72   2.85    2.9   2.98    3.1      5   1.85\n",
      "X[88,1]           0.36    0.01   0.05   0.24   0.33   0.36    0.4   0.44     18   1.16\n",
      "X[89,1]          -2.77  9.3e-3   0.04  -2.83  -2.79  -2.77  -2.75  -2.69     15   1.06\n",
      "X[90,1]            2.7    0.05   0.11   2.51   2.62    2.7   2.78   2.93      6   1.36\n",
      "X[91,1]          -0.36  9.6e-3   0.05  -0.44  -0.39  -0.36  -0.33  -0.24     24    1.0\n",
      "X[92,1]           -0.8  6.0e-3   0.03  -0.86  -0.82   -0.8  -0.78  -0.74     26   1.02\n",
      "X[93,1]          -0.04    0.03    0.1   -0.2  -0.12  -0.04   0.05   0.15     14   1.21\n",
      "X[94,1]           2.58    0.04   0.08   2.43   2.53    2.6   2.64   2.71      3    2.1\n",
      "X[95,1]           0.85  1.1e-3 5.7e-3   0.84   0.85   0.85   0.86   0.86     29   1.08\n",
      "X[96,1]          -0.06    0.04   0.13  -0.24  -0.17   -0.1   0.04   0.21     10   1.04\n",
      "X[97,1]          -0.38    0.01   0.05  -0.45  -0.41  -0.38  -0.34  -0.28     20   1.02\n",
      "X[98,1]         1.2e-3    0.03   0.11  -0.19  -0.09-2.2e-3   0.09    0.2     10    1.0\n",
      "X[99,1]           -0.5    0.02   0.05  -0.59  -0.54   -0.5  -0.46  -0.42      9   1.13\n",
      "X[100,1]          0.28    0.02   0.05   0.19   0.24   0.28   0.32   0.38     11   1.44\n",
      "X[101,1]         -0.02    0.04   0.14  -0.25  -0.13  -0.03   0.11   0.21     12   1.36\n",
      "X[102,1]          0.04    0.04   0.13  -0.19  -0.08   0.08   0.15   0.25     13    1.0\n",
      "X[103,1]           1.0  6.9e-3   0.03   0.95   0.97   0.99   1.02   1.05     17   1.07\n",
      "X[104,1]         -0.35  6.9e-3   0.04  -0.42  -0.38  -0.35  -0.32  -0.28     32   1.01\n",
      "X[105,1]         -0.11    0.08   0.18   -0.3  -0.24  -0.19  -0.03   0.25      5   1.29\n",
      "X[106,1]          1.22  4.6e-3   0.02   1.17    1.2   1.22   1.23   1.26     26   1.05\n",
      "X[107,1]          0.73  3.1e-3 9.9e-3   0.72   0.73   0.73   0.74   0.76     10   1.02\n",
      "X[108,1]         -0.01    0.03   0.11  -0.19   -0.1  -0.02   0.06   0.21     18   1.02\n",
      "X[109,1]          0.23    0.03   0.09   0.05   0.16   0.22   0.31    0.4     11    1.1\n",
      "X[110,1]        4.2e-3    0.01   0.07  -0.13  -0.05 2.4e-3   0.06   0.14     31    1.0\n",
      "X[111,1]         -0.62    0.01   0.04   -0.7  -0.64  -0.62  -0.59  -0.53     14   1.01\n",
      "X[112,1]         -0.23  6.6e-3   0.04   -0.3  -0.25  -0.23   -0.2  -0.15     37    1.0\n",
      "X[113,1]         -1.18  4.5e-3   0.02  -1.22   -1.2  -1.18  -1.17  -1.14     20   1.15\n",
      "X[114,1]          0.07    0.05   0.17  -0.25  -0.11   0.13   0.19   0.28      9   1.41\n",
      "X[115,1]          0.43    0.01   0.05   0.33   0.39   0.43   0.45   0.54     11   1.13\n",
      "X[116,1]          1.01  6.0e-3   0.03   0.95   0.99    1.0   1.03   1.07     25   1.12\n",
      "X[117,1]          1.02  8.8e-3   0.03   0.96   0.99   1.02   1.04   1.08     11   1.04\n",
      "X[118,1]         -0.52    0.01   0.04  -0.59  -0.54  -0.52  -0.49  -0.44     13   1.03\n",
      "X[119,1]          0.56  5.0e-3   0.02   0.52   0.54   0.56   0.58    0.6     20   1.03\n",
      "X[120,1]         -0.58  7.3e-3   0.03  -0.65   -0.6  -0.58  -0.56  -0.52     18   1.05\n",
      "X[121,1]          1.38  4.7e-3   0.02   1.33   1.37   1.38   1.39   1.42     19   1.05\n",
      "X[122,1]         -1.53  8.0e-3   0.03  -1.58  -1.56  -1.54  -1.51  -1.48     14   1.01\n",
      "X[123,1]          0.72  2.7e-3 6.9e-3    0.7   0.71   0.72   0.72   0.73      6   1.32\n",
      "X[124,1]           1.5  3.9e-3   0.02   1.46   1.49    1.5   1.51   1.54     27    1.0\n",
      "X[125,1]          0.06    0.02   0.09  -0.09-7.6e-3   0.05   0.12   0.25     31   1.01\n",
      "X[126,1]          0.47  8.2e-3   0.03   0.41   0.45   0.47    0.5   0.53     14   1.02\n",
      "X[127,1]          0.49  8.0e-3   0.03   0.43   0.47   0.49   0.51   0.55     16    1.1\n",
      "X[128,1]          0.21  9.2e-3   0.04   0.12   0.19   0.22   0.24   0.29     21   1.02\n",
      "X[129,1]          0.33    0.01   0.05   0.19    0.3   0.33   0.36   0.43     16   1.07\n",
      "X[130,1]         -1.21  5.2e-3   0.02  -1.24  -1.22  -1.21   -1.2  -1.17     11    1.0\n",
      "X[131,1]         -0.18    0.02   0.06  -0.28  -0.22  -0.19  -0.14  -0.04     13   1.14\n",
      "X[132,1]         -1.33  3.9e-3   0.01  -1.35  -1.34  -1.33  -1.32  -1.31      9   1.28\n",
      "X[133,1]          0.73  1.9e-3 6.7e-3   0.71   0.72   0.72   0.73   0.74     12   1.17\n",
      "X[134,1]          0.37  8.9e-3   0.05   0.27   0.34   0.38    0.4   0.45     28   1.04\n",
      "X[135,1]       -9.5e-3    0.01   0.07  -0.14  -0.06  -0.01   0.04   0.12     31   1.01\n",
      "X[136,1]          0.73  2.3e-3 7.3e-3   0.71   0.72   0.73   0.73   0.74     10   1.19\n",
      "X[137,1]          2.69    0.04   0.08   2.53   2.63    2.7   2.76   2.85      4   2.03\n",
      "X[138,1]         -1.01  9.7e-3   0.03  -1.08  -1.03  -1.01  -0.99  -0.94     11   1.23\n",
      "X[139,1]          -1.4  5.1e-3   0.02  -1.43  -1.41   -1.4  -1.39  -1.36     12    1.1\n",
      "X[140,1]           0.3  7.4e-3   0.06   0.19   0.26   0.31   0.35    0.4     58   1.03\n",
      "X[141,1]          1.57  4.5e-3   0.02   1.53   1.55   1.57   1.58   1.62     27   1.12\n",
      "X[142,1]         -0.49  7.8e-3   0.04  -0.57  -0.51  -0.49  -0.46  -0.41     25   1.01\n",
      "X[143,1]         -0.05    0.01   0.07  -0.17  -0.11  -0.05  -0.01   0.08     33   1.06\n",
      "X[144,1]         -1.18  4.6e-3   0.02  -1.22  -1.19  -1.18  -1.16  -1.14     22    1.2\n",
      "X[145,1]       -1.6e-3    0.02   0.09  -0.17  -0.07 8.6e-3   0.07   0.16     22    1.0\n",
      "X[146,1]          2.89    0.05   0.09   2.71   2.83   2.88   2.96   3.07      4   1.96\n",
      "X[147,1]         -0.84  9.2e-3   0.03   -0.9  -0.86  -0.83  -0.82  -0.77     12   1.01\n",
      "X[148,1]          2.55    0.04   0.08   2.39   2.49   2.57   2.61   2.67      3   2.22\n",
      "X[149,1]          0.75  4.0e-3   0.02   0.72   0.74   0.75   0.76   0.81     28    1.0\n",
      "X[150,1]          1.08  5.9e-3   0.03   1.03   1.06   1.08    1.1   1.14     24   1.01\n",
      "X[151,1]        1.3e-4    0.02   0.07  -0.14  -0.05-5.0e-3   0.05   0.16     20    1.0\n",
      "X[152,1]         -0.58    0.01   0.04  -0.66  -0.61  -0.59  -0.56   -0.5     14    1.3\n",
      "X[153,1]          1.97  3.6e-3   0.01   1.94   1.96   1.97   1.98    2.0     15   1.01\n",
      "X[154,1]          -0.2    0.01   0.07  -0.32  -0.25   -0.2  -0.15  -0.05     22   1.03\n",
      "X[155,1]          0.94  7.0e-3   0.01   0.92   0.92   0.93   0.95   0.97      4   1.96\n",
      "X[156,1]         -0.53  8.2e-3   0.04   -0.6  -0.56  -0.53   -0.5  -0.46     21   1.06\n",
      "X[157,1]         -0.05    0.01   0.06  -0.16  -0.09  -0.05  -0.02   0.11     26   1.02\n",
      "X[158,1]          1.25  3.7e-3   0.02   1.21   1.24   1.25   1.26   1.28     24   1.01\n",
      "X[159,1]          0.95  7.1e-3   0.02   0.92   0.93   0.95   0.96   0.97      6   1.08\n",
      "X[160,1]          0.35    0.01   0.05   0.24   0.31   0.35   0.38   0.43     23    1.0\n",
      "X[161,1]         -0.24    0.02   0.06  -0.33  -0.28  -0.24   -0.2  -0.12     13   1.06\n",
      "X[162,1]         -0.87  9.4e-3   0.03  -0.92  -0.89  -0.87  -0.84   -0.8     13   1.18\n",
      "X[163,1]          1.26  6.1e-3   0.02   1.23   1.25   1.26   1.28   1.31     11   1.06\n",
      "X[164,1]         -0.05    0.03   0.08  -0.19  -0.11  -0.05   0.01    0.1      8   1.28\n",
      "X[165,1]         -0.85    0.01   0.04  -0.93  -0.87  -0.85  -0.82  -0.77     11   1.19\n",
      "X[166,1]          1.29  6.5e-3   0.02   1.26   1.28   1.29   1.31   1.33      9   1.15\n",
      "X[167,1]          1.97  3.9e-3   0.01   1.94   1.96   1.97   1.98    2.0     14    1.0\n",
      "X[168,1]          0.35    0.01   0.05   0.24   0.32   0.35   0.38   0.43     20    1.0\n",
      "X[169,1]         -0.03    0.01   0.07  -0.17  -0.08  -0.03   0.02   0.08     33    1.0\n",
      "X[170,1]           1.5  6.5e-3   0.02   1.45   1.48   1.49   1.51   1.55     14    1.0\n",
      "X[171,1]          0.49  6.0e-3   0.03   0.42   0.46   0.49   0.51   0.55     26   1.01\n",
      "X[172,1]         -0.82  4.5e-3   0.03  -0.87  -0.83  -0.82   -0.8  -0.76     35    1.0\n",
      "X[173,1]         -2.63    0.01   0.03   -2.7  -2.65  -2.62   -2.6  -2.56      9   1.14\n",
      "X[174,1]           1.1  4.2e-3   0.03   1.05   1.08    1.1   1.12   1.15     36   1.09\n",
      "X[175,1]           0.9  7.0e-4 3.5e-3   0.89   0.89    0.9    0.9    0.9     26    1.0\n",
      "X[176,1]         -0.28    0.01   0.05  -0.38  -0.31  -0.28  -0.25  -0.17     20   1.12\n",
      "X[177,1]         -1.53  5.8e-3   0.02  -1.57  -1.54  -1.53  -1.51  -1.48     18   1.01\n",
      "X[178,1]          0.09    0.06   0.18  -0.27  -0.05   0.17   0.21   0.29     10   1.01\n",
      "X[179,1]          0.37  8.4e-3   0.04   0.29   0.34   0.37    0.4   0.45     25   1.01\n",
      "X[180,1]          0.18    0.02   0.06   0.05   0.14   0.18   0.22   0.28     17    1.0\n",
      "X[181,1]         -0.11    0.03   0.12   -0.3  -0.19  -0.13  -0.04   0.15     13   1.06\n",
      "X[182,1]          1.01  5.4e-3   0.03   0.96   0.99   1.01   1.02   1.06     21   1.04\n",
      "X[183,1]         -0.02    0.02   0.09  -0.18  -0.08  -0.03   0.05   0.18     24    1.0\n",
      "X[184,1]         -0.31    0.02   0.05  -0.39  -0.35  -0.32  -0.28  -0.21      6   1.29\n",
      "X[185,1]          0.79  5.1e-3   0.02   0.76   0.78   0.79   0.81   0.83     13   1.05\n",
      "X[186,1]         -2.72    0.01   0.04  -2.78  -2.74  -2.72  -2.69  -2.65      8   1.12\n",
      "X[187,1]           1.9  3.8e-3   0.02   1.87   1.89    1.9   1.91   1.94     20   1.11\n",
      "X[188,1]          1.52  5.9e-3   0.02   1.47   1.51   1.52   1.54   1.57     15   1.28\n",
      "X[189,1]          0.15    0.03   0.11  -0.16    0.1   0.18   0.23    0.3     18   1.02\n",
      "X[190,1]          0.49  8.7e-3   0.03    0.4   0.47   0.49   0.51   0.55     15   1.14\n",
      "X[191,1]          0.55  9.9e-3   0.03   0.49   0.53   0.55   0.58    0.6     10   1.22\n",
      "X[192,1]          0.51    0.01   0.04   0.43   0.48   0.51   0.54   0.59     14   1.02\n",
      "X[193,1]           0.5  6.4e-3   0.03   0.45   0.48    0.5   0.52   0.55     18   1.29\n",
      "X[194,1]        5.3e-3    0.03   0.11   -0.2  -0.08 3.6e-3    0.1    0.2     18   1.05\n",
      "X[195,1]          -0.9  4.7e-3   0.03  -0.95  -0.92   -0.9  -0.88  -0.84     36    1.1\n",
      "X[196,1]          1.51  4.6e-3   0.02   1.47    1.5   1.51   1.53   1.56     27   1.08\n",
      "X[197,1]          0.23  8.6e-3   0.05   0.13    0.2   0.24   0.27   0.31     32   1.01\n",
      "X[198,1]         -1.63  5.4e-3   0.03  -1.69  -1.65  -1.64  -1.62  -1.58     23    1.0\n",
      "X[199,1]           2.3    0.01   0.04   2.23   2.27    2.3   2.33   2.39     10   1.09\n",
      "X[200,1]          2.72    0.03   0.09   2.51   2.67   2.72   2.78   2.88      8   1.39\n",
      "error_sigma2      0.25  1.8e-3 9.7e-3   0.24   0.25   0.25   0.26   0.27     30   1.03\n",
      "prior_sigma2     11.78    0.13   0.57  10.72   11.4  11.78  12.14  13.06     20    1.0\n",
      "w_1[1,1]          1.27    0.09   0.36    0.4   1.09   1.31    1.5   1.88     15   1.04\n",
      "w_1[1,2]         -1.39    0.72   2.03  -5.56  -2.72  -1.28   0.04   2.09      8   1.11\n",
      "w_1[1,3]          7.99    2.02   4.83  -1.04   3.33   8.78   11.6  16.25      6   1.02\n",
      "w_1[1,4]          2.84    0.87   3.05  -0.78    1.1   2.28    3.4  13.91     12   1.26\n",
      "w_1[1,5]         -0.06    0.83   2.56  -4.34  -1.72   -0.4   1.57    5.1     10   1.22\n",
      "w_1[1,6]         18.63    0.64   2.35  13.88  16.95  18.77  20.46   22.9     13   1.21\n",
      "w_1[1,7]          2.21     2.6   6.74  -5.42  -1.93   0.52    3.1  20.19      7   1.07\n",
      "w_1[1,8]         21.18    1.73   3.45  15.19  18.64  20.95  23.95  27.31      4   1.76\n",
      "w_1[1,9]         10.41    1.45   2.99   6.86   8.21   9.43  11.78  17.01      4   1.51\n",
      "w_1[1,10]         8.29    0.85   2.72   1.57   6.74   8.54  10.16  13.07     10   1.02\n",
      "w_1[1,11]        53.75    0.89   3.03  47.72  51.59   53.8  56.23  58.94     12   1.06\n",
      "w_1[1,12]        20.94    1.93   4.24  14.26  17.31  20.67  24.82  28.57      5   1.02\n",
      "w_1[1,13]         -0.9    1.52    3.6  -7.77  -3.49  -1.14   1.12   6.62      6   1.38\n",
      "w_1[1,14]        -5.87    2.08   3.68 -13.86  -8.99  -4.76  -2.87  -1.11      3   1.87\n",
      "w_1[1,15]         0.19    1.13   3.03  -5.22  -1.99  -0.25   2.65   5.95      7    1.1\n",
      "w_1[1,16]        -0.56    0.39   2.11   -4.6  -1.65  -0.76    0.6   4.18     30    1.0\n",
      "w_1[1,17]         1.92    0.97   2.38   -2.7   0.08   1.87   3.75   6.11      6   1.48\n",
      "w_1[1,18]         6.85    3.01   5.77   -2.1    3.0   5.49  10.69  19.18      4    1.7\n",
      "w_1[1,19]         0.31    1.03   3.58  -7.26  -2.01   0.99   2.73   6.31     12   1.08\n",
      "w_1[1,20]        -0.29    0.35   2.45  -4.94  -1.75  -0.54   1.21   5.31     48   1.01\n",
      "w_1[1,21]        -10.0    1.03   1.92 -13.79 -11.33 -10.07   -8.5  -6.68      3   1.75\n",
      "w_1[1,22]        36.01    1.51   3.79  29.14  32.78  36.36  39.07  42.66      6   1.25\n",
      "w_1[1,23]        -7.51    2.01   4.44 -18.42 -10.48  -5.55  -4.41  -2.17      5   1.28\n",
      "w_1[1,24]        -4.05    1.18   3.62  -9.19  -7.33  -3.93  -1.64   3.96      9    1.1\n",
      "w_1[1,25]       -34.17    1.07   2.96 -40.06 -36.22 -34.08 -31.89  -28.7      8   1.18\n",
      "w_1[1,26]        -1.98     1.7   3.89  -8.78  -5.96  -0.93   1.21   3.78      5   1.25\n",
      "w_1[1,27]         9.01    0.38   1.49   6.47   7.82   8.97  10.17  12.34     15    1.0\n",
      "w_1[1,28]        11.29     2.1   4.31   5.22   7.43  10.86  14.52  20.28      4   1.71\n",
      "w_1[1,29]       -10.87    1.59   3.28 -17.48 -13.78  -9.76  -8.36  -6.41      4   1.72\n",
      "w_1[1,30]        -2.83     1.2    3.8 -12.76  -4.06  -1.64   -0.7   2.66     10   1.06\n",
      "w_1[1,31]       -14.48    1.51   3.97 -25.37 -15.85 -13.78  -11.7  -8.85      7   1.13\n",
      "w_1[1,32]          2.6    0.48   1.71   0.56   1.16   2.27   3.33   7.55     13   1.04\n",
      "w_1[1,33]         0.96    0.79   1.77  -2.74   0.02    1.4   2.23   3.52      5   1.42\n",
      "w_1[1,34]         1.83    0.13   0.56   0.88    1.4   1.87   2.21   2.94     18   1.01\n",
      "w_1[1,35]         -0.4    1.03   3.78  -5.94  -3.46  -0.78   1.71   8.84     14    1.0\n",
      "w_1[1,36]          2.3    0.83   2.87  -5.12   1.12   2.76   4.33    6.7     12   1.19\n",
      "w_1[1,37]        -2.21    0.25   1.01  -4.69  -2.77   -2.0  -1.48   -0.8     16   1.05\n",
      "w_1[1,38]         1.67    1.37   2.86  -4.97  -0.17   2.06    3.7   6.28      4    1.6\n",
      "w_1[1,39]        -0.63     0.5   2.09  -4.37  -2.21  -0.63   0.92   3.23     18    1.0\n",
      "w_1[1,40]         -3.1    0.91   2.35  -8.48  -4.38  -3.27  -1.69   1.66      7    1.5\n",
      "b_1[1]           -2.83    0.29   0.92  -4.27   -3.4  -2.99   -2.5  -0.51     10   1.07\n",
      "b_1[2]           15.46    3.49   8.18   2.51   8.71  14.11  22.45  32.97      5   1.29\n",
      "b_1[3]            2.03    6.25  10.07 -12.61  -8.03  -0.21  12.08  18.29      3   2.49\n",
      "b_1[4]            -2.0    1.05   4.12 -14.04  -2.92  -0.66   0.28   2.92     15    1.0\n",
      "b_1[5]          -11.72     2.3   6.85 -24.16 -16.87 -12.27  -6.37   0.38      9   1.03\n",
      "b_1[6]          -35.24    1.24   4.47 -43.11 -38.72 -35.42 -32.13 -26.05     13   1.21\n",
      "b_1[7]           -3.79    5.83  11.31 -18.97 -12.74  -6.13   5.41   21.0      4   1.64\n",
      "b_1[8]          -13.97     1.1   2.24 -18.24 -15.72 -13.79 -12.37  -9.97      4   1.69\n",
      "b_1[9]          -20.04    2.75   5.73 -32.66 -22.71 -18.16  -15.8 -13.17      4   1.51\n",
      "b_1[10]          -20.9    2.24    6.9 -33.35 -25.29 -21.37 -16.92   -5.4     10   1.05\n",
      "b_1[11]         -48.79    0.83   2.81  -53.6 -51.09 -48.82  -46.8 -43.21     12   1.06\n",
      "b_1[12]          26.41    2.48   5.42  17.89  21.62  26.44  31.37  35.97      5   1.03\n",
      "b_1[13]         -14.64    2.32   6.72 -28.52 -19.62 -13.28  -9.58   -3.9      8   1.13\n",
      "b_1[14]           2.88    1.65   2.95  -0.76-4.9e-3   2.49   5.42   8.68      3   1.96\n",
      "b_1[15]           14.3    1.49   7.16  -2.15   9.24  14.63  19.41  26.92     23    1.0\n",
      "b_1[16]          10.99     2.5   8.46  -7.26   4.38   11.4  16.59  27.19     12   1.31\n",
      "b_1[17]          12.73    1.48   4.81    2.2    9.7  13.81  16.14   20.1     10   1.23\n",
      "b_1[18]          -0.16    6.71  11.58 -16.89  -9.13  -3.98   9.69  22.56      3    2.1\n",
      "b_1[19]           11.7    6.67  14.92 -20.47   5.89  15.17  21.02  36.64      5   1.39\n",
      "b_1[20]         -13.56    1.43   7.56 -30.81 -18.38 -12.49  -7.61  -2.49     28   1.06\n",
      "b_1[21]           8.31    1.13   1.99   4.64   6.61   8.46   9.86  11.91      3   1.93\n",
      "b_1[22]         -22.77    0.93   2.31  -26.8 -24.56 -23.09 -20.77 -18.56      6   1.25\n",
      "b_1[23]           5.37    1.44   3.46   1.69   3.21   4.13   7.73  13.09      6   1.21\n",
      "b_1[24]         -19.54    1.48   5.74 -28.52 -23.56  -20.3 -16.55  -5.48     15   1.01\n",
      "b_1[25]          30.75    0.99   2.69  25.78  28.69  30.62  32.58  36.13      7   1.18\n",
      "b_1[26]          14.11    2.43   7.59    2.0    8.2  14.57  18.14  32.03     10   1.02\n",
      "b_1[27]          27.16    1.14   4.46   19.5  23.59  26.76  30.78  36.28     15    1.0\n",
      "b_1[28]         -27.54    4.72  10.02 -47.47 -35.38  -26.3 -18.71 -13.31      5   1.63\n",
      "b_1[29]         -25.92    3.78   7.82 -42.01 -33.01 -23.19 -19.93 -15.34      4    1.7\n",
      "b_1[30]          -1.92    5.32   9.96 -23.64  -6.66  -0.01   4.81   16.0      3   1.74\n",
      "b_1[31]          -18.8    2.11   5.48 -33.91 -20.55  -17.8 -14.91 -11.27      7   1.14\n",
      "b_1[32]          -0.68    0.42   1.35   -4.1  -0.93  -0.37   0.14   1.51     11   1.01\n",
      "b_1[33]          -4.97    1.25   2.75 -10.39  -7.46  -3.75  -2.76  -1.69      5   1.52\n",
      "b_1[34]           3.37     0.2   0.97   1.65   2.62   3.36   4.05   5.34     23   1.01\n",
      "b_1[35]           4.82    6.07  10.14 -10.68  -4.63   6.15   14.7  19.74      3   3.18\n",
      "b_1[36]          11.88    2.89   6.45   2.46   6.99  10.47  15.81  25.92      5   1.31\n",
      "b_1[37]          -2.57    0.66   2.92 -11.26  -2.83   -1.9  -1.41   1.46     20   1.05\n",
      "b_1[38]          12.95    1.78    6.6   4.03   8.13  11.59  16.63  30.01     14   1.09\n",
      "b_1[39]          11.02    0.76   4.66   1.91   7.67  11.08  14.28  20.76     38   1.01\n",
      "b_1[40]           2.32    3.74  10.01 -23.14   0.54   0.81   4.27  25.06      7   1.02\n",
      "w_2[1,1]          9.36    1.06   4.15   2.55   6.42   8.84  11.87  17.74     15   1.02\n",
      "w_2[2,1]          2.69    1.35   7.47 -11.17  -2.92   3.29   7.82  17.42     31   1.01\n",
      "w_2[3,1]          2.46    1.46   7.05 -14.54  -0.99   1.54   6.63  17.73     23   1.16\n",
      "w_2[4,1]          -2.8    2.32   7.43 -18.53   -7.3  -2.76   2.62   9.76     10    1.1\n",
      "w_2[5,1]          2.05    5.48  13.04 -24.94  -7.43   3.14  11.66   26.7      6   1.32\n",
      "w_2[6,1]          1.96     0.4   0.96   0.74   1.27   1.67   2.49   4.11      6    1.2\n",
      "w_2[7,1]         -4.31    2.69  10.49 -22.19 -12.55  -4.73   4.49  14.54     15    1.0\n",
      "w_2[8,1]        -21.86    2.38   5.64 -35.01 -25.29 -21.43 -18.43 -11.07      6   1.52\n",
      "w_2[9,1]         -2.04    0.32   1.05   -4.1  -2.84  -1.93  -1.18  -0.32     11   1.03\n",
      "w_2[10,1]        -3.62    3.98   8.86 -17.58  -9.24  -5.11   0.45  18.79      5   1.25\n",
      "w_2[11,1]         -5.0    0.24   1.05  -7.03   -5.7   -5.0  -4.22  -3.17     18   1.02\n",
      "w_2[12,1]         3.02    0.66   1.56   1.39   2.04   2.48    3.3   7.46      6    1.3\n",
      "w_2[13,1]       -10.26    3.15    9.1 -26.93 -16.71 -10.69  -5.13   9.42      8   1.04\n",
      "w_2[14,1]         3.59    1.77   6.83 -11.66   1.35    3.9   7.21  19.04     15   1.02\n",
      "w_2[15,1]         5.02    2.28   9.92 -17.36   -1.5   6.25  12.95  21.26     19   1.03\n",
      "w_2[16,1]        -2.58    2.57  10.48 -19.35 -10.61  -3.61   4.23  20.29     17   1.12\n",
      "w_2[17,1]         3.84    1.64   6.31  -8.01  -0.82   3.97   8.32  16.26     15   1.11\n",
      "w_2[18,1]         0.27    3.79   8.45  -9.71  -5.32  -3.01   3.72  20.42      5   1.26\n",
      "w_2[19,1]        -0.45    2.05  10.23 -21.12  -7.71    0.6   6.62  19.14     25   1.02\n",
      "w_2[20,1]         6.68    3.26  11.57 -18.53  -0.09    8.0  14.86  26.22     13   1.08\n",
      "w_2[21,1]         4.62    0.81    3.1  -1.76    3.1   4.94    6.3  11.27     14   1.16\n",
      "w_2[22,1]        18.02    0.85   3.46  12.54  15.46  17.71  19.89  27.82     16   1.03\n",
      "w_2[23,1]       -10.28    3.02    6.7 -25.58 -14.58 -10.15  -5.49   0.96      5   1.52\n",
      "w_2[24,1]        -3.49    1.54   7.47 -16.99  -7.29  -3.45   0.86  10.59     24   1.01\n",
      "w_2[25,1]        -7.56    0.35   1.62 -11.98  -8.41  -7.42  -6.51  -5.05     22   1.02\n",
      "w_2[26,1]         0.94    3.68   11.5 -20.01  -8.77   3.75   9.97  18.13     10   1.24\n",
      "w_2[27,1]       -12.09    0.78   4.62 -25.84 -14.38 -11.32  -8.81  -5.63     35   1.06\n",
      "w_2[28,1]         3.35    1.13   4.38  -5.74    0.5   2.51   6.11  13.62     15   1.02\n",
      "w_2[29,1]        -4.61    0.85   2.17  -9.32  -6.04  -4.48  -2.81  -1.33      7   1.25\n",
      "w_2[30,1]         1.75    3.92   8.45  -14.0  -5.22   1.33   8.98  16.64      5   1.79\n",
      "w_2[31,1]         2.51    0.76   1.63   0.53    1.4   2.01   2.97   6.81      5   1.38\n",
      "w_2[32,1]         -6.4    4.62  10.48 -24.95 -15.41  -5.64   1.02  13.49      5    1.6\n",
      "w_2[33,1]        -1.53    2.62  10.28 -19.41  -8.98   -4.4    8.1  17.93     15   1.06\n",
      "w_2[34,1]         0.37    0.96   3.95  -8.94  -1.61   1.01    3.0   6.79     17   1.01\n",
      "w_2[35,1]        -2.59    1.55   4.91 -12.56  -5.46   -2.5   0.18   6.61     10    1.1\n",
      "w_2[36,1]        -7.83    1.22   5.85 -22.75 -10.58  -7.65  -4.49   3.34     23    1.0\n",
      "w_2[37,1]        -6.09    1.08   5.01 -18.46  -8.04  -5.24  -3.18    2.9     22   1.01\n",
      "w_2[38,1]         1.08    5.62   12.3 -18.41  -9.13   2.38   9.64  24.89      5   1.23\n",
      "w_2[39,1]         0.07    2.12  11.16 -20.43  -7.39   -1.3   7.69   23.8     28   1.03\n",
      "w_2[40,1]        -6.03    1.67   7.57 -23.63  -9.61  -4.63  -1.73   9.68     20   1.06\n",
      "w_2[1,2]         -2.88     3.1   6.42 -13.61  -7.12  -3.42    1.3  10.85      4   1.62\n",
      "w_2[2,2]          6.47    2.75   8.08  -8.01   0.52    6.7  12.43  22.63      9   1.12\n",
      "w_2[3,2]         -2.04    1.44   6.09 -21.87  -4.21  -1.08   1.36   7.79     18   1.05\n",
      "w_2[4,2]         -0.23    2.37   8.77 -21.77  -3.71  -0.64   3.18  18.37     14   1.04\n",
      "w_2[5,2]          5.79    2.69   11.2 -14.18  -2.17   3.79  13.59   29.8     17   1.06\n",
      "w_2[6,2]          8.22    1.24   3.08   4.37   6.02   7.41   9.08  15.47      6   1.29\n",
      "w_2[7,2]          4.42    1.58   7.76 -13.56   0.32   5.19   9.75  17.65     24   1.16\n",
      "w_2[8,2]         -2.72    0.72   2.09  -7.43  -3.93  -2.16  -1.23   0.16      9   1.44\n",
      "w_2[9,2]         -9.61    0.87   2.64 -15.47 -10.84  -9.21  -7.58  -5.52      9   1.12\n",
      "w_2[10,2]        -3.64    0.88   4.14 -11.94   -6.7  -2.86   -0.4    2.4     22   1.02\n",
      "w_2[11,2]       -17.01    0.71   2.28 -21.35 -18.59 -17.19 -15.28 -12.63     10    1.0\n",
      "w_2[12,2]         5.42    1.33   2.64   2.17   3.59   4.47   6.66  11.67      4   1.39\n",
      "w_2[13,2]         -4.6    2.14   7.29 -18.48  -9.83  -5.27   0.39   9.48     12    1.0\n",
      "w_2[14,2]        -0.69    2.37    5.5 -14.11  -2.69   1.24   3.08   5.71      5   1.64\n",
      "w_2[15,2]        -3.38    3.21   9.12 -20.42  -9.94  -3.51   3.24  14.67      8    1.4\n",
      "w_2[16,2]         0.37    2.62  10.42 -23.29  -4.51   0.28   6.61  20.57     16   1.11\n",
      "w_2[17,2]         9.31    2.48   6.99  -6.12   4.74  10.24  14.95  20.97      8   1.01\n",
      "w_2[18,2]        -5.13    1.43   3.68 -11.73  -8.22  -5.01  -2.25   1.58      7   1.04\n",
      "w_2[19,2]         1.95    3.09  11.73 -18.18  -7.18   1.62  11.36  26.02     14   1.15\n",
      "w_2[20,2]         1.21     2.2   9.31  -21.5  -3.78   1.94   8.22  15.78     18   1.03\n",
      "w_2[21,2]         3.78    1.53   4.31  -6.72   2.03   4.64   6.57  10.54      8   1.27\n",
      "w_2[22,2]         0.65    0.12   0.68  -0.46   0.18   0.59   1.08    2.1     34   1.15\n",
      "w_2[23,2]        -6.94     2.0   5.48 -18.43 -10.49  -7.36  -3.38   4.13      7   1.43\n",
      "w_2[24,2]        -5.46     1.4   5.84 -18.96  -8.89  -4.92   -1.5   4.43     17    1.0\n",
      "w_2[25,2]       -20.24    0.42    2.1 -24.94 -21.53  -20.3 -18.87  -16.3     25   1.06\n",
      "w_2[26,2]        -1.85    1.52   7.42 -18.58  -5.97   -1.1   2.74  11.91     24    1.0\n",
      "w_2[27,2]        -5.07    0.56   3.14 -11.78  -7.22  -4.69  -2.86   0.64     31    1.0\n",
      "w_2[28,2]         7.91    1.02   4.11   3.22   4.61   6.59  10.39  17.76     16   1.11\n",
      "w_2[29,2]        -6.54     1.1   2.39 -11.28  -8.44  -6.38  -4.32  -3.12      5   1.43\n",
      "w_2[30,2]        -3.84    4.02   9.74 -21.34  -12.0  -1.58   2.92   13.1      6    1.0\n",
      "w_2[31,2]          6.0    1.35   2.85    2.5   4.06   5.18   7.13  13.43      4   1.37\n",
      "w_2[32,2]        -1.94    1.18   4.14 -11.35  -4.09  -1.62   -0.2   7.35     12    1.0\n",
      "w_2[33,2]         0.77    3.79   6.42  -9.63  -4.62  -0.46   6.49  12.75      3   2.38\n",
      "w_2[34,2]        -8.91     1.1   5.19 -17.92 -13.13  -8.39   -5.4   1.53     22    1.1\n",
      "w_2[35,2]         1.39     1.3   4.04   -5.4   -1.1   0.31   3.46  10.04     10   1.05\n",
      "w_2[36,2]        -4.61    5.15   9.86  -20.7 -11.98  -5.73   1.97  17.41      4   1.69\n",
      "w_2[37,2]        -1.03    1.11   4.67  -9.77  -3.74  -1.31   0.84   11.7     18   1.01\n",
      "w_2[38,2]        -2.93    2.25    8.0  -16.2  -8.96  -3.64   2.57  12.63     13   1.04\n",
      "w_2[39,2]        -1.73    3.02  10.67 -21.62   -9.2   -2.4   6.22  17.66     13   1.01\n",
      "w_2[40,2]        -1.48    1.22    5.2  -15.6  -3.58   0.09   0.74   7.25     18   1.13\n",
      "bias_2[1]        -0.88    3.24  11.43 -29.73  -7.44   0.48   7.12  17.22     12   1.02\n",
      "bias_2[2]         0.55    2.42  11.24  -25.5  -6.06   1.81   7.75  20.76     22   1.06\n",
      "weights_1[1,1] 10.0e-4     nan    0.010.0e-410.0e-410.0e-410.0e-410.0e-4    nan    nan\n",
      "weights_1[1,2]   -1.61     nan    0.0  -1.61  -1.61  -1.61  -1.61  -1.61    nan    nan\n",
      "weights_1[1,3]    1.88     nan    0.0   1.88   1.88   1.88   1.88   1.88    nan    nan\n",
      "weights_1[1,4]   -2.19     nan    0.0  -2.19  -2.19  -2.19  -2.19  -2.19    nan    nan\n",
      "weights_1[1,5]   -0.63     nan    0.0  -0.63  -0.63  -0.63  -0.63  -0.63    nan    nan\n",
      "weights_1[1,6]     1.2     nan    0.0    1.2    1.2    1.2    1.2    1.2    nan    nan\n",
      "weights_1[1,7]   -1.58     nan    0.0  -1.58  -1.58  -1.58  -1.58  -1.58    nan    nan\n",
      "weights_1[1,8]    1.34     nan    0.0   1.34   1.34   1.34   1.34   1.34    nan    nan\n",
      "weights_1[1,9]    -1.1     nan    0.0   -1.1   -1.1   -1.1   -1.1   -1.1    nan    nan\n",
      "weights_1[1,10]   1.71     nan    0.0   1.71   1.71   1.71   1.71   1.71    nan    nan\n",
      "weights_1[1,11]   1.27    0.09   0.36    0.4   1.09   1.31    1.5   1.88     15   1.04\n",
      "weights_1[1,12]  -1.39    0.72   2.03  -5.56  -2.72  -1.28   0.04   2.09      8   1.11\n",
      "weights_1[1,13]   7.99    2.02   4.83  -1.04   3.33   8.78   11.6  16.25      6   1.02\n",
      "weights_1[1,14]   2.84    0.87   3.05  -0.78    1.1   2.28    3.4  13.91     12   1.26\n",
      "weights_1[1,15]  -0.06    0.83   2.56  -4.34  -1.72   -0.4   1.57    5.1     10   1.22\n",
      "weights_1[1,16]  18.63    0.64   2.35  13.88  16.95  18.77  20.46   22.9     13   1.21\n",
      "weights_1[1,17]   2.21     2.6   6.74  -5.42  -1.93   0.52    3.1  20.19      7   1.07\n",
      "weights_1[1,18]  21.18    1.73   3.45  15.19  18.64  20.95  23.95  27.31      4   1.76\n",
      "weights_1[1,19]  10.41    1.45   2.99   6.86   8.21   9.43  11.78  17.01      4   1.51\n",
      "weights_1[1,20]   8.29    0.85   2.72   1.57   6.74   8.54  10.16  13.07     10   1.02\n",
      "weights_1[1,21]  53.75    0.89   3.03  47.72  51.59   53.8  56.23  58.94     12   1.06\n",
      "weights_1[1,22]  20.94    1.93   4.24  14.26  17.31  20.67  24.82  28.57      5   1.02\n",
      "weights_1[1,23]   -0.9    1.52    3.6  -7.77  -3.49  -1.14   1.12   6.62      6   1.38\n",
      "weights_1[1,24]  -5.87    2.08   3.68 -13.86  -8.99  -4.76  -2.87  -1.11      3   1.87\n",
      "weights_1[1,25]   0.19    1.13   3.03  -5.22  -1.99  -0.25   2.65   5.95      7    1.1\n",
      "weights_1[1,26]  -0.56    0.39   2.11   -4.6  -1.65  -0.76    0.6   4.18     30    1.0\n",
      "weights_1[1,27]   1.92    0.97   2.38   -2.7   0.08   1.87   3.75   6.11      6   1.48\n",
      "weights_1[1,28]   6.85    3.01   5.77   -2.1    3.0   5.49  10.69  19.18      4    1.7\n",
      "weights_1[1,29]   0.31    1.03   3.58  -7.26  -2.01   0.99   2.73   6.31     12   1.08\n",
      "weights_1[1,30]  -0.29    0.35   2.45  -4.94  -1.75  -0.54   1.21   5.31     48   1.01\n",
      "weights_1[1,31]  -10.0    1.03   1.92 -13.79 -11.33 -10.07   -8.5  -6.68      3   1.75\n",
      "weights_1[1,32]  36.01    1.51   3.79  29.14  32.78  36.36  39.07  42.66      6   1.25\n",
      "weights_1[1,33]  -7.51    2.01   4.44 -18.42 -10.48  -5.55  -4.41  -2.17      5   1.28\n",
      "weights_1[1,34]  -4.05    1.18   3.62  -9.19  -7.33  -3.93  -1.64   3.96      9    1.1\n",
      "weights_1[1,35] -34.17    1.07   2.96 -40.06 -36.22 -34.08 -31.89  -28.7      8   1.18\n",
      "weights_1[1,36]  -1.98     1.7   3.89  -8.78  -5.96  -0.93   1.21   3.78      5   1.25\n",
      "weights_1[1,37]   9.01    0.38   1.49   6.47   7.82   8.97  10.17  12.34     15    1.0\n",
      "weights_1[1,38]  11.29     2.1   4.31   5.22   7.43  10.86  14.52  20.28      4   1.71\n",
      "weights_1[1,39] -10.87    1.59   3.28 -17.48 -13.78  -9.76  -8.36  -6.41      4   1.72\n",
      "weights_1[1,40]  -2.83     1.2    3.8 -12.76  -4.06  -1.64   -0.7   2.66     10   1.06\n",
      "weights_1[1,41] -14.48    1.51   3.97 -25.37 -15.85 -13.78  -11.7  -8.85      7   1.13\n",
      "weights_1[1,42]    2.6    0.48   1.71   0.56   1.16   2.27   3.33   7.55     13   1.04\n",
      "weights_1[1,43]   0.96    0.79   1.77  -2.74   0.02    1.4   2.23   3.52      5   1.42\n",
      "weights_1[1,44]   1.83    0.13   0.56   0.88    1.4   1.87   2.21   2.94     18   1.01\n",
      "weights_1[1,45]   -0.4    1.03   3.78  -5.94  -3.46  -0.78   1.71   8.84     14    1.0\n",
      "weights_1[1,46]    2.3    0.83   2.87  -5.12   1.12   2.76   4.33    6.7     12   1.19\n",
      "weights_1[1,47]  -2.21    0.25   1.01  -4.69  -2.77   -2.0  -1.48   -0.8     16   1.05\n",
      "weights_1[1,48]   1.67    1.37   2.86  -4.97  -0.17   2.06    3.7   6.28      4    1.6\n",
      "weights_1[1,49]  -0.63     0.5   2.09  -4.37  -2.21  -0.63   0.92   3.23     18    1.0\n",
      "weights_1[1,50]   -3.1    0.91   2.35  -8.48  -4.38  -3.27  -1.69   1.66      7    1.5\n",
      "bias_1[1]         -1.3     nan    0.0   -1.3   -1.3   -1.3   -1.3   -1.3    nan    nan\n",
      "bias_1[2]        -4.43     nan    0.0  -4.43  -4.43  -4.43  -4.43  -4.43    nan    nan\n",
      "bias_1[3]        -1.23     nan    0.0  -1.23  -1.23  -1.23  -1.23  -1.23    nan    nan\n",
      "bias_1[4]        -1.22     nan    0.0  -1.22  -1.22  -1.22  -1.22  -1.22    nan    nan\n",
      "bias_1[5]        -0.12     nan    0.0  -0.12  -0.12  -0.12  -0.12  -0.12    nan    nan\n",
      "bias_1[6]         2.34     nan    0.0   2.34   2.34   2.34   2.34   2.34    nan    nan\n",
      "bias_1[7]        -1.84     nan    0.0  -1.84  -1.84  -1.84  -1.84  -1.84    nan    nan\n",
      "bias_1[8]         3.44     nan    0.0   3.44   3.44   3.44   3.44   3.44    nan    nan\n",
      "bias_1[9]         -0.3     nan    0.0   -0.3   -0.3   -0.3   -0.3   -0.3    nan    nan\n",
      "bias_1[10]       -2.77     nan    0.0  -2.77  -2.77  -2.77  -2.77  -2.77    nan    nan\n",
      "bias_1[11]       -2.83    0.29   0.92  -4.27   -3.4  -2.99   -2.5  -0.51     10   1.07\n",
      "bias_1[12]       15.46    3.49   8.18   2.51   8.71  14.11  22.45  32.97      5   1.29\n",
      "bias_1[13]        2.03    6.25  10.07 -12.61  -8.03  -0.21  12.08  18.29      3   2.49\n",
      "bias_1[14]        -2.0    1.05   4.12 -14.04  -2.92  -0.66   0.28   2.92     15    1.0\n",
      "bias_1[15]      -11.72     2.3   6.85 -24.16 -16.87 -12.27  -6.37   0.38      9   1.03\n",
      "bias_1[16]      -35.24    1.24   4.47 -43.11 -38.72 -35.42 -32.13 -26.05     13   1.21\n",
      "bias_1[17]       -3.79    5.83  11.31 -18.97 -12.74  -6.13   5.41   21.0      4   1.64\n",
      "bias_1[18]      -13.97     1.1   2.24 -18.24 -15.72 -13.79 -12.37  -9.97      4   1.69\n",
      "bias_1[19]      -20.04    2.75   5.73 -32.66 -22.71 -18.16  -15.8 -13.17      4   1.51\n",
      "bias_1[20]       -20.9    2.24    6.9 -33.35 -25.29 -21.37 -16.92   -5.4     10   1.05\n",
      "bias_1[21]      -48.79    0.83   2.81  -53.6 -51.09 -48.82  -46.8 -43.21     12   1.06\n",
      "bias_1[22]       26.41    2.48   5.42  17.89  21.62  26.44  31.37  35.97      5   1.03\n",
      "bias_1[23]      -14.64    2.32   6.72 -28.52 -19.62 -13.28  -9.58   -3.9      8   1.13\n",
      "bias_1[24]        2.88    1.65   2.95  -0.76-4.9e-3   2.49   5.42   8.68      3   1.96\n",
      "bias_1[25]        14.3    1.49   7.16  -2.15   9.24  14.63  19.41  26.92     23    1.0\n",
      "bias_1[26]       10.99     2.5   8.46  -7.26   4.38   11.4  16.59  27.19     12   1.31\n",
      "bias_1[27]       12.73    1.48   4.81    2.2    9.7  13.81  16.14   20.1     10   1.23\n",
      "bias_1[28]       -0.16    6.71  11.58 -16.89  -9.13  -3.98   9.69  22.56      3    2.1\n",
      "bias_1[29]        11.7    6.67  14.92 -20.47   5.89  15.17  21.02  36.64      5   1.39\n",
      "bias_1[30]      -13.56    1.43   7.56 -30.81 -18.38 -12.49  -7.61  -2.49     28   1.06\n",
      "bias_1[31]        8.31    1.13   1.99   4.64   6.61   8.46   9.86  11.91      3   1.93\n",
      "bias_1[32]      -22.77    0.93   2.31  -26.8 -24.56 -23.09 -20.77 -18.56      6   1.25\n",
      "bias_1[33]        5.37    1.44   3.46   1.69   3.21   4.13   7.73  13.09      6   1.21\n",
      "bias_1[34]      -19.54    1.48   5.74 -28.52 -23.56  -20.3 -16.55  -5.48     15   1.01\n",
      "bias_1[35]       30.75    0.99   2.69  25.78  28.69  30.62  32.58  36.13      7   1.18\n",
      "bias_1[36]       14.11    2.43   7.59    2.0    8.2  14.57  18.14  32.03     10   1.02\n",
      "bias_1[37]       27.16    1.14   4.46   19.5  23.59  26.76  30.78  36.28     15    1.0\n",
      "bias_1[38]      -27.54    4.72  10.02 -47.47 -35.38  -26.3 -18.71 -13.31      5   1.63\n",
      "bias_1[39]      -25.92    3.78   7.82 -42.01 -33.01 -23.19 -19.93 -15.34      4    1.7\n",
      "bias_1[40]       -1.92    5.32   9.96 -23.64  -6.66  -0.01   4.81   16.0      3   1.74\n",
      "bias_1[41]       -18.8    2.11   5.48 -33.91 -20.55  -17.8 -14.91 -11.27      7   1.14\n",
      "bias_1[42]       -0.68    0.42   1.35   -4.1  -0.93  -0.37   0.14   1.51     11   1.01\n",
      "bias_1[43]       -4.97    1.25   2.75 -10.39  -7.46  -3.75  -2.76  -1.69      5   1.52\n",
      "bias_1[44]        3.37     0.2   0.97   1.65   2.62   3.36   4.05   5.34     23   1.01\n",
      "bias_1[45]        4.82    6.07  10.14 -10.68  -4.63   6.15   14.7  19.74      3   3.18\n",
      "bias_1[46]       11.88    2.89   6.45   2.46   6.99  10.47  15.81  25.92      5   1.31\n",
      "bias_1[47]       -2.57    0.66   2.92 -11.26  -2.83   -1.9  -1.41   1.46     20   1.05\n",
      "bias_1[48]       12.95    1.78    6.6   4.03   8.13  11.59  16.63  30.01     14   1.09\n",
      "bias_1[49]       11.02    0.76   4.66   1.91   7.67  11.08  14.28  20.76     38   1.01\n",
      "bias_1[50]        2.32    3.74  10.01 -23.14   0.54   0.81   4.27  25.06      7   1.02\n",
      "weights_2[1,1]   -1.77     nan    0.0  -1.77  -1.77  -1.77  -1.77  -1.77    nan    nan\n",
      "weights_2[2,1]    2.76     nan    0.0   2.76   2.76   2.76   2.76   2.76    nan    nan\n",
      "weights_2[3,1]   -1.55     nan    0.0  -1.55  -1.55  -1.55  -1.55  -1.55    nan    nan\n",
      "weights_2[4,1]   -0.32     nan    0.0  -0.32  -0.32  -0.32  -0.32  -0.32    nan    nan\n",
      "weights_2[5,1]     0.7     nan    0.0    0.7    0.7    0.7    0.7    0.7    nan    nan\n",
      "weights_2[6,1]   -2.67     nan    0.0  -2.67  -2.67  -2.67  -2.67  -2.67    nan    nan\n",
      "weights_2[7,1]   -1.62     nan    0.0  -1.62  -1.62  -1.62  -1.62  -1.62    nan    nan\n",
      "weights_2[8,1]   -2.92     nan    0.0  -2.92  -2.92  -2.92  -2.92  -2.92    nan    nan\n",
      "weights_2[9,1]   -0.22     nan    0.0  -0.22  -0.22  -0.22  -0.22  -0.22    nan    nan\n",
      "weights_2[10,1]   0.53     nan    0.0   0.53   0.53   0.53   0.53   0.53    nan    nan\n",
      "weights_2[11,1]   9.36    1.06   4.15   2.55   6.42   8.84  11.87  17.74     15   1.02\n",
      "weights_2[12,1]   2.69    1.35   7.47 -11.17  -2.92   3.29   7.82  17.42     31   1.01\n",
      "weights_2[13,1]   2.46    1.46   7.05 -14.54  -0.99   1.54   6.63  17.73     23   1.16\n",
      "weights_2[14,1]   -2.8    2.32   7.43 -18.53   -7.3  -2.76   2.62   9.76     10    1.1\n",
      "weights_2[15,1]   2.05    5.48  13.04 -24.94  -7.43   3.14  11.66   26.7      6   1.32\n",
      "weights_2[16,1]   1.96     0.4   0.96   0.74   1.27   1.67   2.49   4.11      6    1.2\n",
      "weights_2[17,1]  -4.31    2.69  10.49 -22.19 -12.55  -4.73   4.49  14.54     15    1.0\n",
      "weights_2[18,1] -21.86    2.38   5.64 -35.01 -25.29 -21.43 -18.43 -11.07      6   1.52\n",
      "weights_2[19,1]  -2.04    0.32   1.05   -4.1  -2.84  -1.93  -1.18  -0.32     11   1.03\n",
      "weights_2[20,1]  -3.62    3.98   8.86 -17.58  -9.24  -5.11   0.45  18.79      5   1.25\n",
      "weights_2[21,1]   -5.0    0.24   1.05  -7.03   -5.7   -5.0  -4.22  -3.17     18   1.02\n",
      "weights_2[22,1]   3.02    0.66   1.56   1.39   2.04   2.48    3.3   7.46      6    1.3\n",
      "weights_2[23,1] -10.26    3.15    9.1 -26.93 -16.71 -10.69  -5.13   9.42      8   1.04\n",
      "weights_2[24,1]   3.59    1.77   6.83 -11.66   1.35    3.9   7.21  19.04     15   1.02\n",
      "weights_2[25,1]   5.02    2.28   9.92 -17.36   -1.5   6.25  12.95  21.26     19   1.03\n",
      "weights_2[26,1]  -2.58    2.57  10.48 -19.35 -10.61  -3.61   4.23  20.29     17   1.12\n",
      "weights_2[27,1]   3.84    1.64   6.31  -8.01  -0.82   3.97   8.32  16.26     15   1.11\n",
      "weights_2[28,1]   0.27    3.79   8.45  -9.71  -5.32  -3.01   3.72  20.42      5   1.26\n",
      "weights_2[29,1]  -0.45    2.05  10.23 -21.12  -7.71    0.6   6.62  19.14     25   1.02\n",
      "weights_2[30,1]   6.68    3.26  11.57 -18.53  -0.09    8.0  14.86  26.22     13   1.08\n",
      "weights_2[31,1]   4.62    0.81    3.1  -1.76    3.1   4.94    6.3  11.27     14   1.16\n",
      "weights_2[32,1]  18.02    0.85   3.46  12.54  15.46  17.71  19.89  27.82     16   1.03\n",
      "weights_2[33,1] -10.28    3.02    6.7 -25.58 -14.58 -10.15  -5.49   0.96      5   1.52\n",
      "weights_2[34,1]  -3.49    1.54   7.47 -16.99  -7.29  -3.45   0.86  10.59     24   1.01\n",
      "weights_2[35,1]  -7.56    0.35   1.62 -11.98  -8.41  -7.42  -6.51  -5.05     22   1.02\n",
      "weights_2[36,1]   0.94    3.68   11.5 -20.01  -8.77   3.75   9.97  18.13     10   1.24\n",
      "weights_2[37,1] -12.09    0.78   4.62 -25.84 -14.38 -11.32  -8.81  -5.63     35   1.06\n",
      "weights_2[38,1]   3.35    1.13   4.38  -5.74    0.5   2.51   6.11  13.62     15   1.02\n",
      "weights_2[39,1]  -4.61    0.85   2.17  -9.32  -6.04  -4.48  -2.81  -1.33      7   1.25\n",
      "weights_2[40,1]   1.75    3.92   8.45  -14.0  -5.22   1.33   8.98  16.64      5   1.79\n",
      "weights_2[41,1]   2.51    0.76   1.63   0.53    1.4   2.01   2.97   6.81      5   1.38\n",
      "weights_2[42,1]   -6.4    4.62  10.48 -24.95 -15.41  -5.64   1.02  13.49      5    1.6\n",
      "weights_2[43,1]  -1.53    2.62  10.28 -19.41  -8.98   -4.4    8.1  17.93     15   1.06\n",
      "weights_2[44,1]   0.37    0.96   3.95  -8.94  -1.61   1.01    3.0   6.79     17   1.01\n",
      "weights_2[45,1]  -2.59    1.55   4.91 -12.56  -5.46   -2.5   0.18   6.61     10    1.1\n",
      "weights_2[46,1]  -7.83    1.22   5.85 -22.75 -10.58  -7.65  -4.49   3.34     23    1.0\n",
      "weights_2[47,1]  -6.09    1.08   5.01 -18.46  -8.04  -5.24  -3.18    2.9     22   1.01\n",
      "weights_2[48,1]   1.08    5.62   12.3 -18.41  -9.13   2.38   9.64  24.89      5   1.23\n",
      "weights_2[49,1]   0.07    2.12  11.16 -20.43  -7.39   -1.3   7.69   23.8     28   1.03\n",
      "weights_2[50,1]  -6.03    1.67   7.57 -23.63  -9.61  -4.63  -1.73   9.68     20   1.06\n",
      "weights_2[1,2]    0.75     nan    0.0   0.75   0.75   0.75   0.75   0.75    nan    nan\n",
      "weights_2[2,2]   -3.28     nan    0.0  -3.28  -3.28  -3.28  -3.28  -3.28    nan    nan\n",
      "weights_2[3,2]    1.98     nan    0.0   1.98   1.98   1.98   1.98   1.98    nan    nan\n",
      "weights_2[4,2]   -2.19     nan    0.0  -2.19  -2.19  -2.19  -2.19  -2.19    nan    nan\n",
      "weights_2[5,2]    0.56     nan    0.0   0.56   0.56   0.56   0.56   0.56    nan    nan\n",
      "weights_2[6,2]    0.15     nan    0.0   0.15   0.15   0.15   0.15   0.15    nan    nan\n",
      "weights_2[7,2]    0.42     nan    0.0   0.42   0.42   0.42   0.42   0.42    nan    nan\n",
      "weights_2[8,2]    1.77     nan    0.0   1.77   1.77   1.77   1.77   1.77    nan    nan\n",
      "weights_2[9,2]   -0.24     nan    0.0  -0.24  -0.24  -0.24  -0.24  -0.24    nan    nan\n",
      "weights_2[10,2]  -3.35     nan    0.0  -3.35  -3.35  -3.35  -3.35  -3.35    nan    nan\n",
      "weights_2[11,2]  -2.88     3.1   6.42 -13.61  -7.12  -3.42    1.3  10.85      4   1.62\n",
      "weights_2[12,2]   6.47    2.75   8.08  -8.01   0.52    6.7  12.43  22.63      9   1.12\n",
      "weights_2[13,2]  -2.04    1.44   6.09 -21.87  -4.21  -1.08   1.36   7.79     18   1.05\n",
      "weights_2[14,2]  -0.23    2.37   8.77 -21.77  -3.71  -0.64   3.18  18.37     14   1.04\n",
      "weights_2[15,2]   5.79    2.69   11.2 -14.18  -2.17   3.79  13.59   29.8     17   1.06\n",
      "weights_2[16,2]   8.22    1.24   3.08   4.37   6.02   7.41   9.08  15.47      6   1.29\n",
      "weights_2[17,2]   4.42    1.58   7.76 -13.56   0.32   5.19   9.75  17.65     24   1.16\n",
      "weights_2[18,2]  -2.72    0.72   2.09  -7.43  -3.93  -2.16  -1.23   0.16      9   1.44\n",
      "weights_2[19,2]  -9.61    0.87   2.64 -15.47 -10.84  -9.21  -7.58  -5.52      9   1.12\n",
      "weights_2[20,2]  -3.64    0.88   4.14 -11.94   -6.7  -2.86   -0.4    2.4     22   1.02\n",
      "weights_2[21,2] -17.01    0.71   2.28 -21.35 -18.59 -17.19 -15.28 -12.63     10    1.0\n",
      "weights_2[22,2]   5.42    1.33   2.64   2.17   3.59   4.47   6.66  11.67      4   1.39\n",
      "weights_2[23,2]   -4.6    2.14   7.29 -18.48  -9.83  -5.27   0.39   9.48     12    1.0\n",
      "weights_2[24,2]  -0.69    2.37    5.5 -14.11  -2.69   1.24   3.08   5.71      5   1.64\n",
      "weights_2[25,2]  -3.38    3.21   9.12 -20.42  -9.94  -3.51   3.24  14.67      8    1.4\n",
      "weights_2[26,2]   0.37    2.62  10.42 -23.29  -4.51   0.28   6.61  20.57     16   1.11\n",
      "weights_2[27,2]   9.31    2.48   6.99  -6.12   4.74  10.24  14.95  20.97      8   1.01\n",
      "weights_2[28,2]  -5.13    1.43   3.68 -11.73  -8.22  -5.01  -2.25   1.58      7   1.04\n",
      "weights_2[29,2]   1.95    3.09  11.73 -18.18  -7.18   1.62  11.36  26.02     14   1.15\n",
      "weights_2[30,2]   1.21     2.2   9.31  -21.5  -3.78   1.94   8.22  15.78     18   1.03\n",
      "weights_2[31,2]   3.78    1.53   4.31  -6.72   2.03   4.64   6.57  10.54      8   1.27\n",
      "weights_2[32,2]   0.65    0.12   0.68  -0.46   0.18   0.59   1.08    2.1     34   1.15\n",
      "weights_2[33,2]  -6.94     2.0   5.48 -18.43 -10.49  -7.36  -3.38   4.13      7   1.43\n",
      "weights_2[34,2]  -5.46     1.4   5.84 -18.96  -8.89  -4.92   -1.5   4.43     17    1.0\n",
      "weights_2[35,2] -20.24    0.42    2.1 -24.94 -21.53  -20.3 -18.87  -16.3     25   1.06\n",
      "weights_2[36,2]  -1.85    1.52   7.42 -18.58  -5.97   -1.1   2.74  11.91     24    1.0\n",
      "weights_2[37,2]  -5.07    0.56   3.14 -11.78  -7.22  -4.69  -2.86   0.64     31    1.0\n",
      "weights_2[38,2]   7.91    1.02   4.11   3.22   4.61   6.59  10.39  17.76     16   1.11\n",
      "weights_2[39,2]  -6.54     1.1   2.39 -11.28  -8.44  -6.38  -4.32  -3.12      5   1.43\n",
      "weights_2[40,2]  -3.84    4.02   9.74 -21.34  -12.0  -1.58   2.92   13.1      6    1.0\n",
      "weights_2[41,2]    6.0    1.35   2.85    2.5   4.06   5.18   7.13  13.43      4   1.37\n",
      "weights_2[42,2]  -1.94    1.18   4.14 -11.35  -4.09  -1.62   -0.2   7.35     12    1.0\n",
      "weights_2[43,2]   0.77    3.79   6.42  -9.63  -4.62  -0.46   6.49  12.75      3   2.38\n",
      "weights_2[44,2]  -8.91     1.1   5.19 -17.92 -13.13  -8.39   -5.4   1.53     22    1.1\n",
      "weights_2[45,2]   1.39     1.3   4.04   -5.4   -1.1   0.31   3.46  10.04     10   1.05\n",
      "weights_2[46,2]  -4.61    5.15   9.86  -20.7 -11.98  -5.73   1.97  17.41      4   1.69\n",
      "weights_2[47,2]  -1.03    1.11   4.67  -9.77  -3.74  -1.31   0.84   11.7     18   1.01\n",
      "weights_2[48,2]  -2.93    2.25    8.0  -16.2  -8.96  -3.64   2.57  12.63     13   1.04\n",
      "weights_2[49,2]  -1.73    3.02  10.67 -21.62   -9.2   -2.4   6.22  17.66     13   1.01\n",
      "weights_2[50,2]  -1.48    1.22    5.2  -15.6  -3.58   0.09   0.74   7.25     18   1.13\n",
      "lp__            -173.8    4.32  18.17 -209.7 -186.9 -172.5 -161.1 -141.4     18    1.0\n",
      "\n",
      "Samples were drawn using NUTS at Wed Jul 24 21:32:20 2019.\n",
      "For each parameter, n_eff is a crude measure of effective sample size,\n",
      "and Rhat is the potential scale reduction factor on split chains (at \n",
      "convergence, Rhat=1).\n"
     ]
    }
   ],
   "source": [
    "control = dict(adapt_delta=0.9, max_treedepth=12)\n",
    "fit = sm.sampling(data=data, thin=1, n_jobs=1, chains=1, init=\"random\", iter=2_000, control=control)\n",
    "print(fit);"
   ]
  },
  {
   "cell_type": "code",
   "execution_count": 29,
   "metadata": {},
   "outputs": [
    {
     "data": {
      "text/plain": [
       "[OrderedDict([('accept_stat__',\n",
       "               array([1.        , 0.        , 0.        , ..., 0.97271648, 0.61822518,\n",
       "                      0.98699828])),\n",
       "              ('stepsize__',\n",
       "               array([7.81250000e-03, 1.19939610e+01, 1.51735245e+00, ...,\n",
       "                      1.19457519e-04, 1.19457519e-04, 1.19457519e-04])),\n",
       "              ('treedepth__', array([ 3.,  0.,  0., ..., 12., 12., 12.])),\n",
       "              ('n_leapfrog__',\n",
       "               array([7.000e+00, 1.000e+00, 1.000e+00, ..., 4.095e+03, 4.095e+03,\n",
       "                      4.095e+03])),\n",
       "              ('divergent__', array([0., 1., 1., ..., 0., 0., 0.])),\n",
       "              ('energy__',\n",
       "               array([11505.29987843,  3360.19810399,  3392.10226101, ...,\n",
       "                        383.69189667,   377.38470851,   360.49200358]))])]"
      ]
     },
     "execution_count": 29,
     "metadata": {},
     "output_type": "execute_result"
    }
   ],
   "source": [
    "trace = fit.extract()\n",
    "(fit.get_sampler_params())"
   ]
  },
  {
   "cell_type": "markdown",
   "metadata": {},
   "source": [
    "### Plot IACTs:"
   ]
  },
  {
   "cell_type": "code",
   "execution_count": 34,
   "metadata": {},
   "outputs": [
    {
     "ename": "FloatingPointError",
     "evalue": "invalid value encountered in true_divide",
     "output_type": "error",
     "traceback": [
      "\u001b[0;31m---------------------------------------------------------------------------\u001b[0m",
      "\u001b[0;31mFloatingPointError\u001b[0m                        Traceback (most recent call last)",
      "\u001b[0;32m<ipython-input-34-c3b4e11258c0>\u001b[0m in \u001b[0;36m<module>\u001b[0;34m()\u001b[0m\n\u001b[1;32m      1\u001b[0m [gewer_estimate_IAT(trace['bias_1'][:,j]) \n\u001b[0;32m----> 2\u001b[0;31m          for j in range(np.shape(trace['bias_1'])[-1])]\n\u001b[0m",
      "\u001b[0;32m<ipython-input-34-c3b4e11258c0>\u001b[0m in \u001b[0;36m<listcomp>\u001b[0;34m(.0)\u001b[0m\n\u001b[1;32m      1\u001b[0m [gewer_estimate_IAT(trace['bias_1'][:,j]) \n\u001b[0;32m----> 2\u001b[0;31m          for j in range(np.shape(trace['bias_1'])[-1])]\n\u001b[0m",
      "\u001b[0;32m~/Desktop/VAE_density/samplers.py\u001b[0m in \u001b[0;36mgewer_estimate_IAT\u001b[0;34m(np_mcmc_traj, verbose)\u001b[0m\n\u001b[1;32m    388\u001b[0m     \u001b[0muse\u001b[0m \u001b[0mGeyer\u001b[0m\u001b[0;31m'\u001b[0m\u001b[0ms\u001b[0m \u001b[0mmethod\u001b[0m \u001b[0mto\u001b[0m \u001b[0mestimate\u001b[0m \u001b[0mthe\u001b[0m \u001b[0mIntegrated\u001b[0m \u001b[0mAutocorrelation\u001b[0m \u001b[0mTime\u001b[0m\u001b[0;34m\u001b[0m\u001b[0m\n\u001b[1;32m    389\u001b[0m     \"\"\"\n\u001b[0;32m--> 390\u001b[0;31m     \u001b[0macf\u001b[0m \u001b[0;34m=\u001b[0m \u001b[0mnp\u001b[0m\u001b[0;34m.\u001b[0m\u001b[0marray\u001b[0m\u001b[0;34m(\u001b[0m \u001b[0mcompute_acf\u001b[0m\u001b[0;34m(\u001b[0m\u001b[0mnp_mcmc_traj\u001b[0m\u001b[0;34m)\u001b[0m \u001b[0;34m)\u001b[0m\u001b[0;34m\u001b[0m\u001b[0m\n\u001b[0m\u001b[1;32m    391\u001b[0m     \u001b[0;31m#for parity issues\u001b[0m\u001b[0;34m\u001b[0m\u001b[0;34m\u001b[0m\u001b[0m\n\u001b[1;32m    392\u001b[0m     \u001b[0mmax_lag\u001b[0m \u001b[0;34m=\u001b[0m \u001b[0;36m10\u001b[0m\u001b[0;34m*\u001b[0m\u001b[0mnp\u001b[0m\u001b[0;34m.\u001b[0m\u001b[0mint\u001b[0m\u001b[0;34m(\u001b[0m\u001b[0macf\u001b[0m\u001b[0;34m.\u001b[0m\u001b[0msize\u001b[0m\u001b[0;34m/\u001b[0m\u001b[0;36m10\u001b[0m\u001b[0;34m)\u001b[0m\u001b[0;34m\u001b[0m\u001b[0m\n",
      "\u001b[0;32m~/Desktop/VAE_density/samplers.py\u001b[0m in \u001b[0;36mcompute_acf\u001b[0;34m(X)\u001b[0m\n\u001b[1;32m    375\u001b[0m     \u001b[0muse\u001b[0m \u001b[0mFFT\u001b[0m \u001b[0mto\u001b[0m \u001b[0mcompute\u001b[0m \u001b[0mAutoCorrelation\u001b[0m \u001b[0mFunction\u001b[0m\u001b[0;34m\u001b[0m\u001b[0m\n\u001b[1;32m    376\u001b[0m     \"\"\"\n\u001b[0;32m--> 377\u001b[0;31m     \u001b[0mY\u001b[0m \u001b[0;34m=\u001b[0m \u001b[0;34m(\u001b[0m\u001b[0mX\u001b[0m\u001b[0;34m-\u001b[0m\u001b[0mnp\u001b[0m\u001b[0;34m.\u001b[0m\u001b[0mmean\u001b[0m\u001b[0;34m(\u001b[0m\u001b[0mX\u001b[0m\u001b[0;34m)\u001b[0m\u001b[0;34m)\u001b[0m\u001b[0;34m/\u001b[0m\u001b[0mnp\u001b[0m\u001b[0;34m.\u001b[0m\u001b[0mstd\u001b[0m\u001b[0;34m(\u001b[0m\u001b[0mX\u001b[0m\u001b[0;34m)\u001b[0m\u001b[0;34m\u001b[0m\u001b[0m\n\u001b[0m\u001b[1;32m    378\u001b[0m     \u001b[0macf\u001b[0m \u001b[0;34m=\u001b[0m \u001b[0msp\u001b[0m\u001b[0;34m.\u001b[0m\u001b[0mfftconvolve\u001b[0m\u001b[0;34m(\u001b[0m\u001b[0mY\u001b[0m\u001b[0;34m,\u001b[0m\u001b[0mY\u001b[0m\u001b[0;34m[\u001b[0m\u001b[0;34m:\u001b[0m\u001b[0;34m:\u001b[0m\u001b[0;34m-\u001b[0m\u001b[0;36m1\u001b[0m\u001b[0;34m]\u001b[0m\u001b[0;34m,\u001b[0m \u001b[0mmode\u001b[0m\u001b[0;34m=\u001b[0m\u001b[0;34m'full'\u001b[0m\u001b[0;34m)\u001b[0m \u001b[0;34m/\u001b[0m \u001b[0mY\u001b[0m\u001b[0;34m.\u001b[0m\u001b[0msize\u001b[0m\u001b[0;34m\u001b[0m\u001b[0m\n\u001b[1;32m    379\u001b[0m     \u001b[0macf\u001b[0m \u001b[0;34m=\u001b[0m \u001b[0macf\u001b[0m\u001b[0;34m[\u001b[0m\u001b[0mY\u001b[0m\u001b[0;34m.\u001b[0m\u001b[0msize\u001b[0m\u001b[0;34m:\u001b[0m\u001b[0;34m]\u001b[0m\u001b[0;34m\u001b[0m\u001b[0m\n",
      "\u001b[0;31mFloatingPointError\u001b[0m: invalid value encountered in true_divide"
     ]
    }
   ],
   "source": [
    "[gewer_estimate_IAT(trace['bias_1'][:,j]) \n",
    "         for j in range(np.shape(trace['bias_1'])[-1])]"
   ]
  },
  {
   "cell_type": "code",
   "execution_count": 37,
   "metadata": {},
   "outputs": [
    {
     "data": {
      "text/plain": [
       "array([[[ 9.99455922e-04, -1.60957122e+00,  1.87781823e+00, ...,\n",
       "          1.39187325e+00,  2.51880500e+00, -3.38218185e+00]],\n",
       "\n",
       "       [[ 9.99455922e-04, -1.60957122e+00,  1.87781823e+00, ...,\n",
       "         -1.00481199e+00, -1.72327363e+00, -1.15059972e+01]],\n",
       "\n",
       "       [[ 9.99455922e-04, -1.60957122e+00,  1.87781823e+00, ...,\n",
       "          2.69689130e+00,  1.47085335e+00, -4.28951329e+00]],\n",
       "\n",
       "       ...,\n",
       "\n",
       "       [[ 9.99455922e-04, -1.60957122e+00,  1.87781823e+00, ...,\n",
       "          3.37383196e+00, -1.64792862e+00, -2.12262595e+00]],\n",
       "\n",
       "       [[ 9.99455922e-04, -1.60957122e+00,  1.87781823e+00, ...,\n",
       "          2.86344105e-01,  4.04398594e+00, -1.63403643e+00]],\n",
       "\n",
       "       [[ 9.99455922e-04, -1.60957122e+00,  1.87781823e+00, ...,\n",
       "          3.60750949e-01, -2.63385392e-01, -4.49098562e+00]]])"
      ]
     },
     "execution_count": 37,
     "metadata": {},
     "output_type": "execute_result"
    }
   ],
   "source": [
    "trace['weights_1']"
   ]
  },
  {
   "cell_type": "code",
   "execution_count": null,
   "metadata": {
    "collapsed": true
   },
   "outputs": [],
   "source": []
  },
  {
   "cell_type": "code",
   "execution_count": null,
   "metadata": {
    "collapsed": true
   },
   "outputs": [],
   "source": []
  },
  {
   "cell_type": "code",
   "execution_count": null,
   "metadata": {
    "collapsed": true
   },
   "outputs": [],
   "source": []
  },
  {
   "cell_type": "code",
   "execution_count": 39,
   "metadata": {},
   "outputs": [
    {
     "data": {
      "image/png": "[encoded data removed]",
      "text/plain": [
       "<Figure size 1080x216 with 1 Axes>"
      ]
     },
     "metadata": {},
     "output_type": "display_data"
    }
   ],
   "source": [
    "iact_nn = [gewer_estimate_IAT(trace['weights_1'][:,0,j]) \n",
    "          for j in np.arange(10,np.shape(trace['weights_1'])[-1])] + \\\n",
    "         [gewer_estimate_IAT(trace['bias_1'][:,j]) \n",
    "         for j in np.arange(10,np.shape(trace['bias_1'])[-1])] + \\\n",
    "[gewer_estimate_IAT(trace['weights_2'][:,i,j]) \n",
    "         for i in range(np.shape(trace['weights_2'])[-2]) \n",
    "         for j in np.arange(10,np.shape(trace['weights_2'])[-1])] + \\\n",
    "[gewer_estimate_IAT(trace['bias_2'][:,j]) \n",
    "         for j in np.arange(10,np.shape(trace['bias_2'])[-1])]\n",
    "plt.figure(figsize=(15,3))\n",
    "plt.plot(iact_nn, 'o', markersize=4)\n",
    "plt.grid(True)\n",
    "plt.title(\"IACTs of neural network parameters\");"
   ]
  },
  {
   "cell_type": "code",
   "execution_count": 40,
   "metadata": {},
   "outputs": [
    {
     "data": {
      "image/png": "[encoded data removed]",
      "text/plain": [
       "<Figure size 1080x216 with 1 Axes>"
      ]
     },
     "metadata": {},
     "output_type": "display_data"
    }
   ],
   "source": [
    "iact_x = [gewer_estimate_IAT(trace['X'][:,i,0]) for i in range(np.shape(trace['X'])[-2])]\n",
    "plt.figure(figsize=(15,3))\n",
    "plt.plot(iact_x, 'o', markersize=4)\n",
    "plt.grid(True)\n",
    "plt.title(\"IACTs of latent X\");"
   ]
  },
  {
   "cell_type": "markdown",
   "metadata": {},
   "source": [
    "#### Plot final:"
   ]
  },
  {
   "cell_type": "code",
   "execution_count": 42,
   "metadata": {},
   "outputs": [
    {
     "data": {
      "text/plain": [
       "<matplotlib.legend.Legend at 0x7fbce744c080>"
      ]
     },
     "execution_count": 42,
     "metadata": {},
     "output_type": "execute_result"
    },
    {
     "data": {
      "image/png": "[encoded data removed]",
      "text/plain": [
       "<Figure size 432x288 with 1 Axes>"
      ]
     },
     "metadata": {},
     "output_type": "display_data"
    }
   ],
   "source": [
    "trace = fit.extract()\n",
    "y_pred = np.matmul(np.tanh(trace['X'][-1]*trace['weights_1'][-1] \\\n",
    "                           + trace['bias_1'][-1]),trace['weights_2'][-1]) \\\n",
    "         + trace['bias_2'][-1] \n",
    "\n",
    "plt.plot(list(Y[:,0]), list(Y[:,1]), 'o', markersize=2, label=\"true values\")\n",
    "plt.plot(y_pred[:,0],y_pred[:,1], 'o', markersize=2, label=\"final predicted\")\n",
    "plt.grid(True)\n",
    "plt.legend(ncol=2)"
   ]
  },
  {
   "cell_type": "markdown",
   "metadata": {},
   "source": [
    "### Predictive distribution:"
   ]
  },
  {
   "cell_type": "code",
   "execution_count": 43,
   "metadata": {},
   "outputs": [
    {
     "data": {
      "text/plain": [
       "<matplotlib.legend.Legend at 0x7fbce49896d8>"
      ]
     },
     "execution_count": 43,
     "metadata": {},
     "output_type": "execute_result"
    },
    {
     "data": {
      "image/png": "[encoded data removed]",
      "text/plain": [
       "<Figure size 432x288 with 1 Axes>"
      ]
     },
     "metadata": {},
     "output_type": "display_data"
    }
   ],
   "source": [
    "Ntest = 1_000\n",
    "X_test = npr.randn(Ntest, n_in)\n",
    "y_test = np.matmul(np.tanh(X_test*trace['weights_1'][-1] \\\n",
    "                           + trace['bias_1'][-1]),trace['weights_2'][-1]) \\\n",
    "         + trace['bias_2'][-1] \n",
    "plt.plot(list(Y[:,0]), list(Y[:,1]), 'o', markersize=2, label=\"true values\")\n",
    "plt.plot(y_test[:,0],y_test[:,1], 'ro', markersize=2, label=\"test\")\n",
    "plt.grid(True)\n",
    "plt.legend(ncol=2)"
   ]
  },
  {
   "cell_type": "code",
   "execution_count": null,
   "metadata": {
    "collapsed": true
   },
   "outputs": [],
   "source": []
  }
 ],
 "metadata": {
  "kernelspec": {
   "display_name": "Python 3",
   "language": "python",
   "name": "python3"
  },
  "language_info": {
   "codemirror_mode": {
    "name": "ipython",
    "version": 3
   },
   "file_extension": ".py",
   "mimetype": "text/x-python",
   "name": "python",
   "nbconvert_exporter": "python",
   "pygments_lexer": "ipython3",
   "version": "3.6.2"
  }
 },
 "nbformat": 4,
 "nbformat_minor": 2
}

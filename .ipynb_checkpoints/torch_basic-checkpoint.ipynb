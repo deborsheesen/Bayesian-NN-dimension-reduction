{
 "cells": [
  {
   "cell_type": "markdown",
   "metadata": {},
   "source": [
    "References:\n",
    "\n",
    "https://github.com/yunjey/pytorch-tutorial \n",
    "\n",
    "https://medium.com/coinmonks/create-a-neural-network-in-pytorch-and-make-your-life-simpler-ec5367895199"
   ]
  },
  {
   "cell_type": "code",
   "execution_count": 1,
   "metadata": {
    "collapsed": true
   },
   "outputs": [],
   "source": [
    "import torch, torch.nn as nn, copy, timeit\n",
    "from torch.distributions.bernoulli import Bernoulli \n",
    "from time import time"
   ]
  },
  {
   "cell_type": "markdown",
   "metadata": {},
   "source": [
    "#### Define number of layers and number of nodes per layer:"
   ]
  },
  {
   "cell_type": "code",
   "execution_count": 2,
   "metadata": {
    "collapsed": true
   },
   "outputs": [],
   "source": [
    "n_in = 2\n",
    "n_h1 = 5\n",
    "n_out = 2\n",
    "batch_size = 5"
   ]
  },
  {
   "cell_type": "markdown",
   "metadata": {},
   "source": [
    "#### Define model:"
   ]
  },
  {
   "cell_type": "code",
   "execution_count": 5,
   "metadata": {},
   "outputs": [],
   "source": [
    "model = nn.Sequential(nn.Linear(n_in, n_h1),\n",
    "                      nn.ReLU(),\n",
    "                      nn.Linear(n_h1, n_out),\n",
    "                      nn.Sigmoid())"
   ]
  },
  {
   "cell_type": "code",
   "execution_count": 6,
   "metadata": {},
   "outputs": [
    {
     "name": "stdout",
     "output_type": "stream",
     "text": [
      "Sequential(\n",
      "  (0): Linear(in_features=2, out_features=5, bias=True)\n",
      "  (1): ReLU()\n",
      "  (2): Linear(in_features=5, out_features=2, bias=True)\n",
      "  (3): Sigmoid()\n",
      ")\n"
     ]
    }
   ],
   "source": [
    "print(model)"
   ]
  },
  {
   "cell_type": "markdown",
   "metadata": {},
   "source": [
    "* Make a copy of the model:"
   ]
  },
  {
   "cell_type": "code",
   "execution_count": 7,
   "metadata": {
    "collapsed": true
   },
   "outputs": [],
   "source": [
    "model_copy = copy.deepcopy(model)"
   ]
  },
  {
   "cell_type": "markdown",
   "metadata": {},
   "source": [
    "* Modify parameters within model:"
   ]
  },
  {
   "cell_type": "code",
   "execution_count": 98,
   "metadata": {},
   "outputs": [
    {
     "name": "stdout",
     "output_type": "stream",
     "text": [
      "tensor([[-0.2539, -0.1512],\n",
      "        [ 0.3954, -0.5860],\n",
      "        [ 0.4480, -0.0537],\n",
      "        [ 0.0240, -0.0454],\n",
      "        [ 0.6799,  0.0556]])\n",
      "tensor([-0.0061,  0.4293,  0.6972, -0.0248,  0.0624])\n",
      "tensor([[-0.0892,  0.0842,  0.4037,  0.0654, -0.0591],\n",
      "        [-0.2343,  0.3095,  0.2864, -0.1971,  0.1245],\n",
      "        [-0.2816,  0.1038, -0.3724, -0.0171,  0.3661],\n",
      "        [ 0.3533,  0.3257,  0.0191,  0.0169, -0.1510],\n",
      "        [ 0.2251,  0.1269,  0.0636,  0.1607,  0.1241]])\n",
      "tensor([ 0.1911,  0.3518,  0.1082, -0.1249, -0.1715])\n",
      "tensor([[-0.2523, -0.3053, -0.1101, -0.4300, -0.0090],\n",
      "        [-0.1467, -0.3035, -0.2172,  0.2510, -0.1680]])\n",
      "tensor([-0.3583, -0.1321])\n"
     ]
    }
   ],
   "source": [
    "for (i, param) in enumerate(model.parameters()) :\n",
    "    print(param.data)\n",
    "#     param.data = param.data.add(1)\n",
    "    param.data.add_(1)"
   ]
  },
  {
   "cell_type": "code",
   "execution_count": 99,
   "metadata": {},
   "outputs": [
    {
     "name": "stdout",
     "output_type": "stream",
     "text": [
      "Parameter containing:\n",
      "tensor([[0.7461, 0.8488],\n",
      "        [1.3954, 0.4140],\n",
      "        [1.4480, 0.9463],\n",
      "        [1.0240, 0.9546],\n",
      "        [1.6799, 1.0556]], requires_grad=True)\n",
      "Parameter containing:\n",
      "tensor([0.9939, 1.4293, 1.6972, 0.9752, 1.0624], requires_grad=True)\n",
      "Parameter containing:\n",
      "tensor([[0.9108, 1.0842, 1.4037, 1.0654, 0.9409],\n",
      "        [0.7657, 1.3095, 1.2864, 0.8029, 1.1245],\n",
      "        [0.7184, 1.1038, 0.6276, 0.9829, 1.3661],\n",
      "        [1.3533, 1.3257, 1.0191, 1.0169, 0.8490],\n",
      "        [1.2251, 1.1269, 1.0636, 1.1607, 1.1241]], requires_grad=True)\n",
      "Parameter containing:\n",
      "tensor([1.1911, 1.3518, 1.1082, 0.8751, 0.8285], requires_grad=True)\n",
      "Parameter containing:\n",
      "tensor([[0.7477, 0.6947, 0.8899, 0.5700, 0.9910],\n",
      "        [0.8533, 0.6965, 0.7828, 1.2510, 0.8320]], requires_grad=True)\n",
      "Parameter containing:\n",
      "tensor([0.6417, 0.8679], requires_grad=True)\n"
     ]
    }
   ],
   "source": [
    "for (i, param) in enumerate(model.parameters()) :\n",
    "    print(param)"
   ]
  },
  {
   "cell_type": "markdown",
   "metadata": {},
   "source": [
    "* Check total number of parameters:"
   ]
  },
  {
   "cell_type": "code",
   "execution_count": 100,
   "metadata": {},
   "outputs": [
    {
     "name": "stdout",
     "output_type": "stream",
     "text": [
      "57\n",
      "57\n"
     ]
    }
   ],
   "source": [
    "print(sum(p.numel() for p in model.parameters()))\n",
    "print(sum(p.numel() for p in model.parameters() if p.requires_grad))"
   ]
  },
  {
   "cell_type": "markdown",
   "metadata": {},
   "source": [
    "#### Simulate some data:"
   ]
  },
  {
   "cell_type": "code",
   "execution_count": 101,
   "metadata": {},
   "outputs": [
    {
     "name": "stdout",
     "output_type": "stream",
     "text": [
      "tensor([[ 0.0319, -0.2415],\n",
      "        [ 0.0912, -0.3437],\n",
      "        [-0.9408,  0.2738],\n",
      "        [-1.4995, -0.6780],\n",
      "        [-2.2065,  0.3260]], requires_grad=True)\n",
      "tensor([[0., 0.],\n",
      "        [0., 0.],\n",
      "        [0., 0.],\n",
      "        [1., 0.],\n",
      "        [1., 0.]])\n"
     ]
    }
   ],
   "source": [
    "x = torch.randn(batch_size, n_in, requires_grad=True)\n",
    "# y = torch.tensor([[1.,1.], [0.,1.], [0.,1.], [1.,1.], [1.,0.], [1.,0.], [0.,1.], [0.,1.], [1.,0.], [1.,1.]])\n",
    "y = Bernoulli(0.3).sample(sample_shape=[batch_size, n_out])\n",
    "print(x)\n",
    "print(y)"
   ]
  },
  {
   "cell_type": "code",
   "execution_count": 105,
   "metadata": {},
   "outputs": [
    {
     "data": {
      "text/plain": [
       "tensor([[0., 0.],\n",
       "        [0., 0.],\n",
       "        [0., 0.],\n",
       "        [1., 0.],\n",
       "        [1., 0.]])"
      ]
     },
     "execution_count": 105,
     "metadata": {},
     "output_type": "execute_result"
    }
   ],
   "source": [
    "y"
   ]
  },
  {
   "cell_type": "code",
   "execution_count": null,
   "metadata": {
    "collapsed": true
   },
   "outputs": [],
   "source": []
  },
  {
   "cell_type": "markdown",
   "metadata": {},
   "source": [
    "#### Randomly initialise model weights:"
   ]
  },
  {
   "cell_type": "code",
   "execution_count": 13,
   "metadata": {},
   "outputs": [
    {
     "data": {
      "text/plain": [
       "Sequential(\n",
       "  (0): Linear(in_features=2, out_features=5, bias=True)\n",
       "  (1): ReLU()\n",
       "  (2): Linear(in_features=5, out_features=5, bias=True)\n",
       "  (3): ReLU()\n",
       "  (4): Linear(in_features=5, out_features=1, bias=True)\n",
       "  (5): Sigmoid()\n",
       ")"
      ]
     },
     "execution_count": 13,
     "metadata": {},
     "output_type": "execute_result"
    }
   ],
   "source": [
    "def init_normal(m):\n",
    "    if type(m) == nn.Linear:\n",
    "        nn.init.uniform_(m.weight)\n",
    "#         nn.init.normal_(m.weight)\n",
    "\n",
    "\n",
    "# use the modules apply function to recursively apply the initialization\n",
    "model.apply(init_normal)"
   ]
  },
  {
   "cell_type": "code",
   "execution_count": 14,
   "metadata": {},
   "outputs": [
    {
     "name": "stdout",
     "output_type": "stream",
     "text": [
      "Parameter containing:\n",
      "tensor([[0.6192, 0.7905],\n",
      "        [0.6344, 0.7716],\n",
      "        [0.9902, 0.0784],\n",
      "        [0.0578, 0.6072],\n",
      "        [0.4677, 0.0873]], requires_grad=True)\n",
      "Parameter containing:\n",
      "tensor([0.4918, 0.4377, 0.6472, 1.0738, 0.9308], requires_grad=True)\n",
      "Parameter containing:\n",
      "tensor([[0.8421, 0.5173, 0.0555, 0.3516, 0.7750],\n",
      "        [0.2502, 0.4258, 0.3056, 0.2145, 0.6253],\n",
      "        [0.6557, 0.1988, 0.4634, 0.2234, 0.7391],\n",
      "        [0.1546, 0.5395, 0.9678, 0.4042, 0.7264],\n",
      "        [0.7077, 0.6203, 0.5500, 0.4421, 0.1903]], requires_grad=True)\n",
      "Parameter containing:\n",
      "tensor([1.1435, 1.3232, 1.2173, 0.5792, 0.6759], requires_grad=True)\n",
      "Parameter containing:\n",
      "tensor([[0.4591, 0.8354, 0.3389, 0.3499, 0.4650]], requires_grad=True)\n",
      "Parameter containing:\n",
      "tensor([0.9154], requires_grad=True)\n"
     ]
    }
   ],
   "source": [
    "for (i, param) in enumerate(model.parameters()) :\n",
    "    print(param)"
   ]
  },
  {
   "cell_type": "markdown",
   "metadata": {},
   "source": [
    "#### Get shapes of parameter tensors:"
   ]
  },
  {
   "cell_type": "code",
   "execution_count": 15,
   "metadata": {},
   "outputs": [
    {
     "name": "stdout",
     "output_type": "stream",
     "text": [
      "[torch.Size([5, 2]), torch.Size([5]), torch.Size([5, 5]), torch.Size([5]), torch.Size([1, 5]), torch.Size([1])]\n"
     ]
    }
   ],
   "source": [
    "shapes = []\n",
    "for param in model.parameters() :\n",
    "    shapes.append(param.shape)\n",
    "print(shapes)"
   ]
  },
  {
   "cell_type": "markdown",
   "metadata": {},
   "source": [
    "#### Pass input through model:"
   ]
  },
  {
   "cell_type": "code",
   "execution_count": 16,
   "metadata": {
    "scrolled": true
   },
   "outputs": [
    {
     "name": "stdout",
     "output_type": "stream",
     "text": [
      "tensor([[0.9999],\n",
      "        [1.0000],\n",
      "        [0.9995],\n",
      "        [0.9893],\n",
      "        [0.9912],\n",
      "        [0.9997],\n",
      "        [0.9999],\n",
      "        [0.9997],\n",
      "        [1.0000],\n",
      "        [0.9998],\n",
      "        [0.9778],\n",
      "        [0.9993],\n",
      "        [1.0000],\n",
      "        [0.9852],\n",
      "        [0.9896],\n",
      "        [0.9905],\n",
      "        [0.9998],\n",
      "        [0.9999],\n",
      "        [0.9984],\n",
      "        [0.9997],\n",
      "        [0.9997],\n",
      "        [0.9862],\n",
      "        [0.9995],\n",
      "        [0.9999],\n",
      "        [0.9983],\n",
      "        [0.9960],\n",
      "        [0.9996],\n",
      "        [0.9954],\n",
      "        [0.9995],\n",
      "        [0.9913],\n",
      "        [0.9896],\n",
      "        [1.0000],\n",
      "        [0.9837],\n",
      "        [0.9994],\n",
      "        [0.9990],\n",
      "        [0.9918],\n",
      "        [0.9992],\n",
      "        [1.0000],\n",
      "        [1.0000],\n",
      "        [0.9999],\n",
      "        [1.0000],\n",
      "        [0.9877],\n",
      "        [1.0000],\n",
      "        [0.9818],\n",
      "        [1.0000],\n",
      "        [0.9986],\n",
      "        [1.0000],\n",
      "        [0.9869],\n",
      "        [1.0000],\n",
      "        [0.9901],\n",
      "        [0.9928],\n",
      "        [1.0000],\n",
      "        [0.9995],\n",
      "        [0.9867],\n",
      "        [1.0000],\n",
      "        [0.9973],\n",
      "        [0.9998],\n",
      "        [0.9984],\n",
      "        [1.0000],\n",
      "        [0.9998],\n",
      "        [0.9950],\n",
      "        [0.9895],\n",
      "        [0.9998],\n",
      "        [0.9936],\n",
      "        [0.9997],\n",
      "        [0.9998],\n",
      "        [0.9968],\n",
      "        [0.9989],\n",
      "        [0.9948],\n",
      "        [0.9842],\n",
      "        [1.0000],\n",
      "        [0.9984],\n",
      "        [0.9984],\n",
      "        [0.9995],\n",
      "        [1.0000],\n",
      "        [1.0000],\n",
      "        [0.9891],\n",
      "        [1.0000],\n",
      "        [0.9967],\n",
      "        [0.9988],\n",
      "        [0.9994],\n",
      "        [1.0000],\n",
      "        [0.9928],\n",
      "        [1.0000],\n",
      "        [1.0000],\n",
      "        [1.0000],\n",
      "        [0.9999],\n",
      "        [0.9975],\n",
      "        [1.0000],\n",
      "        [0.9988],\n",
      "        [1.0000],\n",
      "        [0.9942],\n",
      "        [0.9996],\n",
      "        [1.0000],\n",
      "        [0.9997],\n",
      "        [1.0000],\n",
      "        [0.9957],\n",
      "        [1.0000],\n",
      "        [0.9993],\n",
      "        [0.9936]], grad_fn=<SigmoidBackward>)\n"
     ]
    }
   ],
   "source": [
    "pred = model(x)\n",
    "print(pred)"
   ]
  },
  {
   "cell_type": "markdown",
   "metadata": {},
   "source": [
    "#### Define loss function:"
   ]
  },
  {
   "cell_type": "code",
   "execution_count": 17,
   "metadata": {
    "collapsed": true
   },
   "outputs": [],
   "source": [
    "criterion = nn.MSELoss()\n",
    "optimizer = torch.optim.SGD(model.parameters(), lr=0.01)"
   ]
  },
  {
   "cell_type": "code",
   "execution_count": 18,
   "metadata": {
    "collapsed": true
   },
   "outputs": [],
   "source": [
    "loss = criterion(pred, y)\n",
    "loss.backward(retain_graph=True)"
   ]
  },
  {
   "cell_type": "code",
   "execution_count": 19,
   "metadata": {},
   "outputs": [
    {
     "name": "stdout",
     "output_type": "stream",
     "text": [
      "tensor(0.7452, grad_fn=<MseLossBackward>)\n"
     ]
    }
   ],
   "source": [
    "print(loss)"
   ]
  },
  {
   "cell_type": "markdown",
   "metadata": {},
   "source": [
    "#### Look at gradients:"
   ]
  },
  {
   "cell_type": "code",
   "execution_count": 20,
   "metadata": {
    "scrolled": true
   },
   "outputs": [
    {
     "data": {
      "text/plain": [
       "tensor([[ 5.0117e-06,  3.8916e-06],\n",
       "        [ 6.9085e-08,  5.3645e-08],\n",
       "        [ 2.9369e-05,  2.2805e-05],\n",
       "        [ 1.5344e-04,  1.2404e-04],\n",
       "        [-1.1181e-06, -9.0391e-07],\n",
       "        [ 2.0605e-05,  1.6000e-05],\n",
       "        [ 8.4875e-06,  6.5906e-06],\n",
       "        [ 1.7020e-05,  1.3216e-05],\n",
       "        [ 3.1776e-06,  2.4674e-06],\n",
       "        [-3.0822e-09, -2.3934e-09],\n",
       "        [ 1.8697e-05,  1.9649e-04],\n",
       "        [ 4.2014e-05,  3.2624e-05],\n",
       "        [ 1.6120e-07,  1.2517e-07],\n",
       "        [-1.8999e-07, -1.9966e-06],\n",
       "        [ 3.4759e-04,  4.2546e-05],\n",
       "        [ 1.3668e-04,  1.1049e-04],\n",
       "        [ 1.3339e-05,  1.0358e-05],\n",
       "        [ 4.9553e-06,  5.4549e-06],\n",
       "        [-1.1859e-07, -1.3054e-07],\n",
       "        [ 2.0084e-05,  1.5595e-05],\n",
       "        [ 1.1837e-05,  1.3031e-05],\n",
       "        [ 1.1856e-05,  1.2460e-04],\n",
       "        [-1.7148e-08, -1.3315e-08],\n",
       "        [ 3.2390e-06,  2.5151e-06],\n",
       "        [ 1.0829e-04,  8.4087e-05],\n",
       "        [ 1.3885e-04,  5.3254e-05],\n",
       "        [ 2.3625e-05,  1.8345e-05],\n",
       "        [ 1.5516e-04,  1.8992e-05],\n",
       "        [-1.9382e-08, -1.5050e-08],\n",
       "        [-2.6375e-06, -1.0116e-06],\n",
       "        [-1.5599e-06, -1.2610e-06],\n",
       "        [ 1.0286e-06,  7.9869e-07],\n",
       "        [ 2.1714e-04,  4.0523e-05],\n",
       "        [ 3.8580e-05,  2.9957e-05],\n",
       "        [ 4.4390e-05,  4.8865e-05],\n",
       "        [ 2.8257e-04,  1.0838e-04],\n",
       "        [ 4.8815e-05,  3.7905e-05],\n",
       "        [ 7.6761e-08,  5.9605e-08],\n",
       "        [ 1.5352e-07,  1.1921e-07],\n",
       "        [-2.8797e-10, -2.2361e-10],\n",
       "        [ 7.6761e-09,  5.9605e-09],\n",
       "        [ 1.7641e-04,  1.4261e-04],\n",
       "        [ 9.2111e-07,  7.1524e-07],\n",
       "        [ 2.5664e-04,  2.0747e-04],\n",
       "        [ 9.4413e-07,  7.3313e-07],\n",
       "        [-1.2931e-07, -1.0041e-07],\n",
       "        [ 4.5288e-07,  3.5167e-07],\n",
       "        [-2.4771e-06, -2.0026e-06],\n",
       "        [ 1.5121e-06,  1.1742e-06],\n",
       "        [ 3.3062e-04,  4.0469e-05],\n",
       "        [-1.8211e-06, -6.9848e-07],\n",
       "        [-6.1858e-13, -4.8033e-13],\n",
       "        [ 2.0294e-05,  2.2340e-05],\n",
       "        [ 1.8930e-04,  1.5303e-04],\n",
       "        [-7.6957e-13, -5.9757e-13],\n",
       "        [ 1.1903e-04,  1.3104e-04],\n",
       "        [ 1.0451e-05,  8.1156e-06],\n",
       "        [ 5.4550e-05,  2.0923e-05],\n",
       "        [ 2.3641e-06,  1.8357e-06],\n",
       "        [ 1.4881e-05,  1.1555e-05],\n",
       "        [ 1.7290e-04,  6.6317e-05],\n",
       "        [-3.8237e-06, -1.4666e-06],\n",
       "        [ 8.6965e-06,  9.5734e-06],\n",
       "        [ 2.7570e-04,  3.0349e-04],\n",
       "        [ 1.8692e-05,  1.4514e-05],\n",
       "        [ 9.8849e-06,  1.0882e-05],\n",
       "        [ 2.0326e-04,  1.5783e-04],\n",
       "        [ 6.9357e-05,  5.3856e-05],\n",
       "        [ 1.8134e-04,  6.9553e-05],\n",
       "        [ 2.2444e-04,  1.8145e-04],\n",
       "        [-8.5121e-11, -6.6097e-11],\n",
       "        [ 6.8403e-05,  7.5300e-05],\n",
       "        [ 1.0422e-04,  8.0925e-05],\n",
       "        [ 3.1434e-05,  2.4408e-05],\n",
       "        [ 1.3970e-06,  1.0848e-06],\n",
       "        [ 2.7401e-06,  2.1277e-06],\n",
       "        [ 1.5595e-04,  1.2608e-04],\n",
       "        [ 7.6761e-09,  5.9605e-09],\n",
       "        [-3.7953e-07, -1.4557e-07],\n",
       "        [-9.8395e-08, -7.6404e-08],\n",
       "        [ 1.9320e-05,  7.4103e-06],\n",
       "        [-2.1083e-12, -1.6371e-12],\n",
       "        [ 2.4988e-04,  9.5843e-05],\n",
       "        [ 2.7632e-06,  2.1456e-06],\n",
       "        [-8.7937e-13, -6.8284e-13],\n",
       "        [-8.2356e-15, -6.3950e-15],\n",
       "        [ 6.2702e-06,  4.8688e-06],\n",
       "        [ 1.5937e-04,  1.2375e-04],\n",
       "        [ 5.1429e-07,  3.9935e-07],\n",
       "        [ 5.2384e-05,  5.7665e-05],\n",
       "        [-4.8407e-13, -3.7588e-13],\n",
       "        [ 1.6807e-04,  1.7553e-04],\n",
       "        [-8.5316e-09, -6.6248e-09],\n",
       "        [ 1.2051e-06,  9.3577e-07],\n",
       "        [ 2.0528e-05,  1.5940e-05],\n",
       "        [-6.7677e-12, -5.2552e-12],\n",
       "        [ 1.4829e-04,  5.6877e-05],\n",
       "        [ 0.0000e+00,  0.0000e+00],\n",
       "        [ 4.3518e-05,  3.3792e-05],\n",
       "        [-1.2022e-06, -1.2555e-06]])"
      ]
     },
     "execution_count": 20,
     "metadata": {},
     "output_type": "execute_result"
    }
   ],
   "source": [
    "x.grad"
   ]
  },
  {
   "cell_type": "code",
   "execution_count": 21,
   "metadata": {},
   "outputs": [
    {
     "name": "stdout",
     "output_type": "stream",
     "text": [
      "0 tensor([[-0.0007,  0.0004],\n",
      "        [-0.0006,  0.0004],\n",
      "        [-0.0004, -0.0017],\n",
      "        [-0.0033, -0.0017],\n",
      "        [-0.0047, -0.0049]])\n",
      "1 tensor([0.0009, 0.0007, 0.0016, 0.0030, 0.0059])\n",
      "2 tensor([[1.1858e-04, 9.3225e-05, 2.3482e-04, 1.1798e-03, 8.8652e-04],\n",
      "        [2.1578e-04, 1.6963e-04, 4.2728e-04, 2.1467e-03, 1.6131e-03],\n",
      "        [8.7546e-05, 6.8826e-05, 1.7336e-04, 8.7099e-04, 6.5449e-04],\n",
      "        [9.0375e-05, 7.1049e-05, 1.7896e-04, 8.9913e-04, 6.7564e-04],\n",
      "        [1.2011e-04, 9.4428e-05, 2.3785e-04, 1.1950e-03, 8.9796e-04]])\n",
      "3 tensor([0.0022, 0.0039, 0.0016, 0.0016, 0.0022])\n",
      "4 tensor([[0.0081, 0.0083, 0.0082, 0.0058, 0.0053]])\n",
      "5 tensor([0.0047])\n"
     ]
    }
   ],
   "source": [
    "grads = []\n",
    "for (i, param) in enumerate(model.parameters()) :\n",
    "    grads.append(param.grad)\n",
    "    print (i, param.grad)"
   ]
  },
  {
   "cell_type": "markdown",
   "metadata": {},
   "source": [
    "#### Optimize:"
   ]
  },
  {
   "cell_type": "code",
   "execution_count": 22,
   "metadata": {
    "scrolled": true
   },
   "outputs": [
    {
     "name": "stdout",
     "output_type": "stream",
     "text": [
      "epoch:  5000  loss:  0.18439698219299316\n",
      "epoch:  10000  loss:  0.18186572194099426\n",
      "epoch:  15000  loss:  0.18050706386566162\n",
      "epoch:  20000  loss:  0.17922110855579376\n",
      "epoch:  25000  loss:  0.17807553708553314\n",
      "epoch:  30000  loss:  0.1772245317697525\n",
      "epoch:  35000  loss:  0.17646253108978271\n",
      "epoch:  40000  loss:  0.1757882684469223\n",
      "epoch:  45000  loss:  0.17525261640548706\n",
      "epoch:  50000  loss:  0.17485176026821136\n"
     ]
    }
   ],
   "source": [
    "for epoch in range(50_000):\n",
    "    # Forward Propagation\n",
    "    y_pred = model(x)\n",
    "    # Compute and print loss\n",
    "    loss = criterion(y_pred, y)\n",
    "    if (epoch+1)%5_000 == 0 :\n",
    "        print('epoch: ', epoch+1,' loss: ', loss.item())\n",
    "    # Zero the gradients\n",
    "    optimizer.zero_grad()\n",
    "    \n",
    "    # perform a backward pass (backpropagation)\n",
    "    loss.backward()\n",
    "    \n",
    "    # Update the parameters\n",
    "    optimizer.step()"
   ]
  },
  {
   "cell_type": "code",
   "execution_count": 106,
   "metadata": {},
   "outputs": [
    {
     "data": {
      "text/plain": [
       "tensor([[1.0000, 1.0000],\n",
       "        [1.0000, 1.0000],\n",
       "        [1.0000, 1.0000],\n",
       "        [0.9917, 0.9958],\n",
       "        [0.9917, 0.9958]], grad_fn=<SigmoidBackward>)"
      ]
     },
     "execution_count": 106,
     "metadata": {},
     "output_type": "execute_result"
    }
   ],
   "source": [
    "y_pred = model(x)\n",
    "y_pred"
   ]
  },
  {
   "cell_type": "code",
   "execution_count": 107,
   "metadata": {
    "collapsed": true
   },
   "outputs": [],
   "source": [
    "loss = criterion(y_pred, y)"
   ]
  },
  {
   "cell_type": "code",
   "execution_count": 110,
   "metadata": {},
   "outputs": [
    {
     "data": {
      "text/plain": [
       "torch.float32"
      ]
     },
     "execution_count": 110,
     "metadata": {},
     "output_type": "execute_result"
    }
   ],
   "source": [
    "y.dtype"
   ]
  },
  {
   "cell_type": "code",
   "execution_count": 111,
   "metadata": {},
   "outputs": [
    {
     "data": {
      "text/plain": [
       "tensor([[0., 0.],\n",
       "        [0., 0.],\n",
       "        [0., 0.],\n",
       "        [1., 0.],\n",
       "        [1., 0.]], dtype=torch.float64)"
      ]
     },
     "execution_count": 111,
     "metadata": {},
     "output_type": "execute_result"
    }
   ],
   "source": [
    "y.double()"
   ]
  },
  {
   "cell_type": "code",
   "execution_count": 113,
   "metadata": {},
   "outputs": [
    {
     "data": {
      "text/plain": [
       "tensor([[0., 0.],\n",
       "        [0., 0.],\n",
       "        [0., 0.],\n",
       "        [1., 0.],\n",
       "        [1., 0.]])"
      ]
     },
     "execution_count": 113,
     "metadata": {},
     "output_type": "execute_result"
    }
   ],
   "source": [
    "y.float()"
   ]
  },
  {
   "cell_type": "code",
   "execution_count": 115,
   "metadata": {},
   "outputs": [
    {
     "data": {
      "text/plain": [
       "torch.float32"
      ]
     },
     "execution_count": 115,
     "metadata": {},
     "output_type": "execute_result"
    }
   ],
   "source": [
    "y.dtype"
   ]
  },
  {
   "cell_type": "code",
   "execution_count": null,
   "metadata": {
    "collapsed": true
   },
   "outputs": [],
   "source": []
  }
 ],
 "metadata": {
  "kernelspec": {
   "display_name": "Python 3",
   "language": "python",
   "name": "python3"
  },
  "language_info": {
   "codemirror_mode": {
    "name": "ipython",
    "version": 3
   },
   "file_extension": ".py",
   "mimetype": "text/x-python",
   "name": "python",
   "nbconvert_exporter": "python",
   "pygments_lexer": "ipython3",
   "version": "3.6.2"
  }
 },
 "nbformat": 4,
 "nbformat_minor": 2
}

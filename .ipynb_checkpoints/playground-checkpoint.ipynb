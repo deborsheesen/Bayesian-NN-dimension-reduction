{
 "cells": [
  {
   "cell_type": "code",
   "execution_count": 1,
   "metadata": {
    "collapsed": true
   },
   "outputs": [],
   "source": [
    "import torch, torch.nn as nn, copy, timeit, numpy.random as npr, numpy as np\n",
    "from torch.distributions.bernoulli import Bernoulli \n",
    "from time import time\n",
    "import matplotlib.pyplot as plt\n",
    "%matplotlib inline\n",
    "from pylab import plot, show, legend\n",
    "from scipy.stats import uniform, gaussian_kde\n",
    "import seaborn as sns\n",
    "from tqdm import trange"
   ]
  },
  {
   "cell_type": "code",
   "execution_count": 22,
   "metadata": {},
   "outputs": [
    {
     "data": {
      "image/png": "[encoded data removed]",
      "text/plain": [
       "<Figure size 432x288 with 1 Axes>"
      ]
     },
     "metadata": {},
     "output_type": "display_data"
    }
   ],
   "source": [
    "dd = np.load(\"model1.npy\")\n",
    "X, Y = dd.item()['X'], dd.item()['Y']\n",
    "fig = plt.figure()\n",
    "X.requires_grad = True\n",
    "plt.plot(list(Y[:,0]), list(Y[:,1]), 'o', markersize=2)\n",
    "plt.grid(True)\n",
    "plt.title(\"Observed y\")\n",
    "Nobs, n_in = np.shape(X)\n",
    "n_out = np.shape(Y)[1]\n",
    "fig.savefig('img1.png', dpi=2000, bbox_inches = 'tight')"
   ]
  },
  {
   "cell_type": "code",
   "execution_count": 9,
   "metadata": {},
   "outputs": [],
   "source": [
    "n_h1 = 20\n",
    "model = nn.Sequential(nn.Linear(n_in, n_h1),\n",
    "                      nn.Tanh(),\n",
    "                      nn.Linear(n_h1, n_out))"
   ]
  },
  {
   "cell_type": "code",
   "execution_count": 10,
   "metadata": {
    "collapsed": true
   },
   "outputs": [],
   "source": [
    "def init_normal(m):\n",
    "    if type(m) == nn.Linear:\n",
    "        nn.init.normal_(m.weight)\n",
    "\n",
    "def init_uniform(m):\n",
    "    if type(m) == nn.Linear:\n",
    "        nn.init.uniform_(m.weight)"
   ]
  },
  {
   "cell_type": "code",
   "execution_count": 11,
   "metadata": {
    "collapsed": true
   },
   "outputs": [],
   "source": [
    "model.apply(init_normal)\n",
    "criterion = nn.MSELoss()\n",
    "optimizer = torch.optim.SGD(model.parameters(), lr=1e-3, momentum=0.9, nesterov=True)"
   ]
  },
  {
   "cell_type": "code",
   "execution_count": 13,
   "metadata": {},
   "outputs": [
    {
     "name": "stdout",
     "output_type": "stream",
     "text": [
      "Epoch: 10000; loss: 0.099; time: 0.1 mins\n",
      "Epoch: 20000; loss: 0.087; time: 0.2 mins\n",
      "Epoch: 30000; loss: 0.082; time: 0.3 mins\n",
      "Epoch: 40000; loss: 0.078; time: 0.3 mins\n",
      "Epoch: 50000; loss: 0.073; time: 0.4 mins\n",
      "Epoch: 60000; loss: 0.071; time: 0.5 mins\n",
      "Epoch: 70000; loss: 0.068; time: 0.6 mins\n",
      "Epoch: 80000; loss: 0.066; time: 0.7 mins\n",
      "Epoch: 90000; loss: 0.065; time: 0.8 mins\n",
      "Epoch: 100000; loss: 0.063; time: 0.9 mins\n"
     ]
    }
   ],
   "source": [
    "n_iter = 100_000\n",
    "start = time()\n",
    "for epoch in range(n_iter):\n",
    "    y_pred = model(X)\n",
    "    loss = criterion(y_pred, Y)\n",
    "    if (epoch+1)%(n_iter/10) == 0 :\n",
    "        print(\"Epoch: %d; loss: %.3f; time: %.1f mins\" % (epoch+1, loss.item(), (time()-start)/60))\n",
    "    optimizer.zero_grad()\n",
    "    loss.backward()\n",
    "    optimizer.step()"
   ]
  },
  {
   "cell_type": "code",
   "execution_count": null,
   "metadata": {},
   "outputs": [],
   "source": [
    "fig = plt.figure()\n",
    "plt.plot(list(Y[:,0]), list(Y[:,1]), 'o', markersize=2, label=\"Observed data\")\n",
    "plt.plot(list(y_pred[:,0]), list(y_pred[:,1]), 'o', markersize=2, label=\"NN fit\")\n",
    "plt.grid(True)\n",
    "plt.legend(ncol=2, loc=[0.22,1.1], fancybox=True, framealpha=0.5)\n",
    "plt.title(\"Neural network fit\")\n",
    "fig.savefig('img2.png', dpi=2000, bbox_inches = 'tight')"
   ]
  },
  {
   "cell_type": "code",
   "execution_count": null,
   "metadata": {
    "collapsed": true
   },
   "outputs": [],
   "source": []
  },
  {
   "cell_type": "code",
   "execution_count": null,
   "metadata": {
    "collapsed": true
   },
   "outputs": [],
   "source": []
  },
  {
   "cell_type": "code",
   "execution_count": 25,
   "metadata": {},
   "outputs": [
    {
     "name": "stderr",
     "output_type": "stream",
     "text": [
      "100%|██████████| 500/500 [00:00<00:00, 592.96it/s] \n"
     ]
    }
   ],
   "source": [
    "pw_dist = np.zeros((Nobs,Nobs))\n",
    "for i in trange(Nobs) :\n",
    "    for j in range(i) :\n",
    "        pw_dist[i,j] = np.linalg.norm(Y_np[i]-Y_np[j])\n",
    "        pw_dist[j,i] = pw_dist[i,j]"
   ]
  },
  {
   "cell_type": "code",
   "execution_count": 26,
   "metadata": {},
   "outputs": [
    {
     "data": {
      "text/plain": [
       "array([[ 0.        ,  5.15843534,  4.10683203, ..., 17.05953789,\n",
       "         2.26865768,  5.62293577],\n",
       "       [ 5.15843534,  0.        ,  1.72255039, ..., 12.15419483,\n",
       "         4.46018982,  0.74814773],\n",
       "       [ 4.10683203,  1.72255039,  0.        , ..., 12.95577908,\n",
       "         2.87653589,  1.76555097],\n",
       "       ...,\n",
       "       [17.05953789, 12.15419483, 12.95577908, ...,  0.        ,\n",
       "        15.52099514, 11.53651428],\n",
       "       [ 2.26865768,  4.46018982,  2.87653589, ..., 15.52099514,\n",
       "         0.        ,  4.63877773],\n",
       "       [ 5.62293577,  0.74814773,  1.76555097, ..., 11.53651428,\n",
       "         4.63877773,  0.        ]])"
      ]
     },
     "execution_count": 26,
     "metadata": {},
     "output_type": "execute_result"
    }
   ],
   "source": [
    "pw_dist"
   ]
  },
  {
   "cell_type": "code",
   "execution_count": 31,
   "metadata": {},
   "outputs": [
    {
     "data": {
      "text/plain": [
       "(22, 385)"
      ]
     },
     "execution_count": 31,
     "metadata": {},
     "output_type": "execute_result"
    }
   ],
   "source": [
    "np.unravel_index(np.argmax(pw_dist, axis=None), pw_dist.shape)"
   ]
  },
  {
   "cell_type": "code",
   "execution_count": 33,
   "metadata": {},
   "outputs": [
    {
     "data": {
      "text/plain": [
       "(tensor([-8.3671,  7.9802]), tensor([ 10.5472, -12.8297]))"
      ]
     },
     "execution_count": 33,
     "metadata": {},
     "output_type": "execute_result"
    }
   ],
   "source": [
    "Y[22], Y[385]"
   ]
  },
  {
   "cell_type": "code",
   "execution_count": null,
   "metadata": {
    "collapsed": true
   },
   "outputs": [],
   "source": []
  },
  {
   "cell_type": "code",
   "execution_count": null,
   "metadata": {
    "collapsed": true
   },
   "outputs": [],
   "source": []
  },
  {
   "cell_type": "code",
   "execution_count": null,
   "metadata": {
    "collapsed": true
   },
   "outputs": [],
   "source": []
  },
  {
   "cell_type": "code",
   "execution_count": null,
   "metadata": {
    "collapsed": true
   },
   "outputs": [],
   "source": []
  },
  {
   "cell_type": "code",
   "execution_count": null,
   "metadata": {
    "collapsed": true
   },
   "outputs": [],
   "source": []
  },
  {
   "cell_type": "code",
   "execution_count": 5,
   "metadata": {},
   "outputs": [
    {
     "data": {
      "text/plain": [
       "array([0.00017534])"
      ]
     },
     "execution_count": 5,
     "metadata": {},
     "output_type": "execute_result"
    }
   ],
   "source": [
    "kernel([15,-5])"
   ]
  },
  {
   "cell_type": "code",
   "execution_count": 6,
   "metadata": {},
   "outputs": [
    {
     "data": {
      "image/png": "[encoded data removed]",
      "text/plain": [
       "<Figure size 1440x720 with 2 Axes>"
      ]
     },
     "metadata": {},
     "output_type": "display_data"
    }
   ],
   "source": [
    "plt.figure(figsize=(20,10))\n",
    "ax = sns.kdeplot(Y[:,0].numpy(), Y[:,1].numpy(), shade=True, cbar=True, bw=1e-2)"
   ]
  },
  {
   "cell_type": "code",
   "execution_count": null,
   "metadata": {
    "collapsed": true
   },
   "outputs": [],
   "source": []
  }
 ],
 "metadata": {
  "kernelspec": {
   "display_name": "Python 3",
   "language": "python",
   "name": "python3"
  },
  "language_info": {
   "codemirror_mode": {
    "name": "ipython",
    "version": 3
   },
   "file_extension": ".py",
   "mimetype": "text/x-python",
   "name": "python",
   "nbconvert_exporter": "python",
   "pygments_lexer": "ipython3",
   "version": "3.6.2"
  }
 },
 "nbformat": 4,
 "nbformat_minor": 2
}

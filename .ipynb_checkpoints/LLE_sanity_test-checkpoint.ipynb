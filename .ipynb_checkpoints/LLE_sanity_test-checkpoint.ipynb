{
 "cells": [
  {
   "cell_type": "markdown",
   "metadata": {},
   "source": [
    "### Testing whether a NN can recover structure from LLE embeddings       "
   ]
  },
  {
   "cell_type": "code",
   "execution_count": 12,
   "metadata": {
    "collapsed": true
   },
   "outputs": [],
   "source": [
    "import torch, torch.nn as nn, copy, timeit, numpy.random as npr, numpy as np\n",
    "from torch.distributions.bernoulli import Bernoulli \n",
    "from time import time\n",
    "import matplotlib.pyplot as plt\n",
    "%matplotlib inline\n",
    "from pylab import plot, show, legend\n",
    "from scipy.stats import uniform\n",
    "from sklearn.manifold import LocallyLinearEmbedding"
   ]
  },
  {
   "cell_type": "code",
   "execution_count": 13,
   "metadata": {
    "collapsed": true
   },
   "outputs": [],
   "source": [
    "M = 1000\n",
    "X = 10*npr.rand(2,M)\n",
    "Y = np.zeros((3,M))\n",
    "Y[0] = np.cos(X[0])*np.cos(X[1])\n",
    "Y[1] = np.cos(X[0])*np.sin(X[1])\n",
    "Y[2] = np.sin(X[0])\n",
    "\n",
    "idx = Y[2]>0\n",
    "Y = Y[:,idx]\n",
    "X = X[:,idx]\n",
    "Y += 0.1*npr.rand(*np.shape(Y))\n",
    "Nobs = np.shape(X)[1]\n",
    "\n",
    "embedding = LocallyLinearEmbedding(n_components=2,n_neighbors=20)\n",
    "Y_embedded = embedding.fit_transform(Y.transpose()).transpose()"
   ]
  },
  {
   "cell_type": "code",
   "execution_count": 14,
   "metadata": {},
   "outputs": [],
   "source": [
    "Y = torch.from_numpy(Y.transpose().astype(np.float32))\n",
    "Y_embedded = torch.from_numpy(Y_embedded.transpose().astype(np.float32))"
   ]
  },
  {
   "cell_type": "code",
   "execution_count": 15,
   "metadata": {
    "collapsed": true
   },
   "outputs": [],
   "source": [
    "n_in = np.shape(Y_embedded)[1]\n",
    "n_h = 50\n",
    "n_out = np.shape(Y)[1]"
   ]
  },
  {
   "cell_type": "code",
   "execution_count": 16,
   "metadata": {
    "collapsed": true
   },
   "outputs": [],
   "source": [
    "model = nn.Sequential(nn.Linear(n_in, n_h),\n",
    "                      nn.LeakyReLU(),\n",
    "                      nn.Linear(n_h, n_out))"
   ]
  },
  {
   "cell_type": "code",
   "execution_count": 17,
   "metadata": {
    "collapsed": true
   },
   "outputs": [],
   "source": [
    "def init_normal(m):\n",
    "    if type(m) == nn.Linear:\n",
    "        nn.init.normal_(m.weight)\n",
    "model.apply(init_normal)\n",
    "criterion = nn.MSELoss()\n",
    "optimizer = torch.optim.SGD(model.parameters(), lr=1e-3, momentum=0.9, nesterov=True)"
   ]
  },
  {
   "cell_type": "code",
   "execution_count": 18,
   "metadata": {
    "scrolled": true
   },
   "outputs": [
    {
     "data": {
      "text/plain": [
       "torch.Size([630, 3])"
      ]
     },
     "execution_count": 18,
     "metadata": {},
     "output_type": "execute_result"
    }
   ],
   "source": [
    "np.shape(model(Y_embedded))"
   ]
  },
  {
   "cell_type": "code",
   "execution_count": 19,
   "metadata": {},
   "outputs": [
    {
     "name": "stdout",
     "output_type": "stream",
     "text": [
      "Epoch: 500; loss: 0.180; time: 0.0 mins\n",
      "Epoch: 1000; loss: 0.133; time: 0.0 mins\n",
      "Epoch: 1500; loss: 0.108; time: 0.0 mins\n",
      "Epoch: 2000; loss: 0.094; time: 0.0 mins\n",
      "Epoch: 2500; loss: 0.087; time: 0.0 mins\n",
      "Epoch: 3000; loss: 0.083; time: 0.0 mins\n",
      "Epoch: 3500; loss: 0.080; time: 0.0 mins\n",
      "Epoch: 4000; loss: 0.079; time: 0.0 mins\n",
      "Epoch: 4500; loss: 0.078; time: 0.0 mins\n",
      "Epoch: 5000; loss: 0.077; time: 0.0 mins\n"
     ]
    }
   ],
   "source": [
    "n_iter = 5_000\n",
    "start = time()\n",
    "for epoch in range(n_iter):\n",
    "    y_pred = model(Y_embedded)\n",
    "    loss = criterion(y_pred, Y)\n",
    "    if (epoch+1)%(n_iter/10) == 0 :\n",
    "        print(\"Epoch: %d; loss: %.3f; time: %.1f mins\" % (epoch+1, loss.item(), (time()-start)/60))\n",
    "    optimizer.zero_grad()\n",
    "    loss.backward()\n",
    "    optimizer.step()"
   ]
  },
  {
   "cell_type": "code",
   "execution_count": null,
   "metadata": {
    "collapsed": true
   },
   "outputs": [],
   "source": []
  }
 ],
 "metadata": {
  "kernelspec": {
   "display_name": "Python 3",
   "language": "python",
   "name": "python3"
  },
  "language_info": {
   "codemirror_mode": {
    "name": "ipython",
    "version": 3
   },
   "file_extension": ".py",
   "mimetype": "text/x-python",
   "name": "python",
   "nbconvert_exporter": "python",
   "pygments_lexer": "ipython3",
   "version": "3.6.2"
  }
 },
 "nbformat": 4,
 "nbformat_minor": 2
}

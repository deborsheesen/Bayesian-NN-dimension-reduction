{
 "cells": [
  {
   "cell_type": "code",
   "execution_count": 9,
   "metadata": {},
   "outputs": [],
   "source": [
    "import warnings\n",
    "warnings.filterwarnings('ignore')\n",
    "import torch\n",
    "import torch.nn.functional as nn\n",
    "import torch.autograd as autograd\n",
    "import torch.optim as optim\n",
    "import numpy as np\n",
    "import numpy.random as npr\n",
    "import matplotlib.pyplot as plt\n",
    "import matplotlib.gridspec as gridspec\n",
    "import os\n",
    "from torch.autograd import Variable\n",
    "from tensorflow.examples.tutorials.mnist import input_data\n",
    "from time import time\n",
    "%matplotlib inline  "
   ]
  },
  {
   "cell_type": "code",
   "execution_count": 2,
   "metadata": {},
   "outputs": [],
   "source": [
    "error_sigma = 1e-1\n",
    "nobs = 1_000\n",
    "xtrue = npr.randn(nobs, 1)\n",
    "ytrue = np.zeros((nobs,2))\n",
    "ytrue[:,0] = list(abs(xtrue)*np.cos(xtrue))\n",
    "ytrue[:,1] = list(abs(xtrue)*np.sin(xtrue))\n",
    "ytrue = 3*ytrue + npr.randn(*np.shape(ytrue))*error_sigma"
   ]
  },
  {
   "cell_type": "code",
   "execution_count": 3,
   "metadata": {},
   "outputs": [],
   "source": [
    "mb_size = 10\n",
    "Z_dim = 1\n",
    "X_dim = 2\n",
    "h_dim = 10\n",
    "c = 0\n",
    "lr = 1e-3"
   ]
  },
  {
   "cell_type": "code",
   "execution_count": 4,
   "metadata": {
    "collapsed": true
   },
   "outputs": [],
   "source": [
    "def xavier_init(size):\n",
    "    in_dim = size[0]\n",
    "    xavier_stddev = 1. / np.sqrt(in_dim / 2.)\n",
    "    return Variable(torch.randn(*size) * xavier_stddev, requires_grad=True)"
   ]
  },
  {
   "cell_type": "code",
   "execution_count": 5,
   "metadata": {
    "collapsed": true
   },
   "outputs": [],
   "source": [
    "# =============================== Q(z|X) ======================================\n",
    "# ============================== Encoding ===================================== \n",
    "\n",
    "Wxh = xavier_init(size=[X_dim, h_dim])\n",
    "bxh = Variable(torch.zeros(h_dim), requires_grad=True)\n",
    "\n",
    "Whz_mu = xavier_init(size=[h_dim, Z_dim])\n",
    "bhz_mu = Variable(torch.zeros(Z_dim), requires_grad=True)\n",
    "\n",
    "Whz_var = xavier_init(size=[h_dim, Z_dim])\n",
    "bhz_var = Variable(torch.zeros(Z_dim), requires_grad=True)\n",
    "\n",
    "\n",
    "def Q(X):\n",
    "    h = nn.relu(X @ Wxh + bxh.repeat(X.size(0), 1))\n",
    "    z_mu = h @ Whz_mu + bhz_mu.repeat(h.size(0), 1)\n",
    "    z_var = h @ Whz_var + bhz_var.repeat(h.size(0), 1)\n",
    "    return z_mu, z_var\n",
    "\n",
    "\n",
    "def sample_z(mu, log_var):\n",
    "    eps = Variable(torch.randn(mb_size, Z_dim))\n",
    "    return mu + torch.exp(log_var / 2) * eps"
   ]
  },
  {
   "cell_type": "code",
   "execution_count": 6,
   "metadata": {
    "collapsed": true
   },
   "outputs": [],
   "source": [
    "# =============================== P(X|z) ======================================\n",
    "# ============================== Decoding ===================================== \n",
    "\n",
    "Wzh = xavier_init(size=[Z_dim, h_dim])\n",
    "bzh = Variable(torch.zeros(h_dim), requires_grad=True)\n",
    "\n",
    "Whx = xavier_init(size=[h_dim, X_dim])\n",
    "bhx = Variable(torch.zeros(X_dim), requires_grad=True)\n",
    "\n",
    "def P(z):\n",
    "    h = nn.relu(z @ Wzh + bzh.repeat(z.size(0), 1))\n",
    "    X = torch.sigmoid(h @ Whx + bhx.repeat(h.size(0), 1))\n",
    "    return X"
   ]
  },
  {
   "cell_type": "code",
   "execution_count": 12,
   "metadata": {},
   "outputs": [
    {
     "name": "stdout",
     "output_type": "stream",
     "text": [
      "Iter: 10000; Loss: 1.757; Time: 8.5\n",
      "Iter: 20000; Loss: 2.799; Time: 1.7e+01\n",
      "Iter: 30000; Loss: 3.004; Time: 2.6e+01\n",
      "Iter: 40000; Loss: 3.28; Time: 3.4e+01\n",
      "Iter: 50000; Loss: 2.88; Time: 4.2e+01\n",
      "Iter: 60000; Loss: 4.769; Time: 5.1e+01\n",
      "Iter: 70000; Loss: 9.353; Time: 6e+01\n",
      "Iter: 80000; Loss: 4.316; Time: 6.8e+01\n",
      "Iter: 90000; Loss: 3.929; Time: 7.7e+01\n",
      "Iter: 100000; Loss: 4.985; Time: 8.6e+01\n"
     ]
    }
   ],
   "source": [
    "params = [Wxh, bxh, Whz_mu, bhz_mu, Whz_var, bhz_var,\n",
    "          Wzh, bzh, Whx, bhx]\n",
    "\n",
    "solver = optim.Adam(params, lr=lr)\n",
    "\n",
    "T = 100_000\n",
    "start = time()\n",
    "for it in range(T) :\n",
    "    mb = np.random.choice(nobs,mb_size)\n",
    "    X = ytrue[mb]\n",
    "    X = Variable(torch.from_numpy(X)).float()\n",
    "\n",
    "    # Forward\n",
    "    z_mu, z_var = Q(X)\n",
    "    z = sample_z(z_mu, z_var)\n",
    "    X_sample = P(z)\n",
    "\n",
    "    # Loss\n",
    "#     recon_loss = nn.binary_cross_entropy(X_sample, X, reduction='sum')/mb_size\n",
    "    recon_loss = torch.nn.MSELoss()(X_sample, X)\n",
    "    kl_loss = torch.mean(0.5 * torch.sum(torch.exp(z_var) + z_mu**2 - 1. - z_var, 1))\n",
    "    loss = recon_loss + kl_loss\n",
    "\n",
    "    loss.backward()\n",
    "    solver.step()\n",
    "\n",
    "    # Housekeeping\n",
    "    for p in params:\n",
    "        if p.grad is not None:\n",
    "            data = p.grad.data\n",
    "            p.grad = Variable(data.new().resize_as_(data).zero_())\n",
    "\n",
    "    # Print and plot every now and then\n",
    "    if (it+1) % (T/10) == 0:\n",
    "        print('Iter: {}; Loss: {:.4}; Time: {:.2}'.format(it+1, loss.data, time()-start))"
   ]
  },
  {
   "cell_type": "code",
   "execution_count": 14,
   "metadata": {},
   "outputs": [
    {
     "data": {
      "text/plain": [
       "tensor([[9.9922e-01, 8.9497e-14],\n",
       "        [9.9923e-01, 5.5440e-01],\n",
       "        [9.9965e-01, 2.0847e-10],\n",
       "        [3.7163e-01, 1.0511e-36],\n",
       "        [9.8759e-01, 9.8477e-01],\n",
       "        [9.9981e-01, 9.7100e-08],\n",
       "        [1.3820e-02, 1.0000e+00],\n",
       "        [9.9843e-01, 2.7191e-16],\n",
       "        [9.8996e-01, 9.7950e-01],\n",
       "        [1.6816e-02, 1.0000e+00]], grad_fn=<SigmoidBackward>)"
      ]
     },
     "execution_count": 14,
     "metadata": {},
     "output_type": "execute_result"
    }
   ],
   "source": [
    "X_sample"
   ]
  },
  {
   "cell_type": "code",
   "execution_count": null,
   "metadata": {
    "collapsed": true
   },
   "outputs": [],
   "source": []
  }
 ],
 "metadata": {
  "kernelspec": {
   "display_name": "Python 3",
   "language": "python",
   "name": "python3"
  },
  "language_info": {
   "codemirror_mode": {
    "name": "ipython",
    "version": 3
   },
   "file_extension": ".py",
   "mimetype": "text/x-python",
   "name": "python",
   "nbconvert_exporter": "python",
   "pygments_lexer": "ipython3",
   "version": "3.6.2"
  }
 },
 "nbformat": 4,
 "nbformat_minor": 2
}

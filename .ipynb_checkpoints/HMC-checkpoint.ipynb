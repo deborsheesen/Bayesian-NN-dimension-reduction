{
 "cells": [
  {
   "cell_type": "raw",
   "metadata": {},
   "source": [
    "Reference for HMC: Figure 2 of https://arxiv.org/pdf/1206.1901.pdf"
   ]
  },
  {
   "cell_type": "code",
   "execution_count": 1,
   "metadata": {},
   "outputs": [],
   "source": [
    "import numpy as np, numpy.random as npr, torch.nn as nn, copy, timeit, torch\n",
    "from torch.distributions.bernoulli import Bernoulli \n",
    "from tqdm import trange\n",
    "from HMCfunctions import *\n",
    "from time import time\n",
    "import matplotlib.pyplot as plt\n",
    "%matplotlib inline\n",
    "from pylab import plot, show, legend"
   ]
  },
  {
   "cell_type": "raw",
   "metadata": {},
   "source": [
    "Have a class \"model\" that gives log-likelihood and gradient of log-likelihood:\n",
    "\n",
    "abstract class model (must have log-likelihood and gradient)\n",
    "sub class: whatever models we are interested in "
   ]
  },
  {
   "cell_type": "raw",
   "metadata": {},
   "source": [
    "class general HMC \n",
    "class leapfrog \n",
    "takes in model\n",
    "model has gradient and log-likelihood \n",
    "etc.."
   ]
  },
  {
   "cell_type": "markdown",
   "metadata": {},
   "source": [
    "Gradient w.r.t. $\\theta$:\n",
    "\n",
    "$$\n",
    "\\nabla_\\theta \\log p(\\theta \\mid \\sigma, x_{1:n}, y_{1:n}) \n",
    "= \n",
    "- \\sum_{i=1}^n \\frac{\\left ( \\mu_\\theta(x_i) - y_i \\right ) \\, \\nabla_\\theta \\mu_\\theta(x_i) }{\\sigma^{2k}} + \\nabla_\\theta \\log p_0(\\theta) \n",
    "$$"
   ]
  },
  {
   "cell_type": "markdown",
   "metadata": {},
   "source": [
    "#### Set up neural network:"
   ]
  },
  {
   "cell_type": "code",
   "execution_count": 2,
   "metadata": {},
   "outputs": [],
   "source": [
    "n_in = 1\n",
    "n_h1 = 5\n",
    "n_out = 2\n",
    "\n",
    "nn_model = nn.Sequential(nn.Linear(n_in, n_h1),\n",
    "                         nn.Tanh(),\n",
    "                         nn.Linear(n_h1, n_out))"
   ]
  },
  {
   "cell_type": "markdown",
   "metadata": {},
   "source": [
    "* Total number of parameters:"
   ]
  },
  {
   "cell_type": "code",
   "execution_count": 3,
   "metadata": {},
   "outputs": [
    {
     "name": "stdout",
     "output_type": "stream",
     "text": [
      "22\n"
     ]
    }
   ],
   "source": [
    "print(sum(p.numel() for p in nn_model.parameters()))"
   ]
  },
  {
   "cell_type": "markdown",
   "metadata": {},
   "source": [
    "#### Generate some random data:"
   ]
  },
  {
   "cell_type": "code",
   "execution_count": 4,
   "metadata": {},
   "outputs": [],
   "source": [
    "error_sigma = 1e-1\n",
    "nobs = 1_000\n",
    "x = torch.rand(nobs, n_in, requires_grad=True)\n",
    "xvals = x.data\n",
    "y = np.zeros((nobs, n_out))\n",
    "y[:,0] = list(abs(xvals)*np.cos(2*np.pi*xvals))\n",
    "y[:,1] = list(abs(xvals)*np.sin(2*np.pi*xvals))\n",
    "y = 3*torch.from_numpy(y).float() + torch.randn(nobs,2)*error_sigma\n",
    "criterion = nn.MSELoss()"
   ]
  },
  {
   "cell_type": "code",
   "execution_count": 5,
   "metadata": {},
   "outputs": [
    {
     "data": {
      "image/png": "[encoded data removed]",
      "text/plain": [
       "<Figure size 432x288 with 1 Axes>"
      ]
     },
     "metadata": {},
     "output_type": "display_data"
    }
   ],
   "source": [
    "plt.plot(list(y[:,0]), list(y[:,1]), 'o', markersize=2)\n",
    "plt.grid(True)"
   ]
  },
  {
   "cell_type": "code",
   "execution_count": 6,
   "metadata": {
    "collapsed": true
   },
   "outputs": [],
   "source": [
    "prior_sigma = 1\n",
    "my_model = model(x, y, prior_sigma, error_sigma, nn_model)\n",
    "my_model.init_normal()\n",
    "my_model.update_grads()"
   ]
  },
  {
   "cell_type": "code",
   "execution_count": null,
   "metadata": {
    "collapsed": true
   },
   "outputs": [],
   "source": []
  },
  {
   "cell_type": "raw",
   "metadata": {},
   "source": [
    "for i in range(10) :\n",
    "    current_nn_model = copy.deepcopy(nn_model)\n",
    "    proposed_mom, current_mom, proposed_nn_model = leapfrog(nn_model, n_leapfrog, delta_leapfrog, shapes)\n",
    "    print(criterion(current_nn_model(x),y).data/criterion(proposed_nn_model(x),y).data)"
   ]
  },
  {
   "cell_type": "raw",
   "metadata": {},
   "source": [
    "for param in nn_model.parameters() :\n",
    "    print(\"Param, grad:\", param.data, param.grad)\n",
    "    \n",
    "update_grads(nn_model, x, y)\n",
    "\n",
    "for param in nn_model.parameters() :\n",
    "    print(\"Param, grad:\", param.data, param.grad)\n",
    "    \n",
    "print(\"Loss:\", nn.MSELoss()(nn_model(x), y))"
   ]
  },
  {
   "cell_type": "markdown",
   "metadata": {},
   "source": [
    "###  HMC"
   ]
  },
  {
   "cell_type": "code",
   "execution_count": 7,
   "metadata": {
    "collapsed": true
   },
   "outputs": [],
   "source": [
    "T = 1_000\n",
    "delta_leapfrog = 1e-2\n",
    "n_leapfrog = 100\n",
    "M = torch.eye(my_model.n_params())\n",
    "hmc = HMC(my_model, M, n_leapfrog, delta_leapfrog, T)"
   ]
  },
  {
   "cell_type": "code",
   "execution_count": 8,
   "metadata": {},
   "outputs": [
    {
     "name": "stdout",
     "output_type": "stream",
     "text": [
      "iter    100/1000 after    28.4 sec | accept_rate 0.740 | MSE loss 1.433\n",
      "iter    200/1000 after    53.5 sec | accept_rate 0.720 | MSE loss 1.431\n",
      "iter    300/1000 after    79.2 sec | accept_rate 0.663 | MSE loss 1.428\n",
      "iter    400/1000 after   106.2 sec | accept_rate 0.665 | MSE loss 1.425\n",
      "iter    500/1000 after   132.8 sec | accept_rate 0.664 | MSE loss 1.422\n",
      "iter    600/1000 after   161.0 sec | accept_rate 0.648 | MSE loss 1.419\n",
      "iter    700/1000 after   185.9 sec | accept_rate 0.656 | MSE loss 1.416\n",
      "iter    800/1000 after   214.2 sec | accept_rate 0.649 | MSE loss 1.414\n",
      "iter    900/1000 after   238.6 sec | accept_rate 0.647 | MSE loss 1.411\n",
      "iter   1000/1000 after   264.2 sec | accept_rate 0.644 | MSE loss 1.409\n"
     ]
    }
   ],
   "source": [
    "hmc.run_HMC()"
   ]
  },
  {
   "cell_type": "markdown",
   "metadata": {},
   "source": [
    "#### ESS's:"
   ]
  },
  {
   "cell_type": "code",
   "execution_count": 10,
   "metadata": {},
   "outputs": [
    {
     "name": "stdout",
     "output_type": "stream",
     "text": [
      "[61, 264, 168, 115, 189, 182, 20, 147, 139, 137, 7, 163, 3, 231, 18, 143, 81, 3, 124, 23, 9, 3]\n"
     ]
    }
   ],
   "source": [
    "ESS = [int(T/gewer_estimate_IAT(hmc.chain[:,i].data.numpy())) for i in range(np.shape(hmc.chain)[1])]\n",
    "print(ESS)"
   ]
  },
  {
   "cell_type": "code",
   "execution_count": 12,
   "metadata": {},
   "outputs": [
    {
     "data": {
      "text/plain": [
       "101.36363636363636"
      ]
     },
     "execution_count": 12,
     "metadata": {},
     "output_type": "execute_result"
    }
   ],
   "source": [
    "np.mean(ESS)"
   ]
  },
  {
   "cell_type": "code",
   "execution_count": 12,
   "metadata": {},
   "outputs": [
    {
     "data": {
      "image/png": "[encoded data removed]",
      "text/plain": [
       "<Figure size 1008x144 with 3 Axes>"
      ]
     },
     "metadata": {},
     "output_type": "display_data"
    }
   ],
   "source": [
    "ms = 5\n",
    "plt.figure(figsize=(14,2))\n",
    "plt.rcParams['axes.grid'] = True\n",
    "plt.subplot(131)\n",
    "plt.plot(ESS, 'o', markersize=ms)\n",
    "plt.title(\"ESSs\")\n",
    "plt.subplot(132)\n",
    "plt.plot(torch.mean(hmc.chain,0).data.numpy(), 'o', markersize=ms)\n",
    "plt.title(\"Posterior means\")\n",
    "plt.subplot(133)\n",
    "plt.plot(torch.var(hmc.chain,0).data.numpy(), 'o', markersize=ms)\n",
    "plt.title(\"Posterior variances\");"
   ]
  },
  {
   "cell_type": "code",
   "execution_count": 19,
   "metadata": {},
   "outputs": [
    {
     "data": {
      "text/plain": [
       "False"
      ]
     },
     "execution_count": 19,
     "metadata": {},
     "output_type": "execute_result"
    }
   ],
   "source": [
    "x.requires_grad"
   ]
  },
  {
   "cell_type": "code",
   "execution_count": null,
   "metadata": {
    "collapsed": true
   },
   "outputs": [],
   "source": []
  },
  {
   "cell_type": "code",
   "execution_count": null,
   "metadata": {
    "collapsed": true
   },
   "outputs": [],
   "source": []
  },
  {
   "cell_type": "code",
   "execution_count": 14,
   "metadata": {},
   "outputs": [
    {
     "data": {
      "text/plain": [
       "29.681818181818183"
      ]
     },
     "execution_count": 14,
     "metadata": {},
     "output_type": "execute_result"
    }
   ],
   "source": [
    "np.mean(ESS)"
   ]
  },
  {
   "cell_type": "code",
   "execution_count": 18,
   "metadata": {},
   "outputs": [
    {
     "name": "stdout",
     "output_type": "stream",
     "text": [
      "28.7 µs ± 2.98 µs per loop (mean ± std. dev. of 7 runs, 10000 loops each)\n",
      "21.6 µs ± 2.18 µs per loop (mean ± std. dev. of 7 runs, 10000 loops each)\n",
      "1.14 ms ± 309 µs per loop (mean ± std. dev. of 7 runs, 1000 loops each)\n"
     ]
    }
   ],
   "source": [
    "%timeit extract_params(nn_model)\n",
    "%timeit extract_grads(nn_model)\n",
    "%timeit set_params(torch.randn(n_params(nn_model)), nn_model, x, y) "
   ]
  },
  {
   "cell_type": "code",
   "execution_count": 20,
   "metadata": {},
   "outputs": [
    {
     "data": {
      "text/plain": [
       "114.0"
      ]
     },
     "execution_count": 20,
     "metadata": {},
     "output_type": "execute_result"
    }
   ],
   "source": [
    "T*n_leapfrog*(1.14/10**3) "
   ]
  },
  {
   "cell_type": "code",
   "execution_count": null,
   "metadata": {
    "collapsed": true
   },
   "outputs": [],
   "source": []
  },
  {
   "cell_type": "code",
   "execution_count": null,
   "metadata": {
    "collapsed": true
   },
   "outputs": [],
   "source": []
  },
  {
   "cell_type": "code",
   "execution_count": null,
   "metadata": {
    "collapsed": true
   },
   "outputs": [],
   "source": []
  },
  {
   "cell_type": "code",
   "execution_count": null,
   "metadata": {
    "collapsed": true
   },
   "outputs": [],
   "source": []
  },
  {
   "cell_type": "markdown",
   "metadata": {},
   "source": [
    "### SGD:"
   ]
  },
  {
   "cell_type": "code",
   "execution_count": 7,
   "metadata": {
    "collapsed": true
   },
   "outputs": [],
   "source": [
    "criterion = nn.MSELoss()\n",
    "optimizer = torch.optim.SGD(nn_model.parameters(), lr=0.01)"
   ]
  },
  {
   "cell_type": "code",
   "execution_count": 8,
   "metadata": {},
   "outputs": [
    {
     "name": "stdout",
     "output_type": "stream",
     "text": [
      "epoch:  1000  loss:  0.4030824899673462\n",
      "epoch:  2000  loss:  0.3654867112636566\n",
      "epoch:  3000  loss:  0.3555649220943451\n",
      "epoch:  4000  loss:  0.3529464900493622\n",
      "epoch:  5000  loss:  0.3522554636001587\n",
      "epoch:  6000  loss:  0.3520731031894684\n",
      "epoch:  7000  loss:  0.35202497243881226\n",
      "epoch:  8000  loss:  0.3520122468471527\n",
      "epoch:  9000  loss:  0.3520089089870453\n",
      "epoch:  10000  loss:  0.35200801491737366\n"
     ]
    }
   ],
   "source": [
    "for epoch in range(10_000):\n",
    "    # Forward Propagation\n",
    "    y_pred = nn_model(x)\n",
    "    # Compute and print loss\n",
    "    loss = criterion(y_pred, y)\n",
    "    if (epoch+1)%1_000 == 0 :\n",
    "        print('epoch: ', epoch+1,' loss: ', loss.item())\n",
    "    # Zero the gradients\n",
    "    optimizer.zero_grad()\n",
    "    \n",
    "    # perform a backward pass (backpropagation)\n",
    "    loss.backward()\n",
    "    \n",
    "    # Update the parameters\n",
    "    optimizer.step()"
   ]
  },
  {
   "cell_type": "code",
   "execution_count": 22,
   "metadata": {},
   "outputs": [
    {
     "name": "stdout",
     "output_type": "stream",
     "text": [
      "tensor([[ 0.0465],\n",
      "        [-1.9168]])\n",
      "tensor([-0.0425,  0.9472])\n"
     ]
    }
   ],
   "source": [
    "for param in nn_model.parameters() :\n",
    "    print(param.data)"
   ]
  },
  {
   "cell_type": "code",
   "execution_count": 56,
   "metadata": {},
   "outputs": [],
   "source": [
    "\n",
    "class model(object):\n",
    "    def __init__(self, x, y, prior_sigma, error_sigma, nn_model):\n",
    "        # self.radius is an instance variable\n",
    "        self.x = x\n",
    "        self.y = y\n",
    "        self.prior_sigma = prior_sigma\n",
    "        self.error_sigma = error_sigma\n",
    "        self.nn_model = nn_model\n",
    "        \n",
    "    def get_shapes(self) :\n",
    "        shapes = []\n",
    "        for param in self.nn_model.parameters() :\n",
    "            shapes.append(param.shape)\n",
    "        return shapes\n",
    "    \n",
    "    def update_grads(self) :\n",
    "        for param in self.nn_model.parameters() :\n",
    "            if not (param.grad is None) :\n",
    "                param.grad.data.zero_()\n",
    "        loss = nn.MSELoss()(self.nn_model(self.x), self.y)\n",
    "        loss.backward(retain_graph=True)\n",
    "\n",
    "    def init_normal(self):\n",
    "        if type(self.nn_model) == nn.Linear:\n",
    "            self.nn_model.init.normal_(self.nn_model.weight)\n",
    "\n",
    "    def n_params(self) :\n",
    "        return sum(p.numel() for p in self.nn_model.parameters())\n",
    "\n",
    "    def extract_params(self) :\n",
    "        return torch.cat([param.view(-1) for param in self.nn_model.parameters()]).data\n",
    "\n",
    "    def extract_grads(self) :\n",
    "        return torch.cat([param.grad.view(-1) for param in self.nn_model.parameters()])\n",
    "    \n",
    "    \n",
    "    \n",
    "\n",
    "def set_params(param, my_model) :\n",
    "    assert len(param) == my_model.n_params(), \"Number of parameters do not match\"\n",
    "    shapes = my_model.get_shapes()\n",
    "    counter = 0\n",
    "    for i, parameter in enumerate(my_model.nn_model.parameters()) :\n",
    "        parameter.data = param[counter:(counter+np.prod(shapes[i]))].reshape(shapes[i])\n",
    "        counter += np.prod(shapes[i])  \n",
    "    my_model.update_grads()"
   ]
  },
  {
   "cell_type": "code",
   "execution_count": 62,
   "metadata": {
    "collapsed": true
   },
   "outputs": [],
   "source": [
    "class HMC(object) :\n",
    "    def __init__(self, model, M, n_leapfrog, delta_leapfrog, mom=1.):\n",
    "        # self.radius is an instance variable\n",
    "        self.model = model\n",
    "        self.M = M\n",
    "        self.n_leapfrog = n_leapfrog\n",
    "        self.delta_leapfrog = delta_leapfrog\n",
    "        self.mom = mom\n",
    "        \n",
    "        \n",
    "    def generate_momentum(self) :\n",
    "        return torch.randn(self.model.n_params())\n",
    "\n",
    "    def eval_kinetic_energy(self) :\n",
    "        return (self.mom**2/torch.diagonal(self.M)).sum().data/2\n",
    "\n",
    "    def eval_potential_energy(self) :\n",
    "        N, k = np.shape(self.model.y)\n",
    "        #from likelihood:\n",
    "        pot_energy = N*nn.MSELoss()(self.model.nn_model(self.model.x), self.model.y).data/(2*self.model.error_sigma**2)\n",
    "        # from prior:\n",
    "        for param in self.model.nn_model.parameters() :\n",
    "            pot_energy += (param**2).sum().data/(2*self.model.prior_sigma**2)\n",
    "\n",
    "        return pot_energy.detach()"
   ]
  },
  {
   "cell_type": "code",
   "execution_count": 65,
   "metadata": {},
   "outputs": [],
   "source": [
    "hmc = HMC(my_model, M, n_leapfrog, delta_leapfrog)"
   ]
  },
  {
   "cell_type": "code",
   "execution_count": null,
   "metadata": {
    "collapsed": true
   },
   "outputs": [],
   "source": []
  }
 ],
 "metadata": {
  "kernelspec": {
   "display_name": "Python 3",
   "language": "python",
   "name": "python3"
  },
  "language_info": {
   "codemirror_mode": {
    "name": "ipython",
    "version": 3
   },
   "file_extension": ".py",
   "mimetype": "text/x-python",
   "name": "python",
   "nbconvert_exporter": "python",
   "pygments_lexer": "ipython3",
   "version": "3.6.2"
  }
 },
 "nbformat": 4,
 "nbformat_minor": 2
}

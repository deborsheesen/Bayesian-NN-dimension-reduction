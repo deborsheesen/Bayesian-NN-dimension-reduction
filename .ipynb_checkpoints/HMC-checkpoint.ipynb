{
 "cells": [
  {
   "cell_type": "raw",
   "metadata": {},
   "source": [
    "Reference for HMC: Figure 2 of https://arxiv.org/pdf/1206.1901.pdf"
   ]
  },
  {
   "cell_type": "code",
   "execution_count": 1,
   "metadata": {
    "collapsed": true
   },
   "outputs": [],
   "source": [
    "import numpy as np, numpy.random as npr, torch.nn as nn, copy, timeit, torch\n",
    "from torch.distributions.bernoulli import Bernoulli \n",
    "from HMCfunctions import *\n",
    "from time import time\n",
    "import matplotlib.pyplot as plt\n",
    "%matplotlib inline\n",
    "from pylab import plot, show, legend"
   ]
  },
  {
   "cell_type": "raw",
   "metadata": {},
   "source": [
    "Have a class \"model\" that gives log-likelihood and gradient of log-likelihood:\n",
    "\n",
    "abstract class model (must have log-likelihood and gradient)\n",
    "sub class: whatever models we are interested in "
   ]
  },
  {
   "cell_type": "raw",
   "metadata": {},
   "source": [
    "class general HMC \n",
    "class leapfrog \n",
    "takes in model\n",
    "model has gradient and log-likelihood \n",
    "etc.."
   ]
  },
  {
   "cell_type": "markdown",
   "metadata": {},
   "source": [
    "Gradient w.r.t. $\\theta$:\n",
    "\n",
    "$$\n",
    "\\nabla_\\theta \\log p(\\theta \\mid \\sigma, x_{1:n}, y_{1:n}) \n",
    "= \n",
    "- \\sum_{i=1}^n \\frac{\\left ( \\mu_\\theta(x_i) - y_i \\right ) \\, \\nabla_\\theta \\mu_\\theta(x_i) }{\\sigma^{2k}} + \\nabla_\\theta \\log p_0(\\theta) \n",
    "$$"
   ]
  },
  {
   "cell_type": "markdown",
   "metadata": {},
   "source": [
    "#### Set up neural network:"
   ]
  },
  {
   "cell_type": "code",
   "execution_count": 20,
   "metadata": {},
   "outputs": [],
   "source": [
    "n_in = 1\n",
    "# n_h1 = 5\n",
    "# n_h2 = 10\n",
    "n_out = 2\n",
    "\n",
    "nn_model = nn.Sequential(nn.Linear(n_in, n_out))"
   ]
  },
  {
   "cell_type": "markdown",
   "metadata": {},
   "source": [
    "* Total number of parameters:"
   ]
  },
  {
   "cell_type": "code",
   "execution_count": 21,
   "metadata": {},
   "outputs": [
    {
     "name": "stdout",
     "output_type": "stream",
     "text": [
      "4\n"
     ]
    }
   ],
   "source": [
    "print(sum(p.numel() for p in nn_model.parameters()))"
   ]
  },
  {
   "cell_type": "markdown",
   "metadata": {},
   "source": [
    "* Randomly initialise model parameters:"
   ]
  },
  {
   "cell_type": "code",
   "execution_count": 22,
   "metadata": {},
   "outputs": [
    {
     "data": {
      "text/plain": [
       "Sequential(\n",
       "  (0): Linear(in_features=1, out_features=2, bias=True)\n",
       ")"
      ]
     },
     "execution_count": 22,
     "metadata": {},
     "output_type": "execute_result"
    }
   ],
   "source": [
    "nn_model.apply(init_normal)"
   ]
  },
  {
   "cell_type": "markdown",
   "metadata": {},
   "source": [
    "#### Generate some random data:"
   ]
  },
  {
   "cell_type": "code",
   "execution_count": 44,
   "metadata": {},
   "outputs": [],
   "source": [
    "nobs = 1_000\n",
    "x = torch.rand(nobs, n_in)\n",
    "y = np.zeros((nobs, n_out))\n",
    "y[:,0] = list(np.cos(2*np.pi*x))\n",
    "y[:,1] = list(np.sin(2*np.pi*x))\n",
    "y = torch.from_numpy(y).float()\n",
    "criterion = nn.MSELoss()"
   ]
  },
  {
   "cell_type": "markdown",
   "metadata": {},
   "source": [
    "* Get dimensions of parameters:"
   ]
  },
  {
   "cell_type": "code",
   "execution_count": 45,
   "metadata": {},
   "outputs": [
    {
     "name": "stdout",
     "output_type": "stream",
     "text": [
      "Shapes =  [torch.Size([2, 1]), torch.Size([2])]\n"
     ]
    }
   ],
   "source": [
    "shapes = get_shapes(nn_model)\n",
    "print(\"Shapes = \", shapes)"
   ]
  },
  {
   "cell_type": "raw",
   "metadata": {},
   "source": [
    "for i in range(10) :\n",
    "    current_nn_model = copy.deepcopy(nn_model)\n",
    "    proposed_mom, current_mom, proposed_nn_model = leapfrog(nn_model, n_leapfrog, delta_leapfrog, shapes)\n",
    "    print(criterion(current_nn_model(x),y).data/criterion(proposed_nn_model(x),y).data)"
   ]
  },
  {
   "cell_type": "raw",
   "metadata": {},
   "source": [
    "for param in nn_model.parameters() :\n",
    "    print(\"Param, grad:\", param.data, param.grad)\n",
    "    \n",
    "update_grads(nn_model, x, y)\n",
    "\n",
    "for param in nn_model.parameters() :\n",
    "    print(\"Param, grad:\", param.data, param.grad)\n",
    "    \n",
    "print(\"Loss:\", nn.MSELoss()(nn_model(x), y))"
   ]
  },
  {
   "cell_type": "markdown",
   "metadata": {},
   "source": [
    "###  HMC\n",
    "\n",
    "* First define the MCMC chain and randomly initialise it:"
   ]
  },
  {
   "cell_type": "code",
   "execution_count": 46,
   "metadata": {},
   "outputs": [],
   "source": [
    "T = 2_000\n",
    "chain = []\n",
    "for shape in shapes :\n",
    "    chain_shape = list(shape)\n",
    "    chain_shape.insert(0,T)\n",
    "    chain.append(torch.randn(chain_shape, requires_grad=False))"
   ]
  },
  {
   "cell_type": "markdown",
   "metadata": {},
   "source": [
    "* Then run HMC:"
   ]
  },
  {
   "cell_type": "code",
   "execution_count": 53,
   "metadata": {
    "collapsed": true
   },
   "outputs": [],
   "source": [
    "delta_leapfrog = 0.1\n",
    "n_leapfrog = 10\n",
    "prior_sigma = 0.1\n",
    "nn_model.apply(init_normal)\n",
    "n_accept = 0"
   ]
  },
  {
   "cell_type": "code",
   "execution_count": 54,
   "metadata": {},
   "outputs": [
    {
     "name": "stdout",
     "output_type": "stream",
     "text": [
      "iter    200/2000 after     0.8 sec | accept_rate 0.595\n",
      "iter    400/2000 after     1.5 sec | accept_rate 0.637\n",
      "iter    600/2000 after     2.3 sec | accept_rate 0.620\n",
      "iter    800/2000 after     3.1 sec | accept_rate 0.610\n",
      "iter   1000/2000 after     3.8 sec | accept_rate 0.601\n",
      "iter   1200/2000 after     4.6 sec | accept_rate 0.597\n",
      "iter   1400/2000 after     5.4 sec | accept_rate 0.596\n",
      "iter   1600/2000 after     6.2 sec | accept_rate 0.601\n",
      "iter   1800/2000 after     7.0 sec | accept_rate 0.606\n",
      "iter   2000/2000 after     7.8 sec | accept_rate 0.609\n"
     ]
    }
   ],
   "source": [
    "start_time = time()\n",
    "for t in range(T) : \n",
    "    nn_model, a = HMC_1step(nn_model, n_leapfrog, delta_leapfrog, shapes, x, y, criterion, prior_sigma)\n",
    "    n_accept += a\n",
    "    update_grads(nn_model, x, y)\n",
    "    for (i,param) in enumerate(nn_model.parameters()) :\n",
    "        chain[i][t] = param.data\n",
    "        \n",
    "    if ((t+1) % 200 == 0) or (t+1) == T :\n",
    "        accept_rate = float(n_accept) / float(t+1)\n",
    "        print(\"iter %6d/%d after %7.1f sec | accept_rate %.3f\" % (\n",
    "            t+1, T, time() - start_time, accept_rate))"
   ]
  },
  {
   "cell_type": "markdown",
   "metadata": {},
   "source": [
    "#### ESS's:"
   ]
  },
  {
   "cell_type": "code",
   "execution_count": 55,
   "metadata": {},
   "outputs": [],
   "source": [
    "ESS, means, Vars = find_ESS(chain, shapes)"
   ]
  },
  {
   "cell_type": "code",
   "execution_count": 56,
   "metadata": {},
   "outputs": [
    {
     "data": {
      "image/png": "[encoded data removed]",
      "text/plain": [
       "<Figure size 1008x216 with 3 Axes>"
      ]
     },
     "metadata": {},
     "output_type": "display_data"
    }
   ],
   "source": [
    "plt.figure(figsize=(14,3))\n",
    "plt.rcParams['axes.grid'] = True\n",
    "plt.subplot(131)\n",
    "plt.plot(ESS, 'o', markersize=6)\n",
    "plt.title(\"ESSs\")\n",
    "plt.subplot(132)\n",
    "plt.plot(means, 'o', markersize=6)\n",
    "plt.title(\"Posterior means\")\n",
    "plt.subplot(133)\n",
    "plt.plot(Vars, 'o', markersize=6)\n",
    "plt.title(\"Posterior variances\");"
   ]
  },
  {
   "cell_type": "markdown",
   "metadata": {},
   "source": [
    "#### Diagnostics:"
   ]
  },
  {
   "cell_type": "code",
   "execution_count": 29,
   "metadata": {},
   "outputs": [
    {
     "name": "stdout",
     "output_type": "stream",
     "text": [
      "tensor([[ 0.0568],\n",
      "        [ 0.0717],\n",
      "        [-0.1660],\n",
      "        [ 0.1499],\n",
      "        [ 0.0217]])\n",
      "tensor([-0.0147, -0.1183,  0.1159,  0.2373,  0.0040])\n",
      "tensor([[ 0.0592,  0.2783,  0.1133,  0.1754, -0.0465],\n",
      "        [ 0.0093,  0.1470,  0.1040,  0.0175,  0.0557]])\n",
      "tensor([ 0.2440, -0.0011])\n"
     ]
    }
   ],
   "source": [
    "for param in nn_model.parameters() :\n",
    "    print(param.data)"
   ]
  },
  {
   "cell_type": "code",
   "execution_count": 36,
   "metadata": {},
   "outputs": [
    {
     "name": "stdout",
     "output_type": "stream",
     "text": [
      "tensor([[-0.0017],\n",
      "        [ 0.1198],\n",
      "        [-0.0413],\n",
      "        [ 0.0180],\n",
      "        [-0.0067]])\n",
      "tensor([-0.0475,  0.0733, -0.0388,  0.0092,  0.0024])\n",
      "tensor([[-0.1010,  0.0318, -0.0577,  0.1639, -0.0535],\n",
      "        [ 0.0624,  0.0261, -0.0146, -0.1096,  0.0899]])\n",
      "tensor([ 0.3493, -0.2647])\n"
     ]
    }
   ],
   "source": [
    "mom = generate_momentum(shapes)\n",
    "for (i, param) in enumerate(nn_model.parameters()) :\n",
    "    print(param.grad)\n",
    "    pos_change = delta_leapfrog*mom[i]\n",
    "    param.data.add_(pos_change)\n",
    "\n",
    "# update gradients based on new parameters (ie, new positions):\n",
    "update_grads(nn_model, x, y)"
   ]
  },
  {
   "cell_type": "code",
   "execution_count": 38,
   "metadata": {},
   "outputs": [
    {
     "name": "stdout",
     "output_type": "stream",
     "text": [
      "tensor([[-0.0321],\n",
      "        [ 0.1064],\n",
      "        [-0.0384],\n",
      "        [ 0.0445],\n",
      "        [-0.0029]]) tensor([[-0.0915],\n",
      "        [ 0.2873],\n",
      "        [-0.3784],\n",
      "        [ 0.0881],\n",
      "        [ 0.2455]])\n",
      "tensor([-0.1525,  0.0253, -0.0561,  0.0568, -0.0123]) tensor([-0.1196,  0.0579,  0.0866,  0.4649, -0.1564])\n",
      "tensor([[-0.0682,  0.0867, -0.0500,  0.1908, -0.0080],\n",
      "        [ 0.0589, -0.0412, -0.0202, -0.2018,  0.0588]]) tensor([[-0.0858,  0.6051, -0.1807,  0.2724, -0.0085],\n",
      "        [ 0.2646,  0.4574, -0.0350,  0.0774,  0.0197]])\n",
      "tensor([ 0.4032, -0.4566]) tensor([ 0.1545, -0.5320])\n"
     ]
    }
   ],
   "source": [
    "for param in nn_model.parameters() :\n",
    "    print(param.grad, param.data)"
   ]
  },
  {
   "cell_type": "code",
   "execution_count": null,
   "metadata": {
    "collapsed": true
   },
   "outputs": [],
   "source": []
  },
  {
   "cell_type": "markdown",
   "metadata": {},
   "source": [
    "### SGD:"
   ]
  },
  {
   "cell_type": "code",
   "execution_count": 50,
   "metadata": {},
   "outputs": [],
   "source": [
    "criterion = nn.MSELoss()\n",
    "optimizer = torch.optim.SGD(nn_model.parameters(), lr=0.01)"
   ]
  },
  {
   "cell_type": "code",
   "execution_count": 52,
   "metadata": {},
   "outputs": [
    {
     "name": "stdout",
     "output_type": "stream",
     "text": [
      "epoch:  1000  loss:  0.0023619267158210278\n",
      "epoch:  2000  loss:  0.002133300295099616\n",
      "epoch:  3000  loss:  0.0019551068544387817\n",
      "epoch:  4000  loss:  0.0018106142524629831\n",
      "epoch:  5000  loss:  0.0016899053007364273\n",
      "epoch:  6000  loss:  0.0015869464259594679\n",
      "epoch:  7000  loss:  0.0014977598330006003\n",
      "epoch:  8000  loss:  0.0014195973053574562\n",
      "epoch:  9000  loss:  0.0013503892114385962\n",
      "epoch:  10000  loss:  0.0012886177282780409\n"
     ]
    }
   ],
   "source": [
    "for epoch in range(10_000):\n",
    "    # Forward Propagation\n",
    "    y_pred = nn_model(x)\n",
    "    # Compute and print loss\n",
    "    loss = criterion(y_pred, y)\n",
    "    if (epoch+1)%1_000 == 0 :\n",
    "        print('epoch: ', epoch+1,' loss: ', loss.item())\n",
    "    # Zero the gradients\n",
    "    optimizer.zero_grad()\n",
    "    \n",
    "    # perform a backward pass (backpropagation)\n",
    "    loss.backward()\n",
    "    \n",
    "    # Update the parameters\n",
    "    optimizer.step()"
   ]
  },
  {
   "cell_type": "code",
   "execution_count": 53,
   "metadata": {},
   "outputs": [
    {
     "name": "stdout",
     "output_type": "stream",
     "text": [
      "tensor([[-2.1665],\n",
      "        [-1.9729],\n",
      "        [-1.5795],\n",
      "        [ 0.8104],\n",
      "        [ 0.2475],\n",
      "        [ 1.0761],\n",
      "        [-0.2389],\n",
      "        [ 1.0297],\n",
      "        [ 0.2333],\n",
      "        [ 0.0546]])\n",
      "tensor([-0.1743,  1.5218,  0.7305, -2.5212, -0.1287, -1.0229,  1.6127,  0.1791,\n",
      "         1.3210,  1.9390])\n",
      "tensor([[-1.4242,  1.8039,  2.0729, -1.1618, -1.8121,  0.8300, -0.0083,  0.6605,\n",
      "         -0.0780,  0.0871],\n",
      "        [-1.2430,  0.2569, -1.4725,  0.0772,  0.0847, -0.5737,  1.7772, -0.9373,\n",
      "          0.7119, -1.9187],\n",
      "        [-1.2904,  1.2443,  0.6092,  0.3899,  0.5008, -0.9106, -1.3703,  0.7291,\n",
      "          0.4810, -1.0716],\n",
      "        [-0.1107,  1.2203, -0.1692, -2.2403, -0.3955, -0.6435,  1.0898,  0.9260,\n",
      "         -0.2731, -0.2194],\n",
      "        [ 0.0799,  0.2410, -0.2684, -2.2200,  1.0859,  0.6179, -0.7963,  0.1474,\n",
      "         -0.0139,  0.8258],\n",
      "        [ 0.1763, -0.6303, -3.8560,  1.2778,  0.1500, -0.9534,  0.3163, -0.2852,\n",
      "         -0.1199,  1.8668],\n",
      "        [-0.4545,  0.2751,  0.1255, -0.9237, -0.9257, -0.6317,  1.2669, -0.6347,\n",
      "         -0.6151, -1.7521],\n",
      "        [ 1.5088,  1.2452, -0.9053,  1.8945, -0.0512,  1.8972,  0.6830, -0.3362,\n",
      "         -0.1853, -0.0342],\n",
      "        [-1.7609,  0.5413,  1.0733,  1.0305, -2.3278, -1.3605,  1.5132,  0.5429,\n",
      "         -1.4208, -1.7966],\n",
      "        [ 0.2421,  0.6211, -0.6404,  0.3766, -0.0629,  0.7475,  1.2209, -1.1111,\n",
      "          1.2453,  0.1128]])\n",
      "tensor([-1.1081, -0.8991,  0.0396, -0.5216,  0.6599,  0.2212, -1.2595,  0.4220,\n",
      "        -0.3361, -0.3175])\n",
      "tensor([[ 0.1608, -0.3725, -2.8995,  1.7582, -0.3102, -0.8632, -0.1895, -0.7505,\n",
      "          1.1604, -0.1883],\n",
      "        [-1.7686,  1.2415,  1.7035,  0.1562, -0.0044, -0.7646, -1.0144, -0.5018,\n",
      "          1.2182,  0.6178]])\n",
      "tensor([-1.3183, -0.1796])\n"
     ]
    }
   ],
   "source": [
    "for param in nn_model.parameters() :\n",
    "    print(param.data)"
   ]
  },
  {
   "cell_type": "code",
   "execution_count": null,
   "metadata": {
    "collapsed": true
   },
   "outputs": [],
   "source": []
  }
 ],
 "metadata": {
  "kernelspec": {
   "display_name": "Python 3",
   "language": "python",
   "name": "python3"
  },
  "language_info": {
   "codemirror_mode": {
    "name": "ipython",
    "version": 3
   },
   "file_extension": ".py",
   "mimetype": "text/x-python",
   "name": "python",
   "nbconvert_exporter": "python",
   "pygments_lexer": "ipython3",
   "version": "3.6.2"
  }
 },
 "nbformat": 4,
 "nbformat_minor": 2
}

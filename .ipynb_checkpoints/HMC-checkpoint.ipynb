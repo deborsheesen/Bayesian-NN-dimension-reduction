{
 "cells": [
  {
   "cell_type": "raw",
   "metadata": {},
   "source": [
    "Reference for HMC: Figure 2 of https://arxiv.org/pdf/1206.1901.pdf"
   ]
  },
  {
   "cell_type": "code",
   "execution_count": 1,
   "metadata": {
    "collapsed": true
   },
   "outputs": [],
   "source": [
    "import numpy as np, numpy.random as npr, torch.nn as nn, copy, timeit, torch, seaborn as sns\n",
    "from torch.distributions.bernoulli import Bernoulli \n",
    "from tqdm import trange\n",
    "from HMCfunctions import *\n",
    "from time import time\n",
    "import matplotlib.pyplot as plt\n",
    "%matplotlib inline\n",
    "from pylab import plot, show, legend"
   ]
  },
  {
   "cell_type": "markdown",
   "metadata": {},
   "source": [
    "Gradient w.r.t. $\\theta$:\n",
    "\n",
    "$$\n",
    "\\nabla_\\theta \\log p(\\theta \\mid \\sigma, x_{1:n}, y_{1:n}) \n",
    "= \n",
    "- \\sum_{i=1}^n \\frac{\\left ( \\mu_\\theta(x_i) - y_i \\right ) \\, \\nabla_\\theta \\mu_\\theta(x_i) }{\\sigma^{2k}} + \\nabla_\\theta \\log p_0(\\theta) \n",
    "$$"
   ]
  },
  {
   "cell_type": "markdown",
   "metadata": {},
   "source": [
    "#### Set up neural network:"
   ]
  },
  {
   "cell_type": "code",
   "execution_count": 44,
   "metadata": {
    "collapsed": true
   },
   "outputs": [],
   "source": [
    "n_in = 1\n",
    "n_h1 = 20\n",
    "n_h2 = 20\n",
    "n_out = 2\n",
    "\n",
    "nn_model1 = nn.Sequential(nn.Linear(n_in, n_h1),\n",
    "                         nn.Tanh(),\n",
    "                         nn.Linear(n_h1, n_h2),\n",
    "                         nn.Tanh(),\n",
    "                         nn.Linear(n_h2, n_out))\n",
    "nn_model2 = nn.Sequential(nn.Linear(n_in, n_h1),\n",
    "                         nn.Tanh(),\n",
    "                         nn.Linear(n_h1, n_out))"
   ]
  },
  {
   "cell_type": "markdown",
   "metadata": {},
   "source": [
    "* Total number of parameters:"
   ]
  },
  {
   "cell_type": "code",
   "execution_count": 3,
   "metadata": {},
   "outputs": [
    {
     "name": "stdout",
     "output_type": "stream",
     "text": [
      "502 82\n"
     ]
    }
   ],
   "source": [
    "print(sum(p.numel() for p in nn_model1.parameters()), sum(p.numel() for p in nn_model2.parameters()))"
   ]
  },
  {
   "cell_type": "markdown",
   "metadata": {},
   "source": [
    "#### Generate some random data:"
   ]
  },
  {
   "cell_type": "code",
   "execution_count": 4,
   "metadata": {
    "collapsed": true
   },
   "outputs": [],
   "source": [
    "error_sigma = 1e-1\n",
    "nobs = 1_000\n",
    "xtrue = torch.randn(nobs, n_in, requires_grad=True)\n",
    "xvals = xtrue.data\n",
    "ytrue = np.zeros((nobs, n_out))\n",
    "ytrue[:,0] = list(abs(xvals)*np.cos(xvals))\n",
    "ytrue[:,1] = list(abs(xvals)*np.sin(xvals))\n",
    "ytrue = 3*torch.from_numpy(ytrue).float() + torch.randn(nobs,2)*error_sigma\n",
    "criterion = nn.MSELoss()"
   ]
  },
  {
   "cell_type": "code",
   "execution_count": 5,
   "metadata": {},
   "outputs": [
    {
     "data": {
      "image/png": "[encoded data removed]",
      "text/plain": [
       "<Figure size 432x288 with 1 Axes>"
      ]
     },
     "metadata": {},
     "output_type": "display_data"
    }
   ],
   "source": [
    "plt.plot(list(ytrue[:,0]), list(ytrue[:,1]), 'o', markersize=2)\n",
    "plt.grid(True)\n",
    "plt.title(\"True y\");"
   ]
  },
  {
   "cell_type": "markdown",
   "metadata": {},
   "source": [
    "### Optimize given true $x$:"
   ]
  },
  {
   "cell_type": "code",
   "execution_count": 6,
   "metadata": {},
   "outputs": [
    {
     "name": "stdout",
     "output_type": "stream",
     "text": [
      "Epoch: 5000; loss: 0.4861; time: 4.7 sec\n",
      "Epoch: 10000; loss: 0.1595; time: 9.2 sec\n",
      "Epoch: 15000; loss: 0.0793; time: 13.5 sec\n",
      "Epoch: 20000; loss: 0.0506; time: 17.8 sec\n",
      "Epoch: 25000; loss: 0.0380; time: 22.4 sec\n",
      "Epoch: 30000; loss: 0.0319; time: 27.9 sec\n",
      "Epoch: 35000; loss: 0.0284; time: 32.5 sec\n",
      "Epoch: 40000; loss: 0.0260; time: 37.3 sec\n",
      "Epoch: 45000; loss: 0.0241; time: 41.9 sec\n",
      "Epoch: 50000; loss: 0.0225; time: 46.1 sec\n"
     ]
    }
   ],
   "source": [
    "nn_model = copy.deepcopy(nn_model2)\n",
    "criterion = nn.MSELoss()\n",
    "optimizer = torch.optim.SGD(nn_model.parameters(), lr=0.01)\n",
    "start = time()\n",
    "for epoch in range(50_000):\n",
    "    y_pred = nn_model(xtrue)\n",
    "    loss = criterion(y_pred, ytrue)\n",
    "    if (epoch+1)%5_000 == 0 :\n",
    "        print(\"Epoch: %d; loss: %.4f; time: %.1f sec\" % (epoch+1, loss.item(), time()-start))\n",
    "    optimizer.zero_grad()\n",
    "    loss.backward()\n",
    "    optimizer.step()\n",
    "    \n",
    "nn_model_optim1 = copy.deepcopy(nn_model)"
   ]
  },
  {
   "cell_type": "code",
   "execution_count": 7,
   "metadata": {},
   "outputs": [
    {
     "data": {
      "image/png": "[encoded data removed]",
      "text/plain": [
       "<Figure size 432x288 with 1 Axes>"
      ]
     },
     "metadata": {},
     "output_type": "display_data"
    }
   ],
   "source": [
    "plt.plot(list(ytrue[:,0]), list(ytrue[:,1]), 'o', markersize=2)\n",
    "plt.plot(list(y_pred[:,0]), list(y_pred[:,1]), 'o', markersize=2)\n",
    "plt.grid(True)"
   ]
  },
  {
   "cell_type": "markdown",
   "metadata": {},
   "source": [
    "### Optimisation for both $x$ and $\\theta$:"
   ]
  },
  {
   "cell_type": "code",
   "execution_count": 8,
   "metadata": {
    "collapsed": true
   },
   "outputs": [],
   "source": [
    "x = torch.randn(np.shape(xtrue), requires_grad=True)\n",
    "init_normal(nn_model1), init_normal(nn_model2);"
   ]
  },
  {
   "cell_type": "code",
   "execution_count": 9,
   "metadata": {},
   "outputs": [
    {
     "name": "stdout",
     "output_type": "stream",
     "text": [
      "Epoch: 10000, loss: 0.4121, time: 10.2 sec\n",
      "Epoch: 20000, loss: 0.3025, time: 20.1 sec\n",
      "Epoch: 30000, loss: 0.2581, time: 30.2 sec\n",
      "Epoch: 40000, loss: 0.2398, time: 40.3 sec\n",
      "Epoch: 50000, loss: 0.2291, time: 50.0 sec\n",
      "Epoch: 60000, loss: 0.2216, time: 59.8 sec\n",
      "Epoch: 70000, loss: 0.2164, time: 69.7 sec\n",
      "Epoch: 80000, loss: 0.2089, time: 79.6 sec\n",
      "Epoch: 90000, loss: 0.2024, time: 89.3 sec\n",
      "Epoch: 100000, loss: 0.1981, time: 99.1 sec\n"
     ]
    }
   ],
   "source": [
    "nn_model = copy.deepcopy(nn_model2)\n",
    "\n",
    "niter = 10**5\n",
    "lr = 1e-1\n",
    "rho = 1+2e-6\n",
    "kappa = 0\n",
    "\n",
    "start = time()\n",
    "for epoch in range(niter) :\n",
    "    loss = nn.MSELoss()(nn_model(x), ytrue)\n",
    "    loss.backward(retain_graph=True)\n",
    "    for param in nn_model.parameters() :\n",
    "        param.data -= lr*param.grad.data + kappa*torch.randn(np.shape(param))\n",
    "        param.grad.data.zero_()\n",
    "    x.data -= lr*x.grad.data + kappa*torch.randn(np.shape(x))\n",
    "    x.grad.data.zero_()\n",
    "    lr /= rho\n",
    "    if (epoch+1)%(niter/10) == 0 :\n",
    "        print(\"Epoch: %d, loss: %.4f, time: %.1f sec\" % (epoch+1, loss, time()-start))"
   ]
  },
  {
   "cell_type": "code",
   "execution_count": 10,
   "metadata": {},
   "outputs": [
    {
     "data": {
      "image/png": "[encoded data removed]",
      "text/plain": [
       "<Figure size 432x288 with 1 Axes>"
      ]
     },
     "metadata": {},
     "output_type": "display_data"
    }
   ],
   "source": [
    "ypred = nn_model(x)\n",
    "plt.plot(list(ytrue[:,0]), list(ytrue[:,1]), 'o', markersize=2, label=\"true\")\n",
    "plt.plot(list(ypred[:,0]), list(ypred[:,1]), 'o', markersize=2, label=\"pred\")\n",
    "plt.legend(ncol=2)\n",
    "plt.grid(True)"
   ]
  },
  {
   "cell_type": "markdown",
   "metadata": {},
   "source": [
    "#### Run it for longer:"
   ]
  },
  {
   "cell_type": "code",
   "execution_count": 11,
   "metadata": {},
   "outputs": [
    {
     "name": "stdout",
     "output_type": "stream",
     "text": [
      "Epoch: 100000, loss: 0.1658, time: 223.9 sec\n",
      "Epoch: 200000, loss: 0.0806, time: 337.4 sec\n",
      "Epoch: 300000, loss: 0.0642, time: 436.3 sec\n",
      "Epoch: 400000, loss: 0.0620, time: 535.7 sec\n",
      "Epoch: 500000, loss: 0.0604, time: 636.7 sec\n",
      "Epoch: 600000, loss: 0.0591, time: 756.1 sec\n",
      "Epoch: 700000, loss: 0.0581, time: 875.8 sec\n",
      "Epoch: 800000, loss: 0.0574, time: 986.6 sec\n",
      "Epoch: 900000, loss: 0.0568, time: 1091.9 sec\n",
      "Epoch: 1000000, loss: 0.0564, time: 1200.8 sec\n"
     ]
    }
   ],
   "source": [
    "niter = 10**6\n",
    "for epoch in range(niter) :\n",
    "    loss = nn.MSELoss()(nn_model(x), ytrue)\n",
    "    loss.backward(retain_graph=True)\n",
    "    for param in nn_model.parameters() :\n",
    "        param.data -= lr*param.grad.data + kappa*torch.randn(np.shape(param))\n",
    "        param.grad.data.zero_()\n",
    "    x.data -= lr*x.grad.data + kappa*torch.randn(np.shape(x))\n",
    "    x.grad.data.zero_()\n",
    "    lr /= rho\n",
    "    if (epoch+1)%(niter/10) == 0 :\n",
    "        print(\"Epoch: %d, loss: %.4f, time: %.1f sec\" % (epoch+1, loss, time()-start))\n",
    "        \n",
    "nn_model_optim2 = copy.deepcopy(nn_model)\n",
    "x_optim = copy.deepcopy(x)"
   ]
  },
  {
   "cell_type": "code",
   "execution_count": 12,
   "metadata": {},
   "outputs": [
    {
     "data": {
      "image/png": "[encoded data removed]",
      "text/plain": [
       "<Figure size 432x288 with 1 Axes>"
      ]
     },
     "metadata": {},
     "output_type": "display_data"
    }
   ],
   "source": [
    "ypred = nn_model_optim2(x_optim)\n",
    "plt.plot(list(ytrue[:,0]), list(ytrue[:,1]), 'o', markersize=2, label=\"true\")\n",
    "plt.plot(list(ypred[:,0]), list(ypred[:,1]), 'o', markersize=2, label=\"pred\")\n",
    "plt.legend(ncol=2)\n",
    "plt.grid(True)"
   ]
  },
  {
   "cell_type": "markdown",
   "metadata": {},
   "source": [
    "### Sampling starting at this optimised value:"
   ]
  },
  {
   "cell_type": "code",
   "execution_count": 13,
   "metadata": {
    "collapsed": true
   },
   "outputs": [],
   "source": [
    "nn_model, x = copy.deepcopy(nn_model_optim2), copy.deepcopy(x_optim)"
   ]
  },
  {
   "cell_type": "code",
   "execution_count": 14,
   "metadata": {
    "collapsed": true
   },
   "outputs": [],
   "source": [
    "prior_sigma = 1e0\n",
    "my_model = model(x, ytrue, prior_sigma, error_sigma, nn_model)\n",
    "my_model.update_grad()"
   ]
  },
  {
   "cell_type": "code",
   "execution_count": 15,
   "metadata": {
    "scrolled": true
   },
   "outputs": [
    {
     "name": "stdout",
     "output_type": "stream",
     "text": [
      "iter    500/5000 after 0.64 min | accept_rate 0.154 | MSE loss 4.798 | stepsize 0.001 | nleapfrog 20\n",
      "iter   1000/5000 after 1.20 min | accept_rate 0.096 | MSE loss 4.606 | stepsize 0.001 | nleapfrog 20\n",
      "iter   1500/5000 after 1.59 min | accept_rate 0.073 | MSE loss 4.556 | stepsize 0.001 | nleapfrog 20\n",
      "iter   2000/5000 after 1.97 min | accept_rate 0.056 | MSE loss 4.543 | stepsize 0.001 | nleapfrog 20\n",
      "iter   2500/5000 after 2.35 min | accept_rate 0.047 | MSE loss 4.514 | stepsize 0.001 | nleapfrog 20\n",
      "iter   3000/5000 after 2.74 min | accept_rate 0.041 | MSE loss 4.527 | stepsize 0.001 | nleapfrog 20\n",
      "iter   3500/5000 after 3.12 min | accept_rate 0.036 | MSE loss 4.509 | stepsize 0.001 | nleapfrog 20\n",
      "iter   4000/5000 after 3.58 min | accept_rate 0.032 | MSE loss 4.496 | stepsize 0.001 | nleapfrog 20\n",
      "iter   4500/5000 after 3.96 min | accept_rate 0.030 | MSE loss 4.489 | stepsize 0.001 | nleapfrog 20\n",
      "iter   5000/5000 after 4.34 min | accept_rate 0.027 | MSE loss 4.491 | stepsize 0.001 | nleapfrog 20\n"
     ]
    }
   ],
   "source": [
    "T = 5000\n",
    "int_time = 1e1\n",
    "delta_leapfrog = 1e-1\n",
    "n_leapfrog = int(int_time/delta_leapfrog)\n",
    "M = torch.eye(my_model.n_params())\n",
    "hmc = HMC(my_model, M, n_leapfrog, delta_leapfrog, T)\n",
    "hmc.minlf = 20\n",
    "hmc.run_HMC()"
   ]
  },
  {
   "cell_type": "markdown",
   "metadata": {},
   "source": [
    "### Sampler starting at true value for $x$ and optimised value for $\\theta$:"
   ]
  },
  {
   "cell_type": "code",
   "execution_count": 16,
   "metadata": {
    "collapsed": true
   },
   "outputs": [],
   "source": [
    "nn_model = copy.deepcopy(nn_model_optim1)\n",
    "prior_sigma = 1e0\n",
    "my_model = model(xtrue, ytrue, prior_sigma, error_sigma, nn_model)\n",
    "my_model.update_grad()"
   ]
  },
  {
   "cell_type": "code",
   "execution_count": 17,
   "metadata": {},
   "outputs": [
    {
     "name": "stdout",
     "output_type": "stream",
     "text": [
      "iter    500/5000 after 0.39 min | accept_rate 0.218 | MSE loss 4.730 | stepsize 0.001 | nleapfrog 20\n",
      "iter   1000/5000 after 0.77 min | accept_rate 0.118 | MSE loss 4.627 | stepsize 0.001 | nleapfrog 20\n",
      "iter   1500/5000 after 1.15 min | accept_rate 0.085 | MSE loss 4.550 | stepsize 0.001 | nleapfrog 20\n",
      "iter   2000/5000 after 1.53 min | accept_rate 0.069 | MSE loss 4.531 | stepsize 0.001 | nleapfrog 20\n",
      "iter   2500/5000 after 1.91 min | accept_rate 0.058 | MSE loss 4.524 | stepsize 0.001 | nleapfrog 20\n",
      "iter   3000/5000 after 2.28 min | accept_rate 0.052 | MSE loss 4.497 | stepsize 0.001 | nleapfrog 20\n",
      "iter   3500/5000 after 2.68 min | accept_rate 0.046 | MSE loss 4.521 | stepsize 0.001 | nleapfrog 20\n",
      "iter   4000/5000 after 3.07 min | accept_rate 0.041 | MSE loss 4.503 | stepsize 0.001 | nleapfrog 20\n",
      "iter   4500/5000 after 3.48 min | accept_rate 0.038 | MSE loss 4.500 | stepsize 0.001 | nleapfrog 20\n",
      "iter   5000/5000 after 3.88 min | accept_rate 0.035 | MSE loss 4.477 | stepsize 0.001 | nleapfrog 20\n"
     ]
    }
   ],
   "source": [
    "T = 5000\n",
    "int_time = 1e1\n",
    "delta_leapfrog = 1e-1\n",
    "n_leapfrog = int(int_time/delta_leapfrog)\n",
    "M = torch.eye(my_model.n_params())\n",
    "hmc = HMC(my_model, M, n_leapfrog, delta_leapfrog, T)\n",
    "hmc.minlf = 20\n",
    "hmc.run_HMC()"
   ]
  },
  {
   "cell_type": "markdown",
   "metadata": {},
   "source": [
    "#### This suggests that I messed up the sampler somehow. "
   ]
  },
  {
   "cell_type": "markdown",
   "metadata": {},
   "source": [
    "#### ESS's:"
   ]
  },
  {
   "cell_type": "raw",
   "metadata": {},
   "source": [
    "ESS = [int(T/gewer_estimate_IAT(hmc.chain[:,i].data.numpy())) for i in range(np.shape(hmc.chain)[1])]\n",
    "print(\"ESS: min, median, mean, max\", (min(ESS), np.mean(ESS), np.median(ESS), max(ESS)))"
   ]
  },
  {
   "cell_type": "raw",
   "metadata": {},
   "source": [
    "print(\"Mean ESS: theta %f, x %f\"\n",
    "      (np.mean(ESS[:sum(p.numel() for p in nn_model.parameters())]),\n",
    "       np.mean(ESS[sum(p.numel() for p in nn_model.parameters())::])))"
   ]
  },
  {
   "cell_type": "raw",
   "metadata": {},
   "source": [
    "ms = 5\n",
    "plt.figure(figsize=(14,2))\n",
    "plt.rcParams['axes.grid'] = True\n",
    "plt.subplot(131)\n",
    "plt.plot(ESS, 'o', markersize=ms)\n",
    "plt.title(\"ESSs\")\n",
    "plt.subplot(132)\n",
    "plt.plot(torch.mean(hmc.chain,0).data.numpy(), 'o', markersize=ms)\n",
    "plt.title(\"Posterior means\")\n",
    "plt.subplot(133)\n",
    "plt.plot(torch.var(hmc.chain,0).data.numpy(), 'o', markersize=ms)\n",
    "plt.title(\"Posterior variances\");"
   ]
  },
  {
   "cell_type": "markdown",
   "metadata": {},
   "source": [
    "### Closest neighbour:"
   ]
  },
  {
   "cell_type": "code",
   "execution_count": 32,
   "metadata": {},
   "outputs": [
    {
     "data": {
      "image/png": "[encoded data removed]",
      "text/plain": [
       "<Figure size 432x288 with 1 Axes>"
      ]
     },
     "metadata": {},
     "output_type": "display_data"
    }
   ],
   "source": [
    "ypred = nn_model_optim2(x_optim)\n",
    "plt.plot(list(ytrue[:,0]), list(ytrue[:,1]), 'o', markersize=2, label=\"true\")\n",
    "plt.plot(list(ypred[:,0]), list(ypred[:,1]), 'o', markersize=2, label=\"pred\")\n",
    "plt.legend(ncol=2)\n",
    "plt.grid(True)"
   ]
  },
  {
   "cell_type": "code",
   "execution_count": 37,
   "metadata": {
    "collapsed": true
   },
   "outputs": [],
   "source": [
    "xclosest = torch.zeros(np.shape(xtrue))\n",
    "ypred = nn_model_optim2(x_optim)\n",
    "for i in range(nobs) :\n",
    "    i0 = np.argmin(np.array([torch.norm(ytrue[i]-ypred[j]).data.numpy() for j in range(nobs)]))\n",
    "    xclosest[i] = x_optim[i0].data"
   ]
  },
  {
   "cell_type": "code",
   "execution_count": 38,
   "metadata": {},
   "outputs": [
    {
     "data": {
      "image/png": "[encoded data removed]",
      "text/plain": [
       "<Figure size 432x288 with 1 Axes>"
      ]
     },
     "metadata": {},
     "output_type": "display_data"
    }
   ],
   "source": [
    "xc = copy.deepcopy(xclosest)\n",
    "xclosest += 1e-2*torch.randn(np.shape(xclosest))\n",
    "\n",
    "yclosest = nn_model_optim2(xclosest)\n",
    "plt.plot(list(ytrue[:,0]), list(ytrue[:,1]), 'o', markersize=2, label=\"true\")\n",
    "plt.plot(list(yclosest[:,0]), list(yclosest[:,1]), 'o', markersize=2, label=\"pred\")\n",
    "plt.legend(ncol=2)\n",
    "plt.grid(True)"
   ]
  },
  {
   "cell_type": "code",
   "execution_count": 41,
   "metadata": {},
   "outputs": [
    {
     "name": "stdout",
     "output_type": "stream",
     "text": [
      "Epoch: 20000, loss: 0.7976, time: 22.8 sec\n",
      "Epoch: 40000, loss: 0.7633, time: 41.4 sec\n",
      "Epoch: 60000, loss: 0.7438, time: 57.6 sec\n",
      "Epoch: 80000, loss: 0.7135, time: 73.7 sec\n",
      "Epoch: 100000, loss: 0.6796, time: 89.5 sec\n",
      "Epoch: 120000, loss: 0.6426, time: 105.3 sec\n",
      "Epoch: 140000, loss: 0.6008, time: 121.0 sec\n",
      "Epoch: 160000, loss: 0.5809, time: 136.8 sec\n",
      "Epoch: 180000, loss: 0.5658, time: 152.7 sec\n",
      "Epoch: 200000, loss: 0.5530, time: 168.7 sec\n"
     ]
    }
   ],
   "source": [
    "criterion = nn.MSELoss()\n",
    "optimizer = torch.optim.SGD(nn_model.parameters(), lr=0.01)\n",
    "start = time()\n",
    "for epoch in range(200_000):\n",
    "    y_pred = nn_model(xclosest)\n",
    "    loss = criterion(y_pred, ytrue)\n",
    "    if (epoch+1)%20_000 == 0 :\n",
    "        print(\"Epoch: %d, loss: %.4f, time: %.1f sec\" % (epoch+1, loss, time()-start))\n",
    "    optimizer.zero_grad()\n",
    "    loss.backward()\n",
    "    optimizer.step()"
   ]
  },
  {
   "cell_type": "code",
   "execution_count": 42,
   "metadata": {},
   "outputs": [
    {
     "data": {
      "image/png": "[encoded data removed]",
      "text/plain": [
       "<Figure size 432x288 with 1 Axes>"
      ]
     },
     "metadata": {},
     "output_type": "display_data"
    }
   ],
   "source": [
    "yp = nn_model(xclosest)\n",
    "plt.plot(list(ytrue[:,0]), list(ytrue[:,1]), 'o', markersize=2, label=\"true\")\n",
    "plt.plot(list(yp[:,0]), list(yp[:,1]), 'o', markersize=2, label=\"pred\")\n",
    "plt.legend(ncol=2)\n",
    "plt.grid(True)"
   ]
  },
  {
   "cell_type": "code",
   "execution_count": null,
   "metadata": {
    "collapsed": true
   },
   "outputs": [],
   "source": []
  },
  {
   "cell_type": "markdown",
   "metadata": {},
   "source": [
    "###  HMC with closest neighbours:"
   ]
  },
  {
   "cell_type": "code",
   "execution_count": 39,
   "metadata": {
    "collapsed": true
   },
   "outputs": [],
   "source": [
    "xclosest.requires_grad = True\n",
    "init_normal(nn_model)"
   ]
  },
  {
   "cell_type": "code",
   "execution_count": 40,
   "metadata": {
    "collapsed": true
   },
   "outputs": [],
   "source": [
    "prior_sigma = 1\n",
    "my_model = model(xclosest, ytrue, prior_sigma, error_sigma, nn_model)\n",
    "my_model.init_normal()\n",
    "my_model.update_grad()"
   ]
  },
  {
   "cell_type": "code",
   "execution_count": 41,
   "metadata": {
    "collapsed": true
   },
   "outputs": [],
   "source": [
    "T = 500\n",
    "int_time = 1e1\n",
    "delta_leapfrog = 1e-2\n",
    "n_leapfrog = int(int_time/delta_leapfrog)\n",
    "M = torch.eye(my_model.n_params())\n",
    "hmc = HMC(my_model, M, n_leapfrog, delta_leapfrog, T)\n",
    "hmc.minlf = 20"
   ]
  },
  {
   "cell_type": "code",
   "execution_count": 42,
   "metadata": {
    "scrolled": false
   },
   "outputs": [
    {
     "name": "stdout",
     "output_type": "stream",
     "text": [
      "iter     50/500 after 0.15 min | accept_rate 0.200 | MSE loss 5.434 | stepsize 0.004 | nleapfrog 20\n",
      "iter    100/500 after 0.19 min | accept_rate 0.230 | MSE loss 3.561 | stepsize 0.003 | nleapfrog 20\n",
      "iter    150/500 after 0.22 min | accept_rate 0.213 | MSE loss 3.244 | stepsize 0.002 | nleapfrog 20\n",
      "iter    200/500 after 0.26 min | accept_rate 0.235 | MSE loss 2.895 | stepsize 0.002 | nleapfrog 20\n",
      "iter    250/500 after 0.30 min | accept_rate 0.240 | MSE loss 2.493 | stepsize 0.002 | nleapfrog 20\n",
      "iter    300/500 after 0.33 min | accept_rate 0.220 | MSE loss 2.430 | stepsize 0.002 | nleapfrog 20\n",
      "iter    350/500 after 0.37 min | accept_rate 0.226 | MSE loss 2.283 | stepsize 0.002 | nleapfrog 20\n",
      "iter    400/500 after 0.41 min | accept_rate 0.217 | MSE loss 2.101 | stepsize 0.002 | nleapfrog 20\n",
      "iter    450/500 after 0.44 min | accept_rate 0.213 | MSE loss 1.967 | stepsize 0.002 | nleapfrog 20\n",
      "iter    500/500 after 0.48 min | accept_rate 0.208 | MSE loss 1.868 | stepsize 0.002 | nleapfrog 20\n"
     ]
    }
   ],
   "source": [
    "hmc.run_HMC()"
   ]
  },
  {
   "cell_type": "code",
   "execution_count": 43,
   "metadata": {},
   "outputs": [
    {
     "data": {
      "image/png": "[encoded data removed]",
      "text/plain": [
       "<Figure size 432x288 with 1 Axes>"
      ]
     },
     "metadata": {},
     "output_type": "display_data"
    }
   ],
   "source": [
    "yclosest = nn_model(xclosest)\n",
    "plt.plot(list(ytrue[:,0]), list(ytrue[:,1]), 'o', markersize=2, label=\"true\")\n",
    "plt.plot(list(yclosest[:,0]), list(yclosest[:,1]), 'o', markersize=2, label=\"pred\")\n",
    "plt.legend(ncol=2)\n",
    "plt.grid(True)"
   ]
  },
  {
   "cell_type": "code",
   "execution_count": null,
   "metadata": {
    "collapsed": true
   },
   "outputs": [],
   "source": []
  }
 ],
 "metadata": {
  "kernelspec": {
   "display_name": "Python 3",
   "language": "python",
   "name": "python3"
  },
  "language_info": {
   "codemirror_mode": {
    "name": "ipython",
    "version": 3
   },
   "file_extension": ".py",
   "mimetype": "text/x-python",
   "name": "python",
   "nbconvert_exporter": "python",
   "pygments_lexer": "ipython3",
   "version": "3.6.2"
  }
 },
 "nbformat": 4,
 "nbformat_minor": 2
}

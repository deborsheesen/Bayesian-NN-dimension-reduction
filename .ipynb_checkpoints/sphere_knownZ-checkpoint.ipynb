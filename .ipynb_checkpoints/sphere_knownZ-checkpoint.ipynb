{
 "cells": [
  {
   "cell_type": "code",
   "execution_count": 23,
   "metadata": {},
   "outputs": [],
   "source": [
    "import matplotlib.pyplot as plt, numpy as np, numpy.random as npr, csv\n",
    "from mpl_toolkits.mplot3d import Axes3D\n",
    "%matplotlib inline\n",
    "import torch.nn as nn, timeit, torch, pystan as ps, matplotlib.pyplot as plt\n",
    "from time import time\n",
    "from tqdm import trange\n",
    "from pylab import plot, show, legend\n",
    "from MINE import *"
   ]
  },
  {
   "cell_type": "code",
   "execution_count": 2,
   "metadata": {},
   "outputs": [
    {
     "name": "stderr",
     "output_type": "stream",
     "text": [
      "INFO:pystan:COMPILING THE C++ CODE FOR MODEL anon_model_f0d75c4993ee1b345d9f79729b26cb11 NOW.\n"
     ]
    }
   ],
   "source": [
    "sm = ps.StanModel(file=\"stan_files/nn_knownZ.stan\")"
   ]
  },
  {
   "cell_type": "code",
   "execution_count": 3,
   "metadata": {},
   "outputs": [
    {
     "name": "stdout",
     "output_type": "stream",
     "text": [
      "610\n"
     ]
    }
   ],
   "source": [
    "M = 1000\n",
    "Z = 10*npr.rand(2,M)\n",
    "X = np.zeros((3,M))\n",
    "X[0] = np.cos(Z[0])*np.cos(Z[1])\n",
    "X[1] = np.cos(Z[0])*np.sin(Z[1])\n",
    "X[2] = np.sin(Z[0])\n",
    "\n",
    "idx = X[2]>0\n",
    "X = X[:,idx]\n",
    "Z = Z[:,idx]\n",
    "X += 0.1*npr.rand(*np.shape(X))\n",
    "Nobs = np.shape(Z)[1]\n",
    "\n",
    "print(Nobs)"
   ]
  },
  {
   "cell_type": "code",
   "execution_count": 4,
   "metadata": {
    "collapsed": true
   },
   "outputs": [],
   "source": [
    "n_h = 40\n",
    "data = dict(Nobs=Nobs, in_dim=np.shape(Z)[0], out_dim=np.shape(X)[0], hidden_dim=n_h, Z=Z, X=X)"
   ]
  },
  {
   "cell_type": "code",
   "execution_count": 5,
   "metadata": {
    "collapsed": true
   },
   "outputs": [],
   "source": [
    "n_in = np.shape(Z)[0]\n",
    "n_out = np.shape(X)[0]\n",
    "\n",
    "model = nn.Sequential(nn.Linear(n_in, n_h),\n",
    "                      nn.Tanh(),\n",
    "                      nn.Linear(n_h, n_out))\n",
    "def init_normal(m):\n",
    "    if type(m) == nn.Linear: nn.init.normal_(m.weight)\n",
    "model.apply(init_normal)\n",
    "criterion = nn.MSELoss()\n",
    "optimizer = torch.optim.SGD(model.parameters(), lr=1e-3, momentum=0.9, nesterov=True)"
   ]
  },
  {
   "cell_type": "code",
   "execution_count": 6,
   "metadata": {},
   "outputs": [
    {
     "name": "stdout",
     "output_type": "stream",
     "text": [
      "Epoch: 2000; loss: 0.178; time: 0.0 mins\n",
      "Epoch: 4000; loss: 0.156; time: 0.1 mins\n",
      "Epoch: 6000; loss: 0.145; time: 0.1 mins\n",
      "Epoch: 8000; loss: 0.137; time: 0.1 mins\n",
      "Epoch: 10000; loss: 0.133; time: 0.1 mins\n",
      "Epoch: 12000; loss: 0.129; time: 0.2 mins\n",
      "Epoch: 14000; loss: 0.126; time: 0.2 mins\n",
      "Epoch: 16000; loss: 0.123; time: 0.2 mins\n",
      "Epoch: 18000; loss: 0.121; time: 0.2 mins\n",
      "Epoch: 20000; loss: 0.118; time: 0.3 mins\n"
     ]
    }
   ],
   "source": [
    "n_iter = 20_000\n",
    "start = time()\n",
    "for epoch in range(n_iter):\n",
    "    X_pred = model(torch.from_numpy(Z.transpose().astype(np.float32)))\n",
    "    loss = criterion(X_pred, torch.from_numpy(X.transpose().astype(np.float32)))\n",
    "    if (epoch+1)%(n_iter/10) == 0 :\n",
    "        print(\"Epoch: %d; loss: %.3f; time: %.1f mins\" % (epoch+1, loss.item(), (time()-start)/60))\n",
    "    optimizer.zero_grad()\n",
    "    loss.backward()\n",
    "    optimizer.step()"
   ]
  },
  {
   "cell_type": "markdown",
   "metadata": {},
   "source": [
    "### Run Stan:"
   ]
  },
  {
   "cell_type": "code",
   "execution_count": 7,
   "metadata": {},
   "outputs": [
    {
     "name": "stderr",
     "output_type": "stream",
     "text": [
      "WARNING:pystan:Rhat above 1.1 or below 0.9 indicates that the chains very likely have not mixed\n",
      "WARNING:pystan:63 of 4500 iterations ended with a divergence (1.4 %).\n",
      "WARNING:pystan:Try running with adapt_delta larger than 0.9 to remove the divergences.\n",
      "WARNING:pystan:4437 of 4500 iterations saturated the maximum tree depth of 11 (98.6 %)\n",
      "WARNING:pystan:Run again with max_treedepth larger than 11 to avoid saturation\n"
     ]
    },
    {
     "name": "stdout",
     "output_type": "stream",
     "text": [
      "Running time =  185.3 minutes\n"
     ]
    }
   ],
   "source": [
    "control = dict(adapt_delta=0.9, max_treedepth=11)\n",
    "start = time()\n",
    "fit = sm.sampling(data=data, thin=1, n_jobs=9, chains=9, init=\"random\", iter=1_000, control=control)\n",
    "print(\"Running time = \", round((time()-start)/60,1), \"minutes\")"
   ]
  },
  {
   "cell_type": "code",
   "execution_count": 8,
   "metadata": {
    "collapsed": true
   },
   "outputs": [],
   "source": [
    "trace = fit.extract()"
   ]
  },
  {
   "cell_type": "code",
   "execution_count": 9,
   "metadata": {},
   "outputs": [
    {
     "data": {
      "text/plain": [
       "(4500, 40, 2)"
      ]
     },
     "execution_count": 9,
     "metadata": {},
     "output_type": "execute_result"
    }
   ],
   "source": [
    "np.shape(trace['weights_1'])"
   ]
  },
  {
   "cell_type": "code",
   "execution_count": 10,
   "metadata": {},
   "outputs": [
    {
     "name": "stdout",
     "output_type": "stream",
     "text": [
      "Inference for Stan model: anon_model_f0d75c4993ee1b345d9f79729b26cb11.\n",
      "9 chains, each with iter=1000; warmup=500; thin=1; \n",
      "post-warmup draws per chain=500, total post-warmup draws=4500.\n",
      "\n",
      "                  mean se_mean     sd   2.5%    25%    50%    75%  97.5%  n_eff   Rhat\n",
      "weights_1[1,1]   -0.31    0.55   1.26  -4.22  -0.44  -0.11   0.48    1.0      5   4.37\n",
      "weights_1[2,1]   -0.07    0.84   1.87  -3.96  -0.45  -0.33   1.09   3.22      5    4.0\n",
      "weights_1[3,1]    0.19    0.58   1.27  -2.68  -0.39   0.37   0.49   2.86      5   5.56\n",
      "weights_1[4,1]   -0.07    0.74   1.82  -2.94  -1.66   0.38   0.73   4.54      6   3.55\n",
      "weights_1[5,1]   -0.47    0.44   0.99  -3.09  -0.63   -0.4  -0.07   1.27      5   4.38\n",
      "weights_1[6,1]     0.5    0.36   0.88  -0.39  -0.35   0.19   1.08   2.54      6   2.65\n",
      "weights_1[7,1]    0.75    0.74   1.64  -1.19  -0.41  -0.02   1.87   4.42      5   4.23\n",
      "weights_1[8,1]    0.29    0.26   0.57  -0.58  -0.17   0.41   0.51   1.65      5   6.02\n",
      "weights_1[9,1]    0.37    0.55   1.24  -1.72  -0.27   0.18   0.43   4.11      5   4.26\n",
      "weights_1[10,1]   0.71    0.61   1.46  -0.59  -0.15   0.34   0.52   4.76      6    2.7\n",
      "weights_1[11,1]    0.7    0.53   1.16  -0.55   0.25   0.42   0.56   3.73      5   4.75\n",
      "weights_1[12,1]  -0.79    0.65    1.5  -3.93  -2.02  -0.42   0.35   2.29      5   4.09\n",
      "weights_1[13,1]   0.07    0.38   0.89  -1.93  -0.46   0.15   0.35   2.44      5   2.78\n",
      "weights_1[14,1]  -0.64    0.74   1.71  -4.71  -1.42  -0.58   0.71   2.08      5   3.28\n",
      "weights_1[15,1]   0.17     0.3   0.74  -0.69  -0.44   0.19   0.41   2.53      6   2.58\n",
      "weights_1[16,1]  -0.45    0.24   0.85  -3.39  -0.65  -0.35   0.03   0.42     12   4.01\n",
      "weights_1[17,1]  -0.24    0.38   0.85  -3.05  -0.48   -0.1   0.38   0.46      5   7.18\n",
      "weights_1[18,1]    0.5     0.8   1.84  -3.55  -0.35   0.44   1.47    4.2      5   3.18\n",
      "weights_1[19,1]  -0.39    0.37   0.87  -3.04  -0.49  -0.39   0.03   0.94      5   4.33\n",
      "weights_1[20,1]   0.12    0.48   1.19   -2.5  -0.38   0.37   0.54   2.72      6   2.35\n",
      "weights_1[21,1]   0.46    0.53   1.31  -2.46  -0.45   0.44   0.98   3.34      6   2.18\n",
      "weights_1[22,1]   0.16    0.66   1.52  -3.56  -0.46    0.4   1.08   2.72      5   2.78\n",
      "weights_1[23,1]   0.42    0.42   1.08  -0.44  -0.41   0.06   0.78   3.23      6   2.23\n",
      "weights_1[24,1]  -0.13     0.2   0.44   -0.7  -0.44  -0.31   0.42   0.52      5   9.68\n",
      "weights_1[25,1]  -0.43    0.62   1.41  -4.01  -0.48   0.38    0.4   1.48      5   4.46\n",
      "weights_1[26,1]  -0.02    0.21   0.55   -1.0  -0.42   0.18   0.41   0.87      7   2.21\n",
      "weights_1[27,1]  -0.06    0.45   0.99  -2.42   -0.4  -0.23   0.44   2.09      5    5.0\n",
      "weights_1[28,1]  -0.54    0.73   1.73  -6.36   -0.5  -0.24   0.03   1.58      6   3.61\n",
      "weights_1[29,1]  -0.08    0.54   1.23  -3.99  -0.22   0.38   0.45   1.39      5   3.63\n",
      "weights_1[30,1]  -0.15    0.13   0.28  -0.53  -0.42   -0.1  -0.03    0.4      5   4.86\n",
      "weights_1[31,1]  -0.32    0.32   0.81   -2.1  -0.58  -0.43  -0.05    1.5      6   2.11\n",
      "weights_1[32,1]   0.71    0.39   1.02  -0.32   0.11   0.41   1.07   3.49      7    2.0\n",
      "weights_1[33,1]   0.06    0.18   0.59  -0.65  -0.25  -0.14   0.37   1.66     10   1.65\n",
      "weights_1[34,1]   0.99    0.91   2.14  -3.73   0.39   0.47   1.89   6.08      6   2.82\n",
      "weights_1[35,1]  -0.15    0.37   0.81  -2.46  -0.41  -0.14   0.43   0.86      5   6.63\n",
      "weights_1[36,1]  -0.04    0.53   1.41  -4.62  -0.38  -0.23    0.7    2.3      7    2.0\n",
      "weights_1[37,1]   0.26    0.28   0.67  -0.53  -0.38    0.4   0.43   2.19      6   2.77\n",
      "weights_1[38,1]   0.16    0.61   1.44  -2.74  -0.61   0.35   0.45   3.17      6   3.24\n",
      "weights_1[39,1]   0.52    0.87   1.97  -0.71  -0.45  -0.09   0.36   7.26      5   5.33\n",
      "weights_1[40,1]   0.46    0.52   1.23  -1.73  -0.37   0.37   1.05   3.29      6   3.23\n",
      "weights_1[1,2]    -0.1    0.36   0.81  -1.75  -0.59-1.4e-3   0.43   1.52      5   5.19\n",
      "weights_1[2,2]    0.41    0.93   2.07  -3.72  -0.38   0.44   1.35   4.81      5    3.8\n",
      "weights_1[3,2]   -0.08    0.48   1.08  -2.76  -0.45  -0.33   0.43    2.5      5   4.24\n",
      "weights_1[4,2]  7.7e-3    0.85   1.99  -3.35  -1.73   0.38   0.98   3.81      5   3.18\n",
      "weights_1[5,2]   -0.33    0.47   1.02   -3.1  -0.38 2.9e-3   0.39   0.64      5   5.31\n",
      "weights_1[6,2]    0.65    0.52   1.21   -0.4  -0.35   0.28   1.09   4.01      6   3.87\n",
      "weights_1[7,2]    0.79    0.62   1.41  -0.73-5.8e-3   0.16   1.72   4.16      5   3.97\n",
      "weights_1[8,2]    0.32    0.64   1.44  -0.62  -0.46  -0.03   0.41   5.24      5   7.39\n",
      "weights_1[9,2]    0.18    0.27    0.7   -1.7  -0.07    0.2   0.44   1.66      7   2.67\n",
      "weights_1[10,2]    0.7    0.58   1.34  -0.45  -0.01   0.25   1.19   4.37      5   3.14\n",
      "weights_1[11,2]   0.63    0.69   1.59  -0.45  -0.41-9.9e-4   0.53   5.34      5   4.07\n",
      "weights_1[12,2]  -0.78    0.64   1.43  -4.05  -2.04  -0.35   0.41   1.02      5   4.37\n",
      "weights_1[13,2]  -0.04    0.27   0.65  -0.95  -0.46  -0.18   0.14   1.97      6   2.51\n",
      "weights_1[14,2]  -0.34    0.47   1.17  -3.25  -0.94  -0.27   0.43   1.48      6   2.79\n",
      "weights_1[15,2]    0.1    0.65   1.68  -4.15  -0.41   0.05   0.51   5.08      7    2.5\n",
      "weights_1[16,2]   -0.3    0.32   0.91  -3.12  -0.35  -0.02   0.02   0.41      8    1.7\n",
      "weights_1[17,2]  -0.26    0.36   0.77  -2.62  -0.21 5.2e-4   0.06   0.38      5   8.61\n",
      "weights_1[18,2]   0.38     0.6   1.46  -2.65  -0.36 7.5e-3    1.1   3.31      6   2.67\n",
      "weights_1[19,2]   0.07     0.2   0.48  -0.81  -0.38-2.8e-3   0.46   0.89      6   4.15\n",
      "weights_1[20,2]  -0.28     0.7   1.57  -4.38  -0.43  -0.08   0.52   2.24      5   3.43\n",
      "weights_1[21,2]   0.11    0.81   1.77  -4.52  -0.52 5.4e-3   0.63   3.08      5   6.92\n",
      "weights_1[22,2]  -0.13    0.62    1.4  -4.17  -0.45   0.35   0.71   1.67      5   3.88\n",
      "weights_1[23,2]   0.47    0.39   0.92  -0.43-1.1e-3   0.04   1.05   2.86      5   2.89\n",
      "weights_1[24,2]   0.03    0.18   0.39  -0.52  -0.41 2.9e-3    0.3   0.68      5  10.39\n",
      "weights_1[25,2]  -0.13    0.44   1.08  -2.84  -0.44   0.38   0.41   1.91      6   2.65\n",
      "weights_1[26,2]  -0.06    0.17   0.38  -0.68  -0.41-1.5e-3   0.36   0.43      5    3.3\n",
      "weights_1[27,2]   0.26    0.68   1.53  -2.06   -0.4 1.9e-3   0.23   4.77      5   4.48\n",
      "weights_1[28,2]  -0.18    0.79   1.77  -5.43  -0.06 5.4e-3   0.43   2.61      5   4.26\n",
      "weights_1[29,2]  -0.44    0.58   1.35  -4.82  -0.41  -0.22   0.07   1.37      5   3.14\n",
      "weights_1[30,2]   0.01    0.13    0.3  -0.54  -0.12  -0.01   0.18   0.47      5   3.48\n",
      "weights_1[31,2]  -0.47    0.64   1.49  -4.26  -1.33-4.3e-4   0.45    2.1      5    4.0\n",
      "weights_1[32,2]   0.58    0.46   1.21  -0.46  -0.28    0.2   1.09   4.29      7   2.99\n",
      "weights_1[33,2]  -0.09    0.11   0.25  -0.43  -0.27  -0.14    0.1   0.38      5   3.03\n",
      "weights_1[34,2]   0.93    0.92   2.05  -3.88   0.18    0.6   2.36   4.19      5   4.03\n",
      "weights_1[35,2]  -0.22    0.35   0.81  -2.27  -0.44  -0.22  -0.01   1.93      5   2.98\n",
      "weights_1[36,2]  -0.23    0.55   1.36  -3.77  -0.64  -0.32   0.31   2.81      6   2.67\n",
      "weights_1[37,2]   0.46    0.42   1.05  -0.46  -0.37   0.36   0.44   3.39      6   2.49\n",
      "weights_1[38,2]   0.24    0.88   2.04  -3.31  -0.43  -0.19   0.52   5.14      5   3.11\n",
      "weights_1[39,2]   0.33    0.32    0.8  -0.46  -0.14   0.35   0.46   3.23      6   2.34\n",
      "weights_1[40,2]   0.64    0.48   1.17  -1.31   0.35    0.4   0.55   4.25      6   2.39\n",
      "bias_1[1]         -0.6    1.24   2.67  -3.32  -2.78  -1.85   2.15   4.57      5   7.97\n",
      "bias_1[2]         0.81    0.59   1.37  -2.21  -0.18   1.18   2.07    2.4      5   2.93\n",
      "bias_1[3]         0.78    1.32   2.82  -3.13  -0.99  -0.07   2.33   7.38      5   10.1\n",
      "bias_1[4]        -1.36    2.02   4.35  -8.51  -6.29   0.16   2.01   5.36      5   6.98\n",
      "bias_1[5]         0.53    0.92   1.97  -2.35  -1.26  -0.31   2.22   3.91      5  11.36\n",
      "bias_1[6]         1.81    1.22   2.65  -3.25   1.09   1.95   3.93   5.58      5   5.41\n",
      "bias_1[7]         0.74    0.95   2.07  -2.73  -0.52    0.1    2.1   5.02      5   5.28\n",
      "bias_1[8]         0.11    0.99   2.11  -4.24  -0.89  -0.14   1.98   3.55      5  19.55\n",
      "bias_1[9]        -1.12     0.9    2.0  -4.81  -2.55  -0.81   0.28   2.31      5   5.58\n",
      "bias_1[10]        0.03    1.08   2.34  -5.39  -0.82   0.29   1.83   3.31      5   7.74\n",
      "bias_1[11]        0.21    0.88   1.95  -3.93  -0.54   0.59   1.47   3.58      5   7.18\n",
      "bias_1[12]        1.21    0.84   1.85   -1.2  -0.74   1.86   2.77   3.91      5   4.81\n",
      "bias_1[13]       -0.11    0.67   1.51  -3.76  -0.19    0.2   1.06   1.52      5    3.6\n",
      "bias_1[14]       -0.69    1.13   2.49  -4.95  -2.51  -0.83   1.64   3.19      5   4.16\n",
      "bias_1[15]       -0.91    0.84   1.88  -3.53  -2.49  -0.71    0.5   2.72      5    4.5\n",
      "bias_1[16]        -0.8    1.38   3.05  -6.65  -2.76   0.17   1.61   2.65      5   4.78\n",
      "bias_1[17]        0.16    1.38   2.93  -5.78  -0.84  -0.05   2.51   4.77      5  17.68\n",
      "bias_1[18]       -0.27    1.21   2.62  -4.17  -3.03   0.39   2.11   3.15      5   6.03\n",
      "bias_1[19]       -0.37    1.73    3.7  -5.55  -3.23  -1.31   2.17   6.46      5   10.7\n",
      "bias_1[20]       -0.55    0.87   1.93  -3.81  -1.77  -0.65   1.53   2.47      5   4.06\n",
      "bias_1[21]       -0.07    0.89   2.02   -2.8  -1.79   0.08    1.2   4.61      5   4.24\n",
      "bias_1[22]        0.05     1.5   3.21  -6.01  -1.54  -0.14   1.33   6.74      5  12.04\n",
      "bias_1[23]         1.3    1.31   2.84  -4.15  -0.46   1.92   3.64   4.76      5   6.97\n",
      "bias_1[24]       -0.61    2.14   4.57  -8.68  -3.96   0.31   1.88   7.13      5  13.89\n",
      "bias_1[25]       -1.82    1.44   3.11  -6.49  -3.55  -1.78   -0.2   3.72      5   6.37\n",
      "bias_1[26]       -0.32    1.17   2.53  -3.59  -2.67  -1.07   1.61   4.05      5   6.91\n",
      "bias_1[27]        0.93    1.03   2.27  -2.85  -1.09   1.88   2.72   4.28      5   6.11\n",
      "bias_1[28]         1.2    0.69   1.66  -2.41   0.33   1.57   2.28   3.44      6   2.61\n",
      "bias_1[29]        0.34    1.41   3.01  -6.44  -1.26   1.82   2.52   3.48      5  12.15\n",
      "bias_1[30]        0.71    1.43   3.05  -3.77  -1.74   0.22   3.26    6.2      5  14.97\n",
      "bias_1[31]       -0.58    0.84   1.83  -4.89  -1.93   -1.0   1.18   1.58      5   4.83\n",
      "bias_1[32]        0.71    0.77   1.67  -2.58  -0.27   0.85   1.61   4.07      5   6.07\n",
      "bias_1[33]        0.43    1.48    3.2  -5.98  -2.08    1.7   2.99   4.62      5   6.97\n",
      "bias_1[34]        0.53    1.22    2.7  -5.43  -0.72   1.85    2.3   3.91      5   5.52\n",
      "bias_1[35]        0.19    0.97   2.11  -2.76  -1.86   1.19   1.76    3.5      5   6.68\n",
      "bias_1[36]        0.47    1.18    2.6  -3.51  -1.86   0.77   3.23   4.36      5   4.78\n",
      "bias_1[37]       -0.19    1.34   2.89  -6.29  -1.28   0.02   2.41   3.33      5   8.76\n",
      "bias_1[38]        0.02    1.23   2.68  -5.33  -1.97    0.6   1.44    4.6      5   5.34\n",
      "bias_1[39]       -0.48    0.79   1.72  -4.02  -1.83  -0.05   0.49   1.94      5   5.22\n",
      "bias_1[40]        0.36     1.1   2.47  -3.36   -1.1   0.94   2.34   4.84      5   5.94\n",
      "weights_2[1,1]    0.11    0.58   1.58  -2.51  -1.12  -0.05   1.06   3.46      7   2.07\n",
      "weights_2[2,1]   -0.04    0.88   2.19  -4.67  -1.84  -0.08   1.99   3.55      6   2.76\n",
      "weights_2[3,1]   -0.27    0.67   1.66  -4.31  -0.48  -0.02   0.47   2.52      6   3.87\n",
      "weights_2[1,2]    0.04    0.81    2.0  -4.24  -0.87   0.13   1.08    4.0      6   2.31\n",
      "weights_2[2,2]   -0.12    0.56   1.44  -2.63  -1.26  -0.27   1.07   2.37      7   2.05\n",
      "weights_2[3,2]   -0.78    1.31    2.9  -9.02  -1.21  -0.11   0.21   3.36      5   4.49\n",
      "weights_2[1,3]    0.55     1.2   2.69  -3.35  -1.36  -0.11   2.22   5.94      5   4.12\n",
      "weights_2[2,3]    0.64    1.44   3.13  -3.67  -1.76   0.61   1.93   8.22      5   6.82\n",
      "weights_2[3,3]   -0.31    0.25   1.04  -2.73  -0.79  -0.05   0.04   2.68     18   1.53\n",
      "weights_2[1,4]   -0.49    1.15   2.64  -5.86  -2.82  -0.51   1.74    3.6      5   3.64\n",
      "weights_2[2,4]   -0.46     1.0   2.38  -3.89  -2.57  -0.75   1.34    3.9      6   2.86\n",
      "weights_2[3,4]    0.17    0.69   1.81  -2.38  -1.01   -0.3   0.65   4.57      7   2.78\n",
      "weights_2[1,5]   -1.39    0.88   2.16  -4.74  -3.48  -1.22  -0.09   3.41      6   2.97\n",
      "weights_2[2,5]    1.28    0.78   1.84  -1.82    0.2   1.34   1.89   5.52      6   3.02\n",
      "weights_2[3,5]    -1.6    0.88   2.07  -5.64   -3.7  -0.97   0.05    1.0      6   2.82\n",
      "weights_2[1,6]    1.04    1.71   3.78  -3.26  -1.48  -0.59   1.99   9.06      5   4.81\n",
      "weights_2[2,6]   -0.73    1.02    2.5   -5.1  -2.08  -1.19   0.42   4.41      6   2.62\n",
      "weights_2[3,6]    0.13    0.39   1.35   -3.4  -0.14   0.09   0.56   2.61     12   1.97\n",
      "weights_2[1,7]    0.16    0.58   1.73  -2.69  -0.78  -0.02   1.09   3.68      9   1.78\n",
      "weights_2[2,7]   -0.56    1.04   2.33   -7.0  -1.01   0.02    0.9   1.99      5   4.01\n",
      "weights_2[3,7]    0.38    0.12   0.64  -0.92-9.8e-3   0.26   0.63   2.08     28   1.55\n",
      "weights_2[1,8]    0.82    1.08   2.41  -4.22  -0.59   0.47   3.07   4.26      5   6.16\n",
      "weights_2[2,8]    0.68    0.97   2.11  -2.87  -0.91   0.44   2.16   5.26      5   5.88\n",
      "weights_2[3,8]    -0.1    0.52   1.18  -3.43  -0.11-1.2e-3   0.14   2.38      5   4.98\n",
      "weights_2[1,9]   -0.71    0.55   1.61  -3.07  -1.99  -0.86   0.32   3.15      9   2.19\n",
      "weights_2[2,9]    1.07    1.39   3.14  -4.58   -1.1   0.62   3.42   7.11      5   4.04\n",
      "weights_2[3,9]    0.19    0.42   1.28  -3.62  -0.14   0.13    0.8   2.49     10   2.68\n",
      "weights_2[1,10]  -0.27    0.87   2.01  -3.54  -1.82  -0.15    0.7   3.69      5   3.28\n",
      "weights_2[2,10]  -0.44    1.34   2.92  -7.54   -1.8    0.6   1.48   3.49      5   5.43\n",
      "weights_2[3,10]  -0.58    0.48   1.18  -2.85  -1.34  -0.38  -0.06   2.27      6   2.96\n",
      "weights_2[1,11]   0.55    0.88   2.03  -2.85   -1.0   0.09   1.86   4.64      5   3.07\n",
      "weights_2[2,11]  -0.11    1.14   2.48   -4.6   -1.2  -0.23    2.0   3.61      5   5.53\n",
      "weights_2[3,11]   0.73     0.6    1.5  -2.17  -0.08   0.21    1.8   4.32      6   2.67\n",
      "weights_2[1,12]   0.17    0.96   2.32  -3.45  -1.72   -0.3   1.87   5.81      6   2.91\n",
      "weights_2[2,12]  -0.37    1.31   2.87  -5.71   -1.9  -0.48   0.78   4.65      5   5.36\n",
      "weights_2[3,12]  -0.42    0.56   1.44  -3.81  -1.05  -0.12   0.51   2.02      7   2.21\n",
      "weights_2[1,13]   1.03    0.75   1.82  -2.93  -0.08   1.82   2.26   3.76      6   2.61\n",
      "weights_2[2,13]   0.23    1.45   3.35  -6.66   -1.3  -0.04   2.14   6.34      5   3.75\n",
      "weights_2[3,13]   0.52    0.47   1.21  -1.58  -0.02   0.47   0.98   3.37      7    2.4\n",
      "weights_2[1,14]  -0.47    0.91   2.36   -4.3  -2.35  -0.83   1.37   3.97      7   2.48\n",
      "weights_2[2,14]   0.03    0.44   1.41  -2.95  -0.55  -0.01   0.87   3.23     10   2.27\n",
      "weights_2[3,14]   0.46    0.87   2.11  -4.16  -0.19   0.03   0.77    5.8      6    2.5\n",
      "weights_2[1,15]   0.37    1.05   2.35  -3.17  -1.44   0.03   1.01   5.62      5   4.72\n",
      "weights_2[2,15]   0.72    0.94   2.14  -1.79  -0.59  -0.15   1.33   6.35      5   5.22\n",
      "weights_2[3,15]  -0.44    0.36   1.08  -3.33  -0.18  -0.03   0.04   0.48      9   2.78\n",
      "weights_2[1,16]  -0.39    1.39   3.02  -5.49  -1.59  -0.09   0.72   6.31      5   5.46\n",
      "weights_2[2,16]  -0.65    1.28   2.82  -4.57  -2.76  -1.23   0.64   6.03      5   4.09\n",
      "weights_2[3,16]   0.43    0.71   1.64  -2.72  -0.21   0.06   1.74   3.43      5   2.87\n",
      "weights_2[1,17]  -0.66    0.68   1.57  -3.79   -1.7  -0.65   0.08   2.71      5   3.62\n",
      "weights_2[2,17]  -1.79    1.47   3.21  -7.56  -3.38   -1.9   1.09   3.29      5   6.26\n",
      "weights_2[3,17]   0.94    1.11   2.39   -3.2  -0.58   0.43   3.05   4.63      5   9.65\n",
      "weights_2[1,18]   1.59    0.98   2.24   -2.0  -0.59   1.49   3.76   4.92      5   3.14\n",
      "weights_2[2,18]   0.36    0.84   1.91  -2.26  -1.34   0.47   1.41   4.64      5   3.57\n",
      "weights_2[3,18]  -0.11    0.53   1.47  -2.88  -0.56 1.5e-3   0.74   2.56      8   1.75\n",
      "weights_2[1,19]  -0.23    0.97   2.16  -3.89  -2.39   0.03   1.77   3.01      5    4.0\n",
      "weights_2[2,19]   1.75    0.86   1.87  -0.85  -0.06   2.07    3.5    5.1      5   5.29\n",
      "weights_2[3,19]   0.42    0.98   2.24   -4.2  -0.06   0.04   1.25    5.0      5   3.74\n",
      "weights_2[1,20]  -0.83    2.23   4.85 -13.74  -1.68   0.47   1.63   4.73      5   5.65\n",
      "weights_2[2,20]   2.08    2.97   6.46  -4.56  -2.02    0.8   2.44  20.12      5   6.51\n",
      "weights_2[3,20]  -0.69    1.15   2.54  -7.82  -0.69  -0.01   0.37   2.38      5   4.24\n",
      "weights_2[1,21]   0.63    1.04   2.34  -3.97  -0.42   0.68   1.77    5.8      5   3.87\n",
      "weights_2[2,21]   0.29    0.81   1.92  -2.96   -1.2   0.26   1.92   3.26      6   2.79\n",
      "weights_2[3,21]   0.79    0.75   1.82  -3.79  -0.12   0.05   2.16   3.84      6   2.61\n",
      "weights_2[1,22]   0.05    1.15   2.57   -4.9  -0.95   0.29   2.43   3.54      5   4.02\n",
      "weights_2[2,22]    0.2    0.76   1.79  -3.13  -1.11   0.77   1.71   2.58      6   2.89\n",
      "weights_2[3,22]   -0.4    0.75   1.92  -4.87  -1.28  -0.11   0.69   3.48      6   3.08\n",
      "weights_2[1,23]  -0.02    1.17   2.73  -4.83   -2.6   0.02   2.69   3.82      5   3.19\n",
      "weights_2[2,23]  -0.11    0.92   2.15  -4.06   -1.8   0.15   1.63   3.42      5   3.09\n",
      "weights_2[3,23]   0.05    0.75    1.9   -3.4  -1.73  -0.04   1.65   3.11      6   3.21\n",
      "weights_2[1,24]   0.88    0.75    1.7  -3.21  -0.09   1.03    2.3   3.16      5   4.09\n",
      "weights_2[2,24]   0.42    1.24   2.71  -4.12  -2.12   0.22    2.0   6.24      5   5.37\n",
      "weights_2[3,24]  -0.51    1.23   2.68  -7.93  -0.43  -0.02    0.1   3.78      5   5.17\n",
      "weights_2[1,25]   0.56     1.0    2.2  -2.53  -1.03  -0.24   3.28   3.87      5   6.13\n",
      "weights_2[2,25]  -0.89     1.3   2.89  -4.37  -3.28  -1.76   0.94   5.58      5   4.52\n",
      "weights_2[3,25]   -0.2    0.16   0.72   -1.8  -0.19 5.6e-3    0.1   1.22     21   1.53\n",
      "weights_2[1,26]   0.42    1.24   2.84  -3.96   -1.2  -0.24   1.84   7.96      5   4.19\n",
      "weights_2[2,26]   1.75    1.27   2.89  -4.33   0.99   2.28   3.04   7.59      5   4.51\n",
      "weights_2[3,26]   0.47    0.57   1.43  -1.83  -0.05   0.03   0.61   4.03      6   3.72\n",
      "weights_2[1,27]  -0.04    1.03   2.28  -4.11  -1.56   -0.7   2.29   3.83      5   5.91\n",
      "weights_2[2,27]   0.05    1.68   3.65  -5.92  -3.27  -0.83   3.47   6.77      5   7.33\n",
      "weights_2[3,27]   1.07     1.0   2.29  -2.94  -0.14   0.14   3.53   4.61      5    4.8\n",
      "weights_2[1,28]    0.4    0.51   1.39  -1.72   -0.8   0.26   1.19   3.42      7   2.81\n",
      "weights_2[2,28]   0.09    0.69   1.61  -2.47  -1.22  -0.03   1.04   3.36      5   2.99\n",
      "weights_2[3,28]   1.17    0.68   1.87  -2.35  -0.02   0.59   2.08   5.23      8   1.98\n",
      "weights_2[1,29]  -1.04    0.78   1.78  -3.77  -2.81  -0.85  -0.03   2.16      5   3.78\n",
      "weights_2[2,29]  -1.33    1.47   3.25   -6.9  -3.14  -0.06   0.51   4.52      5   6.36\n",
      "weights_2[3,29]  -0.81    0.63   1.42   -4.6  -1.07   -0.2  -0.05   1.04      5   3.46\n",
      "weights_2[1,30]  -0.77    1.24   2.78  -6.01  -2.66  -0.97   0.83   4.36      5   4.53\n",
      "weights_2[2,30]   0.31     1.0   2.31  -4.32  -1.65   0.69   1.99   4.53      5   4.34\n",
      "weights_2[3,30]   0.97    0.59   1.31  -1.32  -0.04   0.48   2.59   2.93      5   4.83\n",
      "weights_2[1,31]  -0.71    0.79   1.91  -5.14   -1.4  -0.54   0.51   2.26      6   3.35\n",
      "weights_2[2,31]  -0.15    0.64   1.63   -2.9  -1.28   -0.4   1.37   2.51      7   2.34\n",
      "weights_2[3,31]  -0.28    0.89   2.09   -3.9  -1.04  -0.02   0.11    4.3      6   4.56\n",
      "weights_2[1,32]  -0.91    0.66   1.76  -3.98  -2.37  -0.68    0.2   2.59      7   2.07\n",
      "weights_2[2,32]  -0.89    1.02   2.52  -5.31  -2.35  -0.34   0.78   3.58      6   2.52\n",
      "weights_2[3,32]  -0.36    0.44   1.11  -3.03  -0.94  -0.21   0.06    1.7      6   2.43\n",
      "weights_2[1,33]  -0.92    1.69   3.68  -9.43  -2.71  -0.96   1.24   4.52      5   5.93\n",
      "weights_2[2,33]  -0.61     1.2   2.81  -6.69  -3.23   0.09   1.56   3.09      5   2.98\n",
      "weights_2[3,33]  -0.28    0.75   1.78  -4.87  -0.43   0.15   0.74   2.01      6   2.69\n",
      "weights_2[1,34]  -1.32    0.57   1.42  -3.82  -2.36  -1.65   -0.2   1.48      6   3.32\n",
      "weights_2[2,34]   0.47    0.64   1.75  -3.32  -0.26    0.5   1.14   4.02      7   2.09\n",
      "weights_2[3,34]  -0.51     0.8    1.8  -4.92  -0.92   -0.1    0.1   2.38      5   3.37\n",
      "weights_2[1,35]   0.11    1.78   3.94 -10.04  -1.25   0.34   3.12   5.52      5   4.07\n",
      "weights_2[2,35]  -1.35    1.37   3.13  -9.29  -3.23  -1.44   1.25   3.07      5   4.74\n",
      "weights_2[3,35]  -0.67    0.52   1.34  -4.33  -1.51  -0.21   0.02   1.85      6    3.2\n",
      "weights_2[1,36]   1.15     1.2    2.7   -2.7  -0.58    0.6   2.99   6.19      5   4.06\n",
      "weights_2[2,36]  -1.23    0.92   2.07   -4.7  -3.52   -0.7   0.54   2.16      5   3.35\n",
      "weights_2[3,36]  -0.64    0.34   1.16   -3.5  -1.49  -0.12   0.09   1.25     12   2.28\n",
      "weights_2[1,37]   0.19    0.94    2.1  -4.18  -0.92   0.27   1.45   3.44      5   4.57\n",
      "weights_2[2,37]   0.72    1.31   2.91  -3.67  -1.46   0.06   3.36   6.25      5   4.86\n",
      "weights_2[3,37] 1.8e-3    0.74    2.0  -6.69  -0.14-7.1e-3   0.81   3.01      7   2.56\n",
      "weights_2[1,38]   1.27    1.19   2.64  -4.15-1.4e-3   1.59   2.89   6.18      5   4.96\n",
      "weights_2[2,38]   1.01    0.87   1.99  -2.83  -0.65   1.01    2.2   5.06      5   3.66\n",
      "weights_2[3,38]   -0.3    0.42   1.17  -3.49  -0.46   -0.1   0.41   1.62      8   1.89\n",
      "weights_2[1,39]   0.08    2.25   4.84 -12.28  -0.87   0.75   2.83   7.37      5   7.53\n",
      "weights_2[2,39]  -0.07    0.97   2.17  -4.96  -1.26   0.08   1.81   2.81      5   3.77\n",
      "weights_2[3,39]   0.09    0.09   0.55  -0.91   -0.1  -0.01   0.08   1.72     39   1.32\n",
      "weights_2[1,40]  -1.36    0.93   2.13  -5.57  -2.64  -1.13   0.23   2.26      5   3.46\n",
      "weights_2[2,40]  -1.18     0.9    2.2  -6.19  -2.19  -1.07   0.35   2.04      6   2.98\n",
      "weights_2[3,40]  -0.36    0.45   1.51  -4.92  -0.27  -0.04   0.08   2.59     11   2.14\n",
      "bias_2[1]         0.06     0.3   1.57  -3.54  -0.73    0.2   1.03   2.92     28   1.39\n",
      "bias_2[2]        -0.49    0.66   1.95  -3.89  -1.96  -0.61   0.96   3.36      9   1.76\n",
      "bias_2[3]        -0.84     0.9   2.11  -5.26  -2.19  -0.48   0.72    2.8      6   2.84\n",
      "error_sigma2      0.03  2.1e-4 6.9e-4   0.03   0.03   0.03   0.03   0.03     11   1.52\n",
      "prior_sigma2      2.17     0.2   0.43   1.63   1.91   2.03   2.21   3.21      5   5.01\n",
      "lp__            5234.0   31.16  66.87 5097.8 5227.0 5261.9 5274.9 5313.3      5   7.79\n",
      "\n",
      "Samples were drawn using NUTS at Thu Dec 19 13:43:50 2019.\n",
      "For each parameter, n_eff is a crude measure of effective sample size,\n",
      "and Rhat is the potential scale reduction factor on split chains (at \n",
      "convergence, Rhat=1).\n"
     ]
    }
   ],
   "source": [
    "print(fit)"
   ]
  },
  {
   "cell_type": "code",
   "execution_count": 11,
   "metadata": {},
   "outputs": [
    {
     "data": {
      "text/plain": [
       "[<matplotlib.lines.Line2D at 0x7f8e0ba5ba90>]"
      ]
     },
     "execution_count": 11,
     "metadata": {},
     "output_type": "execute_result"
    },
    {
     "data": {
      "image/png": "[encoded data removed]",
      "text/plain": [
       "<Figure size 432x288 with 1 Axes>"
      ]
     },
     "metadata": {},
     "output_type": "display_data"
    }
   ],
   "source": [
    "plt.plot(trace['weights_1'][:,1,1])"
   ]
  },
  {
   "cell_type": "code",
   "execution_count": 14,
   "metadata": {},
   "outputs": [
    {
     "data": {
      "text/plain": [
       "[<matplotlib.lines.Line2D at 0x7f8e0b94fcc0>]"
      ]
     },
     "execution_count": 14,
     "metadata": {},
     "output_type": "execute_result"
    },
    {
     "data": {
      "image/png": "[encoded data removed]",
      "text/plain": [
       "<Figure size 432x288 with 1 Axes>"
      ]
     },
     "metadata": {},
     "output_type": "display_data"
    }
   ],
   "source": [
    "plt.plot(trace['weights_1'][0:500,1,1])"
   ]
  },
  {
   "cell_type": "code",
   "execution_count": 15,
   "metadata": {
    "collapsed": true
   },
   "outputs": [],
   "source": [
    "def L2_loss(X, Z, weights_1, bias_1, weights_2, bias_2) :\n",
    "    X_pred = ((np.matmul(weights_2,(np.tanh(np.matmul(weights_1,Z).transpose()+\n",
    "                   bias_1.transpose())).transpose())).transpose()+bias_2.transpose()).transpose()\n",
    "    return np.mean(np.sum((X-X_pred)**2,axis=1))"
   ]
  },
  {
   "cell_type": "code",
   "execution_count": 19,
   "metadata": {},
   "outputs": [
    {
     "name": "stderr",
     "output_type": "stream",
     "text": [
      "100%|██████████| 4500/4500 [00:02<00:00, 1961.93it/s]\n"
     ]
    },
    {
     "data": {
      "image/png": "[encoded data removed]",
      "text/plain": [
       "<Figure size 504x288 with 1 Axes>"
      ]
     },
     "metadata": {},
     "output_type": "display_data"
    }
   ],
   "source": [
    "n_samples = np.shape(trace['weights_1'])[0]\n",
    "loss = np.zeros(n_samples)\n",
    "for i in trange(n_samples) :\n",
    "    loss[i] = L2_loss(X, Z, trace['weights_1'][i], \n",
    "                      trace['bias_1'][i], trace['weights_2'][i], trace['bias_2'][i])\n",
    "plt.figure(figsize=(7,4))\n",
    "plt.plot(loss)\n",
    "plt.title(\"Loss\", fontsize=15)\n",
    "plt.xlabel(\"MCMC sample\", fontsize=13)\n",
    "plt.grid(True)"
   ]
  },
  {
   "cell_type": "code",
   "execution_count": 21,
   "metadata": {},
   "outputs": [
    {
     "data": {
      "text/plain": [
       "[<matplotlib.lines.Line2D at 0x7f8e0bb1fef0>]"
      ]
     },
     "execution_count": 21,
     "metadata": {},
     "output_type": "execute_result"
    },
    {
     "data": {
      "image/png": "[encoded data removed]",
      "text/plain": [
       "<Figure size 432x288 with 1 Axes>"
      ]
     },
     "metadata": {},
     "output_type": "display_data"
    }
   ],
   "source": [
    "plt.plot(trace['error_sigma2'])"
   ]
  },
  {
   "cell_type": "code",
   "execution_count": 25,
   "metadata": {},
   "outputs": [],
   "source": [
    "rho = 0\n",
    "rho_data = np.random.multivariate_normal(mean=[0,0],\n",
    "                                  cov=[[1,rho],[rho,1]],\n",
    "                                     size=10**3)"
   ]
  },
  {
   "cell_type": "code",
   "execution_count": 26,
   "metadata": {},
   "outputs": [
    {
     "data": {
      "text/plain": [
       "(1000, 2)"
      ]
     },
     "execution_count": 26,
     "metadata": {},
     "output_type": "execute_result"
    }
   ],
   "source": [
    "np.shape(rho_data)"
   ]
  },
  {
   "cell_type": "code",
   "execution_count": 28,
   "metadata": {},
   "outputs": [],
   "source": [
    "mine_data = np.zeros((500,2))\n",
    "mine_data[:,0] = trace['weights_1'][0:500,1,0]\n",
    "mine_data[:,1] = trace['weights_1'][0:500,1,1]"
   ]
  },
  {
   "cell_type": "code",
   "execution_count": 32,
   "metadata": {},
   "outputs": [
    {
     "data": {
      "text/plain": [
       "(4500, 40, 2)"
      ]
     },
     "execution_count": 32,
     "metadata": {},
     "output_type": "execute_result"
    }
   ],
   "source": [
    "np.shape(trace['weights_1'])"
   ]
  },
  {
   "cell_type": "code",
   "execution_count": 35,
   "metadata": {
    "scrolled": true
   },
   "outputs": [
    {
     "name": "stderr",
     "output_type": "stream",
     "text": [
      "\n",
      "  0%|          | 0/40 [00:00<?, ?it/s]\u001b[A\n",
      "  2%|▎         | 1/40 [01:15<49:20, 75.92s/it]\u001b[A"
     ]
    },
    {
     "name": "stdout",
     "output_type": "stream",
     "text": [
      "1 .  1.27 minutes\n"
     ]
    },
    {
     "name": "stderr",
     "output_type": "stream",
     "text": [
      "\n",
      "  5%|▌         | 2/40 [02:32<48:17, 76.24s/it]\u001b[A"
     ]
    },
    {
     "name": "stdout",
     "output_type": "stream",
     "text": [
      "2 .  1.28 minutes\n"
     ]
    },
    {
     "name": "stderr",
     "output_type": "stream",
     "text": [
      "\n",
      "  8%|▊         | 3/40 [03:47<46:42, 75.73s/it]\u001b[A"
     ]
    },
    {
     "name": "stdout",
     "output_type": "stream",
     "text": [
      "3 .  1.24 minutes\n"
     ]
    },
    {
     "name": "stderr",
     "output_type": "stream",
     "text": [
      "\n",
      " 10%|█         | 4/40 [05:02<45:13, 75.38s/it]\u001b[A"
     ]
    },
    {
     "name": "stdout",
     "output_type": "stream",
     "text": [
      "4 .  1.24 minutes\n"
     ]
    },
    {
     "name": "stderr",
     "output_type": "stream",
     "text": [
      "\n",
      " 12%|█▎        | 5/40 [06:16<43:53, 75.23s/it]\u001b[A"
     ]
    },
    {
     "name": "stdout",
     "output_type": "stream",
     "text": [
      "5 .  1.25 minutes\n"
     ]
    },
    {
     "name": "stderr",
     "output_type": "stream",
     "text": [
      "\n",
      " 15%|█▌        | 6/40 [07:32<42:37, 75.23s/it]\u001b[A"
     ]
    },
    {
     "name": "stdout",
     "output_type": "stream",
     "text": [
      "6 .  1.25 minutes\n"
     ]
    },
    {
     "name": "stderr",
     "output_type": "stream",
     "text": [
      "\n",
      " 18%|█▊        | 7/40 [08:47<41:27, 75.39s/it]\u001b[A"
     ]
    },
    {
     "name": "stdout",
     "output_type": "stream",
     "text": [
      "7 .  1.26 minutes\n"
     ]
    },
    {
     "name": "stderr",
     "output_type": "stream",
     "text": [
      "\n",
      " 20%|██        | 8/40 [10:01<39:59, 74.97s/it]\u001b[A"
     ]
    },
    {
     "name": "stdout",
     "output_type": "stream",
     "text": [
      "8 .  1.23 minutes\n"
     ]
    },
    {
     "name": "stderr",
     "output_type": "stream",
     "text": [
      "\n",
      " 22%|██▎       | 9/40 [11:13<38:13, 74.00s/it]\u001b[A"
     ]
    },
    {
     "name": "stdout",
     "output_type": "stream",
     "text": [
      "9 .  1.2 minutes\n"
     ]
    },
    {
     "name": "stderr",
     "output_type": "stream",
     "text": [
      "\n",
      " 25%|██▌       | 10/40 [12:25<36:41, 73.39s/it]\u001b[A"
     ]
    },
    {
     "name": "stdout",
     "output_type": "stream",
     "text": [
      "10 .  1.2 minutes\n"
     ]
    },
    {
     "name": "stderr",
     "output_type": "stream",
     "text": [
      "\n",
      " 28%|██▊       | 11/40 [13:37<35:14, 72.92s/it]\u001b[A"
     ]
    },
    {
     "name": "stdout",
     "output_type": "stream",
     "text": [
      "11 .  1.2 minutes\n"
     ]
    },
    {
     "name": "stderr",
     "output_type": "stream",
     "text": [
      "\n",
      " 30%|███       | 12/40 [14:49<33:55, 72.70s/it]\u001b[A"
     ]
    },
    {
     "name": "stdout",
     "output_type": "stream",
     "text": [
      "12 .  1.2 minutes\n"
     ]
    },
    {
     "name": "stderr",
     "output_type": "stream",
     "text": [
      "\n",
      " 32%|███▎      | 13/40 [16:02<32:42, 72.68s/it]\u001b[A"
     ]
    },
    {
     "name": "stdout",
     "output_type": "stream",
     "text": [
      "13 .  1.21 minutes\n"
     ]
    },
    {
     "name": "stderr",
     "output_type": "stream",
     "text": [
      "\n",
      " 35%|███▌      | 14/40 [17:13<31:19, 72.28s/it]\u001b[A"
     ]
    },
    {
     "name": "stdout",
     "output_type": "stream",
     "text": [
      "14 .  1.19 minutes\n"
     ]
    },
    {
     "name": "stderr",
     "output_type": "stream",
     "text": [
      "\n",
      " 38%|███▊      | 15/40 [18:27<30:19, 72.79s/it]\u001b[A"
     ]
    },
    {
     "name": "stdout",
     "output_type": "stream",
     "text": [
      "15 .  1.23 minutes\n"
     ]
    },
    {
     "name": "stderr",
     "output_type": "stream",
     "text": [
      "\n",
      " 40%|████      | 16/40 [19:41<29:15, 73.16s/it]\u001b[A"
     ]
    },
    {
     "name": "stdout",
     "output_type": "stream",
     "text": [
      "16 .  1.23 minutes\n"
     ]
    },
    {
     "name": "stderr",
     "output_type": "stream",
     "text": [
      "\n",
      " 42%|████▎     | 17/40 [20:51<27:43, 72.31s/it]\u001b[A"
     ]
    },
    {
     "name": "stdout",
     "output_type": "stream",
     "text": [
      "17 .  1.17 minutes\n"
     ]
    },
    {
     "name": "stderr",
     "output_type": "stream",
     "text": [
      "\n",
      " 45%|████▌     | 18/40 [22:01<26:12, 71.46s/it]\u001b[A"
     ]
    },
    {
     "name": "stdout",
     "output_type": "stream",
     "text": [
      "18 .  1.16 minutes\n"
     ]
    },
    {
     "name": "stderr",
     "output_type": "stream",
     "text": [
      "\n",
      " 48%|████▊     | 19/40 [23:11<24:49, 70.93s/it]\u001b[A"
     ]
    },
    {
     "name": "stdout",
     "output_type": "stream",
     "text": [
      "19 .  1.16 minutes\n"
     ]
    },
    {
     "name": "stderr",
     "output_type": "stream",
     "text": [
      "\n",
      " 50%|█████     | 20/40 [24:20<23:29, 70.45s/it]\u001b[A"
     ]
    },
    {
     "name": "stdout",
     "output_type": "stream",
     "text": [
      "20 .  1.16 minutes\n"
     ]
    },
    {
     "name": "stderr",
     "output_type": "stream",
     "text": [
      "\n",
      " 52%|█████▎    | 21/40 [25:30<22:14, 70.23s/it]\u001b[A"
     ]
    },
    {
     "name": "stdout",
     "output_type": "stream",
     "text": [
      "21 .  1.16 minutes\n"
     ]
    },
    {
     "name": "stderr",
     "output_type": "stream",
     "text": [
      "\n",
      " 55%|█████▌    | 22/40 [26:40<21:02, 70.14s/it]\u001b[A"
     ]
    },
    {
     "name": "stdout",
     "output_type": "stream",
     "text": [
      "22 .  1.17 minutes\n"
     ]
    },
    {
     "name": "stderr",
     "output_type": "stream",
     "text": [
      "\n",
      " 57%|█████▊    | 23/40 [27:49<19:50, 70.03s/it]\u001b[A"
     ]
    },
    {
     "name": "stdout",
     "output_type": "stream",
     "text": [
      "23 .  1.16 minutes\n"
     ]
    },
    {
     "name": "stderr",
     "output_type": "stream",
     "text": [
      "\n",
      " 60%|██████    | 24/40 [28:59<18:36, 69.78s/it]\u001b[A"
     ]
    },
    {
     "name": "stdout",
     "output_type": "stream",
     "text": [
      "24 .  1.15 minutes\n"
     ]
    },
    {
     "name": "stderr",
     "output_type": "stream",
     "text": [
      "\n",
      " 62%|██████▎   | 25/40 [30:08<17:27, 69.83s/it]\u001b[A"
     ]
    },
    {
     "name": "stdout",
     "output_type": "stream",
     "text": [
      "25 .  1.17 minutes\n"
     ]
    },
    {
     "name": "stderr",
     "output_type": "stream",
     "text": [
      "\n",
      " 65%|██████▌   | 26/40 [31:18<16:17, 69.84s/it]\u001b[A"
     ]
    },
    {
     "name": "stdout",
     "output_type": "stream",
     "text": [
      "26 .  1.16 minutes\n"
     ]
    },
    {
     "name": "stderr",
     "output_type": "stream",
     "text": [
      "\n",
      " 68%|██████▊   | 27/40 [32:28<15:07, 69.79s/it]\u001b[A"
     ]
    },
    {
     "name": "stdout",
     "output_type": "stream",
     "text": [
      "27 .  1.16 minutes\n"
     ]
    },
    {
     "name": "stderr",
     "output_type": "stream",
     "text": [
      "\n",
      " 70%|███████   | 28/40 [33:38<13:58, 69.85s/it]\u001b[A"
     ]
    },
    {
     "name": "stdout",
     "output_type": "stream",
     "text": [
      "28 .  1.17 minutes\n"
     ]
    },
    {
     "name": "stderr",
     "output_type": "stream",
     "text": [
      "\n",
      " 72%|███████▎  | 29/40 [34:49<12:50, 70.07s/it]\u001b[A"
     ]
    },
    {
     "name": "stdout",
     "output_type": "stream",
     "text": [
      "29 .  1.18 minutes\n"
     ]
    },
    {
     "name": "stderr",
     "output_type": "stream",
     "text": [
      "\n",
      " 75%|███████▌  | 30/40 [35:58<11:37, 69.74s/it]\u001b[A"
     ]
    },
    {
     "name": "stdout",
     "output_type": "stream",
     "text": [
      "30 .  1.15 minutes\n"
     ]
    },
    {
     "name": "stderr",
     "output_type": "stream",
     "text": [
      "\n",
      " 78%|███████▊  | 31/40 [37:07<10:27, 69.70s/it]\u001b[A"
     ]
    },
    {
     "name": "stdout",
     "output_type": "stream",
     "text": [
      "31 .  1.16 minutes\n"
     ]
    },
    {
     "name": "stderr",
     "output_type": "stream",
     "text": [
      "\n",
      " 80%|████████  | 32/40 [38:17<09:17, 69.69s/it]\u001b[A"
     ]
    },
    {
     "name": "stdout",
     "output_type": "stream",
     "text": [
      "32 .  1.16 minutes\n"
     ]
    },
    {
     "name": "stderr",
     "output_type": "stream",
     "text": [
      "\n",
      " 82%|████████▎ | 33/40 [39:27<08:08, 69.73s/it]\u001b[A"
     ]
    },
    {
     "name": "stdout",
     "output_type": "stream",
     "text": [
      "33 .  1.16 minutes\n"
     ]
    },
    {
     "name": "stderr",
     "output_type": "stream",
     "text": [
      "\n",
      " 85%|████████▌ | 34/40 [40:37<06:58, 69.77s/it]\u001b[A"
     ]
    },
    {
     "name": "stdout",
     "output_type": "stream",
     "text": [
      "34 .  1.16 minutes\n"
     ]
    },
    {
     "name": "stderr",
     "output_type": "stream",
     "text": [
      "\n",
      " 88%|████████▊ | 35/40 [41:46<05:48, 69.63s/it]\u001b[A"
     ]
    },
    {
     "name": "stdout",
     "output_type": "stream",
     "text": [
      "35 .  1.15 minutes\n"
     ]
    },
    {
     "name": "stderr",
     "output_type": "stream",
     "text": [
      "\n",
      " 90%|█████████ | 36/40 [42:56<04:38, 69.68s/it]\u001b[A"
     ]
    },
    {
     "name": "stdout",
     "output_type": "stream",
     "text": [
      "36 .  1.16 minutes\n"
     ]
    },
    {
     "name": "stderr",
     "output_type": "stream",
     "text": [
      "\n",
      " 92%|█████████▎| 37/40 [44:05<03:28, 69.49s/it]\u001b[A"
     ]
    },
    {
     "name": "stdout",
     "output_type": "stream",
     "text": [
      "37 .  1.15 minutes\n"
     ]
    },
    {
     "name": "stderr",
     "output_type": "stream",
     "text": [
      "\n",
      " 95%|█████████▌| 38/40 [45:15<02:19, 69.68s/it]\u001b[A"
     ]
    },
    {
     "name": "stdout",
     "output_type": "stream",
     "text": [
      "38 .  1.17 minutes\n"
     ]
    },
    {
     "name": "stderr",
     "output_type": "stream",
     "text": [
      "\n",
      " 98%|█████████▊| 39/40 [46:25<01:09, 69.86s/it]\u001b[A"
     ]
    },
    {
     "name": "stdout",
     "output_type": "stream",
     "text": [
      "39 .  1.17 minutes\n"
     ]
    },
    {
     "name": "stderr",
     "output_type": "stream",
     "text": [
      "\n",
      "100%|██████████| 40/40 [47:35<00:00, 69.88s/it]\u001b[A\n",
      "\u001b[A"
     ]
    },
    {
     "name": "stdout",
     "output_type": "stream",
     "text": [
      "40 .  1.17 minutes\n"
     ]
    }
   ],
   "source": [
    "MI = np.zeros((n_h,n_h))\n",
    "for i in trange(n_h) :\n",
    "    start = time()\n",
    "    for j in range(i-1) :\n",
    "        mine_data = np.zeros((500,2))\n",
    "        mine_data[:,0] = trace['weights_1'][:500,i,0]\n",
    "        mine_data[:,1] = trace['weights_1'][:500,j,0]\n",
    "        mine_net = Mine().cuda()\n",
    "        mine_net_optim = optim.Adam(mine_net.parameters(), lr=1e-3)\n",
    "        result = train(mine_data, mine_net, mine_net_optim, iter_num=10**3, batch_size=50, log_freq=int(1e+5))\n",
    "        MI[i,j] = ma(result)[-1]\n",
    "    print(i+1, \". \", round((time()-start)/60,2), \"minutes\")"
   ]
  },
  {
   "cell_type": "code",
   "execution_count": 38,
   "metadata": {},
   "outputs": [
    {
     "data": {
      "text/plain": [
       "<matplotlib.image.AxesImage at 0x7f8e0bbdd208>"
      ]
     },
     "execution_count": 38,
     "metadata": {},
     "output_type": "execute_result"
    },
    {
     "data": {
      "image/png": "[encoded data removed]",
      "text/plain": [
       "<Figure size 432x288 with 1 Axes>"
      ]
     },
     "metadata": {},
     "output_type": "display_data"
    }
   ],
   "source": [
    "plt.imshow(MI, cmap=\"gray\")"
   ]
  },
  {
   "cell_type": "code",
   "execution_count": 49,
   "metadata": {},
   "outputs": [
    {
     "data": {
      "text/plain": [
       "141"
      ]
     },
     "execution_count": 49,
     "metadata": {},
     "output_type": "execute_result"
    }
   ],
   "source": [
    "np.sum(abs(MI) > 0.1)"
   ]
  },
  {
   "cell_type": "code",
   "execution_count": 45,
   "metadata": {},
   "outputs": [],
   "source": [
    "MI_ = np.zeros(n_h)\n",
    "for i in range(n_h) :\n",
    "    mine_data = np.zeros((500,2))\n",
    "    mine_data[:,0] = trace['weights_1'][:500,i,0]\n",
    "    mine_data[:,1] = trace['weights_1'][:500,i,1]\n",
    "    mine_net = Mine().cuda()\n",
    "    mine_net_optim = optim.Adam(mine_net.parameters(), lr=1e-3)\n",
    "    result = train(mine_data, mine_net, mine_net_optim, iter_num=10**3, batch_size=50, log_freq=int(1e+5))\n",
    "    MI_[i] = ma(result)[-1]"
   ]
  },
  {
   "cell_type": "code",
   "execution_count": 47,
   "metadata": {},
   "outputs": [
    {
     "data": {
      "text/plain": [
       "7"
      ]
     },
     "execution_count": 47,
     "metadata": {},
     "output_type": "execute_result"
    }
   ],
   "source": [
    "sum(abs(MI_)>0.1)"
   ]
  },
  {
   "cell_type": "code",
   "execution_count": null,
   "metadata": {
    "collapsed": true
   },
   "outputs": [],
   "source": []
  }
 ],
 "metadata": {
  "kernelspec": {
   "display_name": "Python 3",
   "language": "python",
   "name": "python3"
  },
  "language_info": {
   "codemirror_mode": {
    "name": "ipython",
    "version": 3
   },
   "file_extension": ".py",
   "mimetype": "text/x-python",
   "name": "python",
   "nbconvert_exporter": "python",
   "pygments_lexer": "ipython3",
   "version": "3.6.2"
  }
 },
 "nbformat": 4,
 "nbformat_minor": 2
}

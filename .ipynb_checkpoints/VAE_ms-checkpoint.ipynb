{
 "cells": [
  {
   "cell_type": "code",
   "execution_count": 1,
   "metadata": {
    "collapsed": true
   },
   "outputs": [],
   "source": [
    "import warnings\n",
    "warnings.filterwarnings('ignore')\n",
    "import torch, torch.nn as nn, torch.nn.functional as F, torch.autograd as autograd, torch.optim as optim\n",
    "import numpy as np, numpy.random as npr, matplotlib.pyplot as plt, matplotlib.gridspec as gridspec\n",
    "from torch.autograd import Variable\n",
    "from time import time\n",
    "from tqdm import trange\n",
    "%matplotlib inline  "
   ]
  },
  {
   "cell_type": "code",
   "execution_count": 2,
   "metadata": {},
   "outputs": [
    {
     "data": {
      "image/png": "[encoded data removed]",
      "text/plain": [
       "<Figure size 396x360 with 1 Axes>"
      ]
     },
     "metadata": {},
     "output_type": "display_data"
    }
   ],
   "source": [
    "Nobs = 1000\n",
    "error_sigma = 1e-1\n",
    "xtrue = torch.randn(Nobs, requires_grad=True)\n",
    "data = torch.zeros(Nobs,2)\n",
    "data[:,0] = 5*torch.sin(2*xtrue)\n",
    "data[:,1] = 5*torch.cos(2*xtrue)\n",
    "data += torch.randn(data.size())*error_sigma\n",
    "fig = plt.figure(figsize=(5.5, 5))\n",
    "plt.plot(list(data[:,0]), list(data[:,1]), 'o', markersize=2)\n",
    "plt.grid(True)\n",
    "plt.title(\"Data\");"
   ]
  },
  {
   "cell_type": "code",
   "execution_count": 3,
   "metadata": {
    "collapsed": true
   },
   "outputs": [],
   "source": [
    "class IdentityActivation(nn.Module):\n",
    "        \n",
    "    def forward(self, input):\n",
    "        return input"
   ]
  },
  {
   "cell_type": "code",
   "execution_count": 4,
   "metadata": {
    "collapsed": true
   },
   "outputs": [],
   "source": [
    "class VAE_linear(nn.Module):\n",
    "    \n",
    "    def __init__(self, elayers_size, latent_size, dlayers_size, repara=True):\n",
    "        super(VAE_linear, self).__init__()\n",
    "        \n",
    "        self.elayers_size = elayers_size \n",
    "        self.latent_size = latent_size\n",
    "        self.dlayers_size = dlayers_size \n",
    "        \n",
    "        self.N_elayers = len(elayers_size)\n",
    "        self.N_dlayers = len(dlayers_size)\n",
    "        \n",
    "        self.reparameterize_on = repara\n",
    "        self.elayers_activation = nn.Tanh()\n",
    "        self.dlayers_activation = nn.Tanh()\n",
    "        self.output_activation = IdentityActivation()\n",
    "        self.mean_layer_activation =  nn.Tanh()\n",
    "        self.var_layer_activation = nn.Tanh()\n",
    "        \n",
    "        self.elayers = nn.ModuleList([])\n",
    "        if self.N_elayers > 1:\n",
    "            self.elayers.extend([nn.Linear(elayers_size[i], elayers_size[i+1]) for i in range(self.N_elayers-1)])\n",
    "        self.mean_layer = nn.Linear(elayers_size[-1], latent_size)\n",
    "        self.var_layer = nn.Linear(elayers_size[-1], latent_size)\n",
    "        \n",
    "        self.dlayers = nn.ModuleList([nn.Linear(latent_size, dlayers_size[0])])\n",
    "        if self.N_dlayers > 1:\n",
    "            self.dlayers.extend([nn.Linear(dlayers_size[i], dlayers_size[i+1]) for i in range(self.N_dlayers-1)])\n",
    "       \n",
    "        \n",
    "    def encode(self, x):\n",
    "        for i in range(self.N_elayers-1):\n",
    "            x = self.elayers_activation(self.elayers[i](x))\n",
    "        return self.mean_layer_activation(self.mean_layer(x)), self.var_layer_activation(self.var_layer(x))\n",
    "\n",
    "    def reparameterize(self, mu, logvar):\n",
    "        std = torch.exp(0.5*logvar)\n",
    "        eps = torch.randn_like(std)\n",
    "        return eps.mul(std).add_(mu)\n",
    "\n",
    "    def decode(self, x):\n",
    "        for i in range(self.N_dlayers-1):\n",
    "            x = self.dlayers_activation(self.dlayers[i](x))\n",
    "        return self.output_activation(self.dlayers[-1](x))\n",
    "\n",
    "    def forward(self, x):\n",
    "        mu, logvar = self.encode(x)\n",
    "        if self.reparameterize_on:\n",
    "            z = self.reparameterize(mu, logvar)\n",
    "        else :\n",
    "            z = mu\n",
    "        return self.decode(z), mu, logvar\n",
    "\n",
    "\n",
    "# Reconstruction + KL divergence losses summed over all elements and batch\n",
    "def loss_function(recon_x, x, mu, logvar, reparameterize_on=True, kld_on=True):\n",
    "    BCE = nn.MSELoss()(recon_x, x)\n",
    "    if reparameterize_on and kld_on:\n",
    "        KLD = -0.5 * torch.sum(1 + logvar - mu.pow(2) - logvar.exp())\n",
    "    else:\n",
    "        KLD = 0\n",
    "    return BCE + KLD"
   ]
  },
  {
   "cell_type": "code",
   "execution_count": 5,
   "metadata": {},
   "outputs": [
    {
     "name": "stdout",
     "output_type": "stream",
     "text": [
      "torch.Size([5, 2])\n",
      "torch.Size([5])\n",
      "torch.Size([5, 5])\n",
      "torch.Size([5])\n",
      "torch.Size([5, 5])\n",
      "torch.Size([5])\n",
      "torch.Size([5, 5])\n",
      "torch.Size([5])\n",
      "torch.Size([2, 5])\n",
      "torch.Size([2])\n"
     ]
    }
   ],
   "source": [
    "elayers_size = [2, 5]\n",
    "latent_size  = 5\n",
    "dlayers_size = [5, 2]\n",
    "model = VAE_linear(elayers_size, latent_size, dlayers_size)\n",
    "optimizer = optim.Adam(model.parameters(), lr=1e-4)\n",
    "for param in model.parameters() :\n",
    "    print(np.shape(param))"
   ]
  },
  {
   "cell_type": "code",
   "execution_count": 6,
   "metadata": {},
   "outputs": [
    {
     "data": {
      "text/plain": [
       "ModuleList(\n",
       "  (0): Linear(in_features=5, out_features=5, bias=True)\n",
       "  (1): Linear(in_features=5, out_features=2, bias=True)\n",
       ")"
      ]
     },
     "execution_count": 6,
     "metadata": {},
     "output_type": "execute_result"
    }
   ],
   "source": [
    "model.dlayers"
   ]
  },
  {
   "cell_type": "code",
   "execution_count": 7,
   "metadata": {},
   "outputs": [
    {
     "data": {
      "text/plain": [
       "ModuleList(\n",
       "  (0): Linear(in_features=2, out_features=5, bias=True)\n",
       ")"
      ]
     },
     "execution_count": 7,
     "metadata": {},
     "output_type": "execute_result"
    }
   ],
   "source": [
    "model.elayers"
   ]
  },
  {
   "cell_type": "code",
   "execution_count": 8,
   "metadata": {},
   "outputs": [],
   "source": [
    "mb_size=10\n",
    "data_mb = data[npr.choice(data.size(0), mb_size)]\n",
    "optimizer.zero_grad()\n",
    "recon_batch, mu, logvar = model(data_mb)\n",
    "loss = loss_function(recon_batch, data_mb, mu, logvar, model.reparameterize_on)\n",
    "loss.backward(retain_graph=True)\n",
    "optimizer.step()"
   ]
  },
  {
   "cell_type": "code",
   "execution_count": 10,
   "metadata": {},
   "outputs": [
    {
     "name": "stdout",
     "output_type": "stream",
     "text": [
      "loss = tensor(13.4501)\n",
      "loss = tensor(11.8534)\n",
      "loss = tensor(12.0326)\n",
      "loss = tensor(12.6694)\n",
      "loss = tensor(11.1877)\n",
      "loss = tensor(12.4748)\n",
      "loss = tensor(12.1538)\n",
      "loss = tensor(11.8940)\n",
      "loss = tensor(11.7845)\n",
      "loss = tensor(11.4340)\n"
     ]
    }
   ],
   "source": [
    "mb_size = 50\n",
    "T = 20_000\n",
    "samples = torch.zeros(T, data.size(-1))\n",
    "for t in range(T) :\n",
    "    data_mb = data[npr.choice(data.size(0), mb_size)]\n",
    "    optimizer.zero_grad()\n",
    "    recon_batch, mu, logvar = model(data_mb)\n",
    "    samples[t] = recon_batch[npr.choice(recon_batch.size(0),1)]\n",
    "    loss = loss_function(recon_batch, data_mb, mu, logvar, model.reparameterize_on)\n",
    "    loss.backward(retain_graph=True)\n",
    "    optimizer.step()\n",
    "    if (t+1)%(T/10) == 0 :\n",
    "        print(\"loss =\", loss.data)"
   ]
  },
  {
   "cell_type": "code",
   "execution_count": 11,
   "metadata": {},
   "outputs": [
    {
     "data": {
      "image/png": "[encoded data removed]",
      "text/plain": [
       "<Figure size 396x360 with 1 Axes>"
      ]
     },
     "metadata": {},
     "output_type": "display_data"
    }
   ],
   "source": [
    "fig = plt.figure(figsize=(5.5, 5))\n",
    "plt.plot(list(samples[9_000::,0]), list(samples[9_000::,1]), 'o', markersize=2, label=\"reconstructed data\")\n",
    "plt.plot(list(data[:,0]), list(data[:,1]), 'o', markersize=2, label=\"True data\")\n",
    "plt.legend(ncol=2)\n",
    "plt.grid(True)"
   ]
  },
  {
   "cell_type": "code",
   "execution_count": 13,
   "metadata": {},
   "outputs": [
    {
     "data": {
      "text/plain": [
       "tensor([[-0.0143,  0.7908],\n",
       "        [-0.0191,  0.7779],\n",
       "        [-0.0378,  0.7754],\n",
       "        [-0.0295,  0.7703],\n",
       "        [-0.0105,  0.7888],\n",
       "        [-0.0042,  0.7666],\n",
       "        [-0.1137,  0.7491],\n",
       "        [-0.0239,  0.7685],\n",
       "        [-0.0494,  0.7019],\n",
       "        [-0.0471,  0.8094]], grad_fn=<AddmmBackward>)"
      ]
     },
     "execution_count": 13,
     "metadata": {},
     "output_type": "execute_result"
    }
   ],
   "source": [
    "model.decode(torch.randn(10,latent_size))"
   ]
  },
  {
   "cell_type": "code",
   "execution_count": null,
   "metadata": {
    "collapsed": true
   },
   "outputs": [],
   "source": []
  },
  {
   "cell_type": "code",
   "execution_count": null,
   "metadata": {
    "collapsed": true
   },
   "outputs": [],
   "source": []
  },
  {
   "cell_type": "code",
   "execution_count": 14,
   "metadata": {
    "collapsed": true
   },
   "outputs": [],
   "source": [
    "data_mb = data[npr.choice(data.size(0), mb_size)]"
   ]
  },
  {
   "cell_type": "code",
   "execution_count": 31,
   "metadata": {},
   "outputs": [
    {
     "ename": "SyntaxError",
     "evalue": "invalid syntax (<ipython-input-31-6666f2fe5644>, line 1)",
     "output_type": "error",
     "traceback": [
      "\u001b[0;36m  File \u001b[0;32m\"<ipython-input-31-6666f2fe5644>\"\u001b[0;36m, line \u001b[0;32m1\u001b[0m\n\u001b[0;31m    model.encode(data_mb.view(-1, model.elayers_size[0])) .== model.encode(data_mb)\u001b[0m\n\u001b[0m                                                            ^\u001b[0m\n\u001b[0;31mSyntaxError\u001b[0m\u001b[0;31m:\u001b[0m invalid syntax\n"
     ]
    }
   ],
   "source": [
    "model.encode(data_mb.view(-1, model.elayers_size[0])) "
   ]
  },
  {
   "cell_type": "code",
   "execution_count": 29,
   "metadata": {},
   "outputs": [
    {
     "data": {
      "text/plain": [
       "(tensor([[-0.0518,  0.3882, -0.5368,  ...,  0.4475,  0.4673,  0.0857],\n",
       "         [ 0.0810, -0.5441,  0.4770,  ..., -0.4731, -0.6390, -0.2982],\n",
       "         [ 0.0465, -0.3352,  0.1005,  ..., -0.4185, -0.4970,  0.3120],\n",
       "         ...,\n",
       "         [ 0.1374, -0.3955,  0.3187,  ..., -0.4946, -0.5983,  0.0427],\n",
       "         [-0.1291,  0.2481, -0.5297,  ...,  0.4557,  0.5488, -0.2389],\n",
       "         [-0.0328,  0.3624, -0.4731,  ...,  0.4094,  0.4585,  0.1458]],\n",
       "        grad_fn=<TanhBackward>),\n",
       " tensor([[-0.2789, -0.4216,  0.4594,  ...,  0.5879, -0.1379, -0.5777],\n",
       "         [ 0.6186,  0.4204, -0.6091,  ..., -0.3886, -0.0639,  0.6901],\n",
       "         [ 0.2088,  0.3808, -0.5060,  ..., -0.0960,  0.3829,  0.1490],\n",
       "         ...,\n",
       "         [ 0.4833,  0.3577, -0.6478,  ..., -0.2704,  0.2226,  0.4850],\n",
       "         [-0.0366, -0.4392,  0.4208,  ...,  0.6036, -0.3249, -0.3968],\n",
       "         [-0.3174, -0.4236,  0.3934,  ...,  0.5866, -0.0459, -0.5564]],\n",
       "        grad_fn=<TanhBackward>))"
      ]
     },
     "execution_count": 29,
     "metadata": {},
     "output_type": "execute_result"
    }
   ],
   "source": [
    "model.encode(data_mb)"
   ]
  },
  {
   "cell_type": "code",
   "execution_count": null,
   "metadata": {
    "collapsed": true
   },
   "outputs": [],
   "source": []
  }
 ],
 "metadata": {
  "kernelspec": {
   "display_name": "Python 3",
   "language": "python",
   "name": "python3"
  },
  "language_info": {
   "codemirror_mode": {
    "name": "ipython",
    "version": 3
   },
   "file_extension": ".py",
   "mimetype": "text/x-python",
   "name": "python",
   "nbconvert_exporter": "python",
   "pygments_lexer": "ipython3",
   "version": "3.6.2"
  }
 },
 "nbformat": 4,
 "nbformat_minor": 2
}

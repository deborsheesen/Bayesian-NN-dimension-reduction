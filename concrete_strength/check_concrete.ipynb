{
 "cells": [
  {
   "cell_type": "code",
   "execution_count": 1,
   "metadata": {
    "collapsed": true
   },
   "outputs": [],
   "source": [
    "import matplotlib.pyplot as plt, numpy as np, numpy.random as npr, csv, matplotlib.pyplot as plt, pandas as pd\n",
    "import torch.nn as nn, timeit, torch, pystan as ps\n",
    "from mpl_toolkits.mplot3d import Axes3D\n",
    "from sklearn.manifold import LocallyLinearEmbedding\n",
    "from tqdm import trange\n",
    "%matplotlib inline\n",
    "from time import time\n",
    "from pylab import plot, show, legend"
   ]
  },
  {
   "cell_type": "code",
   "execution_count": 3,
   "metadata": {},
   "outputs": [
    {
     "name": "stderr",
     "output_type": "stream",
     "text": [
      "INFO:pystan:COMPILING THE C++ CODE FOR MODEL anon_model_cf61588642e0539b092dedc55e934141 NOW.\n"
     ]
    }
   ],
   "source": [
    "sm = ps.StanModel(file=\"/home/postdoc/dsen/Desktop/BNN_dimension_reduction/stan_files/nn_refpoints_constrainedtheta.stan\")"
   ]
  },
  {
   "cell_type": "code",
   "execution_count": 4,
   "metadata": {},
   "outputs": [
    {
     "name": "stdout",
     "output_type": "stream",
     "text": [
      "Nobs = 1030 , dim = 9\n"
     ]
    }
   ],
   "source": [
    "data = pd.read_excel('concrete_data.xls').values\n",
    "X = data.transpose()\n",
    "Nobs = np.shape(X)[1]\n",
    "print(\"Nobs =\", Nobs, \", dim =\", np.shape(X)[0])"
   ]
  },
  {
   "cell_type": "code",
   "execution_count": 15,
   "metadata": {
    "collapsed": true
   },
   "outputs": [],
   "source": [
    "n_ref = 60\n",
    "lat_dim = 8\n",
    "obs_dim = np.shape(X)[0] \n",
    "ref_points = npr.choice(Nobs,n_ref,replace=False)\n",
    "embedding = LocallyLinearEmbedding(n_components=lat_dim, n_neighbors=10)\n",
    "X_embedded = embedding.fit_transform(X.transpose()).transpose()"
   ]
  },
  {
   "cell_type": "code",
   "execution_count": 16,
   "metadata": {
    "collapsed": true
   },
   "outputs": [],
   "source": [
    "train = np.setdiff1d(np.arange(Nobs), ref_points)\n",
    "X_ref = X[:,ref_points]\n",
    "Z_ref = X_embedded[:,ref_points]\n",
    "X_train = X[:,train]"
   ]
  },
  {
   "cell_type": "code",
   "execution_count": 17,
   "metadata": {
    "collapsed": true
   },
   "outputs": [],
   "source": [
    "n_in = np.shape(X_embedded)[0]\n",
    "n_h = 20\n",
    "n_out = np.shape(X)[0]\n",
    "\n",
    "model = nn.Sequential(nn.Linear(n_in, n_h), nn.Tanh(), nn.Linear(n_h, n_out))"
   ]
  },
  {
   "cell_type": "code",
   "execution_count": 18,
   "metadata": {
    "collapsed": true
   },
   "outputs": [],
   "source": [
    "def init_normal(m):\n",
    "    if type(m) == nn.Linear: nn.init.normal_(m.weight)\n",
    "model.apply(init_normal)\n",
    "criterion = nn.MSELoss()\n",
    "optimizer = torch.optim.SGD(model.parameters(), lr=1e-3, momentum=0.9, nesterov=True)"
   ]
  },
  {
   "cell_type": "code",
   "execution_count": 19,
   "metadata": {},
   "outputs": [
    {
     "name": "stdout",
     "output_type": "stream",
     "text": [
      "Epoch: 100000; loss: 5009.125; time: 0.4 mins\n",
      "Epoch: 200000; loss: 3879.376; time: 0.8 mins\n",
      "Epoch: 300000; loss: 3301.369; time: 1.3 mins\n",
      "Epoch: 400000; loss: 2272.964; time: 1.7 mins\n",
      "Epoch: 500000; loss: 1999.415; time: 2.1 mins\n",
      "Epoch: 600000; loss: 1957.538; time: 2.5 mins\n",
      "Epoch: 700000; loss: 1936.182; time: 2.9 mins\n",
      "Epoch: 800000; loss: 1930.975; time: 3.4 mins\n",
      "Epoch: 900000; loss: 1894.366; time: 3.8 mins\n",
      "Epoch: 1000000; loss: 1621.450; time: 4.2 mins\n"
     ]
    }
   ],
   "source": [
    "n_iter = 1_000_000\n",
    "Lss = np.zeros(n_iter)\n",
    "start = time()\n",
    "for epoch in range(n_iter):\n",
    "    X_pred = model(torch.from_numpy(Z_ref.transpose().astype(np.float32)))\n",
    "    loss = criterion(X_pred, torch.from_numpy(X_ref.transpose().astype(np.float32)))\n",
    "    Lss[epoch] = loss.data\n",
    "    if (epoch+1)%(n_iter/10) == 0 :\n",
    "        print(\"Epoch: %d; loss: %.3f; time: %.1f mins\" % (epoch+1, loss.item(), (time()-start)/60))\n",
    "    optimizer.zero_grad()\n",
    "    loss.backward()\n",
    "    optimizer.step()"
   ]
  },
  {
   "cell_type": "code",
   "execution_count": null,
   "metadata": {
    "collapsed": true
   },
   "outputs": [],
   "source": []
  }
 ],
 "metadata": {
  "kernelspec": {
   "display_name": "Python 3",
   "language": "python",
   "name": "python3"
  },
  "language_info": {
   "codemirror_mode": {
    "name": "ipython",
    "version": 3
   },
   "file_extension": ".py",
   "mimetype": "text/x-python",
   "name": "python",
   "nbconvert_exporter": "python",
   "pygments_lexer": "ipython3",
   "version": "3.6.2"
  }
 },
 "nbformat": 4,
 "nbformat_minor": 2
}

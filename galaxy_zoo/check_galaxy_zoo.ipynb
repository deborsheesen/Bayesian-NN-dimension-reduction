{
 "cells": [
  {
   "cell_type": "code",
   "execution_count": 1,
   "metadata": {
    "collapsed": true
   },
   "outputs": [],
   "source": [
    "from scipy.io import loadmat\n",
    "import matplotlib.pyplot as plt, numpy as np, numpy.random as npr, csv, matplotlib.pyplot as plt\n",
    "import torch.nn as nn, timeit, torch, pystan as ps\n",
    "from mpl_toolkits.mplot3d import Axes3D\n",
    "from sklearn.manifold import LocallyLinearEmbedding\n",
    "%matplotlib inline\n",
    "from time import time\n",
    "from tqdm import trange\n",
    "from pylab import plot, show, legend"
   ]
  },
  {
   "cell_type": "code",
   "execution_count": 2,
   "metadata": {},
   "outputs": [
    {
     "name": "stderr",
     "output_type": "stream",
     "text": [
      "INFO:pystan:COMPILING THE C++ CODE FOR MODEL anon_model_cf61588642e0539b092dedc55e934141 NOW.\n"
     ]
    }
   ],
   "source": [
    "sm = ps.StanModel(file=\"/home/postdoc/dsen/Desktop/VAE_density/stan_files/nn_refpoints_constrainedtheta.stan\")"
   ]
  },
  {
   "cell_type": "code",
   "execution_count": 3,
   "metadata": {
    "collapsed": true
   },
   "outputs": [],
   "source": [
    "data = loadmat('data.mat')\n",
    "X = data['data'][:,0:-1].transpose()\n",
    "Nobs = np.shape(X)[1]"
   ]
  },
  {
   "cell_type": "markdown",
   "metadata": {},
   "source": [
    "### Local linear embedding for reference points:"
   ]
  },
  {
   "cell_type": "code",
   "execution_count": 9,
   "metadata": {
    "collapsed": true
   },
   "outputs": [],
   "source": [
    "n_ref = 500\n",
    "lat_dim = 1\n",
    "obs_dim = np.shape(X)[0] \n",
    "ref_points = npr.choice(Nobs,n_ref,replace=False)\n",
    "embedding = LocallyLinearEmbedding(n_components=lat_dim, n_neighbors=10)\n",
    "X_embedded = embedding.fit_transform(X.transpose()).transpose()"
   ]
  },
  {
   "cell_type": "code",
   "execution_count": 10,
   "metadata": {
    "collapsed": true
   },
   "outputs": [],
   "source": [
    "train = np.setdiff1d(np.arange(Nobs), ref_points)\n",
    "X_ref = X[:,ref_points]\n",
    "Z_ref = X_embedded[:,ref_points]\n",
    "X_train = X[:,train]"
   ]
  },
  {
   "cell_type": "code",
   "execution_count": 11,
   "metadata": {
    "collapsed": true
   },
   "outputs": [],
   "source": [
    "n_in = np.shape(X_embedded)[0]\n",
    "n_h = 20\n",
    "n_out = np.shape(X)[0]\n",
    "\n",
    "model = nn.Sequential(nn.Linear(n_in, n_h),\n",
    "                      nn.Tanh(),\n",
    "                      nn.Linear(n_h, n_out))"
   ]
  },
  {
   "cell_type": "code",
   "execution_count": 12,
   "metadata": {
    "collapsed": true
   },
   "outputs": [],
   "source": [
    "def init_normal(m):\n",
    "    if type(m) == nn.Linear: nn.init.normal_(m.weight)\n",
    "model.apply(init_normal)\n",
    "criterion = nn.MSELoss()\n",
    "optimizer = torch.optim.SGD(model.parameters(), lr=1e-3, momentum=0.9, nesterov=True)"
   ]
  },
  {
   "cell_type": "code",
   "execution_count": 13,
   "metadata": {},
   "outputs": [
    {
     "name": "stdout",
     "output_type": "stream",
     "text": [
      "Epoch: 1000; loss: 0.065; time: 0.0 mins\n",
      "Epoch: 2000; loss: 0.065; time: 0.0 mins\n",
      "Epoch: 3000; loss: 0.065; time: 0.0 mins\n",
      "Epoch: 4000; loss: 0.065; time: 0.0 mins\n",
      "Epoch: 5000; loss: 0.065; time: 0.0 mins\n",
      "Epoch: 6000; loss: 0.065; time: 0.0 mins\n",
      "Epoch: 7000; loss: 0.065; time: 0.1 mins\n",
      "Epoch: 8000; loss: 0.065; time: 0.1 mins\n",
      "Epoch: 9000; loss: 0.065; time: 0.1 mins\n",
      "Epoch: 10000; loss: 0.065; time: 0.1 mins\n"
     ]
    }
   ],
   "source": [
    "n_iter = 10_000\n",
    "Lss = np.zeros(n_iter)\n",
    "start = time()\n",
    "for epoch in range(n_iter):\n",
    "    X_pred = model(torch.from_numpy(Z_ref.transpose().astype(np.float32)))\n",
    "    loss = criterion(X_pred, torch.from_numpy(X_ref.transpose().astype(np.float32)))\n",
    "    Lss[epoch] = loss.data\n",
    "    if (epoch+1)%(n_iter/10) == 0 :\n",
    "        print(\"Epoch: %d; loss: %.3f; time: %.1f mins\" % (epoch+1, loss.item(), (time()-start)/60))\n",
    "    optimizer.zero_grad()\n",
    "    loss.backward()\n",
    "    optimizer.step()"
   ]
  },
  {
   "cell_type": "code",
   "execution_count": 14,
   "metadata": {
    "collapsed": true
   },
   "outputs": [],
   "source": [
    "for (i,p) in enumerate(model.parameters()):\n",
    "    if i == 0 : W_1_optim = p.data;\n",
    "\n",
    "c = [np.linalg.norm(W_1_optim[i,:]) for i in range(n_in)]\n",
    "for i in range(n_ref) : Z_ref[:,i] *= c\n",
    "\n",
    "data = dict(Nobs=Nobs, in_dim=lat_dim, out_dim=obs_dim, hidden_dim=n_h,\n",
    "            n_ref=np.shape(X_ref)[1], X=X_train, X_ref=X_ref, Z_ref=Z_ref, prior_sigma2=1e-2)"
   ]
  },
  {
   "cell_type": "markdown",
   "metadata": {},
   "source": [
    "### Run Stan:"
   ]
  },
  {
   "cell_type": "code",
   "execution_count": null,
   "metadata": {
    "collapsed": true
   },
   "outputs": [],
   "source": [
    "start = time()\n",
    "fit = sm.sampling(data=data, thin=1, n_jobs=10, chains=10, init=\"random\", iter=1_000)\n",
    "print(round((time()-start)/60,2), \"minutes to run\")\n",
    "print(fit);"
   ]
  },
  {
   "cell_type": "code",
   "execution_count": null,
   "metadata": {
    "collapsed": true
   },
   "outputs": [],
   "source": [
    "trace = fit.extract()\n",
    "n_samples, n_latent = np.shape(trace['Z'])[0], np.shape(trace['Z'])[1]"
   ]
  },
  {
   "cell_type": "markdown",
   "metadata": {},
   "source": [
    "#### Traceplots of latent variables:"
   ]
  },
  {
   "cell_type": "code",
   "execution_count": null,
   "metadata": {
    "collapsed": true
   },
   "outputs": [],
   "source": [
    "plt.figure(figsize=(20,15))\n",
    "idx = npr.choice(n_latent,100).reshape(10,10)\n",
    "\n",
    "for i in range(10):\n",
    "    for j in range(10):\n",
    "        k = 10*i+j\n",
    "        plt.subplot(10,10,k+1)\n",
    "        plt.plot(trace['Z'][:,idx[i,j],0])\n",
    "        if i < 9 : plt.xticks(alpha=0)\n",
    "        if i == 9 : plt.xlabel(\"MCMC sample\", fontsize=12)\n",
    "        plt.grid(True)\n",
    "plt.suptitle(\"Traceplots of some latent variables\", fontsize=20, x=0.5,y=0.91)\n",
    "plt.show()"
   ]
  },
  {
   "cell_type": "markdown",
   "metadata": {},
   "source": [
    "#### Loss:"
   ]
  },
  {
   "cell_type": "code",
   "execution_count": null,
   "metadata": {
    "collapsed": true
   },
   "outputs": [],
   "source": [
    "def L2_loss(X, Z, weights_1, bias_1, weights_2, bias_2) :\n",
    "    X_pred = np.matmul(np.tanh(np.matmul(Z,weights_1)+bias_1), weights_2) + bias_2\n",
    "    return np.mean(np.sum((X-X_pred)**2,axis=1))"
   ]
  },
  {
   "cell_type": "code",
   "execution_count": null,
   "metadata": {
    "collapsed": true
   },
   "outputs": [],
   "source": [
    "loss = np.zeros(n_samples)\n",
    "for i in trange(n_samples) :\n",
    "    loss[i] = L2_loss(X_train.transpose(), trace['Z'][i], trace['weights_1'][i], \n",
    "                      trace['bias_1'][i], trace['weights_2'][i], trace['bias_2'][i])\n",
    "plt.figure(figsize=(7,4))\n",
    "plt.plot(loss)\n",
    "plt.title(\"Loss\", fontsize=15)\n",
    "plt.xlabel(\"MCMC sample\", fontsize=13)\n",
    "plt.grid(True)"
   ]
  },
  {
   "cell_type": "markdown",
   "metadata": {},
   "source": [
    "#### Pairwise distances:"
   ]
  },
  {
   "cell_type": "code",
   "execution_count": null,
   "metadata": {
    "collapsed": true
   },
   "outputs": [],
   "source": [
    "k_max = 50\n",
    "\n",
    "pw_dist_matrix = np.zeros((k_max,k_max,n_samples))\n",
    "for i in trange(k_max) :\n",
    "    for j in range(k_max) :\n",
    "        for k in range(n_samples) :\n",
    "            pw_dist_matrix[i,j,k] = np.linalg.norm(trace['Z'][k,i]-trace['Z'][k,j])"
   ]
  },
  {
   "cell_type": "code",
   "execution_count": null,
   "metadata": {
    "collapsed": true
   },
   "outputs": [],
   "source": [
    "idx = npr.choice(k_max,10,replace=False)\n",
    "plt.figure(figsize=(20,15))\n",
    "for i in range(6):\n",
    "    for j in range(6):\n",
    "        if i > j :\n",
    "            k = 10*i+j+1\n",
    "            plt.subplot(10,10,k)\n",
    "            plt.plot(pw_dist_matrix[idx[i],idx[j]])\n",
    "            if i < 6 : plt.xticks(alpha=0)\n",
    "            plt.grid(True)\n",
    "            if i == 5 : plt.xlabel(\"MCMC sample\", fontsize=12)\n",
    "            if j > 0 : plt.yticks(alpha=0)\n",
    "plt.suptitle(\"Traceplots of some pairwise distances\", fontsize=15, x=0.31,y=0.83);"
   ]
  },
  {
   "cell_type": "code",
   "execution_count": null,
   "metadata": {
    "collapsed": true
   },
   "outputs": [],
   "source": []
  },
  {
   "cell_type": "code",
   "execution_count": null,
   "metadata": {
    "collapsed": true
   },
   "outputs": [],
   "source": []
  },
  {
   "cell_type": "code",
   "execution_count": null,
   "metadata": {
    "collapsed": true
   },
   "outputs": [],
   "source": []
  }
 ],
 "metadata": {
  "kernelspec": {
   "display_name": "Python 3",
   "language": "python",
   "name": "python3"
  },
  "language_info": {
   "codemirror_mode": {
    "name": "ipython",
    "version": 3
   },
   "file_extension": ".py",
   "mimetype": "text/x-python",
   "name": "python",
   "nbconvert_exporter": "python",
   "pygments_lexer": "ipython3",
   "version": "3.6.2"
  }
 },
 "nbformat": 4,
 "nbformat_minor": 2
}

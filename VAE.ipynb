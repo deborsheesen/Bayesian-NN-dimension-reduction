{
 "cells": [
  {
   "cell_type": "raw",
   "metadata": {},
   "source": [
    "Source: https://github.com/wiseodd/generative-models"
   ]
  },
  {
   "cell_type": "code",
   "execution_count": 1,
   "metadata": {
    "collapsed": true
   },
   "outputs": [],
   "source": [
    "import warnings\n",
    "warnings.filterwarnings('ignore')\n",
    "import torch, torch.nn as nn, torch.nn.functional as F, torch.autograd as autograd, torch.optim as optim\n",
    "import numpy as np, numpy.random as npr, matplotlib.pyplot as plt, matplotlib.gridspec as gridspec\n",
    "import os\n",
    "from torch.autograd import Variable\n",
    "from samplers import *\n",
    "from time import time\n",
    "from mpl_toolkits.mplot3d import Axes3D\n",
    "%matplotlib inline  "
   ]
  },
  {
   "cell_type": "code",
   "execution_count": 2,
   "metadata": {},
   "outputs": [
    {
     "data": {
      "image/png": "[encoded data removed]",
      "text/plain": [
       "<Figure size 432x288 with 1 Axes>"
      ]
     },
     "metadata": {},
     "output_type": "display_data"
    }
   ],
   "source": [
    "error_sigma = 1e-1\n",
    "nobs = 1_000\n",
    "xtrue = torch.randn(nobs, 1, requires_grad=True)\n",
    "xvals = xtrue.data\n",
    "ytrue = np.zeros((nobs, 2))\n",
    "ytrue[:,0] = list(abs(xvals)*np.cos(2*xvals))\n",
    "ytrue[:,1] = list(abs(xvals)*np.sin(3*xvals))\n",
    "ytrue = 5*torch.from_numpy(ytrue).float() + torch.randn(nobs,2)*error_sigma\n",
    "criterion = nn.MSELoss()\n",
    "plt.plot(list(ytrue[:,0]), list(ytrue[:,1]), 'o', markersize=2)\n",
    "plt.grid(True)\n",
    "plt.title(\"True y\");"
   ]
  },
  {
   "cell_type": "raw",
   "metadata": {},
   "source": [
    "For 3d plotting: https://jakevdp.github.io/PythonDataScienceHandbook/04.12-three-dimensional-plotting.html"
   ]
  },
  {
   "cell_type": "raw",
   "metadata": {},
   "source": [
    "ax = plt.axes(projection='3d')\n",
    "ax.scatter(ytrue[:,0], ytrue[:,1], ytrue[:,2])"
   ]
  },
  {
   "cell_type": "code",
   "execution_count": 3,
   "metadata": {},
   "outputs": [],
   "source": [
    "mb_size = nobs\n",
    "Z_dim = 1\n",
    "X_dim = np.shape(ytrue)[1]\n",
    "h_dim = 32\n",
    "c = 0\n",
    "lr = 1e-3"
   ]
  },
  {
   "cell_type": "code",
   "execution_count": 4,
   "metadata": {},
   "outputs": [
    {
     "name": "stdout",
     "output_type": "stream",
     "text": [
      "Iter: 1000; loss: 4.63; time: 3.0 sec\n",
      "Iter: 2000; loss: 4.16; time: 5.7 sec\n",
      "Iter: 3000; loss: 4.03; time: 8.4 sec\n",
      "Iter: 4000; loss: 3.92; time: 11.1 sec\n",
      "Iter: 5000; loss: 3.84; time: 13.8 sec\n",
      "Iter: 6000; loss: 3.75; time: 16.6 sec\n",
      "Iter: 7000; loss: 3.70; time: 19.3 sec\n",
      "Iter: 8000; loss: 3.61; time: 22.0 sec\n",
      "Iter: 9000; loss: 3.56; time: 24.7 sec\n",
      "Iter: 10000; loss: 3.47; time: 27.5 sec\n"
     ]
    }
   ],
   "source": [
    "my_model = inout_model(X_dim, h_dim, Z_dim)\n",
    "my_model.initialise()\n",
    "\n",
    "T = 10_000\n",
    "samples = torch.zeros(T, np.shape(ytrue)[1])\n",
    "start = time()\n",
    "for it in range(T) :\n",
    "    mb = npr.choice(nobs, mb_size, replace=False)\n",
    "    X_mb = Variable(ytrue[mb]).float()\n",
    "    z_mu, z_var = my_model.Q(X_mb) # forward\n",
    "    z_sample = my_model.sample_z(z_mu, z_var, mb_size)\n",
    "    X_sample = my_model.P(z_sample)\n",
    "    samples[it] = X_sample[npr.choice(np.shape(X_sample)[0])]\n",
    "    \n",
    "    recon_loss = nn.MSELoss()(X_mb, X_sample)\n",
    "    kl_loss = torch.mean(0.5*torch.sum(torch.exp(z_var) + z_mu**2 - 1. - z_var, 1))\n",
    "    loss = kl_loss + recon_loss\n",
    "\n",
    "    my_model.solve(loss, lr)\n",
    "    # Housekeeping\n",
    "    my_model.housekeeping()\n",
    "\n",
    "    if (it+1) % (T/10) == 0:\n",
    "        print(\"Iter: %d; loss: %.2f; time: %.1f sec\" % (it+1, loss.data, time()-start))"
   ]
  },
  {
   "cell_type": "code",
   "execution_count": 5,
   "metadata": {},
   "outputs": [
    {
     "data": {
      "text/plain": [
       "<matplotlib.legend.Legend at 0x7f5c0b782588>"
      ]
     },
     "execution_count": 5,
     "metadata": {},
     "output_type": "execute_result"
    },
    {
     "data": {
      "image/png": "[encoded data removed]",
      "text/plain": [
       "<Figure size 432x288 with 1 Axes>"
      ]
     },
     "metadata": {},
     "output_type": "display_data"
    }
   ],
   "source": [
    "plt.grid(True)\n",
    "plt.plot(list(samples[9_000::,0]), list(samples[9_000::,1]), 'o', markersize=2, label=\"samples\")\n",
    "plt.plot(list(ytrue[:,0]), list(ytrue[:,1]), 'o', markersize=2, label=\"true\")\n",
    "plt.legend(ncol=2)"
   ]
  },
  {
   "cell_type": "code",
   "execution_count": null,
   "metadata": {
    "collapsed": true
   },
   "outputs": [],
   "source": []
  },
  {
   "cell_type": "code",
   "execution_count": 6,
   "metadata": {},
   "outputs": [],
   "source": [
    "nn_model = nn.Sequential(nn.Linear(1, h_dim),\n",
    "                         nn.Tanh(),\n",
    "                         nn.Linear(h_dim, 2))\n",
    "init_normal(nn_model)"
   ]
  },
  {
   "cell_type": "code",
   "execution_count": 7,
   "metadata": {},
   "outputs": [
    {
     "name": "stdout",
     "output_type": "stream",
     "text": [
      "Sequential(\n",
      "  (0): Linear(in_features=1, out_features=32, bias=True)\n",
      "  (1): Tanh()\n",
      "  (2): Linear(in_features=32, out_features=2, bias=True)\n",
      ")\n"
     ]
    }
   ],
   "source": [
    "nn_model[0].weight.data = torch.transpose(my_model.Wzh.data,0,1)\n",
    "nn_model[0].bias.data = my_model.bzh.data\n",
    "nn_model[2].weight.data = torch.transpose(my_model.Whx.data,0,1)\n",
    "nn_model[2].bias.data = my_model.bhx.data\n",
    "print(nn_model)"
   ]
  },
  {
   "cell_type": "code",
   "execution_count": 8,
   "metadata": {},
   "outputs": [],
   "source": [
    "x = torch.zeros(z_sample.size(), requires_grad=True)\n",
    "x.data = z_sample.data"
   ]
  },
  {
   "cell_type": "code",
   "execution_count": 9,
   "metadata": {
    "collapsed": true
   },
   "outputs": [],
   "source": [
    "prior_sigma = 1e0\n",
    "my_nn_model = model(deepcopy(x), deepcopy(ytrue), prior_sigma, error_sigma, deepcopy(nn_model))"
   ]
  },
  {
   "cell_type": "code",
   "execution_count": 10,
   "metadata": {
    "collapsed": true
   },
   "outputs": [],
   "source": [
    "Nsteps = 500\n",
    "n_leapfrog = 150\n",
    "stepsize = 2e-3\n",
    "hmc = HMC(my_nn_model, Nsteps, stepsize, n_leapfrog)"
   ]
  },
  {
   "cell_type": "code",
   "execution_count": 11,
   "metadata": {
    "scrolled": true
   },
   "outputs": [
    {
     "name": "stdout",
     "output_type": "stream",
     "text": [
      "iter 50/500 after 0.34 min | accept_rate 0.0 percent | MSE loss nan\n",
      "iter 100/500 after 0.68 min | accept_rate 0.0 percent | MSE loss nan\n",
      "iter 150/500 after 1.02 min | accept_rate 0.0 percent | MSE loss nan\n",
      "iter 200/500 after 1.35 min | accept_rate 0.0 percent | MSE loss nan\n",
      "iter 250/500 after 1.68 min | accept_rate 0.0 percent | MSE loss nan\n",
      "iter 300/500 after 2.01 min | accept_rate 0.0 percent | MSE loss nan\n",
      "iter 350/500 after 2.34 min | accept_rate 0.0 percent | MSE loss nan\n",
      "iter 400/500 after 2.68 min | accept_rate 0.0 percent | MSE loss nan\n",
      "iter 450/500 after 3.02 min | accept_rate 0.0 percent | MSE loss nan\n",
      "iter 500/500 after 3.35 min | accept_rate 0.0 percent | MSE loss nan\n"
     ]
    }
   ],
   "source": [
    "hmc.run()"
   ]
  },
  {
   "cell_type": "code",
   "execution_count": null,
   "metadata": {
    "collapsed": true
   },
   "outputs": [],
   "source": [
    "ypred_final = hmc.my_nn_model.nn_model(hmc.my_nn_model.x)\n",
    "plt.plot(ypred_final[:,0].data.numpy(), ypred_final[:,1].data.numpy(), 'o', markersize=2, label=\"HMC final\")\n",
    "plt.plot(ytrue[:,0].data.numpy(), ytrue[:,1].data.numpy(), 'o', markersize=2, label=\"true\")\n",
    "plt.grid(True)\n",
    "plt.legend(ncol=2);"
   ]
  },
  {
   "cell_type": "code",
   "execution_count": null,
   "metadata": {
    "collapsed": true
   },
   "outputs": [],
   "source": []
  },
  {
   "cell_type": "code",
   "execution_count": null,
   "metadata": {
    "collapsed": true
   },
   "outputs": [],
   "source": []
  }
 ],
 "metadata": {
  "kernelspec": {
   "display_name": "Python 3",
   "language": "python",
   "name": "python3"
  },
  "language_info": {
   "codemirror_mode": {
    "name": "ipython",
    "version": 3
   },
   "file_extension": ".py",
   "mimetype": "text/x-python",
   "name": "python",
   "nbconvert_exporter": "python",
   "pygments_lexer": "ipython3",
   "version": "3.6.2"
  }
 },
 "nbformat": 4,
 "nbformat_minor": 2
}

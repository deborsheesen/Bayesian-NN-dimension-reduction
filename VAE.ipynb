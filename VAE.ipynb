{
 "cells": [
  {
   "cell_type": "raw",
   "metadata": {},
   "source": [
    "Source: https://github.com/wiseodd/generative-models"
   ]
  },
  {
   "cell_type": "code",
   "execution_count": 1,
   "metadata": {
    "collapsed": true
   },
   "outputs": [],
   "source": [
    "import warnings\n",
    "warnings.filterwarnings('ignore')\n",
    "import torch, torch.nn as nn, torch.nn.functional as F, torch.autograd as autograd, torch.optim as optim\n",
    "import numpy as np, numpy.random as npr, matplotlib.pyplot as plt, matplotlib.gridspec as gridspec\n",
    "import os\n",
    "from torch.autograd import Variable\n",
    "from samplers import *\n",
    "from time import time\n",
    "from mpl_toolkits.mplot3d import Axes3D\n",
    "%matplotlib inline  "
   ]
  },
  {
   "cell_type": "code",
   "execution_count": 2,
   "metadata": {},
   "outputs": [
    {
     "data": {
      "image/png": "[encoded data removed]",
      "text/plain": [
       "<Figure size 396x360 with 1 Axes>"
      ]
     },
     "metadata": {},
     "output_type": "display_data"
    }
   ],
   "source": [
    "error_sigma = 1e-1\n",
    "nobs = 1_000\n",
    "xtrue = torch.randn(nobs, 1, requires_grad=True)\n",
    "xvals = xtrue.data\n",
    "ytrue = np.zeros((nobs, 2))\n",
    "ytrue[:,0] = list(np.cos(2*xvals)*abs(xvals))\n",
    "ytrue[:,1] = list(np.sin(3*xvals)*abs(xvals))\n",
    "ytrue = 5*torch.from_numpy(ytrue).float() + torch.randn(nobs,2)*error_sigma\n",
    "criterion = nn.MSELoss()\n",
    "fig = plt.figure(figsize=(5.5, 5))\n",
    "plt.plot(list(ytrue[:,0]), list(ytrue[:,1]), 'o', markersize=2)\n",
    "plt.grid(True)\n",
    "plt.title(\"True y\");"
   ]
  },
  {
   "cell_type": "raw",
   "metadata": {},
   "source": [
    "For 3d plotting: https://jakevdp.github.io/PythonDataScienceHandbook/04.12-three-dimensional-plotting.html"
   ]
  },
  {
   "cell_type": "raw",
   "metadata": {},
   "source": [
    "ax = plt.axes(projection='3d')\n",
    "ax.scatter(ytrue[:,0], ytrue[:,1], ytrue[:,2])"
   ]
  },
  {
   "cell_type": "code",
   "execution_count": 5,
   "metadata": {
    "collapsed": true
   },
   "outputs": [],
   "source": [
    "mb_size = 50\n",
    "Z_dim = 1\n",
    "X_dim = np.shape(ytrue)[1]\n",
    "h_dim = 50\n",
    "c = 0\n",
    "lr = 1e-3"
   ]
  },
  {
   "cell_type": "code",
   "execution_count": 7,
   "metadata": {},
   "outputs": [
    {
     "ename": "TypeError",
     "evalue": "'int' object is not callable",
     "output_type": "error",
     "traceback": [
      "\u001b[0;31m---------------------------------------------------------------------------\u001b[0m",
      "\u001b[0;31mTypeError\u001b[0m                                 Traceback (most recent call last)",
      "\u001b[0;32m<ipython-input-7-ab0c10cb96cb>\u001b[0m in \u001b[0;36m<module>\u001b[0;34m()\u001b[0m\n\u001b[1;32m      8\u001b[0m     \u001b[0mmb\u001b[0m \u001b[0;34m=\u001b[0m \u001b[0mnpr\u001b[0m\u001b[0;34m.\u001b[0m\u001b[0mchoice\u001b[0m\u001b[0;34m(\u001b[0m\u001b[0mnobs\u001b[0m\u001b[0;34m,\u001b[0m \u001b[0mmb_size\u001b[0m\u001b[0;34m,\u001b[0m \u001b[0mreplace\u001b[0m\u001b[0;34m=\u001b[0m\u001b[0;32mFalse\u001b[0m\u001b[0;34m)\u001b[0m\u001b[0;34m\u001b[0m\u001b[0m\n\u001b[1;32m      9\u001b[0m     \u001b[0mX_mb\u001b[0m \u001b[0;34m=\u001b[0m \u001b[0mVariable\u001b[0m\u001b[0;34m(\u001b[0m\u001b[0mytrue\u001b[0m\u001b[0;34m[\u001b[0m\u001b[0mmb\u001b[0m\u001b[0;34m]\u001b[0m\u001b[0;34m)\u001b[0m\u001b[0;34m.\u001b[0m\u001b[0mfloat\u001b[0m\u001b[0;34m(\u001b[0m\u001b[0;34m)\u001b[0m\u001b[0;34m\u001b[0m\u001b[0m\n\u001b[0;32m---> 10\u001b[0;31m     \u001b[0mz_mu\u001b[0m\u001b[0;34m,\u001b[0m \u001b[0mz_var\u001b[0m \u001b[0;34m=\u001b[0m \u001b[0mmy_model\u001b[0m\u001b[0;34m.\u001b[0m\u001b[0mQ\u001b[0m\u001b[0;34m(\u001b[0m\u001b[0mX_mb\u001b[0m\u001b[0;34m)\u001b[0m \u001b[0;31m# forward\u001b[0m\u001b[0;34m\u001b[0m\u001b[0m\n\u001b[0m\u001b[1;32m     11\u001b[0m     \u001b[0mz_sample\u001b[0m \u001b[0;34m=\u001b[0m \u001b[0mmy_model\u001b[0m\u001b[0;34m.\u001b[0m\u001b[0msample_z\u001b[0m\u001b[0;34m(\u001b[0m\u001b[0mz_mu\u001b[0m\u001b[0;34m,\u001b[0m \u001b[0mz_var\u001b[0m\u001b[0;34m,\u001b[0m \u001b[0mmb_size\u001b[0m\u001b[0;34m)\u001b[0m\u001b[0;34m\u001b[0m\u001b[0m\n\u001b[1;32m     12\u001b[0m     \u001b[0mX_sample\u001b[0m \u001b[0;34m=\u001b[0m \u001b[0mmy_model\u001b[0m\u001b[0;34m.\u001b[0m\u001b[0mP\u001b[0m\u001b[0;34m(\u001b[0m\u001b[0mz_sample\u001b[0m\u001b[0;34m)\u001b[0m\u001b[0;34m\u001b[0m\u001b[0m\n",
      "\u001b[0;32m~/Desktop/VAE_density/samplers.py\u001b[0m in \u001b[0;36mQ\u001b[0;34m(self, X)\u001b[0m\n\u001b[1;32m    410\u001b[0m     \u001b[0;32mdef\u001b[0m \u001b[0mQ\u001b[0m\u001b[0;34m(\u001b[0m\u001b[0mself\u001b[0m\u001b[0;34m,\u001b[0m \u001b[0mX\u001b[0m\u001b[0;34m)\u001b[0m\u001b[0;34m:\u001b[0m\u001b[0;34m\u001b[0m\u001b[0m\n\u001b[1;32m    411\u001b[0m         \u001b[0;31m#h = F.tanh(X @ self.Wxh + self.bxh.repeat(X.size(0), 1))\u001b[0m\u001b[0;34m\u001b[0m\u001b[0;34m\u001b[0m\u001b[0m\n\u001b[0;32m--> 412\u001b[0;31m         \u001b[0mh\u001b[0m \u001b[0;34m=\u001b[0m \u001b[0mself\u001b[0m\u001b[0;34m.\u001b[0m\u001b[0mnn_encode\u001b[0m\u001b[0;34m(\u001b[0m\u001b[0mX\u001b[0m\u001b[0;34m)\u001b[0m\u001b[0;34m\u001b[0m\u001b[0m\n\u001b[0m\u001b[1;32m    413\u001b[0m \u001b[0;34m\u001b[0m\u001b[0m\n\u001b[1;32m    414\u001b[0m         \u001b[0mz_mu\u001b[0m \u001b[0;34m=\u001b[0m \u001b[0mh\u001b[0m \u001b[0;34m@\u001b[0m \u001b[0mself\u001b[0m\u001b[0;34m.\u001b[0m\u001b[0mWhz_mu\u001b[0m \u001b[0;34m+\u001b[0m \u001b[0mself\u001b[0m\u001b[0;34m.\u001b[0m\u001b[0mbhz_mu\u001b[0m\u001b[0;34m.\u001b[0m\u001b[0mrepeat\u001b[0m\u001b[0;34m(\u001b[0m\u001b[0mh\u001b[0m\u001b[0;34m.\u001b[0m\u001b[0msize\u001b[0m\u001b[0;34m(\u001b[0m\u001b[0;36m0\u001b[0m\u001b[0;34m)\u001b[0m\u001b[0;34m,\u001b[0m \u001b[0;36m1\u001b[0m\u001b[0;34m)\u001b[0m\u001b[0;34m\u001b[0m\u001b[0m\n",
      "\u001b[0;31mTypeError\u001b[0m: 'int' object is not callable"
     ]
    }
   ],
   "source": [
    "my_model = inout_model(X_dim, h_dim, Z_dim, 0, 0)\n",
    "my_model.initialise()\n",
    "\n",
    "T = 10_000\n",
    "samples = torch.zeros(T, np.shape(ytrue)[1])\n",
    "start = time()\n",
    "for it in range(T) :\n",
    "    mb = npr.choice(nobs, mb_size, replace=False)\n",
    "    X_mb = Variable(ytrue[mb]).float()\n",
    "    z_mu, z_var = my_model.Q(X_mb) # forward\n",
    "    z_sample = my_model.sample_z(z_mu, z_var, mb_size)\n",
    "    X_sample = my_model.P(z_sample)\n",
    "    samples[it] = X_sample[npr.choice(np.shape(X_sample)[0])]\n",
    "    \n",
    "    recon_loss = nn.MSELoss()(X_mb, X_sample)\n",
    "    kl_loss = torch.mean(0.5*torch.sum(torch.exp(z_var) + z_mu**2 - 1. - z_var, 1))\n",
    "    loss = kl_loss + recon_loss\n",
    "\n",
    "    my_model.solve(loss, lr)\n",
    "    my_model.housekeeping()\n",
    "\n",
    "    if (it+1) % (T/10) == 0:\n",
    "        print(\"Iter: %d; loss: %.2f; time: %.1f sec\" % (it+1, loss.data, time()-start))"
   ]
  },
  {
   "cell_type": "code",
   "execution_count": null,
   "metadata": {
    "collapsed": true
   },
   "outputs": [],
   "source": [
    "fig = plt.figure(figsize=(5.5, 5))\n",
    "plt.grid(True)\n",
    "plt.plot(list(samples[9_000::,0]), list(samples[9_000::,1]), 'o', markersize=2, label=\"samples\")\n",
    "plt.plot(list(ytrue[:,0]), list(ytrue[:,1]), 'o', markersize=2, label=\"true\")\n",
    "plt.legend(ncol=2)"
   ]
  },
  {
   "cell_type": "code",
   "execution_count": null,
   "metadata": {
    "collapsed": true
   },
   "outputs": [],
   "source": []
  },
  {
   "cell_type": "code",
   "execution_count": 52,
   "metadata": {
    "collapsed": true
   },
   "outputs": [],
   "source": [
    "nn_model = nn.Sequential(nn.Linear(1, h_dim),\n",
    "                         nn.Tanh(),\n",
    "                         nn.Linear(h_dim, 2))\n",
    "init_normal(nn_model)"
   ]
  },
  {
   "cell_type": "code",
   "execution_count": 53,
   "metadata": {},
   "outputs": [
    {
     "name": "stdout",
     "output_type": "stream",
     "text": [
      "Sequential(\n",
      "  (0): Linear(in_features=1, out_features=32, bias=True)\n",
      "  (1): Tanh()\n",
      "  (2): Linear(in_features=32, out_features=2, bias=True)\n",
      ")\n"
     ]
    }
   ],
   "source": [
    "nn_model[0].weight.data = torch.transpose(my_model.Wzh.data,0,1)\n",
    "nn_model[0].bias.data = my_model.bzh.data\n",
    "nn_model[2].weight.data = torch.transpose(my_model.Whx.data,0,1)\n",
    "nn_model[2].bias.data = my_model.bhx.data\n",
    "print(nn_model)"
   ]
  },
  {
   "cell_type": "code",
   "execution_count": 8,
   "metadata": {
    "collapsed": true
   },
   "outputs": [],
   "source": [
    "x = torch.zeros(z_sample.size(), requires_grad=True)\n",
    "x.data = z_sample.data"
   ]
  },
  {
   "cell_type": "code",
   "execution_count": 9,
   "metadata": {
    "collapsed": true
   },
   "outputs": [],
   "source": [
    "prior_sigma = 1e0\n",
    "my_nn_model = model(deepcopy(x), deepcopy(ytrue), prior_sigma, error_sigma, deepcopy(nn_model))"
   ]
  },
  {
   "cell_type": "code",
   "execution_count": 10,
   "metadata": {
    "collapsed": true
   },
   "outputs": [],
   "source": [
    "Nsteps = 500\n",
    "n_leapfrog = 150\n",
    "stepsize = 2e-3\n",
    "hmc = HMC(my_nn_model, Nsteps, stepsize, n_leapfrog)"
   ]
  },
  {
   "cell_type": "code",
   "execution_count": 11,
   "metadata": {
    "scrolled": true
   },
   "outputs": [
    {
     "name": "stdout",
     "output_type": "stream",
     "text": [
      "iter 50/500 after 0.34 min | accept_rate 0.0 percent | MSE loss nan\n",
      "iter 100/500 after 0.68 min | accept_rate 0.0 percent | MSE loss nan\n",
      "iter 150/500 after 1.02 min | accept_rate 0.0 percent | MSE loss nan\n",
      "iter 200/500 after 1.35 min | accept_rate 0.0 percent | MSE loss nan\n",
      "iter 250/500 after 1.68 min | accept_rate 0.0 percent | MSE loss nan\n",
      "iter 300/500 after 2.01 min | accept_rate 0.0 percent | MSE loss nan\n",
      "iter 350/500 after 2.34 min | accept_rate 0.0 percent | MSE loss nan\n",
      "iter 400/500 after 2.68 min | accept_rate 0.0 percent | MSE loss nan\n",
      "iter 450/500 after 3.02 min | accept_rate 0.0 percent | MSE loss nan\n",
      "iter 500/500 after 3.35 min | accept_rate 0.0 percent | MSE loss nan\n"
     ]
    }
   ],
   "source": [
    "hmc.run()"
   ]
  },
  {
   "cell_type": "code",
   "execution_count": null,
   "metadata": {
    "collapsed": true
   },
   "outputs": [],
   "source": [
    "ypred_final = hmc.my_nn_model.nn_model(hmc.my_nn_model.x)\n",
    "plt.plot(ypred_final[:,0].data.numpy(), ypred_final[:,1].data.numpy(), 'o', markersize=2, label=\"HMC final\")\n",
    "plt.plot(ytrue[:,0].data.numpy(), ytrue[:,1].data.numpy(), 'o', markersize=2, label=\"true\")\n",
    "plt.grid(True)\n",
    "plt.legend(ncol=2);"
   ]
  },
  {
   "cell_type": "code",
   "execution_count": null,
   "metadata": {
    "collapsed": true
   },
   "outputs": [],
   "source": []
  },
  {
   "cell_type": "code",
   "execution_count": null,
   "metadata": {
    "collapsed": true
   },
   "outputs": [],
   "source": []
  }
 ],
 "metadata": {
  "kernelspec": {
   "display_name": "Python 3",
   "language": "python",
   "name": "python3"
  },
  "language_info": {
   "codemirror_mode": {
    "name": "ipython",
    "version": 3
   },
   "file_extension": ".py",
   "mimetype": "text/x-python",
   "name": "python",
   "nbconvert_exporter": "python",
   "pygments_lexer": "ipython3",
   "version": "3.6.2"
  }
 },
 "nbformat": 4,
 "nbformat_minor": 2
}
